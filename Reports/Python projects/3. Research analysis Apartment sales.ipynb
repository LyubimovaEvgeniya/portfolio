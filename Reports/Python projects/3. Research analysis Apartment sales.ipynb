{
 "cells": [
  {
   "cell_type": "markdown",
   "metadata": {},
   "source": [
    "# Исследование объявлений о продаже квартир\n",
    "\n",
    "В вашем распоряжении данные сервиса Яндекс.Недвижимость — архив объявлений о продаже квартир в Санкт-Петербурге и соседних населённых пунктов за несколько лет. Нужно научиться определять рыночную стоимость объектов недвижимости. Ваша задача — установить параметры. Это позволит построить автоматизированную систему: она отследит аномалии и мошенническую деятельность. \n",
    "\n",
    "По каждой квартире на продажу доступны два вида данных. Первые вписаны пользователем, вторые — получены автоматически на основе картографических данных. Например, расстояние до центра, аэропорта, ближайшего парка и водоёма. "
   ]
  },
  {
   "cell_type": "markdown",
   "metadata": {
    "toc": true
   },
   "source": [
    "<h1>План отчета<span class=\"tocSkip\"></span></h1>\n",
    "<div class=\"toc\"><ul class=\"toc-item\"><li><span><a href=\"#Знакомство-с-данными\" data-toc-modified-id=\"Знакомство-с-данными-1\"><span class=\"toc-item-num\">1&nbsp;&nbsp;</span>Знакомство с данными</a></span></li><li><span><a href=\"#Описание-данных\" data-toc-modified-id=\"Описание-данных-2\"><span class=\"toc-item-num\">2&nbsp;&nbsp;</span>Описание данных</a></span></li><li><span><a href=\"#Предобработка-данных\" data-toc-modified-id=\"Предобработка-данных-3\"><span class=\"toc-item-num\">3&nbsp;&nbsp;</span>Предобработка данных</a></span><ul class=\"toc-item\"><li><span><a href=\"#Пустые-значения\" data-toc-modified-id=\"Пустые-значения-3.1\"><span class=\"toc-item-num\">3.1&nbsp;&nbsp;</span>Пустые значения</a></span></li><li><span><a href=\"#Типы-данных\" data-toc-modified-id=\"Типы-данных-3.2\"><span class=\"toc-item-num\">3.2&nbsp;&nbsp;</span>Типы данных</a></span></li><li><span><a href=\"#Поиск-дубликатов\" data-toc-modified-id=\"Поиск-дубликатов-3.3\"><span class=\"toc-item-num\">3.3&nbsp;&nbsp;</span>Поиск дубликатов</a></span></li><li><span><a href=\"#Аномалии\" data-toc-modified-id=\"Аномалии-3.4\"><span class=\"toc-item-num\">3.4&nbsp;&nbsp;</span>Аномалии</a></span></li></ul></li><li><span><a href=\"#Посчитайте-и-добавьте-в-таблицу-новые-столбцы\" data-toc-modified-id=\"Посчитайте-и-добавьте-в-таблицу-новые-столбцы-4\"><span class=\"toc-item-num\">4&nbsp;&nbsp;</span>Посчитайте и добавьте в таблицу новые столбцы</a></span></li><li><span><a href=\"#Проведите-исследовательский-анализ-данных\" data-toc-modified-id=\"Проведите-исследовательский-анализ-данных-5\"><span class=\"toc-item-num\">5&nbsp;&nbsp;</span>Проведите исследовательский анализ данных</a></span></li><li><span><a href=\"#Общий-вывод\" data-toc-modified-id=\"Общий-вывод-6\"><span class=\"toc-item-num\">6&nbsp;&nbsp;</span>Общий вывод</a></span></li></ul></div>"
   ]
  },
  {
   "cell_type": "markdown",
   "metadata": {},
   "source": [
    "### Знакомство с данными\n",
    "Откройте файл с данными и изучите общую информацию. "
   ]
  },
  {
   "cell_type": "code",
   "execution_count": 1,
   "metadata": {
    "scrolled": true
   },
   "outputs": [],
   "source": [
    "import pandas as pd\n",
    "import numpy as np\n",
    "import seaborn as sn\n",
    "import matplotlib.pyplot as plt\n",
    "import os"
   ]
  },
  {
   "cell_type": "code",
   "execution_count": 2,
   "metadata": {
    "scrolled": true
   },
   "outputs": [
    {
     "data": {
      "text/html": [
       "<div>\n",
       "<style scoped>\n",
       "    .dataframe tbody tr th:only-of-type {\n",
       "        vertical-align: middle;\n",
       "    }\n",
       "\n",
       "    .dataframe tbody tr th {\n",
       "        vertical-align: top;\n",
       "    }\n",
       "\n",
       "    .dataframe thead th {\n",
       "        text-align: right;\n",
       "    }\n",
       "</style>\n",
       "<table border=\"1\" class=\"dataframe\">\n",
       "  <thead>\n",
       "    <tr style=\"text-align: right;\">\n",
       "      <th></th>\n",
       "      <th>total_images</th>\n",
       "      <th>last_price</th>\n",
       "      <th>total_area</th>\n",
       "      <th>first_day_exposition</th>\n",
       "      <th>rooms</th>\n",
       "      <th>ceiling_height</th>\n",
       "      <th>floors_total</th>\n",
       "      <th>living_area</th>\n",
       "      <th>floor</th>\n",
       "      <th>is_apartment</th>\n",
       "      <th>...</th>\n",
       "      <th>kitchen_area</th>\n",
       "      <th>balcony</th>\n",
       "      <th>locality_name</th>\n",
       "      <th>airports_nearest</th>\n",
       "      <th>cityCenters_nearest</th>\n",
       "      <th>parks_around3000</th>\n",
       "      <th>parks_nearest</th>\n",
       "      <th>ponds_around3000</th>\n",
       "      <th>ponds_nearest</th>\n",
       "      <th>days_exposition</th>\n",
       "    </tr>\n",
       "  </thead>\n",
       "  <tbody>\n",
       "    <tr>\n",
       "      <th>0</th>\n",
       "      <td>20</td>\n",
       "      <td>13000000.0</td>\n",
       "      <td>108.0</td>\n",
       "      <td>2019-03-07T00:00:00</td>\n",
       "      <td>3</td>\n",
       "      <td>2.7</td>\n",
       "      <td>16.0</td>\n",
       "      <td>51.0</td>\n",
       "      <td>8</td>\n",
       "      <td>NaN</td>\n",
       "      <td>...</td>\n",
       "      <td>25.0</td>\n",
       "      <td>NaN</td>\n",
       "      <td>Санкт-Петербург</td>\n",
       "      <td>18863.0</td>\n",
       "      <td>16028.0</td>\n",
       "      <td>1.0</td>\n",
       "      <td>482.0</td>\n",
       "      <td>2.0</td>\n",
       "      <td>755.0</td>\n",
       "      <td>NaN</td>\n",
       "    </tr>\n",
       "    <tr>\n",
       "      <th>1</th>\n",
       "      <td>7</td>\n",
       "      <td>3350000.0</td>\n",
       "      <td>40.4</td>\n",
       "      <td>2018-12-04T00:00:00</td>\n",
       "      <td>1</td>\n",
       "      <td>NaN</td>\n",
       "      <td>11.0</td>\n",
       "      <td>18.6</td>\n",
       "      <td>1</td>\n",
       "      <td>NaN</td>\n",
       "      <td>...</td>\n",
       "      <td>11.0</td>\n",
       "      <td>2.0</td>\n",
       "      <td>посёлок Шушары</td>\n",
       "      <td>12817.0</td>\n",
       "      <td>18603.0</td>\n",
       "      <td>0.0</td>\n",
       "      <td>NaN</td>\n",
       "      <td>0.0</td>\n",
       "      <td>NaN</td>\n",
       "      <td>81.0</td>\n",
       "    </tr>\n",
       "  </tbody>\n",
       "</table>\n",
       "<p>2 rows × 22 columns</p>\n",
       "</div>"
      ],
      "text/plain": [
       "   total_images  last_price  total_area first_day_exposition  rooms  \\\n",
       "0            20  13000000.0       108.0  2019-03-07T00:00:00      3   \n",
       "1             7   3350000.0        40.4  2018-12-04T00:00:00      1   \n",
       "\n",
       "   ceiling_height  floors_total  living_area  floor is_apartment  ...  \\\n",
       "0             2.7          16.0         51.0      8          NaN  ...   \n",
       "1             NaN          11.0         18.6      1          NaN  ...   \n",
       "\n",
       "   kitchen_area  balcony    locality_name  airports_nearest  \\\n",
       "0          25.0      NaN  Санкт-Петербург           18863.0   \n",
       "1          11.0      2.0   посёлок Шушары           12817.0   \n",
       "\n",
       "  cityCenters_nearest  parks_around3000  parks_nearest  ponds_around3000  \\\n",
       "0             16028.0               1.0          482.0               2.0   \n",
       "1             18603.0               0.0            NaN               0.0   \n",
       "\n",
       "   ponds_nearest  days_exposition  \n",
       "0          755.0              NaN  \n",
       "1            NaN             81.0  \n",
       "\n",
       "[2 rows x 22 columns]"
      ]
     },
     "metadata": {},
     "output_type": "display_data"
    },
    {
     "name": "stdout",
     "output_type": "stream",
     "text": [
      "None\n",
      "<class 'pandas.core.frame.DataFrame'>\n",
      "RangeIndex: 23699 entries, 0 to 23698\n",
      "Data columns (total 22 columns):\n",
      " #   Column                Non-Null Count  Dtype  \n",
      "---  ------                --------------  -----  \n",
      " 0   total_images          23699 non-null  int64  \n",
      " 1   last_price            23699 non-null  float64\n",
      " 2   total_area            23699 non-null  float64\n",
      " 3   first_day_exposition  23699 non-null  object \n",
      " 4   rooms                 23699 non-null  int64  \n",
      " 5   ceiling_height        14504 non-null  float64\n",
      " 6   floors_total          23613 non-null  float64\n",
      " 7   living_area           21796 non-null  float64\n",
      " 8   floor                 23699 non-null  int64  \n",
      " 9   is_apartment          2775 non-null   object \n",
      " 10  studio                23699 non-null  bool   \n",
      " 11  open_plan             23699 non-null  bool   \n",
      " 12  kitchen_area          21421 non-null  float64\n",
      " 13  balcony               12180 non-null  float64\n",
      " 14  locality_name         23650 non-null  object \n",
      " 15  airports_nearest      18157 non-null  float64\n",
      " 16  cityCenters_nearest   18180 non-null  float64\n",
      " 17  parks_around3000      18181 non-null  float64\n",
      " 18  parks_nearest         8079 non-null   float64\n",
      " 19  ponds_around3000      18181 non-null  float64\n",
      " 20  ponds_nearest         9110 non-null   float64\n",
      " 21  days_exposition       20518 non-null  float64\n",
      "dtypes: bool(2), float64(14), int64(3), object(3)\n",
      "memory usage: 3.7+ MB\n"
     ]
    }
   ],
   "source": [
    "# Загрузка данных\n",
    "data = pd.read_csv('/datasets/real_estate_data.csv',sep ='\\t')\n",
    "print(display(data.head(2)))\n",
    "data_shape_original = data.shape[0]\n",
    "data.info()"
   ]
  },
  {
   "cell_type": "code",
   "execution_count": 3,
   "metadata": {},
   "outputs": [],
   "source": [
    "## Не получилось в эту схему корректно вписать sep ='\\t' :(\n",
    "# pth1 = 'real_estate_data.csv'\n",
    "# pth2 = '/datasets/real_estate_data.csv'\n",
    "\n",
    "# if os.path.exists(pth1):\n",
    "#     data = pd.read_csv(pth1)\n",
    "# elif os.path.exists(pth2):\n",
    "#     data = pd.read_csv(pth2)\n",
    "# else:\n",
    "#     print('Something is wrong')"
   ]
  },
  {
   "cell_type": "code",
   "execution_count": 4,
   "metadata": {
    "scrolled": true
   },
   "outputs": [
    {
     "data": {
      "image/png": "[encoded data removed]",
      "text/plain": [
       "<Figure size 1080x1440 with 20 Axes>"
      ]
     },
     "metadata": {
      "needs_background": "light"
     },
     "output_type": "display_data"
    }
   ],
   "source": [
    "# общая гистограмма для всех числовых столбцов\n",
    "data.hist(figsize=(15, 20));"
   ]
  },
  {
   "cell_type": "markdown",
   "metadata": {},
   "source": [
    "### Описание данных\n",
    "\n",
    "- `airports_nearest` — расстояние до ближайшего аэропорта в метрах (м)\n",
    "- `balcony` — число балконов\n",
    "- `ceiling_height` — высота потолков (м)\n",
    "- `cityCenters_nearest` — расстояние до центра города (м)\n",
    "- `days_exposition` — сколько дней было размещено объявление (от публикации до снятия)\n",
    "- `first_day_exposition` — дата публикации\n",
    "- `floor` — этаж\n",
    "- `floors_total` — всего этажей в доме\n",
    "- `is_apartment` — апартаменты (булев тип)\n",
    "- `kitchen_area` — площадь кухни в квадратных метрах (м²)\n",
    "- `last_price` — цена на момент снятия с публикации\n",
    "- `living_area` — жилая площадь в квадратных метрах (м²)\n",
    "- `locality_name` — название населённого пункта\n",
    "- `open_plan` — свободная планировка (булев тип)\n",
    "- `parks_around3000` — число парков в радиусе 3 км\n",
    "- `parks_nearest` — расстояние до ближайшего парка (м)\n",
    "- `ponds_around3000` — число водоёмов в радиусе 3 км\n",
    "- `ponds_nearest` — расстояние до ближайшего водоёма (м)\n",
    "- `rooms` — число комнат\n",
    "- `studio` — квартира-студия (булев тип)\n",
    "- `total_area` — общая площадь квартиры в квадратных метрах (м²)\n",
    "- `total_images` — число фотографий квартиры в объявлении"
   ]
  },
  {
   "cell_type": "markdown",
   "metadata": {},
   "source": [
    "В датасете объявлений о продаже квартир представлено 23699 объявлений. Посмотрев информацию о датасете, можно сразу отметить показатели без пустот (где количество строк == 23699): total_images, last_price, first_day_exposition, rooms, floor, studio, open_plan. В других столбцах есть пропуски. Некоторые имеют незначительное кол-во пропусков, например floors_total и locality_name. Можно предположить, что эти пропуски были допущены клиентом при публикации объявлений. Другие мы рассмотрим более подробно в следующем этапе построения отчета."
   ]
  },
  {
   "cell_type": "markdown",
   "metadata": {},
   "source": [
    "### Предобработка данных"
   ]
  },
  {
   "cell_type": "markdown",
   "metadata": {},
   "source": [
    "#### Пустые значения"
   ]
  },
  {
   "cell_type": "code",
   "execution_count": 5,
   "metadata": {
    "scrolled": true
   },
   "outputs": [
    {
     "name": "stdout",
     "output_type": "stream",
     "text": [
      "                 Column  NaN_ratio_prc\n",
      "9          is_apartment          88.29\n",
      "18        parks_nearest          65.91\n",
      "20        ponds_nearest          61.56\n",
      "13              balcony          48.61\n",
      "5        ceiling_height          38.80\n",
      "15     airports_nearest          23.38\n",
      "16  cityCenters_nearest          23.29\n",
      "19     ponds_around3000          23.28\n",
      "17     parks_around3000          23.28\n",
      "21      days_exposition          13.42\n",
      "12         kitchen_area           9.61\n",
      "7           living_area           8.03\n",
      "6          floors_total           0.36\n",
      "14        locality_name           0.21\n",
      " \n",
      "Список колонок, где есть пропуски: ['is_apartment' 'parks_nearest' 'ponds_nearest' 'balcony' 'ceiling_height'\n",
      " 'airports_nearest' 'cityCenters_nearest' 'ponds_around3000'\n",
      " 'parks_around3000' 'days_exposition' 'kitchen_area' 'living_area'\n",
      " 'floors_total' 'locality_name']\n"
     ]
    }
   ],
   "source": [
    "### Поиск пустых значений\n",
    "#функция, которая покажет долю пустых значений в столбце\n",
    "def get_nan_ratio(df : 'DataFrame') -> 'DataFrame':\n",
    "    length = df.shape[0]\n",
    "    ratios = []\n",
    "    for col in df.columns:\n",
    "        nan_ratio = 100 * (1 - df[col].count() / length)\n",
    "        ratios.append(nan_ratio)\n",
    "    stat_df = pd.DataFrame()\n",
    "    stat_df['Column'] = df.columns\n",
    "    stat_df['NaN_ratio_prc'] = ratios\n",
    "    stat_df['NaN_ratio_prc'] = stat_df['NaN_ratio_prc'].round(2)\n",
    "    result = stat_df.sort_values(by = ['NaN_ratio_prc'], ascending = False)\n",
    "    return result\n",
    "\n",
    "nan = get_nan_ratio(data)\n",
    "nan = nan[nan['NaN_ratio_prc']>0]\n",
    "print(nan)\n",
    "print(' ')\n",
    "print('Список колонок, где есть пропуски:', nan['Column'].unique())"
   ]
  },
  {
   "cell_type": "code",
   "execution_count": 6,
   "metadata": {
    "scrolled": true
   },
   "outputs": [
    {
     "data": {
      "text/html": [
       "<style  type=\"text/css\" >\n",
       "#T_6c7ab_row0_col0,#T_6c7ab_row1_col0,#T_6c7ab_row2_col0,#T_6c7ab_row3_col0,#T_6c7ab_row4_col0,#T_6c7ab_row8_col0,#T_6c7ab_row10_col0,#T_6c7ab_row11_col0,#T_6c7ab_row14_col0{\n",
       "            background-color:  #3b4cc0;\n",
       "            color:  #f1f1f1;\n",
       "        }#T_6c7ab_row5_col0{\n",
       "            background-color:  #ccd9ed;\n",
       "            color:  #000000;\n",
       "        }#T_6c7ab_row6_col0{\n",
       "            background-color:  #3c4ec2;\n",
       "            color:  #f1f1f1;\n",
       "        }#T_6c7ab_row7_col0{\n",
       "            background-color:  #5673e0;\n",
       "            color:  #000000;\n",
       "        }#T_6c7ab_row9_col0{\n",
       "            background-color:  #b40426;\n",
       "            color:  #f1f1f1;\n",
       "        }#T_6c7ab_row12_col0{\n",
       "            background-color:  #5b7ae5;\n",
       "            color:  #000000;\n",
       "        }#T_6c7ab_row13_col0{\n",
       "            background-color:  #e9d5cb;\n",
       "            color:  #000000;\n",
       "        }#T_6c7ab_row15_col0,#T_6c7ab_row16_col0,#T_6c7ab_row17_col0,#T_6c7ab_row19_col0{\n",
       "            background-color:  #92b4fe;\n",
       "            color:  #000000;\n",
       "        }#T_6c7ab_row18_col0{\n",
       "            background-color:  #f49a7b;\n",
       "            color:  #000000;\n",
       "        }#T_6c7ab_row20_col0{\n",
       "            background-color:  #f7ad90;\n",
       "            color:  #000000;\n",
       "        }#T_6c7ab_row21_col0{\n",
       "            background-color:  #6a8bef;\n",
       "            color:  #000000;\n",
       "        }</style><table id=\"T_6c7ab_\" ><thead>    <tr>        <th class=\"blank level0\" ></th>        <th class=\"col_heading level0 col0\" >0</th>    </tr></thead><tbody>\n",
       "                <tr>\n",
       "                        <th id=\"T_6c7ab_level0_row0\" class=\"row_heading level0 row0\" >total_images</th>\n",
       "                        <td id=\"T_6c7ab_row0_col0\" class=\"data row0 col0\" >0.0</td>\n",
       "            </tr>\n",
       "            <tr>\n",
       "                        <th id=\"T_6c7ab_level0_row1\" class=\"row_heading level0 row1\" >last_price</th>\n",
       "                        <td id=\"T_6c7ab_row1_col0\" class=\"data row1 col0\" >0.0</td>\n",
       "            </tr>\n",
       "            <tr>\n",
       "                        <th id=\"T_6c7ab_level0_row2\" class=\"row_heading level0 row2\" >total_area</th>\n",
       "                        <td id=\"T_6c7ab_row2_col0\" class=\"data row2 col0\" >0.0</td>\n",
       "            </tr>\n",
       "            <tr>\n",
       "                        <th id=\"T_6c7ab_level0_row3\" class=\"row_heading level0 row3\" >first_day_exposition</th>\n",
       "                        <td id=\"T_6c7ab_row3_col0\" class=\"data row3 col0\" >0.0</td>\n",
       "            </tr>\n",
       "            <tr>\n",
       "                        <th id=\"T_6c7ab_level0_row4\" class=\"row_heading level0 row4\" >rooms</th>\n",
       "                        <td id=\"T_6c7ab_row4_col0\" class=\"data row4 col0\" >0.0</td>\n",
       "            </tr>\n",
       "            <tr>\n",
       "                        <th id=\"T_6c7ab_level0_row5\" class=\"row_heading level0 row5\" >ceiling_height</th>\n",
       "                        <td id=\"T_6c7ab_row5_col0\" class=\"data row5 col0\" >38.8</td>\n",
       "            </tr>\n",
       "            <tr>\n",
       "                        <th id=\"T_6c7ab_level0_row6\" class=\"row_heading level0 row6\" >floors_total</th>\n",
       "                        <td id=\"T_6c7ab_row6_col0\" class=\"data row6 col0\" >0.4</td>\n",
       "            </tr>\n",
       "            <tr>\n",
       "                        <th id=\"T_6c7ab_level0_row7\" class=\"row_heading level0 row7\" >living_area</th>\n",
       "                        <td id=\"T_6c7ab_row7_col0\" class=\"data row7 col0\" >8.0</td>\n",
       "            </tr>\n",
       "            <tr>\n",
       "                        <th id=\"T_6c7ab_level0_row8\" class=\"row_heading level0 row8\" >floor</th>\n",
       "                        <td id=\"T_6c7ab_row8_col0\" class=\"data row8 col0\" >0.0</td>\n",
       "            </tr>\n",
       "            <tr>\n",
       "                        <th id=\"T_6c7ab_level0_row9\" class=\"row_heading level0 row9\" >is_apartment</th>\n",
       "                        <td id=\"T_6c7ab_row9_col0\" class=\"data row9 col0\" >88.3</td>\n",
       "            </tr>\n",
       "            <tr>\n",
       "                        <th id=\"T_6c7ab_level0_row10\" class=\"row_heading level0 row10\" >studio</th>\n",
       "                        <td id=\"T_6c7ab_row10_col0\" class=\"data row10 col0\" >0.0</td>\n",
       "            </tr>\n",
       "            <tr>\n",
       "                        <th id=\"T_6c7ab_level0_row11\" class=\"row_heading level0 row11\" >open_plan</th>\n",
       "                        <td id=\"T_6c7ab_row11_col0\" class=\"data row11 col0\" >0.0</td>\n",
       "            </tr>\n",
       "            <tr>\n",
       "                        <th id=\"T_6c7ab_level0_row12\" class=\"row_heading level0 row12\" >kitchen_area</th>\n",
       "                        <td id=\"T_6c7ab_row12_col0\" class=\"data row12 col0\" >9.6</td>\n",
       "            </tr>\n",
       "            <tr>\n",
       "                        <th id=\"T_6c7ab_level0_row13\" class=\"row_heading level0 row13\" >balcony</th>\n",
       "                        <td id=\"T_6c7ab_row13_col0\" class=\"data row13 col0\" >48.6</td>\n",
       "            </tr>\n",
       "            <tr>\n",
       "                        <th id=\"T_6c7ab_level0_row14\" class=\"row_heading level0 row14\" >locality_name</th>\n",
       "                        <td id=\"T_6c7ab_row14_col0\" class=\"data row14 col0\" >0.2</td>\n",
       "            </tr>\n",
       "            <tr>\n",
       "                        <th id=\"T_6c7ab_level0_row15\" class=\"row_heading level0 row15\" >airports_nearest</th>\n",
       "                        <td id=\"T_6c7ab_row15_col0\" class=\"data row15 col0\" >23.4</td>\n",
       "            </tr>\n",
       "            <tr>\n",
       "                        <th id=\"T_6c7ab_level0_row16\" class=\"row_heading level0 row16\" >cityCenters_nearest</th>\n",
       "                        <td id=\"T_6c7ab_row16_col0\" class=\"data row16 col0\" >23.3</td>\n",
       "            </tr>\n",
       "            <tr>\n",
       "                        <th id=\"T_6c7ab_level0_row17\" class=\"row_heading level0 row17\" >parks_around3000</th>\n",
       "                        <td id=\"T_6c7ab_row17_col0\" class=\"data row17 col0\" >23.3</td>\n",
       "            </tr>\n",
       "            <tr>\n",
       "                        <th id=\"T_6c7ab_level0_row18\" class=\"row_heading level0 row18\" >parks_nearest</th>\n",
       "                        <td id=\"T_6c7ab_row18_col0\" class=\"data row18 col0\" >65.9</td>\n",
       "            </tr>\n",
       "            <tr>\n",
       "                        <th id=\"T_6c7ab_level0_row19\" class=\"row_heading level0 row19\" >ponds_around3000</th>\n",
       "                        <td id=\"T_6c7ab_row19_col0\" class=\"data row19 col0\" >23.3</td>\n",
       "            </tr>\n",
       "            <tr>\n",
       "                        <th id=\"T_6c7ab_level0_row20\" class=\"row_heading level0 row20\" >ponds_nearest</th>\n",
       "                        <td id=\"T_6c7ab_row20_col0\" class=\"data row20 col0\" >61.6</td>\n",
       "            </tr>\n",
       "            <tr>\n",
       "                        <th id=\"T_6c7ab_level0_row21\" class=\"row_heading level0 row21\" >days_exposition</th>\n",
       "                        <td id=\"T_6c7ab_row21_col0\" class=\"data row21 col0\" >13.4</td>\n",
       "            </tr>\n",
       "    </tbody></table>"
      ],
      "text/plain": [
       "<pandas.io.formats.style.Styler at 0x7f1309ce21f0>"
      ]
     },
     "execution_count": 6,
     "metadata": {},
     "output_type": "execute_result"
    }
   ],
   "source": [
    "# Пустые значения\n",
    "pd.DataFrame(data.isna().mean()*100).style.set_precision(1).background_gradient('coolwarm')"
   ]
  },
  {
   "cell_type": "code",
   "execution_count": 7,
   "metadata": {},
   "outputs": [],
   "source": [
    "### Убираем пустые значения\n",
    "\n",
    "# Меняем пустые значения у balcony на 0\n",
    "data.loc[data['balcony'].isna(), 'balcony'] = 0\n",
    "\n",
    "# старый вариант. Ищем площади kitchen_area и living_area, вычитая их из total\n",
    "#data.loc[(data['kitchen_area'].isna())&(~data['living_area'].isna()), 'kitchen_area'] = data['total_area']-data['living_area']\n",
    "#data.loc[(data['living_area'].isna())&(~data['kitchen_area'].isna()), 'living_area'] = data['total_area']-data['kitchen_area']\n",
    "\n",
    "# Меняем пустые значения living_area с помощью расчитанного коэффициента\n",
    "k_living = data['total_area'].mean()/data['living_area'].mean()\n",
    "data.loc[data['living_area'].isna(), 'living_area'] = data['total_area']/k_living\n",
    "\n",
    "# Меняем пустые значения kitchen_area с помощью расчитанного коэффициента\n",
    "not_living_area = data['total_area'] - data['living_area']\n",
    "k_kitchen = not_living_area/data['kitchen_area']\n",
    "data.loc[data['kitchen_area'].isna(), 'kitchen_area'] = data['kitchen_area']/k_kitchen\n",
    "\n",
    "# Меняем пустые значения у floors_total на floors\n",
    "data.loc[data['floors_total'].isna(), 'floors_total'] = data['floor']\n",
    "\n",
    "#удаляем строки с пустыми locality_name\n",
    "data=data.dropna(subset=['locality_name'])\n",
    "\n",
    "# Меняем пустые значения кол-во парков и водоемов на 0\n",
    "data['parks_around3000'] = data['parks_around3000'].fillna(0)\n",
    "data['ponds_around3000'] = data['ponds_around3000'].fillna(0)"
   ]
  },
  {
   "cell_type": "markdown",
   "metadata": {},
   "source": [
    "* У is_apartment слишком много пропусков вместо значений True/False (возможно пользователи не проставили нужные значения в необязательном поле), просто подставить True будет не верно\n",
    "* Растояние до ближайшего парка parks_nearest, растояние до водоема ponds_nearest, растояние до аэропорта airports_nearest и до центра города cityCenters_nearest индивидуальны, заменить усредненным или медианным значением будет не верно. Это картографические данные, которые можно отправить разработчикам на доработку.\n",
    "* Пустые значения кол-ва парков parks_around3000 и кол-ва водоемов ponds_around3000 можно предположить, что они равны 0.\n",
    "* В показателе числа балконов balcony предположим, что пустые значения означают отсутсвие балконов. Пользоатели забыли указать параметр.\n",
    "* Высота потолков ceiling_height также индивидуальна, заменить медианой будет не верно\n",
    "* days_exposition мы могли бы расчитать, но у нас есть данные о дате публикации, но нет данных о дате снятия. Можно запросить колонку о дате снятия с публикации и заполнить пропуски. Или же объявление не было снято.\n",
    "* ~~Пропуски в kitchen_area и living_area также нельзя заменить просто расчитанными показателями. Однако у нас есть столбец total_area с общей площадью квартиры. И можно попробовать вычесть значения area из тотал~~\n",
    "* Пропуски в living_area посчитаем разделив общую площадь на коэффициент (среднее значение общей площади на среднее значение из имеющихся данных по жилой площади).\n",
    "* Для замены пропусков в kitchen_area  найдем коэффициент соотношения нежилой площади к площади кухни. Нежилая площадь – это площадь общая без площади жилой (в нее входит кухня, санузлы, коридоры и кладовки)\n",
    "* Всего этажей в доме floors_total, можно предположить, что floors_total == floors. Здесь наверняка есть погрешность, но пустых значений не так много, можно допустить.\n",
    "* Пропусков locality_name всего 49, их можно удалить из датасета"
   ]
  },
  {
   "cell_type": "markdown",
   "metadata": {},
   "source": [
    "#### Типы данных"
   ]
  },
  {
   "cell_type": "code",
   "execution_count": 8,
   "metadata": {},
   "outputs": [],
   "source": [
    "### Менняем типы данных на более подходящие\n",
    "data['floors_total'] = data['floors_total'].astype(int) #кол-во этажей это целое число\n",
    "data['is_apartment'] = data['is_apartment'].astype(bool) #тут булевой тип данных\n",
    "data['balcony'] = data['balcony'].astype(int) #кол-во балконов это целое число\n",
    "data['last_price'] = data['last_price'].astype(int) #цена более читабельна в int формате\n",
    "data['parks_around3000'] = data['parks_around3000'].astype(int) #кол-во парков это целые числа\n",
    "data['ponds_around3000'] = data['ponds_around3000'].astype(int) #кол-во водоемов это целые числа"
   ]
  },
  {
   "cell_type": "markdown",
   "metadata": {},
   "source": [
    "#### Поиск дубликатов"
   ]
  },
  {
   "cell_type": "code",
   "execution_count": 9,
   "metadata": {
    "scrolled": true
   },
   "outputs": [
    {
     "name": "stdout",
     "output_type": "stream",
     "text": [
      "Кол-во названий до обработки 364\n",
      "Кол-во названий после обработки 321\n"
     ]
    }
   ],
   "source": [
    "### Поиск неявных дубликатов в названии населенных пунктов\n",
    "print('Кол-во названий до обработки', data['locality_name'].nunique())\n",
    "data['locality_name'] = data['locality_name'] .replace('поселок городского типа Рябово', 'поселок Рябово')\n",
    "data['locality_name'] = data['locality_name'].str.replace('ё', 'е')\n",
    "data['locality_name'] = data['locality_name'].str.replace('городской поселок', 'поселок городского типа')\n",
    "data['locality_name'] = data['locality_name'].str.replace('при железнодорожной станции', 'станции')\n",
    "data['locality_name'] = data['locality_name'].str.replace('садоводческое некоммерческое товарищество', 'садовое товарищество')\n",
    "print('Кол-во названий после обработки',data['locality_name'].nunique())\n",
    "#data['locality_name'].unique()"
   ]
  },
  {
   "cell_type": "markdown",
   "metadata": {},
   "source": [
    "#### Аномалии"
   ]
  },
  {
   "cell_type": "code",
   "execution_count": 10,
   "metadata": {},
   "outputs": [
    {
     "data": {
      "text/html": [
       "<div>\n",
       "<style scoped>\n",
       "    .dataframe tbody tr th:only-of-type {\n",
       "        vertical-align: middle;\n",
       "    }\n",
       "\n",
       "    .dataframe tbody tr th {\n",
       "        vertical-align: top;\n",
       "    }\n",
       "\n",
       "    .dataframe thead th {\n",
       "        text-align: right;\n",
       "    }\n",
       "</style>\n",
       "<table border=\"1\" class=\"dataframe\">\n",
       "  <thead>\n",
       "    <tr style=\"text-align: right;\">\n",
       "      <th></th>\n",
       "      <th>total_images</th>\n",
       "      <th>last_price</th>\n",
       "      <th>total_area</th>\n",
       "      <th>rooms</th>\n",
       "      <th>ceiling_height</th>\n",
       "      <th>floors_total</th>\n",
       "      <th>living_area</th>\n",
       "      <th>floor</th>\n",
       "      <th>kitchen_area</th>\n",
       "      <th>balcony</th>\n",
       "      <th>airports_nearest</th>\n",
       "      <th>cityCenters_nearest</th>\n",
       "      <th>parks_around3000</th>\n",
       "      <th>parks_nearest</th>\n",
       "      <th>ponds_around3000</th>\n",
       "      <th>ponds_nearest</th>\n",
       "      <th>days_exposition</th>\n",
       "    </tr>\n",
       "  </thead>\n",
       "  <tbody>\n",
       "    <tr>\n",
       "      <th>count</th>\n",
       "      <td>23650.000000</td>\n",
       "      <td>2.365000e+04</td>\n",
       "      <td>23650.000000</td>\n",
       "      <td>23650.000000</td>\n",
       "      <td>14490.000000</td>\n",
       "      <td>23650.000000</td>\n",
       "      <td>23650.000000</td>\n",
       "      <td>23650.000000</td>\n",
       "      <td>21381.000000</td>\n",
       "      <td>23650.000000</td>\n",
       "      <td>18116.000000</td>\n",
       "      <td>18139.000000</td>\n",
       "      <td>23650.000000</td>\n",
       "      <td>8064.000000</td>\n",
       "      <td>23650.000000</td>\n",
       "      <td>9085.000000</td>\n",
       "      <td>20470.000000</td>\n",
       "    </tr>\n",
       "    <tr>\n",
       "      <th>mean</th>\n",
       "      <td>9.862326</td>\n",
       "      <td>6.541127e+06</td>\n",
       "      <td>60.329069</td>\n",
       "      <td>2.070106</td>\n",
       "      <td>2.771287</td>\n",
       "      <td>10.673784</td>\n",
       "      <td>34.582279</td>\n",
       "      <td>5.893277</td>\n",
       "      <td>10.566403</td>\n",
       "      <td>0.591712</td>\n",
       "      <td>28803.225878</td>\n",
       "      <td>14197.860742</td>\n",
       "      <td>0.469091</td>\n",
       "      <td>490.830729</td>\n",
       "      <td>0.590359</td>\n",
       "      <td>518.059879</td>\n",
       "      <td>180.753200</td>\n",
       "    </tr>\n",
       "    <tr>\n",
       "      <th>std</th>\n",
       "      <td>5.682278</td>\n",
       "      <td>1.089640e+07</td>\n",
       "      <td>35.661808</td>\n",
       "      <td>1.078620</td>\n",
       "      <td>1.261593</td>\n",
       "      <td>6.593455</td>\n",
       "      <td>22.359584</td>\n",
       "      <td>4.883317</td>\n",
       "      <td>5.901753</td>\n",
       "      <td>0.959662</td>\n",
       "      <td>12637.314144</td>\n",
       "      <td>8606.830295</td>\n",
       "      <td>0.748458</td>\n",
       "      <td>342.554386</td>\n",
       "      <td>0.883539</td>\n",
       "      <td>277.841733</td>\n",
       "      <td>219.777916</td>\n",
       "    </tr>\n",
       "    <tr>\n",
       "      <th>min</th>\n",
       "      <td>0.000000</td>\n",
       "      <td>1.219000e+04</td>\n",
       "      <td>12.000000</td>\n",
       "      <td>0.000000</td>\n",
       "      <td>1.000000</td>\n",
       "      <td>1.000000</td>\n",
       "      <td>2.000000</td>\n",
       "      <td>1.000000</td>\n",
       "      <td>1.300000</td>\n",
       "      <td>0.000000</td>\n",
       "      <td>0.000000</td>\n",
       "      <td>181.000000</td>\n",
       "      <td>0.000000</td>\n",
       "      <td>1.000000</td>\n",
       "      <td>0.000000</td>\n",
       "      <td>13.000000</td>\n",
       "      <td>1.000000</td>\n",
       "    </tr>\n",
       "    <tr>\n",
       "      <th>25%</th>\n",
       "      <td>6.000000</td>\n",
       "      <td>3.400000e+06</td>\n",
       "      <td>40.000000</td>\n",
       "      <td>1.000000</td>\n",
       "      <td>2.520000</td>\n",
       "      <td>5.000000</td>\n",
       "      <td>19.000000</td>\n",
       "      <td>2.000000</td>\n",
       "      <td>7.000000</td>\n",
       "      <td>0.000000</td>\n",
       "      <td>18575.750000</td>\n",
       "      <td>9241.000000</td>\n",
       "      <td>0.000000</td>\n",
       "      <td>288.000000</td>\n",
       "      <td>0.000000</td>\n",
       "      <td>293.000000</td>\n",
       "      <td>45.000000</td>\n",
       "    </tr>\n",
       "    <tr>\n",
       "      <th>50%</th>\n",
       "      <td>9.000000</td>\n",
       "      <td>4.650000e+06</td>\n",
       "      <td>52.000000</td>\n",
       "      <td>2.000000</td>\n",
       "      <td>2.650000</td>\n",
       "      <td>9.000000</td>\n",
       "      <td>30.000000</td>\n",
       "      <td>4.000000</td>\n",
       "      <td>9.100000</td>\n",
       "      <td>0.000000</td>\n",
       "      <td>26756.500000</td>\n",
       "      <td>13105.000000</td>\n",
       "      <td>0.000000</td>\n",
       "      <td>454.500000</td>\n",
       "      <td>0.000000</td>\n",
       "      <td>502.000000</td>\n",
       "      <td>95.000000</td>\n",
       "    </tr>\n",
       "    <tr>\n",
       "      <th>75%</th>\n",
       "      <td>14.000000</td>\n",
       "      <td>6.799000e+06</td>\n",
       "      <td>69.700000</td>\n",
       "      <td>3.000000</td>\n",
       "      <td>2.800000</td>\n",
       "      <td>16.000000</td>\n",
       "      <td>42.100000</td>\n",
       "      <td>8.000000</td>\n",
       "      <td>12.000000</td>\n",
       "      <td>1.000000</td>\n",
       "      <td>37294.000000</td>\n",
       "      <td>16293.000000</td>\n",
       "      <td>1.000000</td>\n",
       "      <td>612.000000</td>\n",
       "      <td>1.000000</td>\n",
       "      <td>730.000000</td>\n",
       "      <td>231.000000</td>\n",
       "    </tr>\n",
       "    <tr>\n",
       "      <th>max</th>\n",
       "      <td>50.000000</td>\n",
       "      <td>7.630000e+08</td>\n",
       "      <td>900.000000</td>\n",
       "      <td>19.000000</td>\n",
       "      <td>100.000000</td>\n",
       "      <td>60.000000</td>\n",
       "      <td>409.700000</td>\n",
       "      <td>33.000000</td>\n",
       "      <td>112.000000</td>\n",
       "      <td>5.000000</td>\n",
       "      <td>84869.000000</td>\n",
       "      <td>65968.000000</td>\n",
       "      <td>3.000000</td>\n",
       "      <td>3190.000000</td>\n",
       "      <td>3.000000</td>\n",
       "      <td>1344.000000</td>\n",
       "      <td>1580.000000</td>\n",
       "    </tr>\n",
       "  </tbody>\n",
       "</table>\n",
       "</div>"
      ],
      "text/plain": [
       "       total_images    last_price    total_area         rooms  ceiling_height  \\\n",
       "count  23650.000000  2.365000e+04  23650.000000  23650.000000    14490.000000   \n",
       "mean       9.862326  6.541127e+06     60.329069      2.070106        2.771287   \n",
       "std        5.682278  1.089640e+07     35.661808      1.078620        1.261593   \n",
       "min        0.000000  1.219000e+04     12.000000      0.000000        1.000000   \n",
       "25%        6.000000  3.400000e+06     40.000000      1.000000        2.520000   \n",
       "50%        9.000000  4.650000e+06     52.000000      2.000000        2.650000   \n",
       "75%       14.000000  6.799000e+06     69.700000      3.000000        2.800000   \n",
       "max       50.000000  7.630000e+08    900.000000     19.000000      100.000000   \n",
       "\n",
       "       floors_total   living_area         floor  kitchen_area       balcony  \\\n",
       "count  23650.000000  23650.000000  23650.000000  21381.000000  23650.000000   \n",
       "mean      10.673784     34.582279      5.893277     10.566403      0.591712   \n",
       "std        6.593455     22.359584      4.883317      5.901753      0.959662   \n",
       "min        1.000000      2.000000      1.000000      1.300000      0.000000   \n",
       "25%        5.000000     19.000000      2.000000      7.000000      0.000000   \n",
       "50%        9.000000     30.000000      4.000000      9.100000      0.000000   \n",
       "75%       16.000000     42.100000      8.000000     12.000000      1.000000   \n",
       "max       60.000000    409.700000     33.000000    112.000000      5.000000   \n",
       "\n",
       "       airports_nearest  cityCenters_nearest  parks_around3000  parks_nearest  \\\n",
       "count      18116.000000         18139.000000      23650.000000    8064.000000   \n",
       "mean       28803.225878         14197.860742          0.469091     490.830729   \n",
       "std        12637.314144          8606.830295          0.748458     342.554386   \n",
       "min            0.000000           181.000000          0.000000       1.000000   \n",
       "25%        18575.750000          9241.000000          0.000000     288.000000   \n",
       "50%        26756.500000         13105.000000          0.000000     454.500000   \n",
       "75%        37294.000000         16293.000000          1.000000     612.000000   \n",
       "max        84869.000000         65968.000000          3.000000    3190.000000   \n",
       "\n",
       "       ponds_around3000  ponds_nearest  days_exposition  \n",
       "count      23650.000000    9085.000000     20470.000000  \n",
       "mean           0.590359     518.059879       180.753200  \n",
       "std            0.883539     277.841733       219.777916  \n",
       "min            0.000000      13.000000         1.000000  \n",
       "25%            0.000000     293.000000        45.000000  \n",
       "50%            0.000000     502.000000        95.000000  \n",
       "75%            1.000000     730.000000       231.000000  \n",
       "max            3.000000    1344.000000      1580.000000  "
      ]
     },
     "metadata": {},
     "output_type": "display_data"
    },
    {
     "name": "stdout",
     "output_type": "stream",
     "text": [
      "До обработки None\n",
      " \n",
      "ceiling_height 0.99 квантиль: 3.8211000000000057\n",
      "rooms 0.99 квантиль: 5.0\n",
      "days_exposition 0.95 квантиль: 643.0\n",
      "total_area 0.99 квантиль: 167.38000000000028\n",
      "living_area 0.99 квантиль: 91.0\n",
      "kitchen_area 0.99 квантиль: 31.433599999999966\n"
     ]
    },
    {
     "data": {
      "text/html": [
       "<div>\n",
       "<style scoped>\n",
       "    .dataframe tbody tr th:only-of-type {\n",
       "        vertical-align: middle;\n",
       "    }\n",
       "\n",
       "    .dataframe tbody tr th {\n",
       "        vertical-align: top;\n",
       "    }\n",
       "\n",
       "    .dataframe thead th {\n",
       "        text-align: right;\n",
       "    }\n",
       "</style>\n",
       "<table border=\"1\" class=\"dataframe\">\n",
       "  <thead>\n",
       "    <tr style=\"text-align: right;\">\n",
       "      <th></th>\n",
       "      <th>total_images</th>\n",
       "      <th>last_price</th>\n",
       "      <th>total_area</th>\n",
       "      <th>rooms</th>\n",
       "      <th>ceiling_height</th>\n",
       "      <th>floors_total</th>\n",
       "      <th>living_area</th>\n",
       "      <th>floor</th>\n",
       "      <th>kitchen_area</th>\n",
       "      <th>balcony</th>\n",
       "      <th>airports_nearest</th>\n",
       "      <th>cityCenters_nearest</th>\n",
       "      <th>parks_around3000</th>\n",
       "      <th>parks_nearest</th>\n",
       "      <th>ponds_around3000</th>\n",
       "      <th>ponds_nearest</th>\n",
       "      <th>days_exposition</th>\n",
       "    </tr>\n",
       "  </thead>\n",
       "  <tbody>\n",
       "    <tr>\n",
       "      <th>count</th>\n",
       "      <td>21864.000000</td>\n",
       "      <td>2.186400e+04</td>\n",
       "      <td>21864.000000</td>\n",
       "      <td>21864.000000</td>\n",
       "      <td>13290.000000</td>\n",
       "      <td>21864.000000</td>\n",
       "      <td>21864.000000</td>\n",
       "      <td>21864.000000</td>\n",
       "      <td>19746.000000</td>\n",
       "      <td>21864.000000</td>\n",
       "      <td>16613.000000</td>\n",
       "      <td>16633.000000</td>\n",
       "      <td>21864.000000</td>\n",
       "      <td>7237.000000</td>\n",
       "      <td>21864.000000</td>\n",
       "      <td>8178.000000</td>\n",
       "      <td>18845.000000</td>\n",
       "    </tr>\n",
       "    <tr>\n",
       "      <th>mean</th>\n",
       "      <td>9.870792</td>\n",
       "      <td>5.700319e+06</td>\n",
       "      <td>56.565377</td>\n",
       "      <td>1.993597</td>\n",
       "      <td>2.704919</td>\n",
       "      <td>10.790843</td>\n",
       "      <td>32.316138</td>\n",
       "      <td>5.938163</td>\n",
       "      <td>10.093419</td>\n",
       "      <td>0.600576</td>\n",
       "      <td>28934.481912</td>\n",
       "      <td>14526.249805</td>\n",
       "      <td>0.448180</td>\n",
       "      <td>491.533094</td>\n",
       "      <td>0.566548</td>\n",
       "      <td>525.842504</td>\n",
       "      <td>137.941576</td>\n",
       "    </tr>\n",
       "    <tr>\n",
       "      <th>std</th>\n",
       "      <td>5.652964</td>\n",
       "      <td>4.655445e+06</td>\n",
       "      <td>23.698467</td>\n",
       "      <td>0.938270</td>\n",
       "      <td>0.240915</td>\n",
       "      <td>6.620192</td>\n",
       "      <td>15.309718</td>\n",
       "      <td>4.906361</td>\n",
       "      <td>4.496992</td>\n",
       "      <td>0.962662</td>\n",
       "      <td>12819.286684</td>\n",
       "      <td>8505.173960</td>\n",
       "      <td>0.727945</td>\n",
       "      <td>340.473376</td>\n",
       "      <td>0.863643</td>\n",
       "      <td>276.559863</td>\n",
       "      <td>136.251751</td>\n",
       "    </tr>\n",
       "    <tr>\n",
       "      <th>min</th>\n",
       "      <td>0.000000</td>\n",
       "      <td>4.300000e+05</td>\n",
       "      <td>20.000000</td>\n",
       "      <td>0.000000</td>\n",
       "      <td>2.000000</td>\n",
       "      <td>1.000000</td>\n",
       "      <td>10.000000</td>\n",
       "      <td>1.000000</td>\n",
       "      <td>4.000000</td>\n",
       "      <td>0.000000</td>\n",
       "      <td>0.000000</td>\n",
       "      <td>208.000000</td>\n",
       "      <td>0.000000</td>\n",
       "      <td>1.000000</td>\n",
       "      <td>0.000000</td>\n",
       "      <td>13.000000</td>\n",
       "      <td>1.000000</td>\n",
       "    </tr>\n",
       "    <tr>\n",
       "      <th>25%</th>\n",
       "      <td>6.000000</td>\n",
       "      <td>3.400000e+06</td>\n",
       "      <td>40.000000</td>\n",
       "      <td>1.000000</td>\n",
       "      <td>2.500000</td>\n",
       "      <td>5.000000</td>\n",
       "      <td>18.842329</td>\n",
       "      <td>2.000000</td>\n",
       "      <td>7.000000</td>\n",
       "      <td>0.000000</td>\n",
       "      <td>18398.000000</td>\n",
       "      <td>9877.000000</td>\n",
       "      <td>0.000000</td>\n",
       "      <td>288.000000</td>\n",
       "      <td>0.000000</td>\n",
       "      <td>303.000000</td>\n",
       "      <td>42.000000</td>\n",
       "    </tr>\n",
       "    <tr>\n",
       "      <th>50%</th>\n",
       "      <td>9.000000</td>\n",
       "      <td>4.550000e+06</td>\n",
       "      <td>51.000000</td>\n",
       "      <td>2.000000</td>\n",
       "      <td>2.650000</td>\n",
       "      <td>9.000000</td>\n",
       "      <td>30.000000</td>\n",
       "      <td>4.000000</td>\n",
       "      <td>9.000000</td>\n",
       "      <td>0.000000</td>\n",
       "      <td>27102.000000</td>\n",
       "      <td>13285.000000</td>\n",
       "      <td>0.000000</td>\n",
       "      <td>456.000000</td>\n",
       "      <td>0.000000</td>\n",
       "      <td>512.000000</td>\n",
       "      <td>88.000000</td>\n",
       "    </tr>\n",
       "    <tr>\n",
       "      <th>75%</th>\n",
       "      <td>14.000000</td>\n",
       "      <td>6.500000e+06</td>\n",
       "      <td>67.000000</td>\n",
       "      <td>3.000000</td>\n",
       "      <td>2.800000</td>\n",
       "      <td>16.000000</td>\n",
       "      <td>41.000000</td>\n",
       "      <td>8.000000</td>\n",
       "      <td>11.600000</td>\n",
       "      <td>1.000000</td>\n",
       "      <td>37434.000000</td>\n",
       "      <td>16453.000000</td>\n",
       "      <td>1.000000</td>\n",
       "      <td>613.000000</td>\n",
       "      <td>1.000000</td>\n",
       "      <td>736.000000</td>\n",
       "      <td>192.000000</td>\n",
       "    </tr>\n",
       "    <tr>\n",
       "      <th>max</th>\n",
       "      <td>50.000000</td>\n",
       "      <td>9.800000e+07</td>\n",
       "      <td>200.000000</td>\n",
       "      <td>5.000000</td>\n",
       "      <td>4.000000</td>\n",
       "      <td>60.000000</td>\n",
       "      <td>100.000000</td>\n",
       "      <td>33.000000</td>\n",
       "      <td>40.000000</td>\n",
       "      <td>5.000000</td>\n",
       "      <td>84853.000000</td>\n",
       "      <td>65952.000000</td>\n",
       "      <td>3.000000</td>\n",
       "      <td>3190.000000</td>\n",
       "      <td>3.000000</td>\n",
       "      <td>1344.000000</td>\n",
       "      <td>600.000000</td>\n",
       "    </tr>\n",
       "  </tbody>\n",
       "</table>\n",
       "</div>"
      ],
      "text/plain": [
       "       total_images    last_price    total_area         rooms  ceiling_height  \\\n",
       "count  21864.000000  2.186400e+04  21864.000000  21864.000000    13290.000000   \n",
       "mean       9.870792  5.700319e+06     56.565377      1.993597        2.704919   \n",
       "std        5.652964  4.655445e+06     23.698467      0.938270        0.240915   \n",
       "min        0.000000  4.300000e+05     20.000000      0.000000        2.000000   \n",
       "25%        6.000000  3.400000e+06     40.000000      1.000000        2.500000   \n",
       "50%        9.000000  4.550000e+06     51.000000      2.000000        2.650000   \n",
       "75%       14.000000  6.500000e+06     67.000000      3.000000        2.800000   \n",
       "max       50.000000  9.800000e+07    200.000000      5.000000        4.000000   \n",
       "\n",
       "       floors_total   living_area         floor  kitchen_area       balcony  \\\n",
       "count  21864.000000  21864.000000  21864.000000  19746.000000  21864.000000   \n",
       "mean      10.790843     32.316138      5.938163     10.093419      0.600576   \n",
       "std        6.620192     15.309718      4.906361      4.496992      0.962662   \n",
       "min        1.000000     10.000000      1.000000      4.000000      0.000000   \n",
       "25%        5.000000     18.842329      2.000000      7.000000      0.000000   \n",
       "50%        9.000000     30.000000      4.000000      9.000000      0.000000   \n",
       "75%       16.000000     41.000000      8.000000     11.600000      1.000000   \n",
       "max       60.000000    100.000000     33.000000     40.000000      5.000000   \n",
       "\n",
       "       airports_nearest  cityCenters_nearest  parks_around3000  parks_nearest  \\\n",
       "count      16613.000000         16633.000000      21864.000000    7237.000000   \n",
       "mean       28934.481912         14526.249805          0.448180     491.533094   \n",
       "std        12819.286684          8505.173960          0.727945     340.473376   \n",
       "min            0.000000           208.000000          0.000000       1.000000   \n",
       "25%        18398.000000          9877.000000          0.000000     288.000000   \n",
       "50%        27102.000000         13285.000000          0.000000     456.000000   \n",
       "75%        37434.000000         16453.000000          1.000000     613.000000   \n",
       "max        84853.000000         65952.000000          3.000000    3190.000000   \n",
       "\n",
       "       ponds_around3000  ponds_nearest  days_exposition  \n",
       "count      21864.000000    8178.000000     18845.000000  \n",
       "mean           0.566548     525.842504       137.941576  \n",
       "std            0.863643     276.559863       136.251751  \n",
       "min            0.000000      13.000000         1.000000  \n",
       "25%            0.000000     303.000000        42.000000  \n",
       "50%            0.000000     512.000000        88.000000  \n",
       "75%            1.000000     736.000000       192.000000  \n",
       "max            3.000000    1344.000000       600.000000  "
      ]
     },
     "metadata": {},
     "output_type": "display_data"
    },
    {
     "name": "stdout",
     "output_type": "stream",
     "text": [
      "После обработки None\n"
     ]
    },
    {
     "data": {
      "image/png": "[encoded data removed]",
      "text/plain": [
       "<Figure size 432x288 with 1 Axes>"
      ]
     },
     "metadata": {
      "needs_background": "light"
     },
     "output_type": "display_data"
    }
   ],
   "source": [
    "### Находим и устраняем аномалии в данных\n",
    "\n",
    "# посмотрим, в каких колонках есть сликшом высокие максимальные значения\n",
    "print('До обработки',display(data.describe()))\n",
    "print(' ')\n",
    "# изучим подробнее каждый, заинтересованный нас столбец\n",
    "\n",
    "## Аномальные значения высот потолка (м)\n",
    "sn.boxplot(x = data['ceiling_height'])\n",
    "print('ceiling_height 0.99 квантиль:', data['ceiling_height'].quantile(0.99)) #в качестве аномалий нам будут интеерсны значения выше этого числа\n",
    "# Значения высоты потолка >15 уменьшим в 10 раз, предположив,что значения были записаны в см (вместо м)\n",
    "data.loc[data['ceiling_height']>15, 'ceiling_height'] = data['ceiling_height']/10\n",
    "# Осталось 53 значения больше 4. Предположим, что это выбросы и удалим эти строки из датасета\n",
    "data[data['ceiling_height']>4] # посмотрели какие строки убираем\n",
    "data = data.loc[(~(data['ceiling_height'] > 4))&(~(data['ceiling_height'] < 2))] #убрали потолок выше 4 м и ниже 2 м\n",
    "\n",
    "## Аномальные значения кол-ва комнат\n",
    "sn.boxplot(x = data['rooms'])\n",
    "print('rooms 0.99 квантиль:', data['rooms'].quantile(0.99))\n",
    "#оставим строки, где меньше 6 комнат\n",
    "data=data[data.rooms<6]\n",
    "\n",
    "## Аномальные значения кол-ва дней в публикации объявлений\n",
    "sn.boxplot(x = data['days_exposition'])\n",
    "print('days_exposition 0.95 квантиль:', data['days_exposition'].quantile(0.95))\n",
    "data = data.loc[~(data['days_exposition'] > 600)] #убрали обьявления. которые висели дольше 600 дней\n",
    "\n",
    "## Аномальные значения площадей квартиры в квадратных метрах (м²)\n",
    "sn.boxplot(x = data['total_area'])\n",
    "sn.boxplot(x = data['living_area'])\n",
    "sn.boxplot(x = data['kitchen_area'])\n",
    "print('total_area 0.99 квантиль:', data['total_area'].quantile(0.99))\n",
    "data = data.loc[(~(data['total_area'] > 200))&(~(data['total_area'] < 20))] \n",
    "print('living_area 0.99 квантиль:', data['living_area'].quantile(0.99))\n",
    "data = data.loc[(~(data['living_area'] > 100))&(~(data['living_area'] < 10))] \n",
    "print('kitchen_area 0.99 квантиль:', data['kitchen_area'].quantile(0.99))\n",
    "data = data.loc[(~(data['kitchen_area'] > 40))&(~(data['kitchen_area'] < 4))] \n",
    "\n",
    "## Аномальные значения цены\n",
    "sn.boxplot(x = data['last_price'])\n",
    "data = data.loc[(~(data['last_price'] > 100000000))]\n",
    "## удаляем дубликаты\n",
    "data = data.drop_duplicates().reset_index(drop=True)\n",
    "\n",
    "print('После обработки',display(data.describe()))"
   ]
  },
  {
   "cell_type": "code",
   "execution_count": 11,
   "metadata": {},
   "outputs": [
    {
     "name": "stdout",
     "output_type": "stream",
     "text": [
      "% удаленных строк: 8\n"
     ]
    }
   ],
   "source": [
    "# Процент удаленных данных\n",
    "print('% удаленных строк:', round((1-data.shape[0]/data_shape_original)*100))"
   ]
  },
  {
   "cell_type": "markdown",
   "metadata": {},
   "source": [
    "После поиска аномалий и удалений выбросов было отфильтровано 8% данных. Данное значение допустимо при анализе."
   ]
  },
  {
   "cell_type": "markdown",
   "metadata": {},
   "source": [
    "### Посчитайте и добавьте в таблицу новые столбцы"
   ]
  },
  {
   "cell_type": "code",
   "execution_count": 12,
   "metadata": {},
   "outputs": [],
   "source": [
    "#цена одного квадратного метра\n",
    "data['price_per_metr'] = round(data['last_price']/data['total_area'])\n",
    "\n",
    "#день недели публикации объявления\n",
    "#data['week_day'] = pd.DatetimeIndex(data['first_day_exposition']).weekday\n",
    "data['day_name'] = pd.DatetimeIndex(data['first_day_exposition']).day_name()\n",
    "\n",
    "#месяц публикации объявления\n",
    "data['month'] = pd.DatetimeIndex(data['first_day_exposition']).month\n",
    "\n",
    "#год публикации объявления\n",
    "data['year'] = pd.DatetimeIndex(data['first_day_exposition']).year\n",
    "\n",
    "\n",
    "#тип этажа квартиры (значения — «первый», «последний», «другой»)\n",
    "def floor_type(row):\n",
    "    floors_total = row['floors_total']\n",
    "    floor = row['floor']\n",
    "    if floor == 1:\n",
    "        return 'первый'\n",
    "    elif floor == floors_total:\n",
    "        return 'последний'\n",
    "    elif 1 < floor < floors_total:\n",
    "        return 'другой'\n",
    "    #категоризуем этажи с помощью функции  \n",
    "data['floor_type'] = data.apply(floor_type, axis = 1)\n",
    "\n",
    "\n",
    "#расстояние до центра города в километрах\n",
    "data['cityCenter'] = round(data['cityCenters_nearest']/1000)"
   ]
  },
  {
   "cell_type": "code",
   "execution_count": 13,
   "metadata": {
    "scrolled": true
   },
   "outputs": [
    {
     "data": {
      "text/html": [
       "<div>\n",
       "<style scoped>\n",
       "    .dataframe tbody tr th:only-of-type {\n",
       "        vertical-align: middle;\n",
       "    }\n",
       "\n",
       "    .dataframe tbody tr th {\n",
       "        vertical-align: top;\n",
       "    }\n",
       "\n",
       "    .dataframe thead th {\n",
       "        text-align: right;\n",
       "    }\n",
       "</style>\n",
       "<table border=\"1\" class=\"dataframe\">\n",
       "  <thead>\n",
       "    <tr style=\"text-align: right;\">\n",
       "      <th></th>\n",
       "      <th>total_images</th>\n",
       "      <th>last_price</th>\n",
       "      <th>total_area</th>\n",
       "      <th>first_day_exposition</th>\n",
       "      <th>rooms</th>\n",
       "      <th>ceiling_height</th>\n",
       "      <th>floors_total</th>\n",
       "      <th>living_area</th>\n",
       "      <th>floor</th>\n",
       "      <th>is_apartment</th>\n",
       "      <th>...</th>\n",
       "      <th>parks_nearest</th>\n",
       "      <th>ponds_around3000</th>\n",
       "      <th>ponds_nearest</th>\n",
       "      <th>days_exposition</th>\n",
       "      <th>price_per_metr</th>\n",
       "      <th>day_name</th>\n",
       "      <th>month</th>\n",
       "      <th>year</th>\n",
       "      <th>floor_type</th>\n",
       "      <th>cityCenter</th>\n",
       "    </tr>\n",
       "  </thead>\n",
       "  <tbody>\n",
       "    <tr>\n",
       "      <th>0</th>\n",
       "      <td>20</td>\n",
       "      <td>13000000</td>\n",
       "      <td>108.0</td>\n",
       "      <td>2019-03-07T00:00:00</td>\n",
       "      <td>3</td>\n",
       "      <td>2.7</td>\n",
       "      <td>16</td>\n",
       "      <td>51.0</td>\n",
       "      <td>8</td>\n",
       "      <td>True</td>\n",
       "      <td>...</td>\n",
       "      <td>482.0</td>\n",
       "      <td>2</td>\n",
       "      <td>755.0</td>\n",
       "      <td>NaN</td>\n",
       "      <td>120370.0</td>\n",
       "      <td>Thursday</td>\n",
       "      <td>3</td>\n",
       "      <td>2019</td>\n",
       "      <td>другой</td>\n",
       "      <td>16.0</td>\n",
       "    </tr>\n",
       "    <tr>\n",
       "      <th>1</th>\n",
       "      <td>7</td>\n",
       "      <td>3350000</td>\n",
       "      <td>40.4</td>\n",
       "      <td>2018-12-04T00:00:00</td>\n",
       "      <td>1</td>\n",
       "      <td>NaN</td>\n",
       "      <td>11</td>\n",
       "      <td>18.6</td>\n",
       "      <td>1</td>\n",
       "      <td>True</td>\n",
       "      <td>...</td>\n",
       "      <td>NaN</td>\n",
       "      <td>0</td>\n",
       "      <td>NaN</td>\n",
       "      <td>81.0</td>\n",
       "      <td>82921.0</td>\n",
       "      <td>Tuesday</td>\n",
       "      <td>12</td>\n",
       "      <td>2018</td>\n",
       "      <td>первый</td>\n",
       "      <td>19.0</td>\n",
       "    </tr>\n",
       "  </tbody>\n",
       "</table>\n",
       "<p>2 rows × 28 columns</p>\n",
       "</div>"
      ],
      "text/plain": [
       "   total_images  last_price  total_area first_day_exposition  rooms  \\\n",
       "0            20    13000000       108.0  2019-03-07T00:00:00      3   \n",
       "1             7     3350000        40.4  2018-12-04T00:00:00      1   \n",
       "\n",
       "   ceiling_height  floors_total  living_area  floor  is_apartment  ...  \\\n",
       "0             2.7            16         51.0      8          True  ...   \n",
       "1             NaN            11         18.6      1          True  ...   \n",
       "\n",
       "   parks_nearest  ponds_around3000  ponds_nearest  days_exposition  \\\n",
       "0          482.0                 2          755.0              NaN   \n",
       "1            NaN                 0            NaN             81.0   \n",
       "\n",
       "  price_per_metr  day_name  month  year  floor_type  cityCenter  \n",
       "0       120370.0  Thursday      3  2019      другой        16.0  \n",
       "1        82921.0   Tuesday     12  2018      первый        19.0  \n",
       "\n",
       "[2 rows x 28 columns]"
      ]
     },
     "execution_count": 13,
     "metadata": {},
     "output_type": "execute_result"
    }
   ],
   "source": [
    "data.head(2)"
   ]
  },
  {
   "cell_type": "markdown",
   "metadata": {},
   "source": [
    "### Проведите исследовательский анализ данных"
   ]
  },
  {
   "cell_type": "code",
   "execution_count": 14,
   "metadata": {
    "scrolled": true
   },
   "outputs": [
    {
     "data": {
      "image/png": "[encoded data removed]",
      "text/plain": [
       "<Figure size 720x360 with 1 Axes>"
      ]
     },
     "metadata": {
      "needs_background": "light"
     },
     "output_type": "display_data"
    },
    {
     "name": "stdout",
     "output_type": "stream",
     "text": [
      "count    21864.000000\n",
      "mean        56.565377\n",
      "std         23.698467\n",
      "min         20.000000\n",
      "25%         40.000000\n",
      "50%         51.000000\n",
      "75%         67.000000\n",
      "max        200.000000\n",
      "Name: total_area, dtype: float64\n"
     ]
    },
    {
     "data": {
      "image/png": "[encoded data removed]",
      "text/plain": [
       "<Figure size 720x360 with 1 Axes>"
      ]
     },
     "metadata": {
      "needs_background": "light"
     },
     "output_type": "display_data"
    },
    {
     "name": "stdout",
     "output_type": "stream",
     "text": [
      "count    21864.000000\n",
      "mean        32.316138\n",
      "std         15.309718\n",
      "min         10.000000\n",
      "25%         18.842329\n",
      "50%         30.000000\n",
      "75%         41.000000\n",
      "max        100.000000\n",
      "Name: living_area, dtype: float64\n"
     ]
    },
    {
     "data": {
      "image/png": "[encoded data removed]",
      "text/plain": [
       "<Figure size 720x360 with 1 Axes>"
      ]
     },
     "metadata": {
      "needs_background": "light"
     },
     "output_type": "display_data"
    },
    {
     "name": "stdout",
     "output_type": "stream",
     "text": [
      "count    19746.000000\n",
      "mean        10.093419\n",
      "std          4.496992\n",
      "min          4.000000\n",
      "25%          7.000000\n",
      "50%          9.000000\n",
      "75%         11.600000\n",
      "max         40.000000\n",
      "Name: kitchen_area, dtype: float64\n"
     ]
    },
    {
     "data": {
      "image/png": "[encoded data removed]",
      "text/plain": [
       "<Figure size 720x360 with 1 Axes>"
      ]
     },
     "metadata": {
      "needs_background": "light"
     },
     "output_type": "display_data"
    },
    {
     "name": "stdout",
     "output_type": "stream",
     "text": [
      "count    2.186400e+04\n",
      "mean     5.700319e+06\n",
      "std      4.655445e+06\n",
      "min      4.300000e+05\n",
      "25%      3.400000e+06\n",
      "50%      4.550000e+06\n",
      "75%      6.500000e+06\n",
      "max      9.800000e+07\n",
      "Name: last_price, dtype: float64\n"
     ]
    },
    {
     "data": {
      "image/png": "[encoded data removed]",
      "text/plain": [
       "<Figure size 720x360 with 1 Axes>"
      ]
     },
     "metadata": {
      "needs_background": "light"
     },
     "output_type": "display_data"
    },
    {
     "name": "stdout",
     "output_type": "stream",
     "text": [
      "count    21864.000000\n",
      "mean         1.993597\n",
      "std          0.938270\n",
      "min          0.000000\n",
      "25%          1.000000\n",
      "50%          2.000000\n",
      "75%          3.000000\n",
      "max          5.000000\n",
      "Name: rooms, dtype: float64\n"
     ]
    },
    {
     "data": {
      "image/png": "[encoded data removed]",
      "text/plain": [
       "<Figure size 720x360 with 1 Axes>"
      ]
     },
     "metadata": {
      "needs_background": "light"
     },
     "output_type": "display_data"
    },
    {
     "name": "stdout",
     "output_type": "stream",
     "text": [
      "count    13290.000000\n",
      "mean         2.704919\n",
      "std          0.240915\n",
      "min          2.000000\n",
      "25%          2.500000\n",
      "50%          2.650000\n",
      "75%          2.800000\n",
      "max          4.000000\n",
      "Name: ceiling_height, dtype: float64\n"
     ]
    },
    {
     "data": {
      "image/png": "[encoded data removed]",
      "text/plain": [
       "<Figure size 720x360 with 1 Axes>"
      ]
     },
     "metadata": {
      "needs_background": "light"
     },
     "output_type": "display_data"
    },
    {
     "name": "stdout",
     "output_type": "stream",
     "text": [
      "count    21864.000000\n",
      "mean         5.938163\n",
      "std          4.906361\n",
      "min          1.000000\n",
      "25%          2.000000\n",
      "50%          4.000000\n",
      "75%          8.000000\n",
      "max         33.000000\n",
      "Name: floor, dtype: float64\n"
     ]
    },
    {
     "data": {
      "image/png": "[encoded data removed]",
      "text/plain": [
       "<Figure size 720x360 with 1 Axes>"
      ]
     },
     "metadata": {
      "needs_background": "light"
     },
     "output_type": "display_data"
    },
    {
     "name": "stdout",
     "output_type": "stream",
     "text": [
      "count    21864.000000\n",
      "mean        10.790843\n",
      "std          6.620192\n",
      "min          1.000000\n",
      "25%          5.000000\n",
      "50%          9.000000\n",
      "75%         16.000000\n",
      "max         60.000000\n",
      "Name: floors_total, dtype: float64\n"
     ]
    },
    {
     "data": {
      "image/png": "[encoded data removed]",
      "text/plain": [
       "<Figure size 720x360 with 1 Axes>"
      ]
     },
     "metadata": {
      "needs_background": "light"
     },
     "output_type": "display_data"
    },
    {
     "name": "stdout",
     "output_type": "stream",
     "text": [
      "count    16633.000000\n",
      "mean        14.519389\n",
      "std          8.511988\n",
      "min          0.000000\n",
      "25%         10.000000\n",
      "50%         13.000000\n",
      "75%         16.000000\n",
      "max         66.000000\n",
      "Name: cityCenter, dtype: float64\n"
     ]
    },
    {
     "data": {
      "image/png": "[encoded data removed]",
      "text/plain": [
       "<Figure size 720x360 with 1 Axes>"
      ]
     },
     "metadata": {
      "needs_background": "light"
     },
     "output_type": "display_data"
    },
    {
     "name": "stdout",
     "output_type": "stream",
     "text": [
      "count    16613.000000\n",
      "mean     28934.481912\n",
      "std      12819.286684\n",
      "min          0.000000\n",
      "25%      18398.000000\n",
      "50%      27102.000000\n",
      "75%      37434.000000\n",
      "max      84853.000000\n",
      "Name: airports_nearest, dtype: float64\n"
     ]
    },
    {
     "data": {
      "image/png": "[encoded data removed]",
      "text/plain": [
       "<Figure size 720x360 with 1 Axes>"
      ]
     },
     "metadata": {
      "needs_background": "light"
     },
     "output_type": "display_data"
    },
    {
     "name": "stdout",
     "output_type": "stream",
     "text": [
      "count    7237.000000\n",
      "mean      491.533094\n",
      "std       340.473376\n",
      "min         1.000000\n",
      "25%       288.000000\n",
      "50%       456.000000\n",
      "75%       613.000000\n",
      "max      3190.000000\n",
      "Name: parks_nearest, dtype: float64\n"
     ]
    }
   ],
   "source": [
    "# Гистограмма для общей площади квартиры\n",
    "data.plot(y ='total_area', kind = 'hist', bins = 50, grid=True, figsize = (10,5), range = (0,200))\n",
    "plt.ylabel('кол-во объявлений')\n",
    "plt.xlabel('общая площадь')\n",
    "plt.title('Гистограмма общей площади квартиры')\n",
    "plt.show()\n",
    "print(data['total_area'].describe())\n",
    "\n",
    "# Гистограмма для жилой площади квартиры\n",
    "data.plot(y ='living_area', kind = 'hist', bins = 50, grid=True, figsize = (10,5), range = (0,100))\n",
    "plt.ylabel('кол-во объявлений')\n",
    "plt.xlabel('жилая площадь')\n",
    "plt.title('Гистограмма жилой площади квартиры')\n",
    "plt.show()\n",
    "print(data['living_area'].describe())\n",
    "\n",
    "# Гистограмма для площади кухни квартиры\n",
    "data.plot(y ='kitchen_area', kind = 'hist', bins = 50, grid=True, figsize = (10,5), range = (0,40))\n",
    "plt.ylabel('кол-во объявлений')\n",
    "plt.xlabel('площадь кухни')\n",
    "plt.title('Гистограмма площади кухни квартиры')\n",
    "plt.show()\n",
    "print(data['kitchen_area'].describe())\n",
    "\n",
    "# Гистограмма для цены объекта\n",
    "data.plot(y ='last_price', kind = 'hist', bins = 50, grid=True, figsize = (10,5),range = (0,50000000))\n",
    "plt.ylabel('кол-во объявлений')\n",
    "plt.xlabel('Цена')\n",
    "plt.title('Гистограмма стоимости объекта')\n",
    "plt.show()\n",
    "print(data['last_price'].describe())\n",
    "\n",
    "# Гистограмма для количества комнат\n",
    "data.plot(y ='rooms', kind = 'hist', grid=True, figsize = (10,5),range = (0,6))\n",
    "plt.ylabel('кол-во объявлений')\n",
    "plt.xlabel('Комнаты')\n",
    "plt.title('Гистограмма количества комнат')\n",
    "plt.show()\n",
    "print(data['rooms'].describe())\n",
    "\n",
    "# Гистограмма для высоты потолков \n",
    "data.plot(y ='ceiling_height', kind = 'hist', grid=True, figsize = (10,5),range = (2,4))\n",
    "plt.ylabel('кол-во объявлений')\n",
    "plt.xlabel('Высота потолков')\n",
    "plt.title('Гистограмма распределения высоты потолков')\n",
    "plt.show()\n",
    "print(data['ceiling_height'].describe())\n",
    "\n",
    "# Гистограмма для этажей квартир\n",
    "data.plot(y ='floor', kind = 'hist', grid=True, figsize = (10,5),range = (0,35))\n",
    "plt.ylabel('кол-во объявлений')\n",
    "plt.xlabel('Этаж')\n",
    "plt.title('Гистограмма распределения этажей')\n",
    "plt.show()\n",
    "print(data['floor'].describe())\n",
    "\n",
    "# Гистограмма для общего количества этажей в доме\n",
    "data.plot(y ='floors_total', kind = 'hist', grid=True, figsize = (10,5),range = (0,60))\n",
    "plt.ylabel('кол-во объявлений')\n",
    "plt.xlabel('Кол-во этажей')\n",
    "plt.title('Гистограмма общего количества этажей')\n",
    "plt.show()\n",
    "print(data['floors_total'].describe())\n",
    "\n",
    "# Гистограмма расстояния до центра города\n",
    "data.plot(y ='cityCenter', kind = 'hist', grid=True, figsize = (10,5),range = (0,70))\n",
    "plt.ylabel('кол-во объявлений')\n",
    "plt.xlabel('Расстояние до центра город')\n",
    "plt.title('Гистограмма расстояния до центра города')\n",
    "plt.show()\n",
    "print(data['cityCenter'].describe())\n",
    "\n",
    "# Гистограмма для расстояние до ближайшего аэропорта\n",
    "data.plot(y ='airports_nearest', kind = 'hist', grid=True, figsize = (10,5))\n",
    "plt.ylabel('кол-во объявлений')\n",
    "plt.xlabel('Расстояние до ближайшего аэропорта')\n",
    "plt.title('Гистограмма расстояния до ближайшего аэропорта')\n",
    "plt.show()\n",
    "print(data['airports_nearest'].describe())\n",
    "\n",
    "# Гистограмма для расстояние до ближайшего парка\n",
    "data.plot(y ='parks_nearest', kind = 'hist', grid=True, figsize = (10,5))\n",
    "plt.ylabel('кол-во объявлений')\n",
    "plt.xlabel('Расстояние до ближайшего парка')\n",
    "plt.title('Гистограмма расстояния до ближайшего парка')\n",
    "plt.show()\n",
    "print(data['parks_nearest'].describe())"
   ]
  },
  {
   "cell_type": "markdown",
   "metadata": {},
   "source": [
    "Общая площадь объектов варируется от 20 до 200 квадратных метров, однако основная часть объявлений имеет размеры площади от 25 до 60. Больше всего объявлений имеет общую площадь равную 50 квадратов.\n",
    "Жилая площадь квартир равная 18 квадратов чаще всречается в объявлениях. Средняя площадь всех объявлений составила 32,4 квадратов.\n",
    "Площадь кухни имеет размер от 5 до 40 квадратов, 10 квадратов в среднем и около 8 чаще всего.\n",
    "\n",
    "Цена объекта имеет неравномерное распределение. Среднее значение выше медианы.\n",
    "\n",
    "Среди объявлений чаще встречаются однокомнатные и двухкомнатные объекты, трехкомнатные также занимают большую часть (около 5000 объявлений)\n",
    "\n",
    "Высота потолков в объявлениях чаще всего встречалась 2,5 и 2,75 м, что является стандартными высотами потолков в российских объектах жилья.\n",
    "\n",
    "Максимальное этажей среди исследованных объвялений было 33 этажа. Большая часть объявлений приходится на 1-7 этажей.\n",
    "Что косается общего количества этажей в доме: часто встречаются девяти и десятиэтажные здания. Менее распространены высотные здания с этажами больше 20-ти.\n",
    "\n",
    "Изучая расстояния до центра города в км, половина объявлений имеет менее 13 км до центра. 66 км- самое большое растояние от объекта до центра.\n",
    "Расстояния до аэпорпорта намного больше растояня до центра: среднее здесь около 30 км, а чаще всего встречается показатель равный 20 км. Половина недвижимости в объявлениях находится дальше 30 км от аэропорта.\n",
    "Наименьшее растояния объекты имееют до парков, в среднем около 500 метров. Есть несколько объявлений, которые указали в расстоянии до парка больше 3 км."
   ]
  },
  {
   "cell_type": "code",
   "execution_count": 15,
   "metadata": {
    "scrolled": true
   },
   "outputs": [
    {
     "data": {
      "text/plain": [
       "<AxesSubplot:>"
      ]
     },
     "execution_count": 15,
     "metadata": {},
     "output_type": "execute_result"
    },
    {
     "data": {
      "image/png": "[encoded data removed]",
      "text/plain": [
       "<Figure size 432x288 with 1 Axes>"
      ]
     },
     "metadata": {
      "needs_background": "light"
     },
     "output_type": "display_data"
    }
   ],
   "source": [
    "# Гистограмма для тип этажа квартиры («первый», «последний», «другой»)\n",
    "data['floor_type'].hist(bins= 3)"
   ]
  },
  {
   "cell_type": "markdown",
   "metadata": {},
   "source": [
    "Наибольшая часть недвижимости (74%) среди расмотренных объявлений находится не на первом и не на последнем этажах. Первый этаж встрчается в 12,3% объявлений, в то время как последний в 19%."
   ]
  },
  {
   "cell_type": "code",
   "execution_count": 16,
   "metadata": {
    "scrolled": true
   },
   "outputs": [
    {
     "data": {
      "text/plain": [
       "<AxesSubplot:>"
      ]
     },
     "execution_count": 16,
     "metadata": {},
     "output_type": "execute_result"
    },
    {
     "data": {
      "image/png": "[encoded data removed]",
      "text/plain": [
       "<Figure size 432x288 with 1 Axes>"
      ]
     },
     "metadata": {
      "needs_background": "light"
     },
     "output_type": "display_data"
    }
   ],
   "source": [
    "# Гистограмма для дня публикации объявления\n",
    "data['day_name'].hist(bins =7)"
   ]
  },
  {
   "cell_type": "markdown",
   "metadata": {},
   "source": [
    "Меньше всего объявлений было опубликовано в воскресенье (7%), больше всего в четверг (18%). Однако в будние дни только в понедельник меньше всего объявлений, в то время как в другие будни примерно одинакое значение."
   ]
  },
  {
   "cell_type": "code",
   "execution_count": 17,
   "metadata": {},
   "outputs": [
    {
     "data": {
      "text/plain": [
       "<AxesSubplot:>"
      ]
     },
     "execution_count": 17,
     "metadata": {},
     "output_type": "execute_result"
    },
    {
     "data": {
      "image/png": "[encoded data removed]",
      "text/plain": [
       "<Figure size 432x288 with 1 Axes>"
      ]
     },
     "metadata": {
      "needs_background": "light"
     },
     "output_type": "display_data"
    }
   ],
   "source": [
    "# Гистограмма для месяца публикации объявления\n",
    "data['month'].hist(bins = 12)"
   ]
  },
  {
   "cell_type": "markdown",
   "metadata": {},
   "source": [
    "Больше всего объявлений было опубликовано в феврале, на втором месте ноябрь. Меньше всего в мае и в январе (скорее всего из-за наличия большого кол-во выходных дней в этих месяцах)"
   ]
  },
  {
   "cell_type": "code",
   "execution_count": 18,
   "metadata": {},
   "outputs": [
    {
     "data": {
      "image/png": "[encoded data removed]",
      "text/plain": [
       "<Figure size 720x360 with 1 Axes>"
      ]
     },
     "metadata": {
      "needs_background": "light"
     },
     "output_type": "display_data"
    },
    {
     "name": "stdout",
     "output_type": "stream",
     "text": [
      "Средняя длительность размещений: 138\n",
      "Медиана длительности размещений: 88\n",
      "count    18845.000000\n",
      "mean       137.941576\n",
      "std        136.251751\n",
      "min          1.000000\n",
      "25%         42.000000\n",
      "50%         88.000000\n",
      "75%        192.000000\n",
      "max        600.000000\n",
      "Name: days_exposition, dtype: float64\n"
     ]
    }
   ],
   "source": [
    "###  Как быстро продавались квартиры\n",
    "# Гистограмма для days_exposition\n",
    "data.plot(y ='days_exposition', kind = 'hist', grid=True, figsize = (10,5),range = (0,600))\n",
    "plt.ylabel('кол-во объявлений')\n",
    "plt.xlabel('Сколько дней было размещено объявление')\n",
    "plt.title('Гистограмма длительности размещения объявлений')\n",
    "plt.show()\n",
    "print('Средняя длительность размещений:',round(data['days_exposition'].mean()))\n",
    "print('Медиана длительности размещений:',round(data['days_exposition'].median()))\n",
    "print(data['days_exposition'].describe())"
   ]
  },
  {
   "cell_type": "markdown",
   "metadata": {},
   "source": [
    "В среднем за рассмотренный период срок продажи занимал 138 дней, однако половина объявлений было закрыто за 88 дней. Быстрыми сделками считаюся сделки, которые закрылись менее чем за 42 дня (25% объявлениий). Долгий срок продаж начинается от 200 дней: при таком сроке стоит обратить внимание на качество объявления или на стоимость недвижимости."
   ]
  },
  {
   "cell_type": "code",
   "execution_count": 19,
   "metadata": {},
   "outputs": [
    {
     "data": {
      "text/html": [
       "<div>\n",
       "<style scoped>\n",
       "    .dataframe tbody tr th:only-of-type {\n",
       "        vertical-align: middle;\n",
       "    }\n",
       "\n",
       "    .dataframe tbody tr th {\n",
       "        vertical-align: top;\n",
       "    }\n",
       "\n",
       "    .dataframe thead th {\n",
       "        text-align: right;\n",
       "    }\n",
       "</style>\n",
       "<table border=\"1\" class=\"dataframe\">\n",
       "  <thead>\n",
       "    <tr style=\"text-align: right;\">\n",
       "      <th></th>\n",
       "      <th>last_price</th>\n",
       "      <th>price_per_metr</th>\n",
       "      <th>total_area</th>\n",
       "      <th>living_area</th>\n",
       "      <th>kitchen_area</th>\n",
       "      <th>rooms</th>\n",
       "      <th>floor</th>\n",
       "      <th>month</th>\n",
       "      <th>year</th>\n",
       "    </tr>\n",
       "  </thead>\n",
       "  <tbody>\n",
       "    <tr>\n",
       "      <th>last_price</th>\n",
       "      <td>1.000000</td>\n",
       "      <td>0.756192</td>\n",
       "      <td>0.723600</td>\n",
       "      <td>0.616014</td>\n",
       "      <td>0.542427</td>\n",
       "      <td>0.412707</td>\n",
       "      <td>0.074463</td>\n",
       "      <td>0.005120</td>\n",
       "      <td>-0.020120</td>\n",
       "    </tr>\n",
       "    <tr>\n",
       "      <th>price_per_metr</th>\n",
       "      <td>0.756192</td>\n",
       "      <td>1.000000</td>\n",
       "      <td>0.214982</td>\n",
       "      <td>0.120222</td>\n",
       "      <td>0.358535</td>\n",
       "      <td>-0.040287</td>\n",
       "      <td>0.175767</td>\n",
       "      <td>-0.004263</td>\n",
       "      <td>0.044596</td>\n",
       "    </tr>\n",
       "    <tr>\n",
       "      <th>total_area</th>\n",
       "      <td>0.723600</td>\n",
       "      <td>0.214982</td>\n",
       "      <td>1.000000</td>\n",
       "      <td>0.924458</td>\n",
       "      <td>0.556082</td>\n",
       "      <td>0.777502</td>\n",
       "      <td>-0.012699</td>\n",
       "      <td>0.007773</td>\n",
       "      <td>-0.054504</td>\n",
       "    </tr>\n",
       "    <tr>\n",
       "      <th>living_area</th>\n",
       "      <td>0.616014</td>\n",
       "      <td>0.120222</td>\n",
       "      <td>0.924458</td>\n",
       "      <td>1.000000</td>\n",
       "      <td>0.309863</td>\n",
       "      <td>0.864184</td>\n",
       "      <td>-0.102473</td>\n",
       "      <td>0.001191</td>\n",
       "      <td>-0.043768</td>\n",
       "    </tr>\n",
       "    <tr>\n",
       "      <th>kitchen_area</th>\n",
       "      <td>0.542427</td>\n",
       "      <td>0.358535</td>\n",
       "      <td>0.556082</td>\n",
       "      <td>0.309863</td>\n",
       "      <td>1.000000</td>\n",
       "      <td>0.163967</td>\n",
       "      <td>0.193055</td>\n",
       "      <td>0.008617</td>\n",
       "      <td>-0.031257</td>\n",
       "    </tr>\n",
       "    <tr>\n",
       "      <th>rooms</th>\n",
       "      <td>0.412707</td>\n",
       "      <td>-0.040287</td>\n",
       "      <td>0.777502</td>\n",
       "      <td>0.864184</td>\n",
       "      <td>0.163967</td>\n",
       "      <td>1.000000</td>\n",
       "      <td>-0.156644</td>\n",
       "      <td>-0.003281</td>\n",
       "      <td>-0.027520</td>\n",
       "    </tr>\n",
       "    <tr>\n",
       "      <th>floor</th>\n",
       "      <td>0.074463</td>\n",
       "      <td>0.175767</td>\n",
       "      <td>-0.012699</td>\n",
       "      <td>-0.102473</td>\n",
       "      <td>0.193055</td>\n",
       "      <td>-0.156644</td>\n",
       "      <td>1.000000</td>\n",
       "      <td>0.020641</td>\n",
       "      <td>-0.002968</td>\n",
       "    </tr>\n",
       "    <tr>\n",
       "      <th>month</th>\n",
       "      <td>0.005120</td>\n",
       "      <td>-0.004263</td>\n",
       "      <td>0.007773</td>\n",
       "      <td>0.001191</td>\n",
       "      <td>0.008617</td>\n",
       "      <td>-0.003281</td>\n",
       "      <td>0.020641</td>\n",
       "      <td>1.000000</td>\n",
       "      <td>-0.296123</td>\n",
       "    </tr>\n",
       "    <tr>\n",
       "      <th>year</th>\n",
       "      <td>-0.020120</td>\n",
       "      <td>0.044596</td>\n",
       "      <td>-0.054504</td>\n",
       "      <td>-0.043768</td>\n",
       "      <td>-0.031257</td>\n",
       "      <td>-0.027520</td>\n",
       "      <td>-0.002968</td>\n",
       "      <td>-0.296123</td>\n",
       "      <td>1.000000</td>\n",
       "    </tr>\n",
       "  </tbody>\n",
       "</table>\n",
       "</div>"
      ],
      "text/plain": [
       "                last_price  price_per_metr  total_area  living_area  \\\n",
       "last_price        1.000000        0.756192    0.723600     0.616014   \n",
       "price_per_metr    0.756192        1.000000    0.214982     0.120222   \n",
       "total_area        0.723600        0.214982    1.000000     0.924458   \n",
       "living_area       0.616014        0.120222    0.924458     1.000000   \n",
       "kitchen_area      0.542427        0.358535    0.556082     0.309863   \n",
       "rooms             0.412707       -0.040287    0.777502     0.864184   \n",
       "floor             0.074463        0.175767   -0.012699    -0.102473   \n",
       "month             0.005120       -0.004263    0.007773     0.001191   \n",
       "year             -0.020120        0.044596   -0.054504    -0.043768   \n",
       "\n",
       "                kitchen_area     rooms     floor     month      year  \n",
       "last_price          0.542427  0.412707  0.074463  0.005120 -0.020120  \n",
       "price_per_metr      0.358535 -0.040287  0.175767 -0.004263  0.044596  \n",
       "total_area          0.556082  0.777502 -0.012699  0.007773 -0.054504  \n",
       "living_area         0.309863  0.864184 -0.102473  0.001191 -0.043768  \n",
       "kitchen_area        1.000000  0.163967  0.193055  0.008617 -0.031257  \n",
       "rooms               0.163967  1.000000 -0.156644 -0.003281 -0.027520  \n",
       "floor               0.193055 -0.156644  1.000000  0.020641 -0.002968  \n",
       "month               0.008617 -0.003281  0.020641  1.000000 -0.296123  \n",
       "year               -0.031257 -0.027520 -0.002968 -0.296123  1.000000  "
      ]
     },
     "metadata": {},
     "output_type": "display_data"
    },
    {
     "name": "stdout",
     "output_type": "stream",
     "text": [
      "None\n"
     ]
    }
   ],
   "source": [
    "### Какие факторы больше всего влияют на общую (полную) стоимость объекта?\n",
    "\n",
    "#выбираем нужные для анализа столбцы\n",
    "factors = data[['last_price','price_per_metr','total_area','living_area','kitchen_area', 'rooms', 'floor_type', 'floor', 'month', 'year', 'day_name']]\n",
    "print(display(factors.corr()))"
   ]
  },
  {
   "cell_type": "markdown",
   "metadata": {},
   "source": [
    "Наибольшая прямая связь стоимости квартиры наблюдается с общей площадью квартиры (72%), жилой площадью (60%), размером кухни (50%) и кол-вом комнат (41%). Это значит, что при изменении этих факторов, стоимость жилья изменится в ту же сторону."
   ]
  },
  {
   "cell_type": "code",
   "execution_count": 20,
   "metadata": {
    "scrolled": true
   },
   "outputs": [
    {
     "data": {
      "text/plain": [
       "<AxesSubplot:xlabel='floor', ylabel='last_price'>"
      ]
     },
     "execution_count": 20,
     "metadata": {},
     "output_type": "execute_result"
    },
    {
     "data": {
      "image/png": "[encoded data removed]",
      "text/plain": [
       "<Figure size 432x288 with 2 Axes>"
      ]
     },
     "metadata": {
      "needs_background": "light"
     },
     "output_type": "display_data"
    },
    {
     "data": {
      "image/png": "[encoded data removed]",
      "text/plain": [
       "<Figure size 432x288 with 2 Axes>"
      ]
     },
     "metadata": {
      "needs_background": "light"
     },
     "output_type": "display_data"
    },
    {
     "data": {
      "image/png": "[encoded data removed]",
      "text/plain": [
       "<Figure size 432x288 with 2 Axes>"
      ]
     },
     "metadata": {
      "needs_background": "light"
     },
     "output_type": "display_data"
    },
    {
     "data": {
      "image/png": "[encoded data removed]",
      "text/plain": [
       "<Figure size 432x288 with 1 Axes>"
      ]
     },
     "metadata": {
      "needs_background": "light"
     },
     "output_type": "display_data"
    }
   ],
   "source": [
    "### Построим графики найденных зависимостей\n",
    "\n",
    "# Зависимость цены от общей площади квартиры, а также кол-во комнат\n",
    "factors.plot.scatter(x='total_area', y='last_price',c='rooms',colormap='inferno')\n",
    "plt.title('total_area')\n",
    "\n",
    "# Зависимость цены от жилой площади, а также кол-во комнат\n",
    "factors.plot.scatter(x='living_area', y='last_price',c='rooms',colormap='inferno')\n",
    "plt.title('living_area')\n",
    "\n",
    "# Зависимость цены от площади кухни, а также кол-во комнат\n",
    "factors.plot.scatter(x='kitchen_area', y='last_price',c='rooms',colormap='inferno')\n",
    "plt.title('kitchen_area')\n",
    "\n",
    "# Зависимость цены от этажа\n",
    "factors.plot.scatter(x='floor', y='last_price')"
   ]
  },
  {
   "cell_type": "markdown",
   "metadata": {},
   "source": [
    "Больше всего на цену влияют общаяя площадь квартиры и жилая площадь. Наблюдается также зависимость межлу кол-во комнат и жилой площадью (чем больше комнат, тем больше жилая и общие площади квартиры. Рассматривая взаимосвзяь этажей и стоимости жилья, видно, что чаще всего встречается наиболее дорогая недвижимость на 3-8 этажах."
   ]
  },
  {
   "cell_type": "code",
   "execution_count": 21,
   "metadata": {
    "scrolled": true
   },
   "outputs": [
    {
     "data": {
      "image/png": "[encoded data removed]",
      "text/plain": [
       "<Figure size 432x288 with 1 Axes>"
      ]
     },
     "metadata": {
      "needs_background": "light"
     },
     "output_type": "display_data"
    }
   ],
   "source": [
    "# Столбчатая диаграмма по типу этажа\n",
    "sn.barplot(x=data['floor_type'],y = data['last_price']);\n",
    "#sn.catplot(data=data, x=\"floor_type\", kind=\"count\");"
   ]
  },
  {
   "cell_type": "markdown",
   "metadata": {},
   "source": [
    "Цена недвижимости находящийся на на других этажах, выше объявлений на первом и последнем этажах. Можно предположить, что квартиры на первом этаже пользуются меньшем спросом."
   ]
  },
  {
   "cell_type": "code",
   "execution_count": 22,
   "metadata": {},
   "outputs": [
    {
     "data": {
      "image/png": "[encoded data removed]",
      "text/plain": [
       "<Figure size 432x288 with 1 Axes>"
      ]
     },
     "metadata": {
      "needs_background": "light"
     },
     "output_type": "display_data"
    }
   ],
   "source": [
    "# Столбчатая диаграмма по дням недели\n",
    "sn.barplot(x=data['day_name'],y = data['last_price']);\n",
    "#sn.catplot(data=data, x=\"day_name\", kind=\"count\");"
   ]
  },
  {
   "cell_type": "markdown",
   "metadata": {},
   "source": [
    "Зависимости между стоимостью квартир и днем недели публикации объявления не наблюдается."
   ]
  },
  {
   "cell_type": "code",
   "execution_count": 23,
   "metadata": {
    "scrolled": true
   },
   "outputs": [
    {
     "data": {
      "image/png": "[encoded data removed]",
      "text/plain": [
       "<Figure size 432x288 with 1 Axes>"
      ]
     },
     "metadata": {
      "needs_background": "light"
     },
     "output_type": "display_data"
    },
    {
     "data": {
      "image/png": "[encoded data removed]",
      "text/plain": [
       "<Figure size 360x360 with 1 Axes>"
      ]
     },
     "metadata": {
      "needs_background": "light"
     },
     "output_type": "display_data"
    }
   ],
   "source": [
    "# Столбчатая диаграмма по году публикации \n",
    "sn.barplot(x=data['year'],y = data['last_price']);\n",
    "sn.catplot(data=data, x=\"year\", kind=\"count\");"
   ]
  },
  {
   "cell_type": "markdown",
   "metadata": {},
   "source": [
    "В 2014 году было очень мало объявлений, этим объясняется резкий скачок на диаграмме. В целом зависимости между стоимостью квартир и годом публикации объявления не наблюдается."
   ]
  },
  {
   "cell_type": "code",
   "execution_count": 24,
   "metadata": {
    "scrolled": true
   },
   "outputs": [
    {
     "data": {
      "image/png": "[encoded data removed]",
      "text/plain": [
       "<Figure size 432x288 with 1 Axes>"
      ]
     },
     "metadata": {
      "needs_background": "light"
     },
     "output_type": "display_data"
    }
   ],
   "source": [
    "# Столбчатая диаграмма по месяцам публикации\n",
    "sn.barplot(x=data['month'],y = data['last_price']);\n",
    "#sn.catplot(data=data, x=\"month\", kind=\"count\");"
   ]
  },
  {
   "cell_type": "markdown",
   "metadata": {},
   "source": [
    "Зависимости между стоимостью квартир и месяцем публикации объявления не наблюдается."
   ]
  },
  {
   "cell_type": "code",
   "execution_count": 25,
   "metadata": {},
   "outputs": [
    {
     "data": {
      "text/html": [
       "<div>\n",
       "<style scoped>\n",
       "    .dataframe tbody tr th:only-of-type {\n",
       "        vertical-align: middle;\n",
       "    }\n",
       "\n",
       "    .dataframe tbody tr th {\n",
       "        vertical-align: top;\n",
       "    }\n",
       "\n",
       "    .dataframe thead th {\n",
       "        text-align: right;\n",
       "    }\n",
       "</style>\n",
       "<table border=\"1\" class=\"dataframe\">\n",
       "  <thead>\n",
       "    <tr style=\"text-align: right;\">\n",
       "      <th></th>\n",
       "      <th>median_price_per_metr</th>\n",
       "      <th>count</th>\n",
       "    </tr>\n",
       "    <tr>\n",
       "      <th>locality_name</th>\n",
       "      <th></th>\n",
       "      <th></th>\n",
       "    </tr>\n",
       "  </thead>\n",
       "  <tbody>\n",
       "    <tr>\n",
       "      <th>Санкт-Петербург</th>\n",
       "      <td>104328.0</td>\n",
       "      <td>14345</td>\n",
       "    </tr>\n",
       "    <tr>\n",
       "      <th>поселок Мурино</th>\n",
       "      <td>85878.5</td>\n",
       "      <td>532</td>\n",
       "    </tr>\n",
       "    <tr>\n",
       "      <th>поселок Шушары</th>\n",
       "      <td>76829.0</td>\n",
       "      <td>423</td>\n",
       "    </tr>\n",
       "    <tr>\n",
       "      <th>Всеволожск</th>\n",
       "      <td>65737.5</td>\n",
       "      <td>376</td>\n",
       "    </tr>\n",
       "    <tr>\n",
       "      <th>Пушкин</th>\n",
       "      <td>99678.5</td>\n",
       "      <td>338</td>\n",
       "    </tr>\n",
       "    <tr>\n",
       "      <th>Колпино</th>\n",
       "      <td>74421.5</td>\n",
       "      <td>328</td>\n",
       "    </tr>\n",
       "    <tr>\n",
       "      <th>поселок Парголово</th>\n",
       "      <td>91429.0</td>\n",
       "      <td>317</td>\n",
       "    </tr>\n",
       "    <tr>\n",
       "      <th>Гатчина</th>\n",
       "      <td>67861.0</td>\n",
       "      <td>288</td>\n",
       "    </tr>\n",
       "    <tr>\n",
       "      <th>деревня Кудрово</th>\n",
       "      <td>92045.0</td>\n",
       "      <td>276</td>\n",
       "    </tr>\n",
       "    <tr>\n",
       "      <th>Выборг</th>\n",
       "      <td>57895.0</td>\n",
       "      <td>223</td>\n",
       "    </tr>\n",
       "  </tbody>\n",
       "</table>\n",
       "</div>"
      ],
      "text/plain": [
       "                   median_price_per_metr  count\n",
       "locality_name                                  \n",
       "Санкт-Петербург                 104328.0  14345\n",
       "поселок Мурино                   85878.5    532\n",
       "поселок Шушары                   76829.0    423\n",
       "Всеволожск                       65737.5    376\n",
       "Пушкин                           99678.5    338\n",
       "Колпино                          74421.5    328\n",
       "поселок Парголово                91429.0    317\n",
       "Гатчина                          67861.0    288\n",
       "деревня Кудрово                  92045.0    276\n",
       "Выборг                           57895.0    223"
      ]
     },
     "execution_count": 25,
     "metadata": {},
     "output_type": "execute_result"
    }
   ],
   "source": [
    "### Посчитаем среднюю цену одного квадратного метра в 10 населённых пунктах с наибольшим числом объявлений\n",
    "grouped = data.pivot_table(index='locality_name', values='price_per_metr',aggfunc = ['median', 'count'])\n",
    "grouped.columns=['median_price_per_metr','count']\n",
    "grouped.sort_values(by = 'count', ascending = False, inplace = True)\n",
    "grouped_table = grouped.head(10)\n",
    "grouped_table"
   ]
  },
  {
   "cell_type": "code",
   "execution_count": 26,
   "metadata": {
    "scrolled": true
   },
   "outputs": [],
   "source": [
    "### Населённые пункты с самой высокой стоимостью квадратного метра\n",
    "# grouped.sort_values(by = 'median_price_per_metr', ascending = False, inplace = True)\n",
    "# grouped.head(3)"
   ]
  },
  {
   "cell_type": "code",
   "execution_count": 27,
   "metadata": {},
   "outputs": [],
   "source": [
    "### Населённые пункты с самой низкой стоимостью квадратного метра\n",
    "# grouped.sort_values(by = 'median_price_per_metr', ascending = True, inplace = True)\n",
    "# grouped.head(3)"
   ]
  },
  {
   "cell_type": "code",
   "execution_count": 28,
   "metadata": {},
   "outputs": [
    {
     "data": {
      "text/html": [
       "<div>\n",
       "<style scoped>\n",
       "    .dataframe tbody tr th:only-of-type {\n",
       "        vertical-align: middle;\n",
       "    }\n",
       "\n",
       "    .dataframe tbody tr th {\n",
       "        vertical-align: top;\n",
       "    }\n",
       "\n",
       "    .dataframe thead th {\n",
       "        text-align: right;\n",
       "    }\n",
       "</style>\n",
       "<table border=\"1\" class=\"dataframe\">\n",
       "  <thead>\n",
       "    <tr style=\"text-align: right;\">\n",
       "      <th></th>\n",
       "      <th>median_price_per_metr</th>\n",
       "      <th>count</th>\n",
       "    </tr>\n",
       "    <tr>\n",
       "      <th>locality_name</th>\n",
       "      <th></th>\n",
       "      <th></th>\n",
       "    </tr>\n",
       "  </thead>\n",
       "  <tbody>\n",
       "    <tr>\n",
       "      <th>Санкт-Петербург</th>\n",
       "      <td>104328.0</td>\n",
       "      <td>14345</td>\n",
       "    </tr>\n",
       "    <tr>\n",
       "      <th>поселок Мурино</th>\n",
       "      <td>85878.5</td>\n",
       "      <td>532</td>\n",
       "    </tr>\n",
       "    <tr>\n",
       "      <th>поселок Шушары</th>\n",
       "      <td>76829.0</td>\n",
       "      <td>423</td>\n",
       "    </tr>\n",
       "  </tbody>\n",
       "</table>\n",
       "</div>"
      ],
      "text/plain": [
       "                 median_price_per_metr  count\n",
       "locality_name                                \n",
       "Санкт-Петербург               104328.0  14345\n",
       "поселок Мурино                 85878.5    532\n",
       "поселок Шушары                 76829.0    423"
      ]
     },
     "execution_count": 28,
     "metadata": {},
     "output_type": "execute_result"
    }
   ],
   "source": [
    "### Населённые пункты с самой высокой стоимостью квадратного метра\n",
    "grouped_table.sort_values(by = 'median_price_per_metr', ascending = False)\n",
    "grouped_table.head(3)"
   ]
  },
  {
   "cell_type": "code",
   "execution_count": 29,
   "metadata": {
    "scrolled": true
   },
   "outputs": [
    {
     "name": "stderr",
     "output_type": "stream",
     "text": [
      "/tmp/ipykernel_1043/1574631502.py:2: SettingWithCopyWarning: \n",
      "A value is trying to be set on a copy of a slice from a DataFrame\n",
      "\n",
      "See the caveats in the documentation: https://pandas.pydata.org/pandas-docs/stable/user_guide/indexing.html#returning-a-view-versus-a-copy\n",
      "  grouped_table.sort_values(by = 'median_price_per_metr', ascending = True,inplace = True)\n"
     ]
    },
    {
     "data": {
      "text/html": [
       "<div>\n",
       "<style scoped>\n",
       "    .dataframe tbody tr th:only-of-type {\n",
       "        vertical-align: middle;\n",
       "    }\n",
       "\n",
       "    .dataframe tbody tr th {\n",
       "        vertical-align: top;\n",
       "    }\n",
       "\n",
       "    .dataframe thead th {\n",
       "        text-align: right;\n",
       "    }\n",
       "</style>\n",
       "<table border=\"1\" class=\"dataframe\">\n",
       "  <thead>\n",
       "    <tr style=\"text-align: right;\">\n",
       "      <th></th>\n",
       "      <th>median_price_per_metr</th>\n",
       "      <th>count</th>\n",
       "    </tr>\n",
       "    <tr>\n",
       "      <th>locality_name</th>\n",
       "      <th></th>\n",
       "      <th></th>\n",
       "    </tr>\n",
       "  </thead>\n",
       "  <tbody>\n",
       "    <tr>\n",
       "      <th>Выборг</th>\n",
       "      <td>57895.0</td>\n",
       "      <td>223</td>\n",
       "    </tr>\n",
       "    <tr>\n",
       "      <th>Всеволожск</th>\n",
       "      <td>65737.5</td>\n",
       "      <td>376</td>\n",
       "    </tr>\n",
       "    <tr>\n",
       "      <th>Гатчина</th>\n",
       "      <td>67861.0</td>\n",
       "      <td>288</td>\n",
       "    </tr>\n",
       "  </tbody>\n",
       "</table>\n",
       "</div>"
      ],
      "text/plain": [
       "               median_price_per_metr  count\n",
       "locality_name                              \n",
       "Выборг                       57895.0    223\n",
       "Всеволожск                   65737.5    376\n",
       "Гатчина                      67861.0    288"
      ]
     },
     "execution_count": 29,
     "metadata": {},
     "output_type": "execute_result"
    }
   ],
   "source": [
    "### Населённые пункты с самой низкой стоимостью квадратного метра\n",
    "grouped_table.sort_values(by = 'median_price_per_metr', ascending = True,inplace = True)\n",
    "grouped_table.head(3)"
   ]
  },
  {
   "cell_type": "code",
   "execution_count": 30,
   "metadata": {},
   "outputs": [
    {
     "name": "stdout",
     "output_type": "stream",
     "text": [
      "Средняя цена каждого километра до центра в Санкт-Петербурге: 965379\n"
     ]
    }
   ],
   "source": [
    "### Зависимость стоимости объектов от расстояния до центра города в Санкт-Петербурге\n",
    "peter = data[data['locality_name']=='Санкт-Петербург'] # выбрали все объявления в Санкт-Петербурге\n",
    "peter=peter.dropna(subset=['cityCenter']) #удаляем строки с пустыми cityCenter\n",
    "peter = peter[~(peter['cityCenter']==0)] #убрали нули в cityCenter\n",
    "peter['price_per_km'] = round(peter['last_price']/peter['cityCenter']) # цена за 1 км\n",
    "print('Средняя цена каждого километра до центра в Санкт-Петербурге:', round(peter['price_per_km'].mean())) # средняя стоимость 1 км "
   ]
  },
  {
   "cell_type": "code",
   "execution_count": 31,
   "metadata": {
    "scrolled": true
   },
   "outputs": [
    {
     "name": "stdout",
     "output_type": "stream",
     "text": [
      "-0.34022138327383633\n",
      "0.5607613890456796\n"
     ]
    },
    {
     "data": {
      "image/png": "[encoded data removed]",
      "text/plain": [
       "<Figure size 432x288 with 1 Axes>"
      ]
     },
     "metadata": {
      "needs_background": "light"
     },
     "output_type": "display_data"
    },
    {
     "data": {
      "image/png": "[encoded data removed]",
      "text/plain": [
       "<Figure size 432x288 with 1 Axes>"
      ]
     },
     "metadata": {
      "needs_background": "light"
     },
     "output_type": "display_data"
    }
   ],
   "source": [
    "peter.plot.scatter(x='price_per_metr', y='cityCenter')\n",
    "peter.plot.scatter(x='price_per_metr', y='price_per_km')\n",
    "print(peter['price_per_metr'].corr(peter['cityCenter'])) # коэф корреляции между ценой за метр и растоянием до центра\n",
    "print(peter['price_per_metr'].corr(peter['price_per_km'])) # коэф корреляции между ценой за метр и ценой за км "
   ]
  },
  {
   "cell_type": "markdown",
   "metadata": {},
   "source": [
    "Можно предположить, что между стоимостью квадратного метра квартиры и стоимостью километра от центра есть небольшая прямая зависимость. Чем выше стоимость квартиры, тем выше стоимость за км до центра, то есть чем ближе квартира к центру,тем дороже ее стоимость. Коэфициент корреляции 0,56."
   ]
  },
  {
   "cell_type": "code",
   "execution_count": 32,
   "metadata": {},
   "outputs": [
    {
     "data": {
      "text/plain": [
       "<AxesSubplot:xlabel='cityCenter'>"
      ]
     },
     "execution_count": 32,
     "metadata": {},
     "output_type": "execute_result"
    },
    {
     "data": {
      "image/png": "[encoded data removed]",
      "text/plain": [
       "<Figure size 432x288 with 1 Axes>"
      ]
     },
     "metadata": {
      "needs_background": "light"
     },
     "output_type": "display_data"
    }
   ],
   "source": [
    "peter.pivot_table(index='cityCenter', values='last_price',aggfunc = ['mean']).plot()"
   ]
  },
  {
   "cell_type": "markdown",
   "metadata": {},
   "source": [
    "Из графика видно, что в основном чем меньше километров до центра города, тем выше цена. Присутсвует небольшое отклонение между 25 и 30 км, однако общая тенеденция уменьшения стоимости недвижимости удаляясь от центра города сохраняется."
   ]
  },
  {
   "cell_type": "markdown",
   "metadata": {},
   "source": [
    "### Общий вывод"
   ]
  },
  {
   "cell_type": "markdown",
   "metadata": {},
   "source": [
    "Перед началом исследования изучив структуру данных и список колонок, где были пропуски, были убраны и заменены пустые значения (8% строк датасета), убраны явные и неявные дубликаты, а также убраны выбросы и устранены аномалии в очевидных показателях. После обработки архива объявлений за 2014-2019 гола о продаже квартир в Санкт-Петербурге и соседних населённых пунктах осталось 21801 строка (вместо 23699).\n",
    "\n",
    "Во время исследовательского анализа были построены гистограмы, а также расчитаны основные описательные сттистики по каждому, интересуещему нам показателю. Было выявлено следующее:\n",
    "* Средняя площадь всех объявлений составила 32,4 квадратов.\n",
    "* Чаще встречаются однокомнатные и двухкомнатные квартиры.\n",
    "* Более распростарнена высота потолоков 2,5 и 2,7 метров.\n",
    "* Основная часть недвижимости находится на 1-7 этажах.\n",
    "* Первый этаж встрчается в 12,3% объявлений, в то время как последний в 19%.\n",
    "* Расстояние до парков в среднем около 500 метров, до аэропорта — 20-30 км, до центра города — менее 13 км.\n",
    "* Меньше всего объявлений было опубликовано в воскресенье (7%), больше всего в четверг (18%).\n",
    "* Больше всего объявлений было опубликовано в феврале, меньше всего — в мае и в январе.\n",
    "* Основная часть объявлений была закрыта за 138 дней.\n",
    "* Больше всего на стоимость жилья влияет площадь квартиры (в том числе жилая площадь и плоащдь кухни) и кол-во комнат. Дальность от центра также влияет на стоимость, но слабее чем предыдущие факторы.\n",
    "* Наиболее дорогая недвижимость находится на 3-8 этажах.\n",
    "* Больше всего недвижимости продвалось в Санкт-Петерубурге, поселке Мурино и в поселке Шушары.\n",
    "* Самую высокую стоимость за 1 квадратный метр среди топ-10 по кол-ву объявлений имеют населенные пункты: Санкт-Петерубург (104257,5 руб/м), поселок Мурино (85878,5 руб/м), поселок Шушары (76829,5 руб/м).\n",
    "* Самую низкую стоимость за 1 квадратный метр среди топ-10 по кол-ву объявлений имеют населенные пункты: Выборг (57895 руб/м), Всеволжск (65737,5 руб/м), Гатчина (67861 руб/м).\n",
    "* Чем дальше недвижимость от центра Санкт-Петербурга, тем выше ее стоимость.\n",
    "\n",
    "В дальнейшем хотелось бы более глубоко изучить данные и взаимосвязи, но уже на актуальных данных. Сфера недвижимости меняется очень быстро, особенно в экономически нестабильной ситуации, в которой находится сейчас РФ, поэтому данные за 2014-2019 года уже устарели и опираться на них для каких-либо бизнес-решений нерелеватно."
   ]
  }
 ],
 "metadata": {
  "ExecuteTimeLog": [
   {
    "duration": 1271,
    "start_time": "2022-11-12T17:24:29.959Z"
   },
   {
    "duration": 0,
    "start_time": "2022-11-12T17:24:31.233Z"
   },
   {
    "duration": 0,
    "start_time": "2022-11-12T17:24:31.235Z"
   },
   {
    "duration": 0,
    "start_time": "2022-11-12T17:24:31.237Z"
   },
   {
    "duration": 0,
    "start_time": "2022-11-12T17:24:31.238Z"
   },
   {
    "duration": 0,
    "start_time": "2022-11-12T17:24:31.239Z"
   },
   {
    "duration": 0,
    "start_time": "2022-11-12T17:24:31.240Z"
   },
   {
    "duration": 0,
    "start_time": "2022-11-12T17:24:31.242Z"
   },
   {
    "duration": 0,
    "start_time": "2022-11-12T17:24:31.243Z"
   },
   {
    "duration": 0,
    "start_time": "2022-11-12T17:24:31.245Z"
   },
   {
    "duration": 0,
    "start_time": "2022-11-12T17:24:31.246Z"
   },
   {
    "duration": 0,
    "start_time": "2022-11-12T17:24:31.247Z"
   },
   {
    "duration": 0,
    "start_time": "2022-11-12T17:24:31.249Z"
   },
   {
    "duration": 0,
    "start_time": "2022-11-12T17:24:31.252Z"
   },
   {
    "duration": 0,
    "start_time": "2022-11-12T17:24:31.253Z"
   },
   {
    "duration": 0,
    "start_time": "2022-11-12T17:24:31.254Z"
   },
   {
    "duration": 0,
    "start_time": "2022-11-12T17:24:31.255Z"
   },
   {
    "duration": 0,
    "start_time": "2022-11-12T17:24:31.256Z"
   },
   {
    "duration": 0,
    "start_time": "2022-11-12T17:24:31.257Z"
   },
   {
    "duration": 0,
    "start_time": "2022-11-12T17:24:31.258Z"
   },
   {
    "duration": 0,
    "start_time": "2022-11-12T17:24:31.258Z"
   },
   {
    "duration": 126,
    "start_time": "2022-11-12T17:26:59.028Z"
   },
   {
    "duration": 1289,
    "start_time": "2022-11-12T17:28:14.710Z"
   },
   {
    "duration": 1945,
    "start_time": "2022-11-12T17:28:16.002Z"
   },
   {
    "duration": 108,
    "start_time": "2022-11-12T17:28:17.949Z"
   },
   {
    "duration": 19,
    "start_time": "2022-11-12T17:28:18.060Z"
   },
   {
    "duration": 17,
    "start_time": "2022-11-12T17:28:18.081Z"
   },
   {
    "duration": 58,
    "start_time": "2022-11-12T17:28:18.100Z"
   },
   {
    "duration": 389,
    "start_time": "2022-11-12T17:28:18.160Z"
   },
   {
    "duration": 257,
    "start_time": "2022-11-12T17:28:18.550Z"
   },
   {
    "duration": 27,
    "start_time": "2022-11-12T17:28:18.808Z"
   },
   {
    "duration": 2410,
    "start_time": "2022-11-12T17:28:18.838Z"
   },
   {
    "duration": 129,
    "start_time": "2022-11-12T17:28:21.250Z"
   },
   {
    "duration": 160,
    "start_time": "2022-11-12T17:28:21.380Z"
   },
   {
    "duration": 127,
    "start_time": "2022-11-12T17:28:21.541Z"
   },
   {
    "duration": 196,
    "start_time": "2022-11-12T17:28:21.670Z"
   },
   {
    "duration": 22,
    "start_time": "2022-11-12T17:28:21.868Z"
   },
   {
    "duration": 1424,
    "start_time": "2022-11-12T17:28:21.891Z"
   },
   {
    "duration": 32,
    "start_time": "2022-11-12T17:28:23.317Z"
   },
   {
    "duration": 8,
    "start_time": "2022-11-12T17:28:23.351Z"
   },
   {
    "duration": 11,
    "start_time": "2022-11-12T17:28:23.361Z"
   },
   {
    "duration": 19,
    "start_time": "2022-11-12T17:28:23.374Z"
   },
   {
    "duration": 325,
    "start_time": "2022-11-12T17:28:23.394Z"
   },
   {
    "duration": 1421,
    "start_time": "2022-11-13T14:59:01.193Z"
   },
   {
    "duration": 95,
    "start_time": "2022-11-13T15:03:29.522Z"
   },
   {
    "duration": 72,
    "start_time": "2022-11-13T15:03:35.055Z"
   },
   {
    "duration": 75,
    "start_time": "2022-11-13T15:03:55.407Z"
   },
   {
    "duration": 69,
    "start_time": "2022-11-13T15:04:57.857Z"
   },
   {
    "duration": 74,
    "start_time": "2022-11-13T15:05:01.296Z"
   },
   {
    "duration": 150,
    "start_time": "2022-11-13T15:05:02.615Z"
   },
   {
    "duration": 1071,
    "start_time": "2022-11-13T15:09:01.427Z"
   },
   {
    "duration": 5,
    "start_time": "2022-11-13T15:09:10.246Z"
   },
   {
    "duration": 149,
    "start_time": "2022-11-13T15:20:41.103Z"
   },
   {
    "duration": 5,
    "start_time": "2022-11-13T15:20:42.730Z"
   },
   {
    "duration": 3,
    "start_time": "2022-11-13T15:25:57.593Z"
   },
   {
    "duration": 71,
    "start_time": "2022-11-13T15:28:18.316Z"
   },
   {
    "duration": 66,
    "start_time": "2022-11-13T15:28:27.163Z"
   },
   {
    "duration": 69,
    "start_time": "2022-11-13T15:28:41.974Z"
   },
   {
    "duration": 84,
    "start_time": "2022-11-13T15:30:13.348Z"
   },
   {
    "duration": 107,
    "start_time": "2022-11-13T15:30:24.782Z"
   },
   {
    "duration": 39,
    "start_time": "2022-11-13T15:30:32.336Z"
   },
   {
    "duration": 8,
    "start_time": "2022-11-13T15:31:05.980Z"
   },
   {
    "duration": 7,
    "start_time": "2022-11-13T15:31:07.792Z"
   },
   {
    "duration": 2,
    "start_time": "2022-11-13T15:32:00.380Z"
   },
   {
    "duration": 3,
    "start_time": "2022-11-13T15:32:01.527Z"
   },
   {
    "duration": 3,
    "start_time": "2022-11-13T15:32:18.410Z"
   },
   {
    "duration": 1870,
    "start_time": "2022-11-13T15:32:58.167Z"
   },
   {
    "duration": 124,
    "start_time": "2022-11-13T15:35:08.134Z"
   },
   {
    "duration": 96,
    "start_time": "2022-11-13T15:35:53.170Z"
   },
   {
    "duration": 14,
    "start_time": "2022-11-13T15:35:55.456Z"
   },
   {
    "duration": 13,
    "start_time": "2022-11-13T15:36:08.182Z"
   },
   {
    "duration": 15,
    "start_time": "2022-11-13T15:36:14.585Z"
   },
   {
    "duration": 13,
    "start_time": "2022-11-13T15:36:17.085Z"
   },
   {
    "duration": 13,
    "start_time": "2022-11-13T15:36:20.908Z"
   },
   {
    "duration": 13,
    "start_time": "2022-11-13T15:36:24.580Z"
   },
   {
    "duration": 13,
    "start_time": "2022-11-13T15:36:33.206Z"
   },
   {
    "duration": 16,
    "start_time": "2022-11-13T15:36:52.102Z"
   },
   {
    "duration": 15,
    "start_time": "2022-11-13T15:37:03.943Z"
   },
   {
    "duration": 14,
    "start_time": "2022-11-13T16:04:49.242Z"
   },
   {
    "duration": 5,
    "start_time": "2022-11-13T16:13:26.964Z"
   },
   {
    "duration": 5,
    "start_time": "2022-11-13T16:14:08.273Z"
   },
   {
    "duration": 7,
    "start_time": "2022-11-13T16:16:47.892Z"
   },
   {
    "duration": 8,
    "start_time": "2022-11-13T16:17:42.864Z"
   },
   {
    "duration": 4,
    "start_time": "2022-11-13T16:20:08.651Z"
   },
   {
    "duration": 6,
    "start_time": "2022-11-13T16:20:15.107Z"
   },
   {
    "duration": 6,
    "start_time": "2022-11-13T16:21:38.563Z"
   },
   {
    "duration": 5,
    "start_time": "2022-11-13T16:22:10.757Z"
   },
   {
    "duration": 1113,
    "start_time": "2022-11-13T16:23:10.891Z"
   },
   {
    "duration": 109,
    "start_time": "2022-11-13T16:23:12.006Z"
   },
   {
    "duration": 2,
    "start_time": "2022-11-13T16:23:12.117Z"
   },
   {
    "duration": 1716,
    "start_time": "2022-11-13T16:23:12.121Z"
   },
   {
    "duration": 98,
    "start_time": "2022-11-13T16:23:13.839Z"
   },
   {
    "duration": 50,
    "start_time": "2022-11-13T16:23:13.939Z"
   },
   {
    "duration": 26,
    "start_time": "2022-11-13T16:23:13.991Z"
   },
   {
    "duration": 9,
    "start_time": "2022-11-13T16:23:14.018Z"
   },
   {
    "duration": 38,
    "start_time": "2022-11-13T16:23:14.029Z"
   },
   {
    "duration": 344,
    "start_time": "2022-11-13T16:23:14.069Z"
   },
   {
    "duration": 217,
    "start_time": "2022-11-13T16:23:14.414Z"
   },
   {
    "duration": 21,
    "start_time": "2022-11-13T16:23:14.632Z"
   },
   {
    "duration": 2115,
    "start_time": "2022-11-13T16:23:14.656Z"
   },
   {
    "duration": 111,
    "start_time": "2022-11-13T16:23:16.773Z"
   },
   {
    "duration": 147,
    "start_time": "2022-11-13T16:23:16.885Z"
   },
   {
    "duration": 121,
    "start_time": "2022-11-13T16:23:17.034Z"
   },
   {
    "duration": 185,
    "start_time": "2022-11-13T16:23:17.156Z"
   },
   {
    "duration": 21,
    "start_time": "2022-11-13T16:23:17.342Z"
   },
   {
    "duration": 1486,
    "start_time": "2022-11-13T16:23:17.365Z"
   },
   {
    "duration": 23,
    "start_time": "2022-11-13T16:23:18.855Z"
   },
   {
    "duration": 8,
    "start_time": "2022-11-13T16:23:18.880Z"
   },
   {
    "duration": 25,
    "start_time": "2022-11-13T16:23:18.889Z"
   },
   {
    "duration": 15,
    "start_time": "2022-11-13T16:23:18.916Z"
   },
   {
    "duration": 320,
    "start_time": "2022-11-13T16:23:18.933Z"
   },
   {
    "duration": 16,
    "start_time": "2022-11-13T16:23:34.235Z"
   },
   {
    "duration": 15,
    "start_time": "2022-11-13T16:23:50.724Z"
   },
   {
    "duration": 6,
    "start_time": "2022-11-13T16:24:51.428Z"
   },
   {
    "duration": 7,
    "start_time": "2022-11-13T16:24:55.409Z"
   },
   {
    "duration": 6,
    "start_time": "2022-11-13T16:24:57.204Z"
   },
   {
    "duration": 52,
    "start_time": "2022-11-13T16:26:03.475Z"
   },
   {
    "duration": 3,
    "start_time": "2022-11-13T16:27:58.244Z"
   },
   {
    "duration": 89,
    "start_time": "2022-11-13T16:28:36.064Z"
   },
   {
    "duration": 3,
    "start_time": "2022-11-13T16:28:40.084Z"
   },
   {
    "duration": 76,
    "start_time": "2022-11-13T16:28:50.736Z"
   },
   {
    "duration": 3,
    "start_time": "2022-11-13T16:30:33.628Z"
   },
   {
    "duration": 104,
    "start_time": "2022-11-13T16:30:34.213Z"
   },
   {
    "duration": 4,
    "start_time": "2022-11-13T16:30:49.337Z"
   },
   {
    "duration": 3,
    "start_time": "2022-11-13T16:31:39.109Z"
   },
   {
    "duration": 121,
    "start_time": "2022-11-13T16:31:39.411Z"
   },
   {
    "duration": 2,
    "start_time": "2022-11-13T16:31:39.909Z"
   },
   {
    "duration": 1700,
    "start_time": "2022-11-13T16:31:40.634Z"
   },
   {
    "duration": 15,
    "start_time": "2022-11-13T16:31:43.170Z"
   },
   {
    "duration": 122,
    "start_time": "2022-11-13T16:31:43.491Z"
   },
   {
    "duration": 16,
    "start_time": "2022-11-13T16:31:49.477Z"
   },
   {
    "duration": 9,
    "start_time": "2022-11-13T16:31:49.919Z"
   },
   {
    "duration": 50,
    "start_time": "2022-11-13T16:31:53.504Z"
   },
   {
    "duration": 345,
    "start_time": "2022-11-13T16:32:00.942Z"
   },
   {
    "duration": 3,
    "start_time": "2022-11-13T16:32:01.289Z"
   },
   {
    "duration": 3,
    "start_time": "2022-11-13T16:32:30.055Z"
   },
   {
    "duration": 3,
    "start_time": "2022-11-13T16:32:36.250Z"
   },
   {
    "duration": 4,
    "start_time": "2022-11-13T16:32:47.374Z"
   },
   {
    "duration": 4,
    "start_time": "2022-11-13T16:32:52.782Z"
   },
   {
    "duration": 3,
    "start_time": "2022-11-13T16:33:03.111Z"
   },
   {
    "duration": 4,
    "start_time": "2022-11-13T16:33:15.939Z"
   },
   {
    "duration": 114,
    "start_time": "2022-11-13T16:40:14.521Z"
   },
   {
    "duration": 8,
    "start_time": "2022-11-13T16:41:08.250Z"
   },
   {
    "duration": 1125,
    "start_time": "2022-11-13T16:41:14.401Z"
   },
   {
    "duration": 42,
    "start_time": "2022-11-13T16:41:28.549Z"
   },
   {
    "duration": 4,
    "start_time": "2022-11-13T16:41:44.270Z"
   },
   {
    "duration": 1121,
    "start_time": "2022-11-13T16:42:10.397Z"
   },
   {
    "duration": 114,
    "start_time": "2022-11-13T16:42:11.520Z"
   },
   {
    "duration": 2,
    "start_time": "2022-11-13T16:42:11.636Z"
   },
   {
    "duration": 1773,
    "start_time": "2022-11-13T16:42:11.640Z"
   },
   {
    "duration": 100,
    "start_time": "2022-11-13T16:42:13.414Z"
   },
   {
    "duration": 48,
    "start_time": "2022-11-13T16:42:13.516Z"
   },
   {
    "duration": 19,
    "start_time": "2022-11-13T16:42:13.566Z"
   },
   {
    "duration": 32,
    "start_time": "2022-11-13T16:42:13.587Z"
   },
   {
    "duration": 50,
    "start_time": "2022-11-13T16:42:13.621Z"
   },
   {
    "duration": 369,
    "start_time": "2022-11-13T16:42:13.674Z"
   },
   {
    "duration": 3,
    "start_time": "2022-11-13T16:42:14.045Z"
   },
   {
    "duration": 225,
    "start_time": "2022-11-13T16:42:14.050Z"
   },
   {
    "duration": 22,
    "start_time": "2022-11-13T16:42:14.277Z"
   },
   {
    "duration": 2275,
    "start_time": "2022-11-13T16:42:14.301Z"
   },
   {
    "duration": 113,
    "start_time": "2022-11-13T16:42:16.577Z"
   },
   {
    "duration": 139,
    "start_time": "2022-11-13T16:42:16.693Z"
   },
   {
    "duration": 143,
    "start_time": "2022-11-13T16:42:16.833Z"
   },
   {
    "duration": 186,
    "start_time": "2022-11-13T16:42:16.978Z"
   },
   {
    "duration": 23,
    "start_time": "2022-11-13T16:42:17.165Z"
   },
   {
    "duration": 1443,
    "start_time": "2022-11-13T16:42:17.189Z"
   },
   {
    "duration": 4,
    "start_time": "2022-11-13T16:42:18.633Z"
   },
   {
    "duration": 115,
    "start_time": "2022-11-13T16:42:18.638Z"
   },
   {
    "duration": 0,
    "start_time": "2022-11-13T16:42:18.755Z"
   },
   {
    "duration": 0,
    "start_time": "2022-11-13T16:42:18.756Z"
   },
   {
    "duration": 0,
    "start_time": "2022-11-13T16:42:18.758Z"
   },
   {
    "duration": 0,
    "start_time": "2022-11-13T16:42:18.759Z"
   },
   {
    "duration": 0,
    "start_time": "2022-11-13T16:42:18.761Z"
   },
   {
    "duration": 18,
    "start_time": "2022-11-13T16:47:29.400Z"
   },
   {
    "duration": 10,
    "start_time": "2022-11-13T16:47:43.748Z"
   },
   {
    "duration": 114,
    "start_time": "2022-11-13T16:48:18.733Z"
   },
   {
    "duration": 109,
    "start_time": "2022-11-13T16:48:25.804Z"
   },
   {
    "duration": 126,
    "start_time": "2022-11-13T16:48:54.554Z"
   },
   {
    "duration": 9,
    "start_time": "2022-11-13T16:49:04.838Z"
   },
   {
    "duration": 98,
    "start_time": "2022-11-13T16:49:09.602Z"
   },
   {
    "duration": 10,
    "start_time": "2022-11-13T16:49:44.823Z"
   },
   {
    "duration": 9,
    "start_time": "2022-11-13T16:50:31.720Z"
   },
   {
    "duration": 8,
    "start_time": "2022-11-13T16:50:35.561Z"
   },
   {
    "duration": 397,
    "start_time": "2022-11-13T16:50:43.188Z"
   },
   {
    "duration": 17,
    "start_time": "2022-11-13T16:50:59.152Z"
   },
   {
    "duration": 13,
    "start_time": "2022-11-13T16:51:07.338Z"
   },
   {
    "duration": 454,
    "start_time": "2022-11-13T16:51:42.660Z"
   },
   {
    "duration": 437,
    "start_time": "2022-11-13T16:51:58.213Z"
   },
   {
    "duration": 30285,
    "start_time": "2022-11-13T16:56:14.572Z"
   },
   {
    "duration": 14,
    "start_time": "2022-11-13T16:56:53.682Z"
   },
   {
    "duration": 368,
    "start_time": "2022-11-13T16:56:59.502Z"
   },
   {
    "duration": 362,
    "start_time": "2022-11-13T16:59:24.374Z"
   },
   {
    "duration": 1204,
    "start_time": "2022-11-13T16:59:32.959Z"
   },
   {
    "duration": 355,
    "start_time": "2022-11-13T16:59:49.939Z"
   },
   {
    "duration": 318,
    "start_time": "2022-11-13T17:00:55.602Z"
   },
   {
    "duration": 262,
    "start_time": "2022-11-13T17:01:00.288Z"
   },
   {
    "duration": 245,
    "start_time": "2022-11-13T17:01:28.853Z"
   },
   {
    "duration": 298,
    "start_time": "2022-11-13T17:01:42.317Z"
   },
   {
    "duration": 278,
    "start_time": "2022-11-13T17:02:49.023Z"
   },
   {
    "duration": 324,
    "start_time": "2022-11-13T17:03:44.295Z"
   },
   {
    "duration": 325,
    "start_time": "2022-11-13T17:03:50.637Z"
   },
   {
    "duration": 1018,
    "start_time": "2022-11-13T17:04:48.700Z"
   },
   {
    "duration": 260,
    "start_time": "2022-11-13T17:05:46.092Z"
   },
   {
    "duration": 366,
    "start_time": "2022-11-13T17:05:49.936Z"
   },
   {
    "duration": 319,
    "start_time": "2022-11-13T17:05:53.922Z"
   },
   {
    "duration": 1135,
    "start_time": "2022-11-13T17:05:58.805Z"
   },
   {
    "duration": 441,
    "start_time": "2022-11-13T17:06:09.257Z"
   },
   {
    "duration": 569,
    "start_time": "2022-11-13T17:06:32.393Z"
   },
   {
    "duration": 270,
    "start_time": "2022-11-13T17:06:42.750Z"
   },
   {
    "duration": 23,
    "start_time": "2022-11-13T17:07:09.086Z"
   },
   {
    "duration": 1139,
    "start_time": "2022-11-13T17:07:17.093Z"
   },
   {
    "duration": 124,
    "start_time": "2022-11-13T17:07:18.233Z"
   },
   {
    "duration": 4,
    "start_time": "2022-11-13T17:07:18.359Z"
   },
   {
    "duration": 1927,
    "start_time": "2022-11-13T17:07:18.366Z"
   },
   {
    "duration": 119,
    "start_time": "2022-11-13T17:07:20.296Z"
   },
   {
    "duration": 62,
    "start_time": "2022-11-13T17:07:20.418Z"
   },
   {
    "duration": 35,
    "start_time": "2022-11-13T17:07:20.482Z"
   },
   {
    "duration": 10,
    "start_time": "2022-11-13T17:07:20.519Z"
   },
   {
    "duration": 51,
    "start_time": "2022-11-13T17:07:20.531Z"
   },
   {
    "duration": 374,
    "start_time": "2022-11-13T17:07:20.585Z"
   },
   {
    "duration": 7,
    "start_time": "2022-11-13T17:07:20.961Z"
   },
   {
    "duration": 225,
    "start_time": "2022-11-13T17:07:20.970Z"
   },
   {
    "duration": 26,
    "start_time": "2022-11-13T17:07:21.197Z"
   },
   {
    "duration": 2263,
    "start_time": "2022-11-13T17:07:21.225Z"
   },
   {
    "duration": 115,
    "start_time": "2022-11-13T17:07:23.490Z"
   },
   {
    "duration": 138,
    "start_time": "2022-11-13T17:07:23.612Z"
   },
   {
    "duration": 129,
    "start_time": "2022-11-13T17:07:23.752Z"
   },
   {
    "duration": 181,
    "start_time": "2022-11-13T17:07:23.883Z"
   },
   {
    "duration": 22,
    "start_time": "2022-11-13T17:07:24.066Z"
   },
   {
    "duration": 1477,
    "start_time": "2022-11-13T17:07:24.090Z"
   },
   {
    "duration": 274,
    "start_time": "2022-11-13T17:07:25.569Z"
   },
   {
    "duration": 369,
    "start_time": "2022-11-13T17:07:25.845Z"
   },
   {
    "duration": 341,
    "start_time": "2022-11-13T17:07:26.216Z"
   },
   {
    "duration": 469,
    "start_time": "2022-11-13T17:07:26.558Z"
   },
   {
    "duration": 22,
    "start_time": "2022-11-13T17:07:27.029Z"
   },
   {
    "duration": 8,
    "start_time": "2022-11-13T17:07:27.052Z"
   },
   {
    "duration": 9,
    "start_time": "2022-11-13T17:07:27.061Z"
   },
   {
    "duration": 14,
    "start_time": "2022-11-13T17:07:27.073Z"
   },
   {
    "duration": 309,
    "start_time": "2022-11-13T17:07:27.113Z"
   },
   {
    "duration": 2,
    "start_time": "2022-11-13T17:08:35.399Z"
   },
   {
    "duration": 2,
    "start_time": "2022-11-13T17:08:35.834Z"
   },
   {
    "duration": 37,
    "start_time": "2022-11-13T17:10:15.324Z"
   },
   {
    "duration": 3,
    "start_time": "2022-11-13T17:10:21.881Z"
   },
   {
    "duration": 2,
    "start_time": "2022-11-13T17:10:28.406Z"
   },
   {
    "duration": 2,
    "start_time": "2022-11-13T17:10:37.308Z"
   },
   {
    "duration": 23,
    "start_time": "2022-11-13T17:10:42.097Z"
   },
   {
    "duration": 2,
    "start_time": "2022-11-13T17:10:45.567Z"
   },
   {
    "duration": 39,
    "start_time": "2022-11-13T17:10:49.466Z"
   },
   {
    "duration": 2,
    "start_time": "2022-11-13T17:10:51.708Z"
   },
   {
    "duration": 2,
    "start_time": "2022-11-13T17:10:53.966Z"
   },
   {
    "duration": 4,
    "start_time": "2022-11-13T17:11:19.064Z"
   },
   {
    "duration": 5,
    "start_time": "2022-11-13T17:11:22.935Z"
   },
   {
    "duration": 4,
    "start_time": "2022-11-13T17:11:25.257Z"
   },
   {
    "duration": 10,
    "start_time": "2022-11-13T17:11:28.176Z"
   },
   {
    "duration": 8,
    "start_time": "2022-11-13T17:11:43.427Z"
   },
   {
    "duration": 10,
    "start_time": "2022-11-13T17:11:56.349Z"
   },
   {
    "duration": 23,
    "start_time": "2022-11-13T17:12:55.296Z"
   },
   {
    "duration": 96,
    "start_time": "2022-11-13T17:13:41.597Z"
   },
   {
    "duration": 4,
    "start_time": "2022-11-13T17:13:49.038Z"
   },
   {
    "duration": 4,
    "start_time": "2022-11-13T17:14:18.103Z"
   },
   {
    "duration": 9,
    "start_time": "2022-11-13T17:14:23.306Z"
   },
   {
    "duration": 3,
    "start_time": "2022-11-13T17:16:49.978Z"
   },
   {
    "duration": 9,
    "start_time": "2022-11-13T17:17:07.486Z"
   },
   {
    "duration": 11,
    "start_time": "2022-11-13T17:17:47.103Z"
   },
   {
    "duration": 4,
    "start_time": "2022-11-13T17:18:07.129Z"
   },
   {
    "duration": 11,
    "start_time": "2022-11-13T17:18:11.563Z"
   },
   {
    "duration": 12,
    "start_time": "2022-11-13T17:18:24.705Z"
   },
   {
    "duration": 8,
    "start_time": "2022-11-13T17:18:37.014Z"
   },
   {
    "duration": 4,
    "start_time": "2022-11-13T17:18:49.753Z"
   },
   {
    "duration": 3,
    "start_time": "2022-11-13T17:19:23.094Z"
   },
   {
    "duration": 7,
    "start_time": "2022-11-13T17:19:28.339Z"
   },
   {
    "duration": 8,
    "start_time": "2022-11-13T17:19:43.319Z"
   },
   {
    "duration": 22,
    "start_time": "2022-11-13T17:20:01.882Z"
   },
   {
    "duration": 9,
    "start_time": "2022-11-13T17:20:26.522Z"
   },
   {
    "duration": 8,
    "start_time": "2022-11-13T17:20:39.258Z"
   },
   {
    "duration": 8,
    "start_time": "2022-11-13T17:21:00.162Z"
   },
   {
    "duration": 9,
    "start_time": "2022-11-13T17:21:10.725Z"
   },
   {
    "duration": 8,
    "start_time": "2022-11-13T17:21:23.739Z"
   },
   {
    "duration": 7,
    "start_time": "2022-11-13T17:21:24.739Z"
   },
   {
    "duration": 8,
    "start_time": "2022-11-13T17:21:27.053Z"
   },
   {
    "duration": 8,
    "start_time": "2022-11-13T17:21:39.399Z"
   },
   {
    "duration": 10,
    "start_time": "2022-11-13T17:22:06.059Z"
   },
   {
    "duration": 8,
    "start_time": "2022-11-13T17:22:45.722Z"
   },
   {
    "duration": 8,
    "start_time": "2022-11-13T17:22:53.004Z"
   },
   {
    "duration": 1044,
    "start_time": "2022-11-13T17:23:01.370Z"
   },
   {
    "duration": 122,
    "start_time": "2022-11-13T17:23:02.416Z"
   },
   {
    "duration": 3,
    "start_time": "2022-11-13T17:23:02.539Z"
   },
   {
    "duration": 1821,
    "start_time": "2022-11-13T17:23:02.544Z"
   },
   {
    "duration": 109,
    "start_time": "2022-11-13T17:23:04.367Z"
   },
   {
    "duration": 54,
    "start_time": "2022-11-13T17:23:04.478Z"
   },
   {
    "duration": 18,
    "start_time": "2022-11-13T17:23:04.534Z"
   },
   {
    "duration": 11,
    "start_time": "2022-11-13T17:23:04.554Z"
   },
   {
    "duration": 69,
    "start_time": "2022-11-13T17:23:04.567Z"
   },
   {
    "duration": 383,
    "start_time": "2022-11-13T17:23:04.639Z"
   },
   {
    "duration": 3,
    "start_time": "2022-11-13T17:23:05.023Z"
   },
   {
    "duration": 227,
    "start_time": "2022-11-13T17:23:05.028Z"
   },
   {
    "duration": 22,
    "start_time": "2022-11-13T17:23:05.256Z"
   },
   {
    "duration": 2176,
    "start_time": "2022-11-13T17:23:05.279Z"
   },
   {
    "duration": 111,
    "start_time": "2022-11-13T17:23:07.457Z"
   },
   {
    "duration": 150,
    "start_time": "2022-11-13T17:23:07.569Z"
   },
   {
    "duration": 124,
    "start_time": "2022-11-13T17:23:07.721Z"
   },
   {
    "duration": 180,
    "start_time": "2022-11-13T17:23:07.846Z"
   },
   {
    "duration": 22,
    "start_time": "2022-11-13T17:23:08.028Z"
   },
   {
    "duration": 1414,
    "start_time": "2022-11-13T17:23:08.052Z"
   },
   {
    "duration": 276,
    "start_time": "2022-11-13T17:23:09.467Z"
   },
   {
    "duration": 369,
    "start_time": "2022-11-13T17:23:09.744Z"
   },
   {
    "duration": 391,
    "start_time": "2022-11-13T17:23:10.114Z"
   },
   {
    "duration": 476,
    "start_time": "2022-11-13T17:23:10.507Z"
   },
   {
    "duration": 31,
    "start_time": "2022-11-13T17:23:10.985Z"
   },
   {
    "duration": 2,
    "start_time": "2022-11-13T17:23:11.018Z"
   },
   {
    "duration": 5,
    "start_time": "2022-11-13T17:23:11.022Z"
   },
   {
    "duration": 9,
    "start_time": "2022-11-13T17:23:11.029Z"
   },
   {
    "duration": 9,
    "start_time": "2022-11-13T17:23:11.039Z"
   },
   {
    "duration": 25,
    "start_time": "2022-11-13T17:23:11.049Z"
   },
   {
    "duration": 311,
    "start_time": "2022-11-13T17:23:11.076Z"
   },
   {
    "duration": 9,
    "start_time": "2022-11-13T17:23:31.077Z"
   },
   {
    "duration": 91,
    "start_time": "2022-11-13T17:29:35.325Z"
   },
   {
    "duration": 602,
    "start_time": "2022-11-13T17:30:07.289Z"
   },
   {
    "duration": 17,
    "start_time": "2022-11-13T17:35:05.781Z"
   },
   {
    "duration": 94,
    "start_time": "2022-11-13T17:36:28.379Z"
   },
   {
    "duration": 19,
    "start_time": "2022-11-13T17:36:33.912Z"
   },
   {
    "duration": 23,
    "start_time": "2022-11-13T17:37:14.830Z"
   },
   {
    "duration": 69,
    "start_time": "2022-11-13T17:38:03.026Z"
   },
   {
    "duration": 156,
    "start_time": "2022-11-13T17:38:11.112Z"
   },
   {
    "duration": 147,
    "start_time": "2022-11-13T17:39:46.179Z"
   },
   {
    "duration": 131,
    "start_time": "2022-11-13T17:40:07.483Z"
   },
   {
    "duration": 1119,
    "start_time": "2022-11-13T17:51:33.208Z"
   },
   {
    "duration": 114,
    "start_time": "2022-11-13T17:51:34.329Z"
   },
   {
    "duration": 2,
    "start_time": "2022-11-13T17:51:34.445Z"
   },
   {
    "duration": 1912,
    "start_time": "2022-11-13T17:51:34.449Z"
   },
   {
    "duration": 112,
    "start_time": "2022-11-13T17:51:36.363Z"
   },
   {
    "duration": 61,
    "start_time": "2022-11-13T17:51:36.476Z"
   },
   {
    "duration": 19,
    "start_time": "2022-11-13T17:51:36.538Z"
   },
   {
    "duration": 12,
    "start_time": "2022-11-13T17:51:36.558Z"
   },
   {
    "duration": 68,
    "start_time": "2022-11-13T17:51:36.571Z"
   },
   {
    "duration": 377,
    "start_time": "2022-11-13T17:51:36.642Z"
   },
   {
    "duration": 4,
    "start_time": "2022-11-13T17:51:37.021Z"
   },
   {
    "duration": 241,
    "start_time": "2022-11-13T17:51:37.026Z"
   },
   {
    "duration": 23,
    "start_time": "2022-11-13T17:51:37.268Z"
   },
   {
    "duration": 2233,
    "start_time": "2022-11-13T17:51:37.292Z"
   },
   {
    "duration": 125,
    "start_time": "2022-11-13T17:51:39.526Z"
   },
   {
    "duration": 147,
    "start_time": "2022-11-13T17:51:39.652Z"
   },
   {
    "duration": 138,
    "start_time": "2022-11-13T17:51:39.800Z"
   },
   {
    "duration": 196,
    "start_time": "2022-11-13T17:51:39.939Z"
   },
   {
    "duration": 23,
    "start_time": "2022-11-13T17:51:40.137Z"
   },
   {
    "duration": 1514,
    "start_time": "2022-11-13T17:51:40.162Z"
   },
   {
    "duration": 286,
    "start_time": "2022-11-13T17:51:41.678Z"
   },
   {
    "duration": 362,
    "start_time": "2022-11-13T17:51:41.966Z"
   },
   {
    "duration": 666,
    "start_time": "2022-11-13T17:51:42.329Z"
   },
   {
    "duration": 479,
    "start_time": "2022-11-13T17:51:42.997Z"
   },
   {
    "duration": 23,
    "start_time": "2022-11-13T17:51:43.478Z"
   },
   {
    "duration": 11,
    "start_time": "2022-11-13T17:51:43.502Z"
   },
   {
    "duration": 5,
    "start_time": "2022-11-13T17:51:43.514Z"
   },
   {
    "duration": 10,
    "start_time": "2022-11-13T17:51:43.522Z"
   },
   {
    "duration": 10,
    "start_time": "2022-11-13T17:51:43.534Z"
   },
   {
    "duration": 18,
    "start_time": "2022-11-13T17:51:43.545Z"
   },
   {
    "duration": 332,
    "start_time": "2022-11-13T17:51:43.564Z"
   },
   {
    "duration": 150,
    "start_time": "2022-11-13T17:51:43.898Z"
   },
   {
    "duration": 1116,
    "start_time": "2022-11-13T18:45:12.148Z"
   },
   {
    "duration": 119,
    "start_time": "2022-11-13T18:45:13.266Z"
   },
   {
    "duration": 2,
    "start_time": "2022-11-13T18:45:13.386Z"
   },
   {
    "duration": 1891,
    "start_time": "2022-11-13T18:45:13.390Z"
   },
   {
    "duration": 93,
    "start_time": "2022-11-13T18:45:15.283Z"
   },
   {
    "duration": 47,
    "start_time": "2022-11-13T18:45:15.377Z"
   },
   {
    "duration": 26,
    "start_time": "2022-11-13T18:45:15.426Z"
   },
   {
    "duration": 10,
    "start_time": "2022-11-13T18:45:15.454Z"
   },
   {
    "duration": 53,
    "start_time": "2022-11-13T18:45:15.466Z"
   },
   {
    "duration": 381,
    "start_time": "2022-11-13T18:45:15.522Z"
   },
   {
    "duration": 3,
    "start_time": "2022-11-13T18:45:15.905Z"
   },
   {
    "duration": 229,
    "start_time": "2022-11-13T18:45:15.910Z"
   },
   {
    "duration": 24,
    "start_time": "2022-11-13T18:45:16.141Z"
   },
   {
    "duration": 2296,
    "start_time": "2022-11-13T18:45:16.167Z"
   },
   {
    "duration": 124,
    "start_time": "2022-11-13T18:45:18.465Z"
   },
   {
    "duration": 144,
    "start_time": "2022-11-13T18:45:18.591Z"
   },
   {
    "duration": 119,
    "start_time": "2022-11-13T18:45:18.737Z"
   },
   {
    "duration": 214,
    "start_time": "2022-11-13T18:45:18.858Z"
   },
   {
    "duration": 24,
    "start_time": "2022-11-13T18:45:19.074Z"
   },
   {
    "duration": 1505,
    "start_time": "2022-11-13T18:45:19.100Z"
   },
   {
    "duration": 298,
    "start_time": "2022-11-13T18:45:20.607Z"
   },
   {
    "duration": 406,
    "start_time": "2022-11-13T18:45:20.907Z"
   },
   {
    "duration": 687,
    "start_time": "2022-11-13T18:45:21.315Z"
   },
   {
    "duration": 483,
    "start_time": "2022-11-13T18:45:22.004Z"
   },
   {
    "duration": 24,
    "start_time": "2022-11-13T18:45:22.489Z"
   },
   {
    "duration": 3,
    "start_time": "2022-11-13T18:45:22.514Z"
   },
   {
    "duration": 7,
    "start_time": "2022-11-13T18:45:22.519Z"
   },
   {
    "duration": 30,
    "start_time": "2022-11-13T18:45:22.528Z"
   },
   {
    "duration": 9,
    "start_time": "2022-11-13T18:45:22.559Z"
   },
   {
    "duration": 22,
    "start_time": "2022-11-13T18:45:22.570Z"
   },
   {
    "duration": 321,
    "start_time": "2022-11-13T18:45:22.594Z"
   },
   {
    "duration": 148,
    "start_time": "2022-11-13T18:45:22.917Z"
   },
   {
    "duration": 1119,
    "start_time": "2022-11-13T18:47:50.574Z"
   },
   {
    "duration": 134,
    "start_time": "2022-11-13T18:47:51.695Z"
   },
   {
    "duration": 4,
    "start_time": "2022-11-13T18:47:51.831Z"
   },
   {
    "duration": 1884,
    "start_time": "2022-11-13T18:47:51.845Z"
   },
   {
    "duration": 103,
    "start_time": "2022-11-13T18:47:53.731Z"
   },
   {
    "duration": 87,
    "start_time": "2022-11-13T18:47:53.836Z"
   },
   {
    "duration": 38,
    "start_time": "2022-11-13T18:47:53.925Z"
   },
   {
    "duration": 14,
    "start_time": "2022-11-13T18:47:53.965Z"
   },
   {
    "duration": 119,
    "start_time": "2022-11-13T18:47:53.981Z"
   },
   {
    "duration": 514,
    "start_time": "2022-11-13T18:47:54.104Z"
   },
   {
    "duration": 5,
    "start_time": "2022-11-13T18:47:54.620Z"
   },
   {
    "duration": 303,
    "start_time": "2022-11-13T18:47:54.626Z"
   },
   {
    "duration": 29,
    "start_time": "2022-11-13T18:47:54.931Z"
   },
   {
    "duration": 2300,
    "start_time": "2022-11-13T18:47:54.962Z"
   },
   {
    "duration": 128,
    "start_time": "2022-11-13T18:47:57.265Z"
   },
   {
    "duration": 153,
    "start_time": "2022-11-13T18:47:57.396Z"
   },
   {
    "duration": 145,
    "start_time": "2022-11-13T18:47:57.551Z"
   },
   {
    "duration": 198,
    "start_time": "2022-11-13T18:47:57.698Z"
   },
   {
    "duration": 31,
    "start_time": "2022-11-13T18:47:57.898Z"
   },
   {
    "duration": 1544,
    "start_time": "2022-11-13T18:47:57.931Z"
   },
   {
    "duration": 281,
    "start_time": "2022-11-13T18:47:59.477Z"
   },
   {
    "duration": 418,
    "start_time": "2022-11-13T18:47:59.761Z"
   },
   {
    "duration": 686,
    "start_time": "2022-11-13T18:48:00.181Z"
   },
   {
    "duration": 503,
    "start_time": "2022-11-13T18:48:00.869Z"
   },
   {
    "duration": 25,
    "start_time": "2022-11-13T18:48:01.374Z"
   },
   {
    "duration": 2,
    "start_time": "2022-11-13T18:48:01.401Z"
   },
   {
    "duration": 19,
    "start_time": "2022-11-13T18:48:01.405Z"
   },
   {
    "duration": 20,
    "start_time": "2022-11-13T18:48:01.428Z"
   },
   {
    "duration": 20,
    "start_time": "2022-11-13T18:48:01.450Z"
   },
   {
    "duration": 37,
    "start_time": "2022-11-13T18:48:01.472Z"
   },
   {
    "duration": 310,
    "start_time": "2022-11-13T18:48:01.510Z"
   },
   {
    "duration": 172,
    "start_time": "2022-11-13T18:48:01.821Z"
   },
   {
    "duration": 14,
    "start_time": "2022-11-13T18:50:59.573Z"
   }
  ],
  "kernelspec": {
   "display_name": "Python 3 (ipykernel)",
   "language": "python",
   "name": "python3"
  },
  "language_info": {
   "codemirror_mode": {
    "name": "ipython",
    "version": 3
   },
   "file_extension": ".py",
   "mimetype": "text/x-python",
   "name": "python",
   "nbconvert_exporter": "python",
   "pygments_lexer": "ipython3",
   "version": "3.9.0"
  },
  "toc": {
   "base_numbering": 1,
   "nav_menu": {
    "height": "237px",
    "width": "357.969px"
   },
   "number_sections": true,
   "sideBar": true,
   "skip_h1_title": true,
   "title_cell": "План отчета",
   "title_sidebar": "Contents",
   "toc_cell": true,
   "toc_position": {},
   "toc_section_display": true,
   "toc_window_display": true
  }
 },
 "nbformat": 4,
 "nbformat_minor": 4
}
