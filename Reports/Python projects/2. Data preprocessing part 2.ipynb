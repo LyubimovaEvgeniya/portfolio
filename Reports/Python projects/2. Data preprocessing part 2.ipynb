{
 "cells": [
  {
   "cell_type": "markdown",
   "id": "4f5581bf",
   "metadata": {
    "deletable": false,
    "editable": false,
    "id": "c81daeeb"
   },
   "source": [
    "# Исследование надежности заемщиков\n"
   ]
  },
  {
   "cell_type": "markdown",
   "id": "1c7e7958",
   "metadata": {
    "deletable": false,
    "editable": false,
    "id": "827c20bf"
   },
   "source": [
    "Во второй части проекта вы выполните шаги 3 и 4. Их вручную проверит ревьюер.\n",
    "Чтобы вам не пришлось писать код заново для шагов 1 и 2, мы добавили авторские решения в ячейки с кодом. \n",
    "\n"
   ]
  },
  {
   "cell_type": "markdown",
   "id": "b9353146",
   "metadata": {
    "deletable": false,
    "editable": false,
    "id": "744d7639"
   },
   "source": [
    "## Откройте таблицу и изучите общую информацию о данных"
   ]
  },
  {
   "cell_type": "markdown",
   "id": "9e142b4f",
   "metadata": {
    "deletable": false,
    "editable": false,
    "id": "e7a14c31"
   },
   "source": [
    "**Задание 1. Импортируйте библиотеку pandas. Считайте данные из csv-файла в датафрейм и сохраните в переменную `data`. Путь к файлу:**\n",
    "\n",
    "`/datasets/data.csv`"
   ]
  },
  {
   "cell_type": "code",
   "execution_count": 1,
   "id": "5d23eafd",
   "metadata": {
    "deletable": false,
    "id": "7bcf75c9"
   },
   "outputs": [],
   "source": [
    "import pandas as pd\n",
    "\n",
    "try:\n",
    "    data = pd.read_csv('/datasets/data.csv')\n",
    "except:\n",
    "    data = pd.read_csv('https://code.s3.yandex.net/datasets/data.csv')"
   ]
  },
  {
   "cell_type": "markdown",
   "id": "fadf85ed",
   "metadata": {
    "deletable": false,
    "editable": false,
    "id": "b8038fe3"
   },
   "source": [
    "**Задание 2. Выведите первые 20 строчек датафрейма `data` на экран.**"
   ]
  },
  {
   "cell_type": "code",
   "execution_count": 2,
   "id": "6ca40143",
   "metadata": {
    "deletable": false,
    "id": "2a7cab99",
    "outputId": "1a8f3ef2-d323-4ec2-ddf7-89670b5944c4",
    "scrolled": true
   },
   "outputs": [
    {
     "data": {
      "text/html": [
       "<div>\n",
       "<style scoped>\n",
       "    .dataframe tbody tr th:only-of-type {\n",
       "        vertical-align: middle;\n",
       "    }\n",
       "\n",
       "    .dataframe tbody tr th {\n",
       "        vertical-align: top;\n",
       "    }\n",
       "\n",
       "    .dataframe thead th {\n",
       "        text-align: right;\n",
       "    }\n",
       "</style>\n",
       "<table border=\"1\" class=\"dataframe\">\n",
       "  <thead>\n",
       "    <tr style=\"text-align: right;\">\n",
       "      <th></th>\n",
       "      <th>children</th>\n",
       "      <th>days_employed</th>\n",
       "      <th>dob_years</th>\n",
       "      <th>education</th>\n",
       "      <th>education_id</th>\n",
       "      <th>family_status</th>\n",
       "      <th>family_status_id</th>\n",
       "      <th>gender</th>\n",
       "      <th>income_type</th>\n",
       "      <th>debt</th>\n",
       "      <th>total_income</th>\n",
       "      <th>purpose</th>\n",
       "    </tr>\n",
       "  </thead>\n",
       "  <tbody>\n",
       "    <tr>\n",
       "      <th>0</th>\n",
       "      <td>1</td>\n",
       "      <td>-8437.673028</td>\n",
       "      <td>42</td>\n",
       "      <td>высшее</td>\n",
       "      <td>0</td>\n",
       "      <td>женат / замужем</td>\n",
       "      <td>0</td>\n",
       "      <td>F</td>\n",
       "      <td>сотрудник</td>\n",
       "      <td>0</td>\n",
       "      <td>253875.639453</td>\n",
       "      <td>покупка жилья</td>\n",
       "    </tr>\n",
       "    <tr>\n",
       "      <th>1</th>\n",
       "      <td>1</td>\n",
       "      <td>-4024.803754</td>\n",
       "      <td>36</td>\n",
       "      <td>среднее</td>\n",
       "      <td>1</td>\n",
       "      <td>женат / замужем</td>\n",
       "      <td>0</td>\n",
       "      <td>F</td>\n",
       "      <td>сотрудник</td>\n",
       "      <td>0</td>\n",
       "      <td>112080.014102</td>\n",
       "      <td>приобретение автомобиля</td>\n",
       "    </tr>\n",
       "    <tr>\n",
       "      <th>2</th>\n",
       "      <td>0</td>\n",
       "      <td>-5623.422610</td>\n",
       "      <td>33</td>\n",
       "      <td>Среднее</td>\n",
       "      <td>1</td>\n",
       "      <td>женат / замужем</td>\n",
       "      <td>0</td>\n",
       "      <td>M</td>\n",
       "      <td>сотрудник</td>\n",
       "      <td>0</td>\n",
       "      <td>145885.952297</td>\n",
       "      <td>покупка жилья</td>\n",
       "    </tr>\n",
       "    <tr>\n",
       "      <th>3</th>\n",
       "      <td>3</td>\n",
       "      <td>-4124.747207</td>\n",
       "      <td>32</td>\n",
       "      <td>среднее</td>\n",
       "      <td>1</td>\n",
       "      <td>женат / замужем</td>\n",
       "      <td>0</td>\n",
       "      <td>M</td>\n",
       "      <td>сотрудник</td>\n",
       "      <td>0</td>\n",
       "      <td>267628.550329</td>\n",
       "      <td>дополнительное образование</td>\n",
       "    </tr>\n",
       "    <tr>\n",
       "      <th>4</th>\n",
       "      <td>0</td>\n",
       "      <td>340266.072047</td>\n",
       "      <td>53</td>\n",
       "      <td>среднее</td>\n",
       "      <td>1</td>\n",
       "      <td>гражданский брак</td>\n",
       "      <td>1</td>\n",
       "      <td>F</td>\n",
       "      <td>пенсионер</td>\n",
       "      <td>0</td>\n",
       "      <td>158616.077870</td>\n",
       "      <td>сыграть свадьбу</td>\n",
       "    </tr>\n",
       "    <tr>\n",
       "      <th>5</th>\n",
       "      <td>0</td>\n",
       "      <td>-926.185831</td>\n",
       "      <td>27</td>\n",
       "      <td>высшее</td>\n",
       "      <td>0</td>\n",
       "      <td>гражданский брак</td>\n",
       "      <td>1</td>\n",
       "      <td>M</td>\n",
       "      <td>компаньон</td>\n",
       "      <td>0</td>\n",
       "      <td>255763.565419</td>\n",
       "      <td>покупка жилья</td>\n",
       "    </tr>\n",
       "    <tr>\n",
       "      <th>6</th>\n",
       "      <td>0</td>\n",
       "      <td>-2879.202052</td>\n",
       "      <td>43</td>\n",
       "      <td>высшее</td>\n",
       "      <td>0</td>\n",
       "      <td>женат / замужем</td>\n",
       "      <td>0</td>\n",
       "      <td>F</td>\n",
       "      <td>компаньон</td>\n",
       "      <td>0</td>\n",
       "      <td>240525.971920</td>\n",
       "      <td>операции с жильем</td>\n",
       "    </tr>\n",
       "    <tr>\n",
       "      <th>7</th>\n",
       "      <td>0</td>\n",
       "      <td>-152.779569</td>\n",
       "      <td>50</td>\n",
       "      <td>СРЕДНЕЕ</td>\n",
       "      <td>1</td>\n",
       "      <td>женат / замужем</td>\n",
       "      <td>0</td>\n",
       "      <td>M</td>\n",
       "      <td>сотрудник</td>\n",
       "      <td>0</td>\n",
       "      <td>135823.934197</td>\n",
       "      <td>образование</td>\n",
       "    </tr>\n",
       "    <tr>\n",
       "      <th>8</th>\n",
       "      <td>2</td>\n",
       "      <td>-6929.865299</td>\n",
       "      <td>35</td>\n",
       "      <td>ВЫСШЕЕ</td>\n",
       "      <td>0</td>\n",
       "      <td>гражданский брак</td>\n",
       "      <td>1</td>\n",
       "      <td>F</td>\n",
       "      <td>сотрудник</td>\n",
       "      <td>0</td>\n",
       "      <td>95856.832424</td>\n",
       "      <td>на проведение свадьбы</td>\n",
       "    </tr>\n",
       "    <tr>\n",
       "      <th>9</th>\n",
       "      <td>0</td>\n",
       "      <td>-2188.756445</td>\n",
       "      <td>41</td>\n",
       "      <td>среднее</td>\n",
       "      <td>1</td>\n",
       "      <td>женат / замужем</td>\n",
       "      <td>0</td>\n",
       "      <td>M</td>\n",
       "      <td>сотрудник</td>\n",
       "      <td>0</td>\n",
       "      <td>144425.938277</td>\n",
       "      <td>покупка жилья для семьи</td>\n",
       "    </tr>\n",
       "    <tr>\n",
       "      <th>10</th>\n",
       "      <td>2</td>\n",
       "      <td>-4171.483647</td>\n",
       "      <td>36</td>\n",
       "      <td>высшее</td>\n",
       "      <td>0</td>\n",
       "      <td>женат / замужем</td>\n",
       "      <td>0</td>\n",
       "      <td>M</td>\n",
       "      <td>компаньон</td>\n",
       "      <td>0</td>\n",
       "      <td>113943.491460</td>\n",
       "      <td>покупка недвижимости</td>\n",
       "    </tr>\n",
       "    <tr>\n",
       "      <th>11</th>\n",
       "      <td>0</td>\n",
       "      <td>-792.701887</td>\n",
       "      <td>40</td>\n",
       "      <td>среднее</td>\n",
       "      <td>1</td>\n",
       "      <td>женат / замужем</td>\n",
       "      <td>0</td>\n",
       "      <td>F</td>\n",
       "      <td>сотрудник</td>\n",
       "      <td>0</td>\n",
       "      <td>77069.234271</td>\n",
       "      <td>покупка коммерческой недвижимости</td>\n",
       "    </tr>\n",
       "    <tr>\n",
       "      <th>12</th>\n",
       "      <td>0</td>\n",
       "      <td>NaN</td>\n",
       "      <td>65</td>\n",
       "      <td>среднее</td>\n",
       "      <td>1</td>\n",
       "      <td>гражданский брак</td>\n",
       "      <td>1</td>\n",
       "      <td>M</td>\n",
       "      <td>пенсионер</td>\n",
       "      <td>0</td>\n",
       "      <td>NaN</td>\n",
       "      <td>сыграть свадьбу</td>\n",
       "    </tr>\n",
       "    <tr>\n",
       "      <th>13</th>\n",
       "      <td>0</td>\n",
       "      <td>-1846.641941</td>\n",
       "      <td>54</td>\n",
       "      <td>неоконченное высшее</td>\n",
       "      <td>2</td>\n",
       "      <td>женат / замужем</td>\n",
       "      <td>0</td>\n",
       "      <td>F</td>\n",
       "      <td>сотрудник</td>\n",
       "      <td>0</td>\n",
       "      <td>130458.228857</td>\n",
       "      <td>приобретение автомобиля</td>\n",
       "    </tr>\n",
       "    <tr>\n",
       "      <th>14</th>\n",
       "      <td>0</td>\n",
       "      <td>-1844.956182</td>\n",
       "      <td>56</td>\n",
       "      <td>высшее</td>\n",
       "      <td>0</td>\n",
       "      <td>гражданский брак</td>\n",
       "      <td>1</td>\n",
       "      <td>F</td>\n",
       "      <td>компаньон</td>\n",
       "      <td>1</td>\n",
       "      <td>165127.911772</td>\n",
       "      <td>покупка жилой недвижимости</td>\n",
       "    </tr>\n",
       "    <tr>\n",
       "      <th>15</th>\n",
       "      <td>1</td>\n",
       "      <td>-972.364419</td>\n",
       "      <td>26</td>\n",
       "      <td>среднее</td>\n",
       "      <td>1</td>\n",
       "      <td>женат / замужем</td>\n",
       "      <td>0</td>\n",
       "      <td>F</td>\n",
       "      <td>сотрудник</td>\n",
       "      <td>0</td>\n",
       "      <td>116820.904450</td>\n",
       "      <td>строительство собственной недвижимости</td>\n",
       "    </tr>\n",
       "    <tr>\n",
       "      <th>16</th>\n",
       "      <td>0</td>\n",
       "      <td>-1719.934226</td>\n",
       "      <td>35</td>\n",
       "      <td>среднее</td>\n",
       "      <td>1</td>\n",
       "      <td>женат / замужем</td>\n",
       "      <td>0</td>\n",
       "      <td>F</td>\n",
       "      <td>сотрудник</td>\n",
       "      <td>0</td>\n",
       "      <td>289202.704229</td>\n",
       "      <td>недвижимость</td>\n",
       "    </tr>\n",
       "    <tr>\n",
       "      <th>17</th>\n",
       "      <td>0</td>\n",
       "      <td>-2369.999720</td>\n",
       "      <td>33</td>\n",
       "      <td>высшее</td>\n",
       "      <td>0</td>\n",
       "      <td>гражданский брак</td>\n",
       "      <td>1</td>\n",
       "      <td>M</td>\n",
       "      <td>сотрудник</td>\n",
       "      <td>0</td>\n",
       "      <td>90410.586745</td>\n",
       "      <td>строительство недвижимости</td>\n",
       "    </tr>\n",
       "    <tr>\n",
       "      <th>18</th>\n",
       "      <td>0</td>\n",
       "      <td>400281.136913</td>\n",
       "      <td>53</td>\n",
       "      <td>среднее</td>\n",
       "      <td>1</td>\n",
       "      <td>вдовец / вдова</td>\n",
       "      <td>2</td>\n",
       "      <td>F</td>\n",
       "      <td>пенсионер</td>\n",
       "      <td>0</td>\n",
       "      <td>56823.777243</td>\n",
       "      <td>на покупку подержанного автомобиля</td>\n",
       "    </tr>\n",
       "    <tr>\n",
       "      <th>19</th>\n",
       "      <td>0</td>\n",
       "      <td>-10038.818549</td>\n",
       "      <td>48</td>\n",
       "      <td>СРЕДНЕЕ</td>\n",
       "      <td>1</td>\n",
       "      <td>в разводе</td>\n",
       "      <td>3</td>\n",
       "      <td>F</td>\n",
       "      <td>сотрудник</td>\n",
       "      <td>0</td>\n",
       "      <td>242831.107982</td>\n",
       "      <td>на покупку своего автомобиля</td>\n",
       "    </tr>\n",
       "  </tbody>\n",
       "</table>\n",
       "</div>"
      ],
      "text/plain": [
       "    children  days_employed  dob_years            education  education_id  \\\n",
       "0          1   -8437.673028         42               высшее             0   \n",
       "1          1   -4024.803754         36              среднее             1   \n",
       "2          0   -5623.422610         33              Среднее             1   \n",
       "3          3   -4124.747207         32              среднее             1   \n",
       "4          0  340266.072047         53              среднее             1   \n",
       "5          0    -926.185831         27               высшее             0   \n",
       "6          0   -2879.202052         43               высшее             0   \n",
       "7          0    -152.779569         50              СРЕДНЕЕ             1   \n",
       "8          2   -6929.865299         35               ВЫСШЕЕ             0   \n",
       "9          0   -2188.756445         41              среднее             1   \n",
       "10         2   -4171.483647         36               высшее             0   \n",
       "11         0    -792.701887         40              среднее             1   \n",
       "12         0            NaN         65              среднее             1   \n",
       "13         0   -1846.641941         54  неоконченное высшее             2   \n",
       "14         0   -1844.956182         56               высшее             0   \n",
       "15         1    -972.364419         26              среднее             1   \n",
       "16         0   -1719.934226         35              среднее             1   \n",
       "17         0   -2369.999720         33               высшее             0   \n",
       "18         0  400281.136913         53              среднее             1   \n",
       "19         0  -10038.818549         48              СРЕДНЕЕ             1   \n",
       "\n",
       "       family_status  family_status_id gender income_type  debt  \\\n",
       "0    женат / замужем                 0      F   сотрудник     0   \n",
       "1    женат / замужем                 0      F   сотрудник     0   \n",
       "2    женат / замужем                 0      M   сотрудник     0   \n",
       "3    женат / замужем                 0      M   сотрудник     0   \n",
       "4   гражданский брак                 1      F   пенсионер     0   \n",
       "5   гражданский брак                 1      M   компаньон     0   \n",
       "6    женат / замужем                 0      F   компаньон     0   \n",
       "7    женат / замужем                 0      M   сотрудник     0   \n",
       "8   гражданский брак                 1      F   сотрудник     0   \n",
       "9    женат / замужем                 0      M   сотрудник     0   \n",
       "10   женат / замужем                 0      M   компаньон     0   \n",
       "11   женат / замужем                 0      F   сотрудник     0   \n",
       "12  гражданский брак                 1      M   пенсионер     0   \n",
       "13   женат / замужем                 0      F   сотрудник     0   \n",
       "14  гражданский брак                 1      F   компаньон     1   \n",
       "15   женат / замужем                 0      F   сотрудник     0   \n",
       "16   женат / замужем                 0      F   сотрудник     0   \n",
       "17  гражданский брак                 1      M   сотрудник     0   \n",
       "18    вдовец / вдова                 2      F   пенсионер     0   \n",
       "19         в разводе                 3      F   сотрудник     0   \n",
       "\n",
       "     total_income                                 purpose  \n",
       "0   253875.639453                           покупка жилья  \n",
       "1   112080.014102                 приобретение автомобиля  \n",
       "2   145885.952297                           покупка жилья  \n",
       "3   267628.550329              дополнительное образование  \n",
       "4   158616.077870                         сыграть свадьбу  \n",
       "5   255763.565419                           покупка жилья  \n",
       "6   240525.971920                       операции с жильем  \n",
       "7   135823.934197                             образование  \n",
       "8    95856.832424                   на проведение свадьбы  \n",
       "9   144425.938277                 покупка жилья для семьи  \n",
       "10  113943.491460                    покупка недвижимости  \n",
       "11   77069.234271       покупка коммерческой недвижимости  \n",
       "12            NaN                         сыграть свадьбу  \n",
       "13  130458.228857                 приобретение автомобиля  \n",
       "14  165127.911772              покупка жилой недвижимости  \n",
       "15  116820.904450  строительство собственной недвижимости  \n",
       "16  289202.704229                            недвижимость  \n",
       "17   90410.586745              строительство недвижимости  \n",
       "18   56823.777243      на покупку подержанного автомобиля  \n",
       "19  242831.107982            на покупку своего автомобиля  "
      ]
     },
     "execution_count": 2,
     "metadata": {},
     "output_type": "execute_result"
    }
   ],
   "source": [
    "data.head(20)"
   ]
  },
  {
   "cell_type": "markdown",
   "id": "564bdce8",
   "metadata": {
    "deletable": false,
    "editable": false,
    "id": "1c12e233"
   },
   "source": [
    "**Задание 3. Выведите основную информацию о датафрейме с помощью метода `info()`.**"
   ]
  },
  {
   "cell_type": "code",
   "execution_count": 3,
   "id": "ca9e7c11",
   "metadata": {
    "deletable": false,
    "id": "2b757bca",
    "outputId": "15376089-8dad-46c9-b520-c05248d43158"
   },
   "outputs": [
    {
     "name": "stdout",
     "output_type": "stream",
     "text": [
      "<class 'pandas.core.frame.DataFrame'>\n",
      "RangeIndex: 21525 entries, 0 to 21524\n",
      "Data columns (total 12 columns):\n",
      " #   Column            Non-Null Count  Dtype  \n",
      "---  ------            --------------  -----  \n",
      " 0   children          21525 non-null  int64  \n",
      " 1   days_employed     19351 non-null  float64\n",
      " 2   dob_years         21525 non-null  int64  \n",
      " 3   education         21525 non-null  object \n",
      " 4   education_id      21525 non-null  int64  \n",
      " 5   family_status     21525 non-null  object \n",
      " 6   family_status_id  21525 non-null  int64  \n",
      " 7   gender            21525 non-null  object \n",
      " 8   income_type       21525 non-null  object \n",
      " 9   debt              21525 non-null  int64  \n",
      " 10  total_income      19351 non-null  float64\n",
      " 11  purpose           21525 non-null  object \n",
      "dtypes: float64(2), int64(5), object(5)\n",
      "memory usage: 2.0+ MB\n"
     ]
    }
   ],
   "source": [
    "data.info()"
   ]
  },
  {
   "cell_type": "markdown",
   "id": "5441f598",
   "metadata": {
    "deletable": false,
    "editable": false,
    "id": "333ec665"
   },
   "source": [
    "## Предобработка данных"
   ]
  },
  {
   "cell_type": "markdown",
   "id": "9d00dd71",
   "metadata": {
    "deletable": false,
    "editable": false,
    "id": "02d92d53"
   },
   "source": [
    "### Удаление пропусков"
   ]
  },
  {
   "cell_type": "markdown",
   "id": "7474dba9",
   "metadata": {
    "deletable": false,
    "editable": false,
    "id": "cd84967c"
   },
   "source": [
    "**Задание 4. Выведите количество пропущенных значений для каждого столбца. Используйте комбинацию двух методов.**"
   ]
  },
  {
   "cell_type": "code",
   "execution_count": 4,
   "id": "4734cd53",
   "metadata": {
    "deletable": false,
    "id": "7f9b2309",
    "outputId": "81f4d817-781c-465c-ed15-91ce4446810d"
   },
   "outputs": [
    {
     "data": {
      "text/plain": [
       "children               0\n",
       "days_employed       2174\n",
       "dob_years              0\n",
       "education              0\n",
       "education_id           0\n",
       "family_status          0\n",
       "family_status_id       0\n",
       "gender                 0\n",
       "income_type            0\n",
       "debt                   0\n",
       "total_income        2174\n",
       "purpose                0\n",
       "dtype: int64"
      ]
     },
     "execution_count": 4,
     "metadata": {},
     "output_type": "execute_result"
    }
   ],
   "source": [
    "data.isna().sum()"
   ]
  },
  {
   "cell_type": "markdown",
   "id": "2c513ccd",
   "metadata": {
    "deletable": false,
    "editable": false,
    "id": "db86e27b"
   },
   "source": [
    "**Задание 5. В двух столбцах есть пропущенные значения. Один из них — `days_employed`. Пропуски в этом столбце вы обработаете на следующем этапе. Другой столбец с пропущенными значениями — `total_income` — хранит данные о доходах. На сумму дохода сильнее всего влияет тип занятости, поэтому заполнить пропуски в этом столбце нужно медианным значением по каждому типу из столбца `income_type`. Например, у человека с типом занятости `сотрудник` пропуск в столбце `total_income` должен быть заполнен медианным доходом среди всех записей с тем же типом.**"
   ]
  },
  {
   "cell_type": "code",
   "execution_count": 5,
   "id": "38deb290",
   "metadata": {
    "deletable": false,
    "id": "42006a93"
   },
   "outputs": [],
   "source": [
    "for t in data['income_type'].unique():\n",
    "    data.loc[(data['income_type'] == t) & (data['total_income'].isna()), 'total_income'] = \\\n",
    "    data.loc[(data['income_type'] == t), 'total_income'].median()"
   ]
  },
  {
   "cell_type": "markdown",
   "id": "ecb4141a",
   "metadata": {
    "deletable": false,
    "editable": false,
    "id": "89da5ece"
   },
   "source": [
    "### Обработка аномальных значений"
   ]
  },
  {
   "cell_type": "markdown",
   "id": "46989bbf",
   "metadata": {
    "deletable": false,
    "editable": false,
    "id": "57964554"
   },
   "source": [
    "**Задание 6. В данных могут встречаться артефакты (аномалии) — значения, которые не отражают действительность и появились по какой-то ошибке. таким артефактом будет отрицательное количество дней трудового стажа в столбце `days_employed`. Для реальных данных это нормально. Обработайте значения в этом столбце: замените все отрицательные значения положительными с помощью метода `abs()`.**"
   ]
  },
  {
   "cell_type": "code",
   "execution_count": 6,
   "id": "f78f64be",
   "metadata": {
    "deletable": false,
    "id": "f6f055bf"
   },
   "outputs": [],
   "source": [
    "data['days_employed'] = data['days_employed'].abs()"
   ]
  },
  {
   "cell_type": "markdown",
   "id": "9bdf18bd",
   "metadata": {
    "deletable": false,
    "editable": false,
    "id": "6107dd2f"
   },
   "source": [
    "**Задание 7. Для каждого типа занятости выведите медианное значение трудового стажа `days_employed` в днях.**"
   ]
  },
  {
   "cell_type": "code",
   "execution_count": 7,
   "id": "020471a4",
   "metadata": {
    "deletable": false,
    "id": "85a5faf6",
    "outputId": "801ef80e-522b-4668-f34e-565af7432bcf"
   },
   "outputs": [
    {
     "data": {
      "text/plain": [
       "income_type\n",
       "безработный        366413.652744\n",
       "в декрете            3296.759962\n",
       "госслужащий          2689.368353\n",
       "компаньон            1547.382223\n",
       "пенсионер          365213.306266\n",
       "предприниматель       520.848083\n",
       "сотрудник            1574.202821\n",
       "студент               578.751554\n",
       "Name: days_employed, dtype: float64"
      ]
     },
     "execution_count": 7,
     "metadata": {},
     "output_type": "execute_result"
    }
   ],
   "source": [
    "data.groupby('income_type')['days_employed'].agg('median')"
   ]
  },
  {
   "cell_type": "markdown",
   "id": "da0fca99",
   "metadata": {
    "deletable": false,
    "editable": false,
    "id": "38d1a030"
   },
   "source": [
    "У двух типов (безработные и пенсионеры) получатся аномально большие значения. Исправить такие значения сложно, поэтому оставьте их как есть. Тем более этот столбец не понадобится вам для исследования."
   ]
  },
  {
   "cell_type": "markdown",
   "id": "15fe0129",
   "metadata": {
    "deletable": false,
    "editable": false,
    "id": "d8a9f147"
   },
   "source": [
    "**Задание 8. Выведите перечень уникальных значений столбца `children`.**"
   ]
  },
  {
   "cell_type": "code",
   "execution_count": 8,
   "id": "128ab55f",
   "metadata": {
    "deletable": false,
    "id": "ef5056eb",
    "outputId": "6975b15c-7f95-4697-d16d-a0c79b657b03"
   },
   "outputs": [
    {
     "data": {
      "text/plain": [
       "array([ 1,  0,  3,  2, -1,  4, 20,  5])"
      ]
     },
     "execution_count": 8,
     "metadata": {},
     "output_type": "execute_result"
    }
   ],
   "source": [
    "data['children'].unique()"
   ]
  },
  {
   "cell_type": "markdown",
   "id": "8bd1f331",
   "metadata": {
    "deletable": false,
    "editable": false,
    "id": "40b9ebf2"
   },
   "source": [
    "**Задание 9. В столбце `children` есть два аномальных значения. Удалите строки, в которых встречаются такие аномальные значения из датафрейма `data`.**"
   ]
  },
  {
   "cell_type": "code",
   "execution_count": 9,
   "id": "bde9e9e9",
   "metadata": {
    "deletable": false,
    "id": "3ff9801d"
   },
   "outputs": [],
   "source": [
    "data = data[(data['children'] != -1) & (data['children'] != 20)]"
   ]
  },
  {
   "cell_type": "markdown",
   "id": "c7021750",
   "metadata": {
    "deletable": false,
    "editable": false,
    "id": "bbc4d0ce"
   },
   "source": [
    "**Задание 10. Ещё раз выведите перечень уникальных значений столбца `children`, чтобы убедиться, что артефакты удалены.**"
   ]
  },
  {
   "cell_type": "code",
   "execution_count": 10,
   "id": "d1af5ac7",
   "metadata": {
    "deletable": false,
    "id": "ad4fa8b7",
    "outputId": "b2097101-d49d-44d9-901b-32a65c9463d1"
   },
   "outputs": [
    {
     "data": {
      "text/plain": [
       "array([1, 0, 3, 2, 4, 5])"
      ]
     },
     "execution_count": 10,
     "metadata": {},
     "output_type": "execute_result"
    }
   ],
   "source": [
    "data['children'].unique()"
   ]
  },
  {
   "cell_type": "markdown",
   "id": "c1f5fc41",
   "metadata": {
    "deletable": false,
    "editable": false,
    "id": "75440b63"
   },
   "source": [
    "### Удаление пропусков (продолжение)"
   ]
  },
  {
   "cell_type": "markdown",
   "id": "7f65bfc1",
   "metadata": {
    "deletable": false,
    "editable": false,
    "id": "f4ea573f"
   },
   "source": [
    "**Задание 11. Заполните пропуски в столбце `days_employed` медианными значениями по каждого типа занятости `income_type`.**"
   ]
  },
  {
   "cell_type": "code",
   "execution_count": 11,
   "id": "c9e907ac",
   "metadata": {
    "deletable": false,
    "id": "af6b1a7e"
   },
   "outputs": [],
   "source": [
    "for t in data['income_type'].unique():\n",
    "    data.loc[(data['income_type'] == t) & (data['days_employed'].isna()), 'days_employed'] = \\\n",
    "    data.loc[(data['income_type'] == t), 'days_employed'].median()"
   ]
  },
  {
   "cell_type": "markdown",
   "id": "8159212d",
   "metadata": {
    "deletable": false,
    "editable": false,
    "id": "2753f40d"
   },
   "source": [
    "**Задание 12. Убедитесь, что все пропуски заполнены. Проверьте себя и ещё раз выведите количество пропущенных значений для каждого столбца с помощью двух методов.**"
   ]
  },
  {
   "cell_type": "code",
   "execution_count": 12,
   "id": "5f31ee6a",
   "metadata": {
    "deletable": false,
    "id": "55f78bc2",
    "outputId": "8da1e4e1-358e-4e87-98c9-f261bce0a7b2"
   },
   "outputs": [
    {
     "data": {
      "text/plain": [
       "children            0\n",
       "days_employed       0\n",
       "dob_years           0\n",
       "education           0\n",
       "education_id        0\n",
       "family_status       0\n",
       "family_status_id    0\n",
       "gender              0\n",
       "income_type         0\n",
       "debt                0\n",
       "total_income        0\n",
       "purpose             0\n",
       "dtype: int64"
      ]
     },
     "execution_count": 12,
     "metadata": {},
     "output_type": "execute_result"
    }
   ],
   "source": [
    "data.isna().sum()"
   ]
  },
  {
   "cell_type": "markdown",
   "id": "944c6a69",
   "metadata": {
    "deletable": false,
    "editable": false,
    "id": "ddc81e43"
   },
   "source": [
    "### Изменение типов данных"
   ]
  },
  {
   "cell_type": "markdown",
   "id": "f09f4628",
   "metadata": {
    "deletable": false,
    "editable": false,
    "id": "42d19d24"
   },
   "source": [
    "**Задание 13. Замените вещественный тип данных в столбце `total_income` на целочисленный с помощью метода `astype()`.**"
   ]
  },
  {
   "cell_type": "code",
   "execution_count": 13,
   "id": "8e6e34ce",
   "metadata": {
    "deletable": false,
    "id": "920b65ad"
   },
   "outputs": [],
   "source": [
    "data['total_income'] = data['total_income'].astype(int)"
   ]
  },
  {
   "cell_type": "markdown",
   "id": "e42e9636",
   "metadata": {
    "deletable": false,
    "editable": false,
    "id": "80c420ba"
   },
   "source": [
    "### Обработка дубликатов"
   ]
  },
  {
   "cell_type": "markdown",
   "id": "fa1c142f",
   "metadata": {
    "deletable": false,
    "editable": false
   },
   "source": [
    "**Задание 14. Обработайте неявные дубликаты в столбце `education`. В этом столбце есть одни и те же значения, но записанные по-разному: с использованием заглавных и строчных букв. Приведите их к нижнему регистру. Проверьте остальные столбцы.**"
   ]
  },
  {
   "cell_type": "code",
   "execution_count": 14,
   "id": "397f5e97",
   "metadata": {
    "deletable": false
   },
   "outputs": [],
   "source": [
    "data['education'] = data['education'].str.lower()"
   ]
  },
  {
   "cell_type": "markdown",
   "id": "07fbe783",
   "metadata": {
    "deletable": false,
    "editable": false,
    "id": "dc587695"
   },
   "source": [
    "**Задание 15. Выведите на экран количество строк-дубликатов в данных. Если такие строки присутствуют, удалите их.**"
   ]
  },
  {
   "cell_type": "code",
   "execution_count": 15,
   "id": "577f91e5",
   "metadata": {
    "deletable": false,
    "id": "3ee445e4",
    "outputId": "9684deba-1934-42d1-99e1-cda61740f822"
   },
   "outputs": [
    {
     "data": {
      "text/plain": [
       "71"
      ]
     },
     "execution_count": 15,
     "metadata": {},
     "output_type": "execute_result"
    }
   ],
   "source": [
    "data.duplicated().sum()"
   ]
  },
  {
   "cell_type": "code",
   "execution_count": 16,
   "id": "0ea40993",
   "metadata": {
    "deletable": false,
    "id": "8575fe05"
   },
   "outputs": [],
   "source": [
    "data = data.drop_duplicates()"
   ]
  },
  {
   "cell_type": "markdown",
   "id": "f665254f",
   "metadata": {
    "deletable": false,
    "editable": false,
    "id": "9904cf55"
   },
   "source": [
    "### Категоризация данных"
   ]
  },
  {
   "cell_type": "markdown",
   "id": "059d3bb6",
   "metadata": {
    "deletable": false,
    "editable": false,
    "id": "72fcc8a2"
   },
   "source": [
    "**Задание 16. На основании диапазонов, указанных ниже, создайте в датафрейме `data` столбец `total_income_category` с категориями:**\n",
    "\n",
    "- 0–30000 — `'E'`;\n",
    "- 30001–50000 — `'D'`;\n",
    "- 50001–200000 — `'C'`;\n",
    "- 200001–1000000 — `'B'`;\n",
    "- 1000001 и выше — `'A'`.\n",
    "\n",
    "\n",
    "**Например, кредитополучателю с доходом 25000 нужно назначить категорию `'E'`, а клиенту, получающему 235000, — `'B'`. Используйте собственную функцию с именем `categorize_income()` и метод `apply()`.**"
   ]
  },
  {
   "cell_type": "code",
   "execution_count": 17,
   "id": "7250b43b",
   "metadata": {
    "deletable": false,
    "id": "e1771346"
   },
   "outputs": [],
   "source": [
    "def categorize_income(income):\n",
    "    try:\n",
    "        if 0 <= income <= 30000:\n",
    "            return 'E'\n",
    "        elif 30001 <= income <= 50000:\n",
    "            return 'D'\n",
    "        elif 50001 <= income <= 200000:\n",
    "            return 'C'\n",
    "        elif 200001 <= income <= 1000000:\n",
    "            return 'B'\n",
    "        elif income >= 1000001:\n",
    "            return 'A'\n",
    "    except:\n",
    "        pass"
   ]
  },
  {
   "cell_type": "code",
   "execution_count": 18,
   "id": "6b8ba319",
   "metadata": {
    "deletable": false,
    "id": "d5f3586d"
   },
   "outputs": [],
   "source": [
    "data['total_income_category'] = data['total_income'].apply(categorize_income)"
   ]
  },
  {
   "cell_type": "markdown",
   "id": "8ab62689",
   "metadata": {
    "deletable": false,
    "editable": false,
    "id": "dde49b5c"
   },
   "source": [
    "**Задание 17. Выведите на экран перечень уникальных целей взятия кредита из столбца `purpose`.**"
   ]
  },
  {
   "cell_type": "code",
   "execution_count": 19,
   "id": "2aae0cbb",
   "metadata": {
    "deletable": false,
    "id": "f67ce9b3",
    "outputId": "673c12d9-7d7e-4ae0-9812-c622c89dd244",
    "scrolled": true
   },
   "outputs": [
    {
     "data": {
      "text/plain": [
       "array(['покупка жилья', 'приобретение автомобиля',\n",
       "       'дополнительное образование', 'сыграть свадьбу',\n",
       "       'операции с жильем', 'образование', 'на проведение свадьбы',\n",
       "       'покупка жилья для семьи', 'покупка недвижимости',\n",
       "       'покупка коммерческой недвижимости', 'покупка жилой недвижимости',\n",
       "       'строительство собственной недвижимости', 'недвижимость',\n",
       "       'строительство недвижимости', 'на покупку подержанного автомобиля',\n",
       "       'на покупку своего автомобиля',\n",
       "       'операции с коммерческой недвижимостью',\n",
       "       'строительство жилой недвижимости', 'жилье',\n",
       "       'операции со своей недвижимостью', 'автомобили',\n",
       "       'заняться образованием', 'сделка с подержанным автомобилем',\n",
       "       'получение образования', 'автомобиль', 'свадьба',\n",
       "       'получение дополнительного образования', 'покупка своего жилья',\n",
       "       'операции с недвижимостью', 'получение высшего образования',\n",
       "       'свой автомобиль', 'сделка с автомобилем',\n",
       "       'профильное образование', 'высшее образование',\n",
       "       'покупка жилья для сдачи', 'на покупку автомобиля', 'ремонт жилью',\n",
       "       'заняться высшим образованием'], dtype=object)"
      ]
     },
     "execution_count": 19,
     "metadata": {},
     "output_type": "execute_result"
    }
   ],
   "source": [
    "data['purpose'].unique()"
   ]
  },
  {
   "cell_type": "markdown",
   "id": "449e9316",
   "metadata": {
    "deletable": false,
    "editable": false,
    "id": "85d0aef0"
   },
   "source": [
    "**Задание 18. Создайте функцию, которая на основании данных из столбца `purpose` сформирует новый столбец `purpose_category`, в который войдут следующие категории:**\n",
    "\n",
    "- `'операции с автомобилем'`,\n",
    "- `'операции с недвижимостью'`,\n",
    "- `'проведение свадьбы'`,\n",
    "- `'получение образования'`.\n",
    "\n",
    "**Например, если в столбце `purpose` находится подстрока `'на покупку автомобиля'`, то в столбце `purpose_category` должна появиться строка `'операции с автомобилем'`.**\n",
    "\n",
    "**Используйте собственную функцию с именем `categorize_purpose()` и метод `apply()`. Изучите данные в столбце `purpose` и определите, какие подстроки помогут вам правильно определить категорию.**"
   ]
  },
  {
   "cell_type": "code",
   "execution_count": 20,
   "id": "cccc4d2d",
   "metadata": {
    "deletable": false,
    "id": "e149fab4"
   },
   "outputs": [],
   "source": [
    "def categorize_purpose(row):\n",
    "    try:\n",
    "        if 'автом' in row:\n",
    "            return 'операции с автомобилем'\n",
    "        elif 'жил' in row or 'недвиж' in row:\n",
    "            return 'операции с недвижимостью'\n",
    "        elif 'свад' in row:\n",
    "            return 'проведение свадьбы'\n",
    "        elif 'образов' in row:\n",
    "            return 'получение образования'\n",
    "    except:\n",
    "        return 'нет категории'"
   ]
  },
  {
   "cell_type": "code",
   "execution_count": 21,
   "id": "2b4581f8",
   "metadata": {
    "deletable": false,
    "id": "bf36e69b"
   },
   "outputs": [],
   "source": [
    "data['purpose_category'] = data['purpose'].apply(categorize_purpose)"
   ]
  },
  {
   "cell_type": "markdown",
   "id": "82e0e35e",
   "metadata": {
    "deletable": false,
    "editable": false,
    "id": "09b242bf"
   },
   "source": [
    "### Шаг 3. Исследуйте данные и ответьте на вопросы"
   ]
  },
  {
   "cell_type": "markdown",
   "id": "bf42706a",
   "metadata": {
    "deletable": false,
    "editable": false,
    "id": "c5d66278"
   },
   "source": [
    "#### 3.1 Есть ли зависимость между количеством детей и возвратом кредита в срок?"
   ]
  },
  {
   "cell_type": "code",
   "execution_count": 22,
   "id": "5b9f6f55",
   "metadata": {},
   "outputs": [],
   "source": [
    "import seaborn as sb"
   ]
  },
  {
   "cell_type": "code",
   "execution_count": 23,
   "id": "1f419a59",
   "metadata": {
    "deletable": false,
    "id": "2cacfc4a"
   },
   "outputs": [
    {
     "data": {
      "text/html": [
       "<div>\n",
       "<style scoped>\n",
       "    .dataframe tbody tr th:only-of-type {\n",
       "        vertical-align: middle;\n",
       "    }\n",
       "\n",
       "    .dataframe tbody tr th {\n",
       "        vertical-align: top;\n",
       "    }\n",
       "\n",
       "    .dataframe thead th {\n",
       "        text-align: right;\n",
       "    }\n",
       "</style>\n",
       "<table border=\"1\" class=\"dataframe\">\n",
       "  <thead>\n",
       "    <tr style=\"text-align: right;\">\n",
       "      <th></th>\n",
       "      <th>children</th>\n",
       "      <th>number_of_contracts</th>\n",
       "      <th>number_of_debt</th>\n",
       "      <th>debt_share,%</th>\n",
       "    </tr>\n",
       "  </thead>\n",
       "  <tbody>\n",
       "    <tr>\n",
       "      <th>0</th>\n",
       "      <td>0</td>\n",
       "      <td>14091</td>\n",
       "      <td>1063</td>\n",
       "      <td>7.544</td>\n",
       "    </tr>\n",
       "    <tr>\n",
       "      <th>1</th>\n",
       "      <td>1</td>\n",
       "      <td>4808</td>\n",
       "      <td>444</td>\n",
       "      <td>9.235</td>\n",
       "    </tr>\n",
       "    <tr>\n",
       "      <th>2</th>\n",
       "      <td>2</td>\n",
       "      <td>2052</td>\n",
       "      <td>194</td>\n",
       "      <td>9.454</td>\n",
       "    </tr>\n",
       "    <tr>\n",
       "      <th>3</th>\n",
       "      <td>3</td>\n",
       "      <td>330</td>\n",
       "      <td>27</td>\n",
       "      <td>8.182</td>\n",
       "    </tr>\n",
       "    <tr>\n",
       "      <th>4</th>\n",
       "      <td>4</td>\n",
       "      <td>41</td>\n",
       "      <td>4</td>\n",
       "      <td>9.756</td>\n",
       "    </tr>\n",
       "    <tr>\n",
       "      <th>5</th>\n",
       "      <td>5</td>\n",
       "      <td>9</td>\n",
       "      <td>0</td>\n",
       "      <td>0.000</td>\n",
       "    </tr>\n",
       "  </tbody>\n",
       "</table>\n",
       "</div>"
      ],
      "text/plain": [
       "   children  number_of_contracts  number_of_debt  debt_share,%\n",
       "0         0                14091            1063         7.544\n",
       "1         1                 4808             444         9.235\n",
       "2         2                 2052             194         9.454\n",
       "3         3                  330              27         8.182\n",
       "4         4                   41               4         9.756\n",
       "5         5                    9               0         0.000"
      ]
     },
     "metadata": {},
     "output_type": "display_data"
    },
    {
     "name": "stdout",
     "output_type": "stream",
     "text": [
      "None\n"
     ]
    }
   ],
   "source": [
    "# кол-во всего контрактов и кол-во задолженностей по возврату кредитов в завивисмоти от кол-ва детей\n",
    "pivot_children = data.pivot_table(index = 'children', values = 'debt', aggfunc =['count','sum','mean']).reset_index()\n",
    "pivot_children.columns = ['children','number_of_contracts','number_of_debt','debt_share,%']\n",
    "\n",
    "#Показатель debt_share,% показывает долю кол-ва задолжностей среди всех контрактов в рамках каждой категории\n",
    "pivot_children['debt_share,%'] = round(pivot_children['debt_share,%']*100,3)\n",
    "\n",
    "print(display(pivot_children))"
   ]
  },
  {
   "cell_type": "code",
   "execution_count": 24,
   "id": "230c38d9",
   "metadata": {},
   "outputs": [
    {
     "data": {
      "text/plain": [
       "<AxesSubplot:xlabel='children'>"
      ]
     },
     "execution_count": 24,
     "metadata": {},
     "output_type": "execute_result"
    },
    {
     "data": {
      "image/png": "[encoded data removed]",
      "text/plain": [
       "<Figure size 432x288 with 1 Axes>"
      ]
     },
     "metadata": {
      "needs_background": "light"
     },
     "output_type": "display_data"
    }
   ],
   "source": [
    "#Рисунок 1. Количество задолжностей в зависимости от количества детей в семье\n",
    "child_debt = data.groupby('children').agg({'debt':['sum']})\n",
    "child_debt.columns = ['number_of_debt']\n",
    "child_debt.plot()"
   ]
  },
  {
   "cell_type": "code",
   "execution_count": 25,
   "id": "72320c60",
   "metadata": {},
   "outputs": [
    {
     "data": {
      "text/plain": [
       "<AxesSubplot:xlabel='children', ylabel='debt_share,%'>"
      ]
     },
     "execution_count": 25,
     "metadata": {},
     "output_type": "execute_result"
    },
    {
     "data": {
      "image/png": "[encoded data removed]",
      "text/plain": [
       "<Figure size 432x288 with 1 Axes>"
      ]
     },
     "metadata": {
      "needs_background": "light"
     },
     "output_type": "display_data"
    }
   ],
   "source": [
    "#Рисунок 2. Доля задолжностей среди всех контрактов в рамках каждой категории в зависимости от количества детей в семье\n",
    "sb.barplot(x= pivot_children['children'],y=pivot_children['debt_share,%'])"
   ]
  },
  {
   "cell_type": "code",
   "execution_count": 26,
   "id": "f2a9f593",
   "metadata": {},
   "outputs": [
    {
     "name": "stdout",
     "output_type": "stream",
     "text": [
      "Число детей в семьях с максимальной долей задолжностей: 4    4\n",
      "Name: children, dtype: int64\n",
      "Число детей в семьях с минимальной долей задолжностей: 5    5\n",
      "Name: children, dtype: int64\n"
     ]
    }
   ],
   "source": [
    "max_debt_share = pivot_children[pivot_children['debt_share,%'] == pivot_children['debt_share,%'].max()]['children']\n",
    "min_debt_share = pivot_children[pivot_children['debt_share,%'] == pivot_children['debt_share,%'].min()]['children']\n",
    "\n",
    "print('Число детей в семьях с максимальной долей задолжностей:', max_debt_share) \n",
    "print('Число детей в семьях с минимальной долей задолжностей:', min_debt_share) "
   ]
  },
  {
   "cell_type": "markdown",
   "id": "570200b9",
   "metadata": {
    "deletable": false,
    "id": "3a6b99ec"
   },
   "source": [
    "**Вывод:** Из рисунка 1 заметна тенденция наличия бОльшего количества задолжностей у семей с наименьшим количеством детей. Однако количественные показатели могут трактовать неверные выводы, поэтому был расчитан относительный показатель debt_share. Максимальная доля задолжностей приходится на категорию семей с четыремя детьми, в то время как наименьшая указывает на пятерых детей. Доли задолжностей в категориях от 0 до 2 детей растет, однако спад у категории с 3 детьми и отсутсвие задолжностей у 5х немного отвергают гипотезу о наличии зависимости возврата кредита с кол-вом детей. \n",
    "\n",
    "Для подтверждения гипотезы зависимости между количеством детей и возвратом кредита в срок предлагается увеличить выборку, для более точной оценки результата. При поверхностной оценки можно предоположить о том, что чем больше детей, тем больше задолжностей."
   ]
  },
  {
   "cell_type": "markdown",
   "id": "9254b2b0",
   "metadata": {
    "deletable": false,
    "editable": false,
    "id": "97be82ca"
   },
   "source": [
    "#### 3.2 Есть ли зависимость между семейным положением и возвратом кредита в срок?"
   ]
  },
  {
   "cell_type": "code",
   "execution_count": 27,
   "id": "85d91112",
   "metadata": {
    "deletable": false,
    "id": "dc3f7ee8"
   },
   "outputs": [
    {
     "data": {
      "text/html": [
       "<div>\n",
       "<style scoped>\n",
       "    .dataframe tbody tr th:only-of-type {\n",
       "        vertical-align: middle;\n",
       "    }\n",
       "\n",
       "    .dataframe tbody tr th {\n",
       "        vertical-align: top;\n",
       "    }\n",
       "\n",
       "    .dataframe thead th {\n",
       "        text-align: right;\n",
       "    }\n",
       "</style>\n",
       "<table border=\"1\" class=\"dataframe\">\n",
       "  <thead>\n",
       "    <tr style=\"text-align: right;\">\n",
       "      <th></th>\n",
       "      <th>status</th>\n",
       "      <th>number_of_contracts</th>\n",
       "      <th>number_of_debt</th>\n",
       "      <th>status_share,%</th>\n",
       "      <th>debt_share,%</th>\n",
       "    </tr>\n",
       "  </thead>\n",
       "  <tbody>\n",
       "    <tr>\n",
       "      <th>0</th>\n",
       "      <td>Не женат / не замужем</td>\n",
       "      <td>2796</td>\n",
       "      <td>273</td>\n",
       "      <td>15.76</td>\n",
       "      <td>9.76</td>\n",
       "    </tr>\n",
       "    <tr>\n",
       "      <th>1</th>\n",
       "      <td>в разводе</td>\n",
       "      <td>1189</td>\n",
       "      <td>84</td>\n",
       "      <td>4.85</td>\n",
       "      <td>7.06</td>\n",
       "    </tr>\n",
       "    <tr>\n",
       "      <th>2</th>\n",
       "      <td>вдовец / вдова</td>\n",
       "      <td>951</td>\n",
       "      <td>63</td>\n",
       "      <td>3.64</td>\n",
       "      <td>6.62</td>\n",
       "    </tr>\n",
       "    <tr>\n",
       "      <th>3</th>\n",
       "      <td>гражданский брак</td>\n",
       "      <td>4134</td>\n",
       "      <td>385</td>\n",
       "      <td>22.23</td>\n",
       "      <td>9.31</td>\n",
       "    </tr>\n",
       "    <tr>\n",
       "      <th>4</th>\n",
       "      <td>женат / замужем</td>\n",
       "      <td>12261</td>\n",
       "      <td>927</td>\n",
       "      <td>53.52</td>\n",
       "      <td>7.56</td>\n",
       "    </tr>\n",
       "  </tbody>\n",
       "</table>\n",
       "</div>"
      ],
      "text/plain": [
       "                  status  number_of_contracts  number_of_debt  status_share,%  \\\n",
       "0  Не женат / не замужем                 2796             273           15.76   \n",
       "1              в разводе                 1189              84            4.85   \n",
       "2         вдовец / вдова                  951              63            3.64   \n",
       "3       гражданский брак                 4134             385           22.23   \n",
       "4        женат / замужем                12261             927           53.52   \n",
       "\n",
       "   debt_share,%  \n",
       "0          9.76  \n",
       "1          7.06  \n",
       "2          6.62  \n",
       "3          9.31  \n",
       "4          7.56  "
      ]
     },
     "metadata": {},
     "output_type": "display_data"
    },
    {
     "name": "stdout",
     "output_type": "stream",
     "text": [
      "None\n"
     ]
    }
   ],
   "source": [
    "# кол-во всего контрактов и кол-во задолженностей по возврату кредитов в завивисмоти от семейного статуса\n",
    "pivot_family = data.pivot_table (index = 'family_status', values = 'debt', aggfunc =['count','sum']).reset_index()\n",
    "pivot_family.columns = ['status','number_of_contracts','number_of_debt']\n",
    "\n",
    "#Показатель status_share,% показывает долю кол-ва задолжностей категории среди всех задолжностей\n",
    "pivot_family['status_share,%'] = round(pivot_family['number_of_debt']/pivot_family['number_of_debt'].sum()*100,2)\n",
    "\n",
    "#Показатель debt_share,% показывает долю кол-ва задолжностей среди всех контрактов в рамках каждой категории\n",
    "pivot_family['debt_share,%'] = round(pivot_family['number_of_debt']/pivot_family['number_of_contracts']*100,2)\n",
    "\n",
    "print(display(pivot_family))"
   ]
  },
  {
   "cell_type": "code",
   "execution_count": 28,
   "id": "9a0784a2",
   "metadata": {},
   "outputs": [
    {
     "data": {
      "text/plain": [
       "<AxesSubplot:xlabel='number_of_debt', ylabel='status'>"
      ]
     },
     "execution_count": 28,
     "metadata": {},
     "output_type": "execute_result"
    },
    {
     "data": {
      "image/png": "[encoded data removed]",
      "text/plain": [
       "<Figure size 432x288 with 1 Axes>"
      ]
     },
     "metadata": {
      "needs_background": "light"
     },
     "output_type": "display_data"
    }
   ],
   "source": [
    "#Рисунок 3. Количество задолжностей в зависимости от семейного положения\n",
    "sb.barplot(y= pivot_family['status'],x=pivot_family['number_of_debt'])"
   ]
  },
  {
   "cell_type": "code",
   "execution_count": 29,
   "id": "9ce5abd3",
   "metadata": {},
   "outputs": [
    {
     "data": {
      "text/plain": [
       "<AxesSubplot:xlabel='debt_share,%', ylabel='status'>"
      ]
     },
     "execution_count": 29,
     "metadata": {},
     "output_type": "execute_result"
    },
    {
     "data": {
      "image/png": "[encoded data removed]",
      "text/plain": [
       "<Figure size 432x288 with 1 Axes>"
      ]
     },
     "metadata": {
      "needs_background": "light"
     },
     "output_type": "display_data"
    }
   ],
   "source": [
    "#Рисунок 4. Доля задолжностей среди всех контрактов в рамках каждой категории в зависимости от семейного положения\n",
    "sb.barplot(y= pivot_family['status'],x=pivot_family['debt_share,%'])"
   ]
  },
  {
   "cell_type": "code",
   "execution_count": 30,
   "id": "b4d8d7ef",
   "metadata": {},
   "outputs": [
    {
     "name": "stdout",
     "output_type": "stream",
     "text": [
      "Семейное положение с максимальной долей задолжностей: 0    Не женат / не замужем\n",
      "Name: status, dtype: object\n",
      "Семейное положение с минимальной долей задолжностей: 2    вдовец / вдова\n",
      "Name: status, dtype: object\n"
     ]
    }
   ],
   "source": [
    "max_debt_share = pivot_family[pivot_family['debt_share,%'] == pivot_family['debt_share,%'].max()]['status']\n",
    "min_debt_share = pivot_family[pivot_family['debt_share,%'] == pivot_family['debt_share,%'].min()]['status']\n",
    "\n",
    "print('Семейное положение с максимальной долей задолжностей:', max_debt_share) \n",
    "print('Семейное положение с минимальной долей задолжностей:', min_debt_share) "
   ]
  },
  {
   "cell_type": "markdown",
   "id": "dadde7df",
   "metadata": {
    "deletable": false,
    "id": "1cef7837"
   },
   "source": [
    "**Вывод:** Больше всего задолжностей, как и количества контрактов (53,5% от всех контрактов), у семейного положения \"женат/замужем\", однако доля задолжности среди контрактов в рамках категории занимает лишь 3-е место (7,56%). Наибольшая доля задолжности приходится на семейное положение \"Не женат/не замужем\" (9,76%). Второе место занял статус \"гражданский брак\". \n",
    "\n",
    "В целом данные два сегмента кредиторов могут иметь схожие особенности и характеристики, поэтому гипотеза о наличии зависимости между семейным положением и возвратом кредита в срок может быть верна: больше задолжностей приходится на людей в \"незарегистрированных отношениях\" и без отношений."
   ]
  },
  {
   "cell_type": "markdown",
   "id": "e9b9d5ff",
   "metadata": {
    "deletable": false,
    "editable": false,
    "id": "1e8b2fca"
   },
   "source": [
    "#### 3.3 Есть ли зависимость между уровнем дохода и возвратом кредита в срок?"
   ]
  },
  {
   "cell_type": "code",
   "execution_count": 31,
   "id": "f34554ba",
   "metadata": {
    "deletable": false,
    "id": "cd7e3720"
   },
   "outputs": [
    {
     "data": {
      "text/html": [
       "<div>\n",
       "<style scoped>\n",
       "    .dataframe tbody tr th:only-of-type {\n",
       "        vertical-align: middle;\n",
       "    }\n",
       "\n",
       "    .dataframe tbody tr th {\n",
       "        vertical-align: top;\n",
       "    }\n",
       "\n",
       "    .dataframe thead th {\n",
       "        text-align: right;\n",
       "    }\n",
       "</style>\n",
       "<table border=\"1\" class=\"dataframe\">\n",
       "  <thead>\n",
       "    <tr style=\"text-align: right;\">\n",
       "      <th></th>\n",
       "      <th>income_category</th>\n",
       "      <th>number_of_contracts</th>\n",
       "      <th>number_of_debt</th>\n",
       "      <th>income_share,%</th>\n",
       "      <th>debt_share,%</th>\n",
       "    </tr>\n",
       "  </thead>\n",
       "  <tbody>\n",
       "    <tr>\n",
       "      <th>0</th>\n",
       "      <td>A</td>\n",
       "      <td>25</td>\n",
       "      <td>2</td>\n",
       "      <td>0.12</td>\n",
       "      <td>8.00</td>\n",
       "    </tr>\n",
       "    <tr>\n",
       "      <th>1</th>\n",
       "      <td>B</td>\n",
       "      <td>5014</td>\n",
       "      <td>354</td>\n",
       "      <td>20.44</td>\n",
       "      <td>7.06</td>\n",
       "    </tr>\n",
       "    <tr>\n",
       "      <th>2</th>\n",
       "      <td>C</td>\n",
       "      <td>15921</td>\n",
       "      <td>1353</td>\n",
       "      <td>78.12</td>\n",
       "      <td>8.50</td>\n",
       "    </tr>\n",
       "    <tr>\n",
       "      <th>3</th>\n",
       "      <td>D</td>\n",
       "      <td>349</td>\n",
       "      <td>21</td>\n",
       "      <td>1.21</td>\n",
       "      <td>6.02</td>\n",
       "    </tr>\n",
       "    <tr>\n",
       "      <th>4</th>\n",
       "      <td>E</td>\n",
       "      <td>22</td>\n",
       "      <td>2</td>\n",
       "      <td>0.12</td>\n",
       "      <td>9.09</td>\n",
       "    </tr>\n",
       "  </tbody>\n",
       "</table>\n",
       "</div>"
      ],
      "text/plain": [
       "  income_category  number_of_contracts  number_of_debt  income_share,%  \\\n",
       "0               A                   25               2            0.12   \n",
       "1               B                 5014             354           20.44   \n",
       "2               C                15921            1353           78.12   \n",
       "3               D                  349              21            1.21   \n",
       "4               E                   22               2            0.12   \n",
       "\n",
       "   debt_share,%  \n",
       "0          8.00  \n",
       "1          7.06  \n",
       "2          8.50  \n",
       "3          6.02  \n",
       "4          9.09  "
      ]
     },
     "metadata": {},
     "output_type": "display_data"
    },
    {
     "name": "stdout",
     "output_type": "stream",
     "text": [
      "None\n"
     ]
    }
   ],
   "source": [
    "# кол-во всего контрактов и кол-во задолженностей по возврату кредитов в завивисмоти от уровня дохода\n",
    "pivot_income = data.pivot_table (index = 'total_income_category', values = 'debt', aggfunc =['count','sum']).reset_index()\n",
    "pivot_income.columns = ['income_category','number_of_contracts','number_of_debt']\n",
    "\n",
    "#Показатель income_share,% показывает долю кол-ва задолжностей категории среди всех задолжностей\n",
    "pivot_income['income_share,%'] = round(pivot_income['number_of_debt']/pivot_income['number_of_debt'].sum()*100,2)\n",
    "\n",
    "#Показатель debt_share,% показывает долю кол-ва задолжностей среди всех контрактов в рамках каждой категории\n",
    "pivot_income['debt_share,%'] = round(pivot_income['number_of_debt']/pivot_income['number_of_contracts']*100,2)\n",
    "\n",
    "print(display(pivot_income))"
   ]
  },
  {
   "cell_type": "code",
   "execution_count": 32,
   "id": "496ceb8c",
   "metadata": {},
   "outputs": [
    {
     "data": {
      "text/plain": [
       "<AxesSubplot:xlabel='number_of_debt', ylabel='income_category'>"
      ]
     },
     "execution_count": 32,
     "metadata": {},
     "output_type": "execute_result"
    },
    {
     "data": {
      "image/png": "[encoded data removed]",
      "text/plain": [
       "<Figure size 432x288 with 1 Axes>"
      ]
     },
     "metadata": {
      "needs_background": "light"
     },
     "output_type": "display_data"
    }
   ],
   "source": [
    "#Рисунок 5. Количество задолжностей в зависимости от уровня дохода\n",
    "sb.barplot(y= pivot_income['income_category'],x=pivot_income['number_of_debt'])"
   ]
  },
  {
   "cell_type": "code",
   "execution_count": 33,
   "id": "a9f4ed81",
   "metadata": {},
   "outputs": [
    {
     "data": {
      "text/plain": [
       "<AxesSubplot:xlabel='debt_share,%', ylabel='income_category'>"
      ]
     },
     "execution_count": 33,
     "metadata": {},
     "output_type": "execute_result"
    },
    {
     "data": {
      "image/png": "[encoded data removed]",
      "text/plain": [
       "<Figure size 432x288 with 1 Axes>"
      ]
     },
     "metadata": {
      "needs_background": "light"
     },
     "output_type": "display_data"
    }
   ],
   "source": [
    "#Рисунок 6. Доля задолжностей среди всех контрактов в рамках каждой категории в зависимости от уровня дохода\n",
    "sb.barplot(y= pivot_income['income_category'],x=pivot_income['debt_share,%'])"
   ]
  },
  {
   "cell_type": "markdown",
   "id": "cab81cb1",
   "metadata": {
    "deletable": false,
    "id": "e8593def"
   },
   "source": [
    "**Вывод:** В количественном выражении явный лидер по количеству задолжностей является категория дохода C (78%). В относительных показателях категория C занимает 2-е место (8,5%), лидером же по данному показателю является категория E (9%).\n",
    "Можно говорить о наличии зависимости между уровнем дохода и возвратом кредита в срок, а именно больше всего задолжников имеет категорию C."
   ]
  },
  {
   "cell_type": "markdown",
   "id": "51c6faff",
   "metadata": {
    "deletable": false,
    "editable": false,
    "id": "99ecbd1f"
   },
   "source": [
    "#### 3.4 Как разные цели кредита влияют на его возврат в срок?"
   ]
  },
  {
   "cell_type": "code",
   "execution_count": 34,
   "id": "2bc41cdd",
   "metadata": {
    "deletable": false,
    "id": "2b687290"
   },
   "outputs": [
    {
     "data": {
      "text/html": [
       "<div>\n",
       "<style scoped>\n",
       "    .dataframe tbody tr th:only-of-type {\n",
       "        vertical-align: middle;\n",
       "    }\n",
       "\n",
       "    .dataframe tbody tr th {\n",
       "        vertical-align: top;\n",
       "    }\n",
       "\n",
       "    .dataframe thead th {\n",
       "        text-align: right;\n",
       "    }\n",
       "</style>\n",
       "<table border=\"1\" class=\"dataframe\">\n",
       "  <thead>\n",
       "    <tr style=\"text-align: right;\">\n",
       "      <th></th>\n",
       "      <th>purpose_category</th>\n",
       "      <th>number_of_contracts</th>\n",
       "      <th>number_of_debt</th>\n",
       "      <th>purpose_share,%</th>\n",
       "      <th>debt_share,%</th>\n",
       "    </tr>\n",
       "  </thead>\n",
       "  <tbody>\n",
       "    <tr>\n",
       "      <th>0</th>\n",
       "      <td>операции с автомобилем</td>\n",
       "      <td>4279</td>\n",
       "      <td>400</td>\n",
       "      <td>23.09</td>\n",
       "      <td>9.35</td>\n",
       "    </tr>\n",
       "    <tr>\n",
       "      <th>1</th>\n",
       "      <td>операции с недвижимостью</td>\n",
       "      <td>10751</td>\n",
       "      <td>780</td>\n",
       "      <td>45.03</td>\n",
       "      <td>7.26</td>\n",
       "    </tr>\n",
       "    <tr>\n",
       "      <th>2</th>\n",
       "      <td>получение образования</td>\n",
       "      <td>3988</td>\n",
       "      <td>369</td>\n",
       "      <td>21.30</td>\n",
       "      <td>9.25</td>\n",
       "    </tr>\n",
       "    <tr>\n",
       "      <th>3</th>\n",
       "      <td>проведение свадьбы</td>\n",
       "      <td>2313</td>\n",
       "      <td>183</td>\n",
       "      <td>10.57</td>\n",
       "      <td>7.91</td>\n",
       "    </tr>\n",
       "  </tbody>\n",
       "</table>\n",
       "</div>"
      ],
      "text/plain": [
       "           purpose_category  number_of_contracts  number_of_debt  \\\n",
       "0    операции с автомобилем                 4279             400   \n",
       "1  операции с недвижимостью                10751             780   \n",
       "2     получение образования                 3988             369   \n",
       "3        проведение свадьбы                 2313             183   \n",
       "\n",
       "   purpose_share,%  debt_share,%  \n",
       "0            23.09          9.35  \n",
       "1            45.03          7.26  \n",
       "2            21.30          9.25  \n",
       "3            10.57          7.91  "
      ]
     },
     "metadata": {},
     "output_type": "display_data"
    },
    {
     "name": "stdout",
     "output_type": "stream",
     "text": [
      "None\n"
     ]
    }
   ],
   "source": [
    "# кол-во всего контрактов и кол-во задолженностей по возврату кредитов в завивисмоти от целей получения кредита\n",
    "pivot_income = data.pivot_table (index = 'purpose_category', values = 'debt', aggfunc =['count','sum']).reset_index()\n",
    "pivot_income.columns = ['purpose_category','number_of_contracts','number_of_debt']\n",
    "\n",
    "#Показатель purpose_share,% показывает долю кол-ва задолжностей категории среди всех задолжностей\n",
    "pivot_income['purpose_share,%'] = round(pivot_income['number_of_debt']/pivot_income['number_of_debt'].sum()*100,2)\n",
    "\n",
    "#Показатель debt_share,% показывает долю кол-ва задолжностей среди всех контрактов в рамках каждой категории\n",
    "pivot_income['debt_share,%'] = round(pivot_income['number_of_debt']/pivot_income['number_of_contracts']*100,2)\n",
    "\n",
    "print(display(pivot_income))"
   ]
  },
  {
   "cell_type": "code",
   "execution_count": 36,
   "id": "91e17865",
   "metadata": {},
   "outputs": [
    {
     "data": {
      "text/plain": [
       "<AxesSubplot:xlabel='number_of_debt', ylabel='purpose_category'>"
      ]
     },
     "execution_count": 36,
     "metadata": {},
     "output_type": "execute_result"
    },
    {
     "data": {
      "image/png": "[encoded data removed]",
      "text/plain": [
       "<Figure size 432x288 with 1 Axes>"
      ]
     },
     "metadata": {
      "needs_background": "light"
     },
     "output_type": "display_data"
    }
   ],
   "source": [
    "#Рисунок 7. Количество задолжностей в зависимости от цели кредита\n",
    "sb.barplot(y= pivot_income['purpose_category'],x=pivot_income['number_of_debt'])"
   ]
  },
  {
   "cell_type": "code",
   "execution_count": 39,
   "id": "0e1ad6ff",
   "metadata": {},
   "outputs": [
    {
     "data": {
      "text/plain": [
       "<AxesSubplot:xlabel='debt_share,%', ylabel='purpose_category'>"
      ]
     },
     "execution_count": 39,
     "metadata": {},
     "output_type": "execute_result"
    },
    {
     "data": {
      "image/png": "[encoded data removed]",
      "text/plain": [
       "<Figure size 432x288 with 1 Axes>"
      ]
     },
     "metadata": {
      "needs_background": "light"
     },
     "output_type": "display_data"
    }
   ],
   "source": [
    "#Рисунок 8. Доля задолжностей среди всех контрактов в рамках каждой категории в зависимости от цели кредита\n",
    "sb.barplot(y= pivot_income['purpose_category'],x=pivot_income['debt_share,%'])"
   ]
  },
  {
   "cell_type": "markdown",
   "id": "9f771b4f",
   "metadata": {
    "deletable": false,
    "id": "b4bb2ce6"
   },
   "source": [
    "**Вывод:** Расматривая рисунок 8 стоит отметить наличие небольшой разницы между значениями: операции с автомобилями и получение образования имеют наибольшие доли задолжностей (9,35% и 9,25% соответсвенно). Наименьшую долю задолжностей имеет категория \"проведение свадьбы\" (7,91%).\n",
    "\n",
    "Из-за отсутствия сильных различий в значениях доли задолжностей не достатчно данных для подтверждения гипотезы о наличии зависимости возврата кредита в срок от целей кредита."
   ]
  },
  {
   "cell_type": "markdown",
   "id": "67192fae",
   "metadata": {
    "deletable": false,
    "editable": false,
    "id": "09c3ac4c"
   },
   "source": [
    "#### 3.5 Приведите возможные причины появления пропусков в исходных данных."
   ]
  },
  {
   "cell_type": "markdown",
   "id": "e9630164",
   "metadata": {
    "deletable": false,
    "id": "9da2ceda"
   },
   "source": [
    "*Ответ:* пропуски присутствуют в days_employed (общий трудовой стаж в днях) и в total_income (ежемесячный доход).\n",
    "Возможно это клиенты без наличия трудового стажа и неимеющие дохода. Возможно также кто-то не хотел заполнять данные о доходности (однако данные поля обычно обязательны к заполнению в анкете). существует и наличие человеческого фактора: ошибки при заполнении."
   ]
  },
  {
   "cell_type": "markdown",
   "id": "d5648dc4",
   "metadata": {
    "deletable": false,
    "editable": false,
    "id": "7b0487d6"
   },
   "source": [
    "#### 3.6 Объясните, почему заполнить пропуски медианным значением — лучшее решение для количественных переменных."
   ]
  },
  {
   "cell_type": "markdown",
   "id": "ed0abd63",
   "metadata": {
    "deletable": false,
    "id": "7ecf2b8e"
   },
   "source": [
    "*Ответ:* В данных могут быть большие выбросы — очень высокие или наоборот маленькие значения. Среднее знчение в данном случае может сильно искажать действительность, медианное как раз больше сглаживает такие скачки в данных. "
   ]
  },
  {
   "cell_type": "markdown",
   "id": "2ef41823",
   "metadata": {
    "deletable": false,
    "editable": false,
    "id": "6db5255a"
   },
   "source": [
    "### Шаг 4: общий вывод."
   ]
  },
  {
   "cell_type": "markdown",
   "id": "76da6e7f",
   "metadata": {
    "deletable": false,
    "id": "bad65432"
   },
   "source": [
    "Анализ платёжеспособности клиентов банка выявил риски наличия задолжности у клиентов с 4-мя детьми, а также у клиентов зарабатывающих от 50001 до 200000 (категория C), у клиентов без официальных семейных отношений (\"Не женат/не замужем\",\"гражданский брак\"). Явная зависимость между кредитоспособностью и цели кредита не выявлена."
   ]
  },
  {
   "cell_type": "markdown",
   "id": "8c8ce0fd",
   "metadata": {},
   "source": [
    "Для анализа было представлено 21525 строк, в процессе обработки данных были убраны неявные и явные дубликаты, удалены строки с аномальными значениями (кол-во детей 20). В столбцах days_employed и total_income обнаружено и устранено 2174 пустот (заполнив пропуски в медианным значением по каждому типу занятости). Кроме того поменяли вещественный тип данных в столбце `total_income` на целочисленный. В блоке категоризация данных добавили к исходным данным категории дохоов total_income_category и целей purpose_category.\n",
    "\n",
    "Анализ платёжеспособности клиентов банка выявил риски наличия задолжности у клиентов с 4-мя детьми, а также у клиентов зарабатывающих от 50001 до 200000 (категория C), у клиентов без официальных семейных отношений (\"Не женат/не замужем\",\"гражданский брак\"). Явная зависимость между кредитоспособностью и цели кредита не выявлена.\n",
    "\n",
    "В продолжении исследования можно рассмотреть влияние нескольких факторов одновременно на задолженности клиентов, а также провести кластерный анализ для выявления характерных категорий клиентов."
   ]
  }
 ],
 "metadata": {
  "ExecuteTimeLog": [
   {
    "duration": 59,
    "start_time": "2022-09-20T08:27:07.929Z"
   },
   {
    "duration": 527,
    "start_time": "2022-09-20T09:41:41.576Z"
   },
   {
    "duration": 44,
    "start_time": "2022-09-20T09:41:42.105Z"
   },
   {
    "duration": 23,
    "start_time": "2022-09-20T09:41:42.440Z"
   },
   {
    "duration": 28,
    "start_time": "2022-09-20T09:41:43.807Z"
   },
   {
    "duration": 38,
    "start_time": "2022-09-20T09:41:44.462Z"
   },
   {
    "duration": 4,
    "start_time": "2022-09-20T09:41:45.249Z"
   },
   {
    "duration": 7,
    "start_time": "2022-09-20T09:41:46.093Z"
   },
   {
    "duration": 6,
    "start_time": "2022-09-20T09:41:47.769Z"
   },
   {
    "duration": 7,
    "start_time": "2022-09-20T09:41:48.458Z"
   },
   {
    "duration": 4,
    "start_time": "2022-09-20T09:41:49.356Z"
   },
   {
    "duration": 50,
    "start_time": "2022-09-20T09:41:52.781Z"
   },
   {
    "duration": 20,
    "start_time": "2022-09-20T09:41:53.431Z"
   },
   {
    "duration": 10,
    "start_time": "2022-09-20T09:41:56.436Z"
   },
   {
    "duration": 20,
    "start_time": "2022-09-20T09:41:58.895Z"
   },
   {
    "duration": 29,
    "start_time": "2022-09-20T09:41:59.779Z"
   },
   {
    "duration": 21,
    "start_time": "2022-09-20T09:42:00.243Z"
   },
   {
    "duration": 4,
    "start_time": "2022-09-20T09:42:01.900Z"
   },
   {
    "duration": 16,
    "start_time": "2022-09-20T09:42:02.446Z"
   },
   {
    "duration": 17,
    "start_time": "2022-09-20T09:42:03.632Z"
   },
   {
    "duration": 3,
    "start_time": "2022-09-20T09:42:06.202Z"
   },
   {
    "duration": 15,
    "start_time": "2022-09-20T09:42:07.731Z"
   },
   {
    "duration": 21,
    "start_time": "2022-09-20T09:42:09.142Z"
   },
   {
    "duration": 15,
    "start_time": "2022-09-20T09:42:42.505Z"
   },
   {
    "duration": 1203,
    "start_time": "2022-09-20T12:30:26.990Z"
   },
   {
    "duration": 182,
    "start_time": "2022-09-20T12:32:09.401Z"
   },
   {
    "duration": 474,
    "start_time": "2022-09-20T12:32:42.828Z"
   },
   {
    "duration": 564,
    "start_time": "2022-09-20T12:33:29.779Z"
   },
   {
    "duration": 102,
    "start_time": "2022-09-20T12:33:41.636Z"
   },
   {
    "duration": 464,
    "start_time": "2022-09-20T12:33:49.942Z"
   },
   {
    "duration": 450,
    "start_time": "2022-09-20T12:35:01.741Z"
   },
   {
    "duration": 526,
    "start_time": "2022-09-20T12:35:10.248Z"
   },
   {
    "duration": 448,
    "start_time": "2022-09-20T12:36:42.737Z"
   },
   {
    "duration": 29,
    "start_time": "2022-09-20T12:36:54.803Z"
   },
   {
    "duration": 35,
    "start_time": "2022-09-20T12:37:35.894Z"
   },
   {
    "duration": 18,
    "start_time": "2022-09-20T12:37:56.274Z"
   },
   {
    "duration": 45,
    "start_time": "2022-09-20T12:38:15.008Z"
   },
   {
    "duration": 27,
    "start_time": "2022-09-20T12:38:29.000Z"
   },
   {
    "duration": 28,
    "start_time": "2022-09-20T12:38:35.137Z"
   },
   {
    "duration": 19,
    "start_time": "2022-09-20T12:39:48.754Z"
   },
   {
    "duration": 19,
    "start_time": "2022-09-20T12:39:53.297Z"
   },
   {
    "duration": 29,
    "start_time": "2022-09-20T12:40:51.338Z"
   },
   {
    "duration": 17,
    "start_time": "2022-09-20T12:41:00.748Z"
   },
   {
    "duration": 521,
    "start_time": "2022-09-20T12:44:27.296Z"
   },
   {
    "duration": 33,
    "start_time": "2022-09-20T12:44:27.826Z"
   },
   {
    "duration": 15,
    "start_time": "2022-09-20T12:44:27.860Z"
   },
   {
    "duration": 9,
    "start_time": "2022-09-20T12:44:27.876Z"
   },
   {
    "duration": 62,
    "start_time": "2022-09-20T12:44:27.887Z"
   },
   {
    "duration": 4,
    "start_time": "2022-09-20T12:44:27.950Z"
   },
   {
    "duration": 14,
    "start_time": "2022-09-20T12:44:27.956Z"
   },
   {
    "duration": 5,
    "start_time": "2022-09-20T12:44:27.971Z"
   },
   {
    "duration": 13,
    "start_time": "2022-09-20T12:44:27.978Z"
   },
   {
    "duration": 4,
    "start_time": "2022-09-20T12:44:27.993Z"
   },
   {
    "duration": 61,
    "start_time": "2022-09-20T12:44:27.998Z"
   },
   {
    "duration": 10,
    "start_time": "2022-09-20T12:44:28.060Z"
   },
   {
    "duration": 10,
    "start_time": "2022-09-20T12:44:28.072Z"
   },
   {
    "duration": 16,
    "start_time": "2022-09-20T12:44:28.084Z"
   },
   {
    "duration": 54,
    "start_time": "2022-09-20T12:44:28.102Z"
   },
   {
    "duration": 16,
    "start_time": "2022-09-20T12:44:28.158Z"
   },
   {
    "duration": 3,
    "start_time": "2022-09-20T12:44:28.175Z"
   },
   {
    "duration": 14,
    "start_time": "2022-09-20T12:44:28.180Z"
   },
   {
    "duration": 8,
    "start_time": "2022-09-20T12:44:28.195Z"
   },
   {
    "duration": 3,
    "start_time": "2022-09-20T12:44:28.204Z"
   },
   {
    "duration": 43,
    "start_time": "2022-09-20T12:44:28.221Z"
   },
   {
    "duration": 9,
    "start_time": "2022-09-20T12:44:28.266Z"
   },
   {
    "duration": 785,
    "start_time": "2022-09-20T12:44:28.276Z"
   },
   {
    "duration": 3,
    "start_time": "2022-09-20T12:44:29.062Z"
   },
   {
    "duration": 13,
    "start_time": "2022-09-20T12:44:29.067Z"
   },
   {
    "duration": 9,
    "start_time": "2022-09-20T12:44:29.082Z"
   },
   {
    "duration": 327,
    "start_time": "2022-09-20T12:49:28.208Z"
   },
   {
    "duration": 159,
    "start_time": "2022-09-20T12:50:37.245Z"
   },
   {
    "duration": 163,
    "start_time": "2022-09-20T12:51:30.374Z"
   },
   {
    "duration": 144,
    "start_time": "2022-09-20T12:51:49.069Z"
   },
   {
    "duration": 134,
    "start_time": "2022-09-20T12:53:33.807Z"
   },
   {
    "duration": 157,
    "start_time": "2022-09-20T12:53:42.112Z"
   },
   {
    "duration": 12,
    "start_time": "2022-09-21T18:50:48.854Z"
   },
   {
    "duration": 15,
    "start_time": "2022-09-21T18:51:09.216Z"
   },
   {
    "duration": 16,
    "start_time": "2022-09-21T18:52:39.124Z"
   },
   {
    "duration": 134,
    "start_time": "2022-09-21T18:53:14.701Z"
   },
   {
    "duration": 115,
    "start_time": "2022-09-21T18:53:17.523Z"
   },
   {
    "duration": 29,
    "start_time": "2022-09-21T18:55:50.914Z"
   },
   {
    "duration": 287,
    "start_time": "2022-09-21T18:58:33.152Z"
   },
   {
    "duration": 387,
    "start_time": "2022-09-21T18:58:51.185Z"
   },
   {
    "duration": 21,
    "start_time": "2022-09-21T19:00:06.965Z"
   },
   {
    "duration": 2093,
    "start_time": "2022-09-21T19:00:26.221Z"
   },
   {
    "duration": 16,
    "start_time": "2022-09-21T19:00:31.752Z"
   },
   {
    "duration": 16,
    "start_time": "2022-09-21T19:06:58.883Z"
   },
   {
    "duration": 16,
    "start_time": "2022-09-21T19:07:17.295Z"
   },
   {
    "duration": 16,
    "start_time": "2022-09-21T19:07:26.216Z"
   },
   {
    "duration": 20,
    "start_time": "2022-09-21T19:08:30.125Z"
   },
   {
    "duration": 20,
    "start_time": "2022-09-21T19:09:11.715Z"
   },
   {
    "duration": 27,
    "start_time": "2022-09-21T19:09:48.721Z"
   },
   {
    "duration": 23,
    "start_time": "2022-09-21T19:10:36.058Z"
   },
   {
    "duration": 22,
    "start_time": "2022-09-21T19:10:42.502Z"
   },
   {
    "duration": 47,
    "start_time": "2022-09-21T19:11:27.003Z"
   },
   {
    "duration": 23,
    "start_time": "2022-09-21T19:11:33.015Z"
   },
   {
    "duration": 8,
    "start_time": "2022-09-21T19:11:44.267Z"
   },
   {
    "duration": 23,
    "start_time": "2022-09-21T19:11:48.658Z"
   },
   {
    "duration": 65,
    "start_time": "2022-09-21T19:15:21.158Z"
   },
   {
    "duration": 77,
    "start_time": "2022-09-21T19:15:38.504Z"
   },
   {
    "duration": 101,
    "start_time": "2022-09-21T19:15:48.969Z"
   },
   {
    "duration": 58,
    "start_time": "2022-09-21T19:17:04.369Z"
   },
   {
    "duration": 117,
    "start_time": "2022-09-21T19:17:15.234Z"
   },
   {
    "duration": 23,
    "start_time": "2022-09-21T19:17:23.804Z"
   },
   {
    "duration": 65,
    "start_time": "2022-09-21T19:17:34.687Z"
   },
   {
    "duration": 20,
    "start_time": "2022-09-21T19:17:48.373Z"
   },
   {
    "duration": 23,
    "start_time": "2022-09-21T19:18:33.409Z"
   },
   {
    "duration": 22,
    "start_time": "2022-09-21T19:18:41.379Z"
   },
   {
    "duration": 19,
    "start_time": "2022-09-21T19:19:05.317Z"
   },
   {
    "duration": 26,
    "start_time": "2022-09-21T19:19:15.258Z"
   },
   {
    "duration": 23,
    "start_time": "2022-09-21T19:21:57.356Z"
   },
   {
    "duration": 64,
    "start_time": "2022-09-21T19:22:05.675Z"
   },
   {
    "duration": 24,
    "start_time": "2022-09-21T19:22:08.467Z"
   },
   {
    "duration": 147,
    "start_time": "2022-09-21T19:22:25.839Z"
   },
   {
    "duration": 23,
    "start_time": "2022-09-21T19:24:15.524Z"
   },
   {
    "duration": 19,
    "start_time": "2022-09-21T19:27:11.213Z"
   },
   {
    "duration": 21,
    "start_time": "2022-09-21T19:27:20.770Z"
   },
   {
    "duration": 27,
    "start_time": "2022-09-21T19:28:08.374Z"
   },
   {
    "duration": 29,
    "start_time": "2022-09-21T19:28:31.479Z"
   },
   {
    "duration": 21,
    "start_time": "2022-09-21T19:28:36.985Z"
   },
   {
    "duration": 78,
    "start_time": "2022-09-21T19:29:00.457Z"
   },
   {
    "duration": 211,
    "start_time": "2022-09-21T19:29:11.608Z"
   },
   {
    "duration": 118,
    "start_time": "2022-09-21T19:29:15.097Z"
   },
   {
    "duration": 21,
    "start_time": "2022-09-21T19:29:38.958Z"
   },
   {
    "duration": 22,
    "start_time": "2022-09-21T19:29:48.082Z"
   },
   {
    "duration": 151,
    "start_time": "2022-09-21T19:30:29.864Z"
   },
   {
    "duration": 53,
    "start_time": "2022-09-21T19:30:44.024Z"
   },
   {
    "duration": 21,
    "start_time": "2022-09-21T19:30:49.088Z"
   },
   {
    "duration": 26,
    "start_time": "2022-09-21T19:32:33.457Z"
   },
   {
    "duration": 21,
    "start_time": "2022-09-21T19:32:50.385Z"
   },
   {
    "duration": 27,
    "start_time": "2022-09-21T19:33:05.098Z"
   },
   {
    "duration": 84,
    "start_time": "2022-09-21T19:33:25.751Z"
   },
   {
    "duration": 21,
    "start_time": "2022-09-21T19:33:30.927Z"
   },
   {
    "duration": 23,
    "start_time": "2022-09-21T19:34:34.341Z"
   },
   {
    "duration": 26,
    "start_time": "2022-09-21T19:34:46.256Z"
   },
   {
    "duration": 21,
    "start_time": "2022-09-21T19:34:51.096Z"
   },
   {
    "duration": 21,
    "start_time": "2022-09-21T19:34:59.666Z"
   },
   {
    "duration": 21,
    "start_time": "2022-09-21T19:35:17.358Z"
   },
   {
    "duration": 20,
    "start_time": "2022-09-21T19:35:21.599Z"
   },
   {
    "duration": 22,
    "start_time": "2022-09-21T19:35:30.285Z"
   },
   {
    "duration": 25,
    "start_time": "2022-09-21T19:36:39.253Z"
   },
   {
    "duration": 21,
    "start_time": "2022-09-21T19:36:58.904Z"
   },
   {
    "duration": 1376,
    "start_time": "2022-09-21T19:37:38.240Z"
   },
   {
    "duration": 986,
    "start_time": "2022-09-21T19:37:45.938Z"
   },
   {
    "duration": 1014,
    "start_time": "2022-09-21T19:38:15.480Z"
   },
   {
    "duration": 4,
    "start_time": "2022-09-21T19:38:18.085Z"
   },
   {
    "duration": 1505,
    "start_time": "2022-09-21T19:38:24.852Z"
   },
   {
    "duration": 4,
    "start_time": "2022-09-21T19:38:29.951Z"
   },
   {
    "duration": 101,
    "start_time": "2022-09-21T19:41:43.958Z"
   },
   {
    "duration": 2107,
    "start_time": "2022-09-21T19:42:16.382Z"
   },
   {
    "duration": 25,
    "start_time": "2022-09-21T19:42:53.693Z"
   },
   {
    "duration": 23,
    "start_time": "2022-09-21T19:43:14.343Z"
   },
   {
    "duration": 22,
    "start_time": "2022-09-21T19:43:51.657Z"
   },
   {
    "duration": 24,
    "start_time": "2022-09-21T19:44:14.794Z"
   },
   {
    "duration": 751,
    "start_time": "2022-09-21T19:44:37.478Z"
   },
   {
    "duration": 25,
    "start_time": "2022-09-21T19:44:56.691Z"
   },
   {
    "duration": 30,
    "start_time": "2022-09-21T19:45:27.619Z"
   },
   {
    "duration": 26,
    "start_time": "2022-09-21T19:45:38.190Z"
   },
   {
    "duration": 5,
    "start_time": "2022-09-21T19:45:49.011Z"
   },
   {
    "duration": 3,
    "start_time": "2022-09-21T19:46:21.145Z"
   },
   {
    "duration": 26,
    "start_time": "2022-09-21T19:47:49.621Z"
   },
   {
    "duration": 23,
    "start_time": "2022-09-21T19:47:54.821Z"
   },
   {
    "duration": 23,
    "start_time": "2022-09-21T19:47:58.453Z"
   },
   {
    "duration": 23,
    "start_time": "2022-09-21T19:48:03.472Z"
   },
   {
    "duration": 5,
    "start_time": "2022-09-21T19:49:37.603Z"
   },
   {
    "duration": 3,
    "start_time": "2022-09-21T19:49:49.759Z"
   },
   {
    "duration": 6,
    "start_time": "2022-09-21T19:51:44.182Z"
   },
   {
    "duration": 5,
    "start_time": "2022-09-21T19:52:00.278Z"
   },
   {
    "duration": 5,
    "start_time": "2022-09-21T19:52:13.601Z"
   },
   {
    "duration": 4,
    "start_time": "2022-09-21T19:52:21.268Z"
   },
   {
    "duration": 7,
    "start_time": "2022-09-21T19:52:47.677Z"
   },
   {
    "duration": 20,
    "start_time": "2022-09-21T19:52:50.914Z"
   },
   {
    "duration": 138,
    "start_time": "2022-09-21T19:53:51.254Z"
   },
   {
    "duration": 1001,
    "start_time": "2022-09-21T19:54:56.571Z"
   },
   {
    "duration": 929,
    "start_time": "2022-09-21T19:56:58.200Z"
   },
   {
    "duration": 212,
    "start_time": "2022-09-21T19:57:52.742Z"
   },
   {
    "duration": 23,
    "start_time": "2022-09-21T19:58:11.667Z"
   },
   {
    "duration": 1271,
    "start_time": "2022-09-21T19:58:18.628Z"
   },
   {
    "duration": 108,
    "start_time": "2022-09-21T19:58:32.987Z"
   },
   {
    "duration": 105,
    "start_time": "2022-09-21T19:58:54.129Z"
   },
   {
    "duration": 8,
    "start_time": "2022-09-21T19:59:31.206Z"
   },
   {
    "duration": 6,
    "start_time": "2022-09-21T19:59:38.416Z"
   },
   {
    "duration": 116,
    "start_time": "2022-09-21T20:01:40.015Z"
   },
   {
    "duration": 124,
    "start_time": "2022-09-21T20:03:06.370Z"
   },
   {
    "duration": 119,
    "start_time": "2022-09-21T20:05:11.888Z"
   },
   {
    "duration": 122,
    "start_time": "2022-09-21T20:05:29.533Z"
   },
   {
    "duration": 123,
    "start_time": "2022-09-21T20:05:36.518Z"
   },
   {
    "duration": 122,
    "start_time": "2022-09-21T20:06:38.029Z"
   },
   {
    "duration": 122,
    "start_time": "2022-09-21T20:08:26.613Z"
   },
   {
    "duration": 846,
    "start_time": "2022-09-21T20:09:53.574Z"
   },
   {
    "duration": 124,
    "start_time": "2022-09-21T20:10:08.230Z"
   },
   {
    "duration": 851,
    "start_time": "2022-09-21T20:10:32.110Z"
   },
   {
    "duration": 17,
    "start_time": "2022-09-21T20:11:12.218Z"
   },
   {
    "duration": 861,
    "start_time": "2022-09-21T20:11:15.765Z"
   },
   {
    "duration": 23,
    "start_time": "2022-09-21T20:11:33.278Z"
   },
   {
    "duration": 20,
    "start_time": "2022-09-21T20:12:24.814Z"
   },
   {
    "duration": 1249,
    "start_time": "2022-09-21T20:12:31.867Z"
   },
   {
    "duration": 21,
    "start_time": "2022-09-21T20:13:00.105Z"
   },
   {
    "duration": 20,
    "start_time": "2022-09-21T20:13:26.821Z"
   },
   {
    "duration": 23,
    "start_time": "2022-09-21T20:14:26.656Z"
   },
   {
    "duration": 1166,
    "start_time": "2022-09-21T20:14:44.621Z"
   },
   {
    "duration": 22,
    "start_time": "2022-09-21T20:14:48.644Z"
   },
   {
    "duration": 1217,
    "start_time": "2022-09-21T20:15:30.080Z"
   },
   {
    "duration": 1020,
    "start_time": "2022-09-21T20:15:38.738Z"
   },
   {
    "duration": 127,
    "start_time": "2022-09-21T20:15:54.029Z"
   },
   {
    "duration": 110,
    "start_time": "2022-09-21T20:16:28.197Z"
   },
   {
    "duration": 22,
    "start_time": "2022-09-21T20:16:30.564Z"
   },
   {
    "duration": 61,
    "start_time": "2022-09-21T20:16:39.465Z"
   },
   {
    "duration": 25,
    "start_time": "2022-09-21T20:16:41.500Z"
   },
   {
    "duration": 190,
    "start_time": "2022-09-21T20:19:18.314Z"
   },
   {
    "duration": 22,
    "start_time": "2022-09-21T20:19:22.970Z"
   },
   {
    "duration": 23,
    "start_time": "2022-09-21T20:19:30.791Z"
   },
   {
    "duration": 24,
    "start_time": "2022-09-21T20:19:39.956Z"
   },
   {
    "duration": 24,
    "start_time": "2022-09-21T20:20:03.485Z"
   },
   {
    "duration": 24,
    "start_time": "2022-09-21T20:20:42.243Z"
   },
   {
    "duration": 25,
    "start_time": "2022-09-21T20:20:47.343Z"
   },
   {
    "duration": 25,
    "start_time": "2022-09-21T20:21:15.113Z"
   },
   {
    "duration": 24,
    "start_time": "2022-09-21T20:25:56.470Z"
   },
   {
    "duration": 22,
    "start_time": "2022-09-21T20:26:03.360Z"
   },
   {
    "duration": 23,
    "start_time": "2022-09-21T20:26:33.659Z"
   },
   {
    "duration": 1041,
    "start_time": "2022-09-21T20:27:25.517Z"
   },
   {
    "duration": 0,
    "start_time": "2022-09-21T20:28:13.766Z"
   },
   {
    "duration": 0,
    "start_time": "2022-09-21T20:28:13.767Z"
   },
   {
    "duration": 23,
    "start_time": "2022-09-21T20:28:22.561Z"
   },
   {
    "duration": 110,
    "start_time": "2022-09-21T20:28:22.586Z"
   },
   {
    "duration": 25,
    "start_time": "2022-09-21T20:30:27.813Z"
   },
   {
    "duration": 124,
    "start_time": "2022-09-21T20:30:34.271Z"
   },
   {
    "duration": 27,
    "start_time": "2022-09-21T20:31:19.255Z"
   },
   {
    "duration": 48,
    "start_time": "2022-09-22T20:16:56.855Z"
   },
   {
    "duration": 1077,
    "start_time": "2022-09-22T20:17:06.909Z"
   },
   {
    "duration": 20,
    "start_time": "2022-09-22T20:17:07.988Z"
   },
   {
    "duration": 15,
    "start_time": "2022-09-22T20:17:08.010Z"
   },
   {
    "duration": 25,
    "start_time": "2022-09-22T20:17:08.027Z"
   },
   {
    "duration": 55,
    "start_time": "2022-09-22T20:17:08.053Z"
   },
   {
    "duration": 3,
    "start_time": "2022-09-22T20:17:08.110Z"
   },
   {
    "duration": 31,
    "start_time": "2022-09-22T20:17:08.114Z"
   },
   {
    "duration": 24,
    "start_time": "2022-09-22T20:17:08.147Z"
   },
   {
    "duration": 23,
    "start_time": "2022-09-22T20:17:08.172Z"
   },
   {
    "duration": 7,
    "start_time": "2022-09-22T20:17:08.197Z"
   },
   {
    "duration": 43,
    "start_time": "2022-09-22T20:17:08.206Z"
   },
   {
    "duration": 9,
    "start_time": "2022-09-22T20:17:08.251Z"
   },
   {
    "duration": 11,
    "start_time": "2022-09-22T20:17:08.262Z"
   },
   {
    "duration": 33,
    "start_time": "2022-09-22T20:17:08.275Z"
   },
   {
    "duration": 40,
    "start_time": "2022-09-22T20:17:08.309Z"
   },
   {
    "duration": 25,
    "start_time": "2022-09-22T20:17:08.350Z"
   },
   {
    "duration": 3,
    "start_time": "2022-09-22T20:17:08.377Z"
   },
   {
    "duration": 27,
    "start_time": "2022-09-22T20:17:08.381Z"
   },
   {
    "duration": 45,
    "start_time": "2022-09-22T20:17:08.410Z"
   },
   {
    "duration": 4,
    "start_time": "2022-09-22T20:17:08.457Z"
   },
   {
    "duration": 11,
    "start_time": "2022-09-22T20:17:08.463Z"
   },
   {
    "duration": 29,
    "start_time": "2022-09-22T20:17:08.476Z"
   },
   {
    "duration": 1043,
    "start_time": "2022-09-22T20:17:08.507Z"
   },
   {
    "duration": 916,
    "start_time": "2022-09-22T20:17:09.552Z"
   },
   {
    "duration": 0,
    "start_time": "2022-09-22T20:17:10.470Z"
   },
   {
    "duration": 0,
    "start_time": "2022-09-22T20:17:10.471Z"
   },
   {
    "duration": 0,
    "start_time": "2022-09-22T20:17:10.473Z"
   },
   {
    "duration": 0,
    "start_time": "2022-09-22T20:17:10.474Z"
   },
   {
    "duration": 0,
    "start_time": "2022-09-22T20:17:10.475Z"
   },
   {
    "duration": 0,
    "start_time": "2022-09-22T20:17:10.477Z"
   },
   {
    "duration": 0,
    "start_time": "2022-09-22T20:17:10.478Z"
   },
   {
    "duration": 117,
    "start_time": "2022-09-22T20:17:30.072Z"
   },
   {
    "duration": 483,
    "start_time": "2022-09-22T20:17:36.002Z"
   },
   {
    "duration": 21,
    "start_time": "2022-09-22T20:17:36.487Z"
   },
   {
    "duration": 14,
    "start_time": "2022-09-22T20:17:36.509Z"
   },
   {
    "duration": 9,
    "start_time": "2022-09-22T20:17:36.534Z"
   },
   {
    "duration": 32,
    "start_time": "2022-09-22T20:17:36.545Z"
   },
   {
    "duration": 3,
    "start_time": "2022-09-22T20:17:36.578Z"
   },
   {
    "duration": 13,
    "start_time": "2022-09-22T20:17:36.583Z"
   },
   {
    "duration": 15,
    "start_time": "2022-09-22T20:17:36.597Z"
   },
   {
    "duration": 22,
    "start_time": "2022-09-22T20:17:36.613Z"
   },
   {
    "duration": 4,
    "start_time": "2022-09-22T20:17:36.637Z"
   },
   {
    "duration": 32,
    "start_time": "2022-09-22T20:17:36.642Z"
   },
   {
    "duration": 9,
    "start_time": "2022-09-22T20:17:36.675Z"
   },
   {
    "duration": 6,
    "start_time": "2022-09-22T20:17:36.685Z"
   },
   {
    "duration": 14,
    "start_time": "2022-09-22T20:17:36.692Z"
   },
   {
    "duration": 35,
    "start_time": "2022-09-22T20:17:36.708Z"
   },
   {
    "duration": 16,
    "start_time": "2022-09-22T20:17:36.744Z"
   },
   {
    "duration": 3,
    "start_time": "2022-09-22T20:17:36.762Z"
   },
   {
    "duration": 14,
    "start_time": "2022-09-22T20:17:36.767Z"
   },
   {
    "duration": 9,
    "start_time": "2022-09-22T20:17:36.783Z"
   },
   {
    "duration": 10,
    "start_time": "2022-09-22T20:17:36.794Z"
   },
   {
    "duration": 10,
    "start_time": "2022-09-22T20:17:36.805Z"
   },
   {
    "duration": 27,
    "start_time": "2022-09-22T20:17:36.833Z"
   },
   {
    "duration": 817,
    "start_time": "2022-09-22T20:17:36.862Z"
   },
   {
    "duration": 120,
    "start_time": "2022-09-22T20:17:37.680Z"
   },
   {
    "duration": 864,
    "start_time": "2022-09-22T20:17:37.801Z"
   },
   {
    "duration": 0,
    "start_time": "2022-09-22T20:17:38.667Z"
   },
   {
    "duration": 0,
    "start_time": "2022-09-22T20:17:38.668Z"
   },
   {
    "duration": 0,
    "start_time": "2022-09-22T20:17:38.669Z"
   },
   {
    "duration": 0,
    "start_time": "2022-09-22T20:17:38.670Z"
   },
   {
    "duration": 0,
    "start_time": "2022-09-22T20:17:38.672Z"
   },
   {
    "duration": 0,
    "start_time": "2022-09-22T20:17:38.673Z"
   },
   {
    "duration": 495,
    "start_time": "2022-09-22T20:18:00.527Z"
   },
   {
    "duration": 22,
    "start_time": "2022-09-22T20:18:01.024Z"
   },
   {
    "duration": 14,
    "start_time": "2022-09-22T20:18:01.047Z"
   },
   {
    "duration": 13,
    "start_time": "2022-09-22T20:18:01.063Z"
   },
   {
    "duration": 37,
    "start_time": "2022-09-22T20:18:01.079Z"
   },
   {
    "duration": 3,
    "start_time": "2022-09-22T20:18:01.118Z"
   },
   {
    "duration": 9,
    "start_time": "2022-09-22T20:18:01.133Z"
   },
   {
    "duration": 17,
    "start_time": "2022-09-22T20:18:01.143Z"
   },
   {
    "duration": 12,
    "start_time": "2022-09-22T20:18:01.162Z"
   },
   {
    "duration": 14,
    "start_time": "2022-09-22T20:18:01.177Z"
   },
   {
    "duration": 51,
    "start_time": "2022-09-22T20:18:01.193Z"
   },
   {
    "duration": 9,
    "start_time": "2022-09-22T20:18:01.246Z"
   },
   {
    "duration": 12,
    "start_time": "2022-09-22T20:18:01.256Z"
   },
   {
    "duration": 21,
    "start_time": "2022-09-22T20:18:01.269Z"
   },
   {
    "duration": 21,
    "start_time": "2022-09-22T20:18:01.291Z"
   },
   {
    "duration": 15,
    "start_time": "2022-09-22T20:18:01.314Z"
   },
   {
    "duration": 8,
    "start_time": "2022-09-22T20:18:01.333Z"
   },
   {
    "duration": 26,
    "start_time": "2022-09-22T20:18:01.342Z"
   },
   {
    "duration": 13,
    "start_time": "2022-09-22T20:18:01.369Z"
   },
   {
    "duration": 10,
    "start_time": "2022-09-22T20:18:01.384Z"
   },
   {
    "duration": 12,
    "start_time": "2022-09-22T20:18:01.395Z"
   },
   {
    "duration": 38,
    "start_time": "2022-09-22T20:18:01.408Z"
   },
   {
    "duration": 846,
    "start_time": "2022-09-22T20:18:01.447Z"
   },
   {
    "duration": 129,
    "start_time": "2022-09-22T20:18:02.295Z"
   },
   {
    "duration": 12,
    "start_time": "2022-09-22T20:18:02.425Z"
   },
   {
    "duration": 42,
    "start_time": "2022-09-22T20:18:02.438Z"
   },
   {
    "duration": 113,
    "start_time": "2022-09-22T20:18:02.482Z"
   },
   {
    "duration": 36,
    "start_time": "2022-09-22T20:18:02.598Z"
   },
   {
    "duration": 123,
    "start_time": "2022-09-22T20:18:02.636Z"
   },
   {
    "duration": 27,
    "start_time": "2022-09-22T20:18:02.761Z"
   },
   {
    "duration": 144,
    "start_time": "2022-09-22T20:18:02.790Z"
   },
   {
    "duration": 136,
    "start_time": "2022-09-22T20:31:39.557Z"
   },
   {
    "duration": 99,
    "start_time": "2022-09-22T20:34:10.175Z"
   },
   {
    "duration": 13,
    "start_time": "2022-09-22T20:34:18.896Z"
   },
   {
    "duration": 157,
    "start_time": "2022-09-22T20:34:46.253Z"
   },
   {
    "duration": 800,
    "start_time": "2022-09-22T20:35:29.281Z"
   },
   {
    "duration": 120,
    "start_time": "2022-09-22T20:35:37.847Z"
   },
   {
    "duration": 760,
    "start_time": "2022-09-22T20:36:07.690Z"
   },
   {
    "duration": 115,
    "start_time": "2022-09-22T20:36:17.646Z"
   },
   {
    "duration": 760,
    "start_time": "2022-09-22T20:39:32.130Z"
   },
   {
    "duration": 8,
    "start_time": "2022-09-22T20:40:05.006Z"
   },
   {
    "duration": 7,
    "start_time": "2022-09-22T20:40:49.764Z"
   },
   {
    "duration": 7,
    "start_time": "2022-09-22T20:41:04.456Z"
   },
   {
    "duration": 698,
    "start_time": "2022-09-22T20:55:19.075Z"
   },
   {
    "duration": 423,
    "start_time": "2022-09-22T20:55:53.979Z"
   },
   {
    "duration": 22,
    "start_time": "2022-09-22T20:55:54.404Z"
   },
   {
    "duration": 19,
    "start_time": "2022-09-22T20:55:54.428Z"
   },
   {
    "duration": 9,
    "start_time": "2022-09-22T20:55:54.449Z"
   },
   {
    "duration": 34,
    "start_time": "2022-09-22T20:55:54.459Z"
   },
   {
    "duration": 3,
    "start_time": "2022-09-22T20:55:54.494Z"
   },
   {
    "duration": 14,
    "start_time": "2022-09-22T20:55:54.498Z"
   },
   {
    "duration": 21,
    "start_time": "2022-09-22T20:55:54.513Z"
   },
   {
    "duration": 8,
    "start_time": "2022-09-22T20:55:54.535Z"
   },
   {
    "duration": 4,
    "start_time": "2022-09-22T20:55:54.546Z"
   },
   {
    "duration": 36,
    "start_time": "2022-09-22T20:55:54.551Z"
   },
   {
    "duration": 10,
    "start_time": "2022-09-22T20:55:54.588Z"
   },
   {
    "duration": 5,
    "start_time": "2022-09-22T20:55:54.600Z"
   },
   {
    "duration": 34,
    "start_time": "2022-09-22T20:55:54.607Z"
   },
   {
    "duration": 22,
    "start_time": "2022-09-22T20:55:54.643Z"
   },
   {
    "duration": 16,
    "start_time": "2022-09-22T20:55:54.667Z"
   },
   {
    "duration": 3,
    "start_time": "2022-09-22T20:55:54.685Z"
   },
   {
    "duration": 11,
    "start_time": "2022-09-22T20:55:54.690Z"
   },
   {
    "duration": 31,
    "start_time": "2022-09-22T20:55:54.702Z"
   },
   {
    "duration": 3,
    "start_time": "2022-09-22T20:55:54.735Z"
   },
   {
    "duration": 10,
    "start_time": "2022-09-22T20:55:54.739Z"
   },
   {
    "duration": 699,
    "start_time": "2022-09-22T20:55:54.750Z"
   },
   {
    "duration": 31,
    "start_time": "2022-09-22T20:55:55.451Z"
   },
   {
    "duration": 141,
    "start_time": "2022-09-22T20:55:55.483Z"
   },
   {
    "duration": 124,
    "start_time": "2022-09-22T20:55:55.633Z"
   },
   {
    "duration": 7,
    "start_time": "2022-09-22T20:55:55.759Z"
   },
   {
    "duration": 28,
    "start_time": "2022-09-22T20:55:55.767Z"
   },
   {
    "duration": 129,
    "start_time": "2022-09-22T20:55:55.797Z"
   },
   {
    "duration": 132,
    "start_time": "2022-09-22T20:55:55.927Z"
   },
   {
    "duration": 8,
    "start_time": "2022-09-22T20:55:56.061Z"
   },
   {
    "duration": 31,
    "start_time": "2022-09-22T20:55:56.071Z"
   },
   {
    "duration": 169,
    "start_time": "2022-09-22T20:55:56.104Z"
   },
   {
    "duration": 31,
    "start_time": "2022-09-22T20:55:56.276Z"
   },
   {
    "duration": 182,
    "start_time": "2022-09-22T20:55:56.309Z"
   },
   {
    "duration": 794,
    "start_time": "2022-09-22T20:56:45.032Z"
   },
   {
    "duration": 691,
    "start_time": "2022-09-22T20:56:54.238Z"
   },
   {
    "duration": 454,
    "start_time": "2022-09-22T20:56:59.958Z"
   },
   {
    "duration": 22,
    "start_time": "2022-09-22T20:57:00.414Z"
   },
   {
    "duration": 14,
    "start_time": "2022-09-22T20:57:00.437Z"
   },
   {
    "duration": 15,
    "start_time": "2022-09-22T20:57:00.453Z"
   },
   {
    "duration": 48,
    "start_time": "2022-09-22T20:57:00.469Z"
   },
   {
    "duration": 3,
    "start_time": "2022-09-22T20:57:00.519Z"
   },
   {
    "duration": 22,
    "start_time": "2022-09-22T20:57:00.523Z"
   },
   {
    "duration": 10,
    "start_time": "2022-09-22T20:57:00.546Z"
   },
   {
    "duration": 27,
    "start_time": "2022-09-22T20:57:00.557Z"
   },
   {
    "duration": 40,
    "start_time": "2022-09-22T20:57:00.587Z"
   },
   {
    "duration": 54,
    "start_time": "2022-09-22T20:57:00.630Z"
   },
   {
    "duration": 15,
    "start_time": "2022-09-22T20:57:00.685Z"
   },
   {
    "duration": 19,
    "start_time": "2022-09-22T20:57:00.702Z"
   },
   {
    "duration": 26,
    "start_time": "2022-09-22T20:57:00.723Z"
   },
   {
    "duration": 39,
    "start_time": "2022-09-22T20:57:00.751Z"
   },
   {
    "duration": 18,
    "start_time": "2022-09-22T20:57:00.792Z"
   },
   {
    "duration": 23,
    "start_time": "2022-09-22T20:57:00.812Z"
   },
   {
    "duration": 28,
    "start_time": "2022-09-22T20:57:00.837Z"
   },
   {
    "duration": 28,
    "start_time": "2022-09-22T20:57:00.866Z"
   },
   {
    "duration": 23,
    "start_time": "2022-09-22T20:57:00.896Z"
   },
   {
    "duration": 23,
    "start_time": "2022-09-22T20:57:00.921Z"
   },
   {
    "duration": 725,
    "start_time": "2022-09-22T20:57:00.946Z"
   },
   {
    "duration": 30,
    "start_time": "2022-09-22T20:57:01.672Z"
   },
   {
    "duration": 154,
    "start_time": "2022-09-22T20:57:01.704Z"
   },
   {
    "duration": 123,
    "start_time": "2022-09-22T20:57:01.859Z"
   },
   {
    "duration": 7,
    "start_time": "2022-09-22T20:57:01.983Z"
   },
   {
    "duration": 40,
    "start_time": "2022-09-22T20:57:01.992Z"
   },
   {
    "duration": 124,
    "start_time": "2022-09-22T20:57:02.036Z"
   },
   {
    "duration": 143,
    "start_time": "2022-09-22T20:57:02.162Z"
   },
   {
    "duration": 8,
    "start_time": "2022-09-22T20:57:02.307Z"
   },
   {
    "duration": 38,
    "start_time": "2022-09-22T20:57:02.317Z"
   },
   {
    "duration": 135,
    "start_time": "2022-09-22T20:57:02.357Z"
   },
   {
    "duration": 127,
    "start_time": "2022-09-22T20:57:02.494Z"
   },
   {
    "duration": 26,
    "start_time": "2022-09-22T20:57:02.634Z"
   },
   {
    "duration": 172,
    "start_time": "2022-09-22T20:57:02.661Z"
   },
   {
    "duration": 126,
    "start_time": "2022-09-22T20:58:40.438Z"
   },
   {
    "duration": 101,
    "start_time": "2022-09-22T21:00:01.194Z"
   },
   {
    "duration": 148,
    "start_time": "2022-09-22T21:00:05.621Z"
   },
   {
    "duration": 111,
    "start_time": "2022-09-22T21:00:19.353Z"
   },
   {
    "duration": 57,
    "start_time": "2022-09-24T16:25:20.607Z"
   },
   {
    "duration": 45,
    "start_time": "2022-09-24T16:25:32.476Z"
   },
   {
    "duration": 78,
    "start_time": "2022-09-25T08:05:22.622Z"
   }
  ],
  "colab": {
   "name": "dpp_template_part2.ipynb",
   "provenance": []
  },
  "kernelspec": {
   "display_name": "Python 3 (ipykernel)",
   "language": "python",
   "name": "python3"
  },
  "language_info": {
   "codemirror_mode": {
    "name": "ipython",
    "version": 3
   },
   "file_extension": ".py",
   "mimetype": "text/x-python",
   "name": "python",
   "nbconvert_exporter": "python",
   "pygments_lexer": "ipython3",
   "version": "3.9.0"
  },
  "toc": {
   "base_numbering": 1,
   "nav_menu": {},
   "number_sections": true,
   "sideBar": true,
   "skip_h1_title": true,
   "title_cell": "Table of Contents",
   "title_sidebar": "Contents",
   "toc_cell": false,
   "toc_position": {},
   "toc_section_display": true,
   "toc_window_display": false
  }
 },
 "nbformat": 4,
 "nbformat_minor": 5
}
