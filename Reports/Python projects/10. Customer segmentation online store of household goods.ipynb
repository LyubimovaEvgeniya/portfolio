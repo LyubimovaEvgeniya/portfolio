{
 "cells": [
  {
   "cell_type": "markdown",
   "id": "cc640305",
   "metadata": {},
   "source": [
    "# Сегментирование покупателей интернет-магазина товаров для дома и быта «Пока все ещё тут»"
   ]
  },
  {
   "cell_type": "markdown",
   "id": "47d960b6",
   "metadata": {},
   "source": [
    "**Задача:**\n",
    "\n",
    "Сегментировать покупателей по профилю потребления\n",
    "\n",
    "- Проведите исследовательский анализ данных\n",
    "- Сегментируйте покупателей на основе истории их покупок\n",
    "- Сформулируйте и проверьте статистические гипотезы"
   ]
  },
  {
   "cell_type": "markdown",
   "id": "87354ed7",
   "metadata": {},
   "source": [
    "Датасет описывает транзакции интернет-магазина товаров для дома и быта «Пока все ещё тут».\n",
    "\n",
    "Колонки в  *ecommerce_dataset.csv* :\n",
    "\n",
    "- `date` — дата заказа;\n",
    "- `customer_id` — идентификатор покупателя;\n",
    "- `order_id` — идентификатор заказа;\n",
    "- `product` — наименование товара;\n",
    "- `quantity` — количество товара в заказе;\n",
    "- `price` — цена товара."
   ]
  },
  {
   "cell_type": "code",
   "execution_count": 32,
   "id": "e0f9fa87",
   "metadata": {},
   "outputs": [],
   "source": [
    "import pandas as pd\n",
    "import matplotlib.pyplot as plt\n",
    "import seaborn as sns\n",
    "import numpy as np\n",
    "import scipy.stats as stats\n",
    "import datetime as dt\n",
    "from datetime import datetime\n",
    "import plotly.express as px\n",
    "\n",
    "import warnings\n",
    "warnings.filterwarnings(\"ignore\")\n",
    "\n",
    "# зададим параметры для графиков\n",
    "plt.rcParams.update({'figure.figsize': (10,5)})\n",
    "sns.set()\n",
    "\n",
    "from scipy.spatial.distance import pdist\n",
    "from scipy.cluster.hierarchy import *\n",
    "from sklearn.cluster import KMeans\n",
    "\n",
    "from sklearn import preprocessing\n",
    "\n",
    "from statsmodels.stats.proportion import proportions_ztest"
   ]
  },
  {
   "cell_type": "markdown",
   "id": "09f0d4ea",
   "metadata": {},
   "source": [
    "### Предобрабодка данных"
   ]
  },
  {
   "cell_type": "code",
   "execution_count": 38,
   "id": "e7593f90",
   "metadata": {},
   "outputs": [
    {
     "data": {
      "text/html": [
       "<div>\n",
       "<style scoped>\n",
       "    .dataframe tbody tr th:only-of-type {\n",
       "        vertical-align: middle;\n",
       "    }\n",
       "\n",
       "    .dataframe tbody tr th {\n",
       "        vertical-align: top;\n",
       "    }\n",
       "\n",
       "    .dataframe thead th {\n",
       "        text-align: right;\n",
       "    }\n",
       "</style>\n",
       "<table border=\"1\" class=\"dataframe\">\n",
       "  <thead>\n",
       "    <tr style=\"text-align: right;\">\n",
       "      <th></th>\n",
       "      <th>date</th>\n",
       "      <th>customer_id</th>\n",
       "      <th>order_id</th>\n",
       "      <th>product</th>\n",
       "      <th>quantity</th>\n",
       "      <th>price</th>\n",
       "    </tr>\n",
       "  </thead>\n",
       "  <tbody>\n",
       "    <tr>\n",
       "      <th>0</th>\n",
       "      <td>2018100100</td>\n",
       "      <td>ee47d746-6d2f-4d3c-9622-c31412542920</td>\n",
       "      <td>68477</td>\n",
       "      <td>Комнатное растение в горшке Алое Вера, d12, h30</td>\n",
       "      <td>1</td>\n",
       "      <td>142.0</td>\n",
       "    </tr>\n",
       "    <tr>\n",
       "      <th>1</th>\n",
       "      <td>2018100100</td>\n",
       "      <td>ee47d746-6d2f-4d3c-9622-c31412542920</td>\n",
       "      <td>68477</td>\n",
       "      <td>Комнатное растение в горшке Кофе Арабика, d12,...</td>\n",
       "      <td>1</td>\n",
       "      <td>194.0</td>\n",
       "    </tr>\n",
       "    <tr>\n",
       "      <th>2</th>\n",
       "      <td>2018100100</td>\n",
       "      <td>ee47d746-6d2f-4d3c-9622-c31412542920</td>\n",
       "      <td>68477</td>\n",
       "      <td>Радермахера d-12 см h-20 см</td>\n",
       "      <td>1</td>\n",
       "      <td>112.0</td>\n",
       "    </tr>\n",
       "    <tr>\n",
       "      <th>3</th>\n",
       "      <td>2018100100</td>\n",
       "      <td>ee47d746-6d2f-4d3c-9622-c31412542920</td>\n",
       "      <td>68477</td>\n",
       "      <td>Хризолидокарпус Лутесценс d-9 см</td>\n",
       "      <td>1</td>\n",
       "      <td>179.0</td>\n",
       "    </tr>\n",
       "    <tr>\n",
       "      <th>4</th>\n",
       "      <td>2018100100</td>\n",
       "      <td>ee47d746-6d2f-4d3c-9622-c31412542920</td>\n",
       "      <td>68477</td>\n",
       "      <td>Циперус Зумула d-12 см h-25 см</td>\n",
       "      <td>1</td>\n",
       "      <td>112.0</td>\n",
       "    </tr>\n",
       "  </tbody>\n",
       "</table>\n",
       "</div>"
      ],
      "text/plain": [
       "         date                           customer_id  order_id  \\\n",
       "0  2018100100  ee47d746-6d2f-4d3c-9622-c31412542920     68477   \n",
       "1  2018100100  ee47d746-6d2f-4d3c-9622-c31412542920     68477   \n",
       "2  2018100100  ee47d746-6d2f-4d3c-9622-c31412542920     68477   \n",
       "3  2018100100  ee47d746-6d2f-4d3c-9622-c31412542920     68477   \n",
       "4  2018100100  ee47d746-6d2f-4d3c-9622-c31412542920     68477   \n",
       "\n",
       "                                             product  quantity  price  \n",
       "0    Комнатное растение в горшке Алое Вера, d12, h30         1  142.0  \n",
       "1  Комнатное растение в горшке Кофе Арабика, d12,...         1  194.0  \n",
       "2                        Радермахера d-12 см h-20 см         1  112.0  \n",
       "3                   Хризолидокарпус Лутесценс d-9 см         1  179.0  \n",
       "4                     Циперус Зумула d-12 см h-25 см         1  112.0  "
      ]
     },
     "metadata": {},
     "output_type": "display_data"
    },
    {
     "name": "stdout",
     "output_type": "stream",
     "text": [
      "None\n",
      "<class 'pandas.core.frame.DataFrame'>\n",
      "RangeIndex: 6737 entries, 0 to 6736\n",
      "Data columns (total 6 columns):\n",
      " #   Column       Non-Null Count  Dtype  \n",
      "---  ------       --------------  -----  \n",
      " 0   date         6737 non-null   int64  \n",
      " 1   customer_id  6737 non-null   object \n",
      " 2   order_id     6737 non-null   int64  \n",
      " 3   product      6737 non-null   object \n",
      " 4   quantity     6737 non-null   int64  \n",
      " 5   price        6737 non-null   float64\n",
      "dtypes: float64(1), int64(3), object(2)\n",
      "memory usage: 315.9+ KB\n"
     ]
    }
   ],
   "source": [
    "# Загрузим наши данные в переменную\n",
    "try:\n",
    "    data = pd.read_csv('/datasets/ecommerce_dataset.csv')\n",
    "except:\n",
    "    data = pd.read_csv('ecommerce_dataset.csv')\n",
    "\n",
    "# Сохраним датасет до обработкиэ\n",
    "data_original = data.copy()\n",
    "data_original_shape = data.shape\n",
    "\n",
    "print(display(data.head(5)))\n",
    "# Изучим данные\n",
    "data.info()"
   ]
  },
  {
   "cell_type": "markdown",
   "id": "fc73322d",
   "metadata": {},
   "source": [
    "В датасете нет пустых значений, названия колонок соответвуют нормам, только колонка date требует изменения типа и формата записи данных."
   ]
  },
  {
   "cell_type": "code",
   "execution_count": 39,
   "id": "20537a3b",
   "metadata": {},
   "outputs": [
    {
     "data": {
      "text/html": [
       "<div>\n",
       "<style scoped>\n",
       "    .dataframe tbody tr th:only-of-type {\n",
       "        vertical-align: middle;\n",
       "    }\n",
       "\n",
       "    .dataframe tbody tr th {\n",
       "        vertical-align: top;\n",
       "    }\n",
       "\n",
       "    .dataframe thead th {\n",
       "        text-align: right;\n",
       "    }\n",
       "</style>\n",
       "<table border=\"1\" class=\"dataframe\">\n",
       "  <thead>\n",
       "    <tr style=\"text-align: right;\">\n",
       "      <th></th>\n",
       "      <th>date</th>\n",
       "      <th>customer_id</th>\n",
       "      <th>order_id</th>\n",
       "      <th>product</th>\n",
       "      <th>quantity</th>\n",
       "      <th>price</th>\n",
       "      <th>year</th>\n",
       "      <th>month</th>\n",
       "      <th>week</th>\n",
       "      <th>week_day</th>\n",
       "      <th>day</th>\n",
       "      <th>hour</th>\n",
       "      <th>month_year</th>\n",
       "    </tr>\n",
       "  </thead>\n",
       "  <tbody>\n",
       "    <tr>\n",
       "      <th>0</th>\n",
       "      <td>2018-10-01</td>\n",
       "      <td>ee47d746-6d2f-4d3c-9622-c31412542920</td>\n",
       "      <td>68477</td>\n",
       "      <td>Комнатное растение в горшке Алое Вера, d12, h30</td>\n",
       "      <td>1</td>\n",
       "      <td>142.0</td>\n",
       "      <td>2018</td>\n",
       "      <td>10</td>\n",
       "      <td>40</td>\n",
       "      <td>0</td>\n",
       "      <td>2018-10-01</td>\n",
       "      <td>0</td>\n",
       "      <td>2018-10</td>\n",
       "    </tr>\n",
       "    <tr>\n",
       "      <th>1</th>\n",
       "      <td>2018-10-01</td>\n",
       "      <td>ee47d746-6d2f-4d3c-9622-c31412542920</td>\n",
       "      <td>68477</td>\n",
       "      <td>Комнатное растение в горшке Кофе Арабика, d12,...</td>\n",
       "      <td>1</td>\n",
       "      <td>194.0</td>\n",
       "      <td>2018</td>\n",
       "      <td>10</td>\n",
       "      <td>40</td>\n",
       "      <td>0</td>\n",
       "      <td>2018-10-01</td>\n",
       "      <td>0</td>\n",
       "      <td>2018-10</td>\n",
       "    </tr>\n",
       "  </tbody>\n",
       "</table>\n",
       "</div>"
      ],
      "text/plain": [
       "        date                           customer_id  order_id  \\\n",
       "0 2018-10-01  ee47d746-6d2f-4d3c-9622-c31412542920     68477   \n",
       "1 2018-10-01  ee47d746-6d2f-4d3c-9622-c31412542920     68477   \n",
       "\n",
       "                                             product  quantity  price  year  \\\n",
       "0    Комнатное растение в горшке Алое Вера, d12, h30         1  142.0  2018   \n",
       "1  Комнатное растение в горшке Кофе Арабика, d12,...         1  194.0  2018   \n",
       "\n",
       "   month  week  week_day         day  hour month_year  \n",
       "0     10    40         0  2018-10-01     0    2018-10  \n",
       "1     10    40         0  2018-10-01     0    2018-10  "
      ]
     },
     "execution_count": 39,
     "metadata": {},
     "output_type": "execute_result"
    }
   ],
   "source": [
    "# Поменяем формат даты\n",
    "data['date'] = pd.to_datetime(data['date'].astype('str'), format='%Y%m%d%H')\n",
    "\n",
    "# Создадим дополнительные колонки \n",
    "data['year'] = data['date'].dt.year #год\n",
    "data['month'] = data['date'].dt.month #номер месяца\n",
    "data['week'] = data['date'].dt.isocalendar().week #номер недели\n",
    "data['week_day'] = data['date'].dt.dayofweek #день недели, где 0 - понедельник, 6 - воскресенье\n",
    "data['day'] =  pd.to_datetime(data['date']).dt.to_period('d') #день\n",
    "data['hour'] = data['date'].dt.hour #час\n",
    "data['month_year'] = pd.to_datetime(data['date']).dt.to_period('M') #год+месяц\n",
    "\n",
    "data.head(2)"
   ]
  },
  {
   "cell_type": "code",
   "execution_count": 40,
   "id": "f6fd6e7c",
   "metadata": {},
   "outputs": [
    {
     "name": "stdout",
     "output_type": "stream",
     "text": [
      "Кол-во задублированных строк: 0\n",
      "Кол-во задублированных транзакций с разным временем: 1864\n"
     ]
    }
   ],
   "source": [
    "# Проверим на наличие явных дубликатов\n",
    "duplicates_unique = data[data.duplicated(keep='first')].shape\n",
    "print('Кол-во задублированных строк:', duplicates_unique[0])\n",
    "\n",
    "# Проверим на наличие неполных дубликатов\n",
    "duplicates_unique_2 = data[data.duplicated(subset=['customer_id','order_id','product','quantity','price'], keep='last')].shape\n",
    "print('Кол-во задублированных транзакций с разным временем:', duplicates_unique_2[0])"
   ]
  },
  {
   "cell_type": "markdown",
   "id": "f807567d",
   "metadata": {},
   "source": [
    "При проверке транзакций найденных дубликатов, увидим что в одном заказе есть несколько транзакций одного товара в разное время. Будем считать, что последняя транзакция будет считаться успешной оплатой и приходом средств из банка. Поэтому удалим все промежуточные транзакции, количество заказов и покупателей при этом не изменится."
   ]
  },
  {
   "cell_type": "code",
   "execution_count": 41,
   "id": "5a50ea0f",
   "metadata": {
    "scrolled": true
   },
   "outputs": [
    {
     "data": {
      "text/html": [
       "<div>\n",
       "<style scoped>\n",
       "    .dataframe tbody tr th:only-of-type {\n",
       "        vertical-align: middle;\n",
       "    }\n",
       "\n",
       "    .dataframe tbody tr th {\n",
       "        vertical-align: top;\n",
       "    }\n",
       "\n",
       "    .dataframe thead th {\n",
       "        text-align: right;\n",
       "    }\n",
       "</style>\n",
       "<table border=\"1\" class=\"dataframe\">\n",
       "  <thead>\n",
       "    <tr style=\"text-align: right;\">\n",
       "      <th></th>\n",
       "      <th>order_id</th>\n",
       "      <th>customer_id</th>\n",
       "    </tr>\n",
       "  </thead>\n",
       "  <tbody>\n",
       "    <tr>\n",
       "      <th>0</th>\n",
       "      <td>72845</td>\n",
       "      <td>4</td>\n",
       "    </tr>\n",
       "    <tr>\n",
       "      <th>1</th>\n",
       "      <td>71480</td>\n",
       "      <td>3</td>\n",
       "    </tr>\n",
       "    <tr>\n",
       "      <th>2</th>\n",
       "      <td>69485</td>\n",
       "      <td>3</td>\n",
       "    </tr>\n",
       "    <tr>\n",
       "      <th>3</th>\n",
       "      <td>69310</td>\n",
       "      <td>2</td>\n",
       "    </tr>\n",
       "    <tr>\n",
       "      <th>4</th>\n",
       "      <td>69833</td>\n",
       "      <td>2</td>\n",
       "    </tr>\n",
       "    <tr>\n",
       "      <th>5</th>\n",
       "      <td>72790</td>\n",
       "      <td>2</td>\n",
       "    </tr>\n",
       "    <tr>\n",
       "      <th>6</th>\n",
       "      <td>72778</td>\n",
       "      <td>2</td>\n",
       "    </tr>\n",
       "    <tr>\n",
       "      <th>7</th>\n",
       "      <td>14872</td>\n",
       "      <td>2</td>\n",
       "    </tr>\n",
       "    <tr>\n",
       "      <th>8</th>\n",
       "      <td>71542</td>\n",
       "      <td>2</td>\n",
       "    </tr>\n",
       "    <tr>\n",
       "      <th>9</th>\n",
       "      <td>71054</td>\n",
       "      <td>2</td>\n",
       "    </tr>\n",
       "    <tr>\n",
       "      <th>10</th>\n",
       "      <td>71663</td>\n",
       "      <td>2</td>\n",
       "    </tr>\n",
       "    <tr>\n",
       "      <th>11</th>\n",
       "      <td>70726</td>\n",
       "      <td>2</td>\n",
       "    </tr>\n",
       "    <tr>\n",
       "      <th>12</th>\n",
       "      <td>69531</td>\n",
       "      <td>2</td>\n",
       "    </tr>\n",
       "    <tr>\n",
       "      <th>13</th>\n",
       "      <td>70542</td>\n",
       "      <td>2</td>\n",
       "    </tr>\n",
       "    <tr>\n",
       "      <th>14</th>\n",
       "      <td>70903</td>\n",
       "      <td>2</td>\n",
       "    </tr>\n",
       "    <tr>\n",
       "      <th>15</th>\n",
       "      <td>69283</td>\n",
       "      <td>2</td>\n",
       "    </tr>\n",
       "    <tr>\n",
       "      <th>16</th>\n",
       "      <td>71226</td>\n",
       "      <td>2</td>\n",
       "    </tr>\n",
       "    <tr>\n",
       "      <th>17</th>\n",
       "      <td>71571</td>\n",
       "      <td>2</td>\n",
       "    </tr>\n",
       "    <tr>\n",
       "      <th>18</th>\n",
       "      <td>69410</td>\n",
       "      <td>2</td>\n",
       "    </tr>\n",
       "    <tr>\n",
       "      <th>19</th>\n",
       "      <td>69345</td>\n",
       "      <td>2</td>\n",
       "    </tr>\n",
       "    <tr>\n",
       "      <th>20</th>\n",
       "      <td>70808</td>\n",
       "      <td>2</td>\n",
       "    </tr>\n",
       "    <tr>\n",
       "      <th>21</th>\n",
       "      <td>70114</td>\n",
       "      <td>2</td>\n",
       "    </tr>\n",
       "    <tr>\n",
       "      <th>22</th>\n",
       "      <td>70631</td>\n",
       "      <td>2</td>\n",
       "    </tr>\n",
       "    <tr>\n",
       "      <th>23</th>\n",
       "      <td>71461</td>\n",
       "      <td>2</td>\n",
       "    </tr>\n",
       "    <tr>\n",
       "      <th>24</th>\n",
       "      <td>72950</td>\n",
       "      <td>2</td>\n",
       "    </tr>\n",
       "    <tr>\n",
       "      <th>25</th>\n",
       "      <td>71648</td>\n",
       "      <td>2</td>\n",
       "    </tr>\n",
       "    <tr>\n",
       "      <th>26</th>\n",
       "      <td>70946</td>\n",
       "      <td>2</td>\n",
       "    </tr>\n",
       "    <tr>\n",
       "      <th>27</th>\n",
       "      <td>68785</td>\n",
       "      <td>2</td>\n",
       "    </tr>\n",
       "    <tr>\n",
       "      <th>28</th>\n",
       "      <td>72188</td>\n",
       "      <td>2</td>\n",
       "    </tr>\n",
       "  </tbody>\n",
       "</table>\n",
       "</div>"
      ],
      "text/plain": [
       "    order_id  customer_id\n",
       "0      72845            4\n",
       "1      71480            3\n",
       "2      69485            3\n",
       "3      69310            2\n",
       "4      69833            2\n",
       "5      72790            2\n",
       "6      72778            2\n",
       "7      14872            2\n",
       "8      71542            2\n",
       "9      71054            2\n",
       "10     71663            2\n",
       "11     70726            2\n",
       "12     69531            2\n",
       "13     70542            2\n",
       "14     70903            2\n",
       "15     69283            2\n",
       "16     71226            2\n",
       "17     71571            2\n",
       "18     69410            2\n",
       "19     69345            2\n",
       "20     70808            2\n",
       "21     70114            2\n",
       "22     70631            2\n",
       "23     71461            2\n",
       "24     72950            2\n",
       "25     71648            2\n",
       "26     70946            2\n",
       "27     68785            2\n",
       "28     72188            2"
      ]
     },
     "execution_count": 41,
     "metadata": {},
     "output_type": "execute_result"
    }
   ],
   "source": [
    "#проверим, нет ли одинаковых номеров заказов у разных пользователей\n",
    "check_customer_id = data.groupby('order_id')['customer_id'].nunique().sort_values(ascending = False).reset_index()\n",
    "check_customer_id[check_customer_id['customer_id']>=2]\n",
    "#data[data['order_id']==72845]"
   ]
  },
  {
   "cell_type": "markdown",
   "id": "69dc30e4",
   "metadata": {},
   "source": [
    "3 заказа имеют несколько покупателей. Заказы в рамках клиента одинаковые и отличаются только датой или временем совершения заказа. Такие заказы будем считать как один и оставим клиента, который последний по дате и времени выполнил заказ"
   ]
  },
  {
   "cell_type": "code",
   "execution_count": 42,
   "id": "55f2068f",
   "metadata": {},
   "outputs": [
    {
     "name": "stdout",
     "output_type": "stream",
     "text": [
      "(4837, 13)\n",
      "Процент удаленных строк: 28 %\n"
     ]
    }
   ],
   "source": [
    "#уберем промежуточные транзакции и лишние заказы дубли с разными клиентами\n",
    "data = data.drop_duplicates(subset=['order_id','product','quantity'], keep='last').reset_index(drop=True)\n",
    "data[data['order_id']==69485] = data[data['order_id']==69485].drop_duplicates(subset=['order_id'], keep='last').reset_index(drop=True)\n",
    "\n",
    "print(data.shape)\n",
    "print('Процент удаленных строк:', round(duplicates_unique_2[0]/data_original_shape[0]*100),'%')"
   ]
  },
  {
   "cell_type": "code",
   "execution_count": 43,
   "id": "83d3d504",
   "metadata": {},
   "outputs": [
    {
     "data": {
      "text/html": [
       "<div>\n",
       "<style scoped>\n",
       "    .dataframe tbody tr th:only-of-type {\n",
       "        vertical-align: middle;\n",
       "    }\n",
       "\n",
       "    .dataframe tbody tr th {\n",
       "        vertical-align: top;\n",
       "    }\n",
       "\n",
       "    .dataframe thead th {\n",
       "        text-align: right;\n",
       "    }\n",
       "</style>\n",
       "<table border=\"1\" class=\"dataframe\">\n",
       "  <thead>\n",
       "    <tr style=\"text-align: right;\">\n",
       "      <th></th>\n",
       "      <th>order_id</th>\n",
       "      <th>customer_id</th>\n",
       "    </tr>\n",
       "  </thead>\n",
       "  <tbody>\n",
       "  </tbody>\n",
       "</table>\n",
       "</div>"
      ],
      "text/plain": [
       "Empty DataFrame\n",
       "Columns: [order_id, customer_id]\n",
       "Index: []"
      ]
     },
     "execution_count": 43,
     "metadata": {},
     "output_type": "execute_result"
    }
   ],
   "source": [
    "#проверка\n",
    "check_customer_id = data.groupby('order_id')['customer_id'].nunique().sort_values(ascending = False).reset_index()\n",
    "check_customer_id[check_customer_id['customer_id']>=2]"
   ]
  },
  {
   "cell_type": "markdown",
   "id": "dc5b46d1",
   "metadata": {},
   "source": [
    "Сгуппируем транзации по заказам и создадим датасет с итоговой суммой заказов. Предварительно посчитаем сумму стоимости товара, где несколько штук."
   ]
  },
  {
   "cell_type": "code",
   "execution_count": 7,
   "id": "d5bbee0d",
   "metadata": {},
   "outputs": [],
   "source": [
    "# посчитаем итоговую стоимость товаров\n",
    "data['total_revenue'] = data['quantity']*data['price']"
   ]
  },
  {
   "cell_type": "code",
   "execution_count": 8,
   "id": "9c2f572f",
   "metadata": {},
   "outputs": [
    {
     "data": {
      "text/html": [
       "<div>\n",
       "<style scoped>\n",
       "    .dataframe tbody tr th:only-of-type {\n",
       "        vertical-align: middle;\n",
       "    }\n",
       "\n",
       "    .dataframe tbody tr th {\n",
       "        vertical-align: top;\n",
       "    }\n",
       "\n",
       "    .dataframe thead th {\n",
       "        text-align: right;\n",
       "    }\n",
       "</style>\n",
       "<table border=\"1\" class=\"dataframe\">\n",
       "  <thead>\n",
       "    <tr style=\"text-align: right;\">\n",
       "      <th></th>\n",
       "      <th>date</th>\n",
       "      <th>customer_id</th>\n",
       "      <th>order_id</th>\n",
       "      <th>year</th>\n",
       "      <th>month_year</th>\n",
       "      <th>month</th>\n",
       "      <th>week</th>\n",
       "      <th>day</th>\n",
       "      <th>week_day</th>\n",
       "      <th>hour</th>\n",
       "      <th>quantity</th>\n",
       "      <th>total_revenue</th>\n",
       "    </tr>\n",
       "  </thead>\n",
       "  <tbody>\n",
       "    <tr>\n",
       "      <th>0</th>\n",
       "      <td>2018-10-01 00:00:00</td>\n",
       "      <td>ee47d746-6d2f-4d3c-9622-c31412542920</td>\n",
       "      <td>68477</td>\n",
       "      <td>2018</td>\n",
       "      <td>2018-10</td>\n",
       "      <td>10</td>\n",
       "      <td>40</td>\n",
       "      <td>2018-10-01</td>\n",
       "      <td>0</td>\n",
       "      <td>0</td>\n",
       "      <td>7</td>\n",
       "      <td>1037.0</td>\n",
       "    </tr>\n",
       "    <tr>\n",
       "      <th>1</th>\n",
       "      <td>2018-10-01 08:00:00</td>\n",
       "      <td>375e0724-f033-4c76-b579-84969cf38ee2</td>\n",
       "      <td>68479</td>\n",
       "      <td>2018</td>\n",
       "      <td>2018-10</td>\n",
       "      <td>10</td>\n",
       "      <td>40</td>\n",
       "      <td>2018-10-01</td>\n",
       "      <td>0</td>\n",
       "      <td>8</td>\n",
       "      <td>1</td>\n",
       "      <td>824.0</td>\n",
       "    </tr>\n",
       "  </tbody>\n",
       "</table>\n",
       "</div>"
      ],
      "text/plain": [
       "                 date                           customer_id  order_id  year  \\\n",
       "0 2018-10-01 00:00:00  ee47d746-6d2f-4d3c-9622-c31412542920     68477  2018   \n",
       "1 2018-10-01 08:00:00  375e0724-f033-4c76-b579-84969cf38ee2     68479  2018   \n",
       "\n",
       "  month_year  month  week         day  week_day  hour  quantity  total_revenue  \n",
       "0    2018-10     10    40  2018-10-01         0     0         7         1037.0  \n",
       "1    2018-10     10    40  2018-10-01         0     8         1          824.0  "
      ]
     },
     "execution_count": 8,
     "metadata": {},
     "output_type": "execute_result"
    }
   ],
   "source": [
    "# создадим датасет с заказами\n",
    "data_orders = data.pivot_table(values=['total_revenue','quantity'],index=['date','customer_id','order_id','year', 'month_year',\n",
    "                                       'month', 'week', 'day','week_day', 'hour'], aggfunc='sum').reset_index()\n",
    "\n",
    "data_orders.head(2)"
   ]
  },
  {
   "cell_type": "code",
   "execution_count": 9,
   "id": "2ba00c20",
   "metadata": {},
   "outputs": [
    {
     "data": {
      "image/png": "[encoded data removed]",
      "text/plain": [
       "<Figure size 720x360 with 1 Axes>"
      ]
     },
     "metadata": {},
     "output_type": "display_data"
    }
   ],
   "source": [
    "# Изучим структуру стоимости заказов\n",
    "sns.boxplot(data=data_orders['total_revenue'])\n",
    "data_orders['total_revenue'].max() #самый дорогой заказ, выяснили у источника данных что это тестовый заказ, уберем его из анализа\n",
    "data_orders = data_orders[(data_orders['order_id']!=71743)]\n",
    "data = data[(data['order_id']!=71743)]"
   ]
  },
  {
   "cell_type": "code",
   "execution_count": 10,
   "id": "0aa7b892",
   "metadata": {},
   "outputs": [
    {
     "data": {
      "text/plain": [
       "<AxesSubplot:>"
      ]
     },
     "execution_count": 10,
     "metadata": {},
     "output_type": "execute_result"
    },
    {
     "data": {
      "image/png": "[encoded data removed]",
      "text/plain": [
       "<Figure size 720x360 with 1 Axes>"
      ]
     },
     "metadata": {},
     "output_type": "display_data"
    }
   ],
   "source": [
    "# Посмотрим распределение суммы стоимости заказов после удаление слишком большого заказа\n",
    "sns.boxplot(data=data_orders['total_revenue'])"
   ]
  },
  {
   "cell_type": "markdown",
   "id": "2dd3a8f0",
   "metadata": {},
   "source": [
    "Дубликаты и выбросы убраны, данные готовы к исследовательскому анализу"
   ]
  },
  {
   "cell_type": "markdown",
   "id": "101d3836",
   "metadata": {},
   "source": [
    "### Исследовательский анализ данных"
   ]
  },
  {
   "cell_type": "code",
   "execution_count": 11,
   "id": "2d36d581",
   "metadata": {},
   "outputs": [
    {
     "data": {
      "text/html": [
       "<div>\n",
       "<style scoped>\n",
       "    .dataframe tbody tr th:only-of-type {\n",
       "        vertical-align: middle;\n",
       "    }\n",
       "\n",
       "    .dataframe tbody tr th {\n",
       "        vertical-align: top;\n",
       "    }\n",
       "\n",
       "    .dataframe thead th {\n",
       "        text-align: right;\n",
       "    }\n",
       "</style>\n",
       "<table border=\"1\" class=\"dataframe\">\n",
       "  <thead>\n",
       "    <tr style=\"text-align: right;\">\n",
       "      <th></th>\n",
       "      <th>date</th>\n",
       "      <th>customer_id</th>\n",
       "      <th>order_id</th>\n",
       "      <th>year</th>\n",
       "      <th>month_year</th>\n",
       "      <th>month</th>\n",
       "      <th>week</th>\n",
       "      <th>day</th>\n",
       "      <th>week_day</th>\n",
       "      <th>hour</th>\n",
       "      <th>quantity</th>\n",
       "      <th>total_revenue</th>\n",
       "    </tr>\n",
       "  </thead>\n",
       "  <tbody>\n",
       "    <tr>\n",
       "      <th>0</th>\n",
       "      <td>2018-10-01</td>\n",
       "      <td>ee47d746-6d2f-4d3c-9622-c31412542920</td>\n",
       "      <td>68477</td>\n",
       "      <td>2018</td>\n",
       "      <td>2018-10</td>\n",
       "      <td>10</td>\n",
       "      <td>40</td>\n",
       "      <td>2018-10-01</td>\n",
       "      <td>0</td>\n",
       "      <td>0</td>\n",
       "      <td>7</td>\n",
       "      <td>1037.0</td>\n",
       "    </tr>\n",
       "  </tbody>\n",
       "</table>\n",
       "</div>"
      ],
      "text/plain": [
       "        date                           customer_id  order_id  year month_year  \\\n",
       "0 2018-10-01  ee47d746-6d2f-4d3c-9622-c31412542920     68477  2018    2018-10   \n",
       "\n",
       "   month  week         day  week_day  hour  quantity  total_revenue  \n",
       "0     10    40  2018-10-01         0     0         7         1037.0  "
      ]
     },
     "execution_count": 11,
     "metadata": {},
     "output_type": "execute_result"
    }
   ],
   "source": [
    "data_orders.head(1)"
   ]
  },
  {
   "cell_type": "code",
   "execution_count": 12,
   "id": "98eb963e",
   "metadata": {},
   "outputs": [
    {
     "name": "stdout",
     "output_type": "stream",
     "text": [
      "Количество заказов: 2783\n",
      "Количество покупателей: 2422\n"
     ]
    }
   ],
   "source": [
    "print('Количество заказов:',data['order_id'].nunique())\n",
    "print('Количество покупателей:',data['customer_id'].nunique())"
   ]
  },
  {
   "cell_type": "code",
   "execution_count": 13,
   "id": "a098bdee",
   "metadata": {},
   "outputs": [
    {
     "name": "stdout",
     "output_type": "stream",
     "text": [
      "Минимальная дата в данных: 2018-10-01 00:00:00\n",
      "Максимальная дата в данных: 2019-10-31 16:00:00\n"
     ]
    }
   ],
   "source": [
    "print('Минимальная дата в данных:',min(data_orders['date']))\n",
    "print('Максимальная дата в данных:',max(data_orders['date']))"
   ]
  },
  {
   "cell_type": "code",
   "execution_count": 14,
   "id": "fc82b758",
   "metadata": {},
   "outputs": [
    {
     "data": {
      "text/html": [
       "<div>\n",
       "<style scoped>\n",
       "    .dataframe tbody tr th:only-of-type {\n",
       "        vertical-align: middle;\n",
       "    }\n",
       "\n",
       "    .dataframe tbody tr th {\n",
       "        vertical-align: top;\n",
       "    }\n",
       "\n",
       "    .dataframe thead th {\n",
       "        text-align: right;\n",
       "    }\n",
       "</style>\n",
       "<table border=\"1\" class=\"dataframe\">\n",
       "  <thead>\n",
       "    <tr style=\"text-align: right;\">\n",
       "      <th></th>\n",
       "      <th>customer_id</th>\n",
       "      <th>order_id</th>\n",
       "    </tr>\n",
       "    <tr>\n",
       "      <th>year</th>\n",
       "      <th></th>\n",
       "      <th></th>\n",
       "    </tr>\n",
       "  </thead>\n",
       "  <tbody>\n",
       "    <tr>\n",
       "      <th>2018</th>\n",
       "      <td>585</td>\n",
       "      <td>721</td>\n",
       "    </tr>\n",
       "    <tr>\n",
       "      <th>2019</th>\n",
       "      <td>1843</td>\n",
       "      <td>2063</td>\n",
       "    </tr>\n",
       "  </tbody>\n",
       "</table>\n",
       "</div>"
      ],
      "text/plain": [
       "      customer_id  order_id\n",
       "year                       \n",
       "2018          585       721\n",
       "2019         1843      2063"
      ]
     },
     "execution_count": 14,
     "metadata": {},
     "output_type": "execute_result"
    }
   ],
   "source": [
    "# Посмотрим распредление по годам\n",
    "data.groupby('year')['customer_id','order_id'].nunique()"
   ]
  },
  {
   "cell_type": "markdown",
   "id": "0537a02c",
   "metadata": {},
   "source": [
    "Данные представлены за последние 3 месяца 2018 года и по октябрь 2019 года. Будем рассматривать показатели в динамике по колонке год+месяц"
   ]
  },
  {
   "cell_type": "code",
   "execution_count": 15,
   "id": "196a1f40",
   "metadata": {},
   "outputs": [
    {
     "data": {
      "image/png": "[encoded data removed]",
      "text/plain": [
       "<Figure size 720x360 with 1 Axes>"
      ]
     },
     "metadata": {},
     "output_type": "display_data"
    }
   ],
   "source": [
    "# Столбчатый график с кол-вом заказов по месяцам\n",
    "group_data = data_orders.groupby('month_year')['order_id'].nunique().reset_index()\n",
    "group_data.plot('month_year','order_id', kind='bar', color ='#92c5de') \n",
    "plt.axhline(y=np.nanmean(group_data['order_id']),color='green', linestyle='--', linewidth=1.5, label='Среднее кол-во заказов')\n",
    "plt.xlabel('Месяц')\n",
    "plt.ylabel('Количество заказов')\n",
    "plt.title('Количество заказов по месяцам')\n",
    "plt.legend()\n",
    "plt.show()"
   ]
  },
  {
   "cell_type": "markdown",
   "id": "e9c4d3c3",
   "metadata": {},
   "source": [
    "Изучая динамику количества заказов по месяцам, заметен небольшой тренд на снижение кол-ва заказов в 2019 году. Количество заказов в месяц с мая 2019 года ниже среднего ежемесячного кол-ва заказов за весь период. В январе также заметен спад количества заказов, который может быть обусловлен покупательской стагнацией после новогодних затрат."
   ]
  },
  {
   "cell_type": "code",
   "execution_count": 16,
   "id": "28b270e2",
   "metadata": {},
   "outputs": [
    {
     "data": {
      "image/png": "[encoded data removed]",
      "text/plain": [
       "<Figure size 720x360 with 1 Axes>"
      ]
     },
     "metadata": {},
     "output_type": "display_data"
    }
   ],
   "source": [
    "# Линейный график с кол-вом заказов по дням\n",
    "group_data = data_orders.groupby('day')['order_id'].nunique().reset_index()\n",
    "group_data.plot('day','order_id', color ='#92c5de') \n",
    "plt.axhline(y=np.nanmean(group_data['order_id']),color='green', linestyle='--', linewidth=1.5, label='Среднее кол-во заказов в день')\n",
    "plt.xlabel('Месяц')\n",
    "plt.ylabel('Количество заказов')\n",
    "plt.title('Количество заказов по дням')\n",
    "plt.legend()\n",
    "plt.show()"
   ]
  },
  {
   "cell_type": "markdown",
   "id": "fd0b7619",
   "metadata": {},
   "source": [
    "Снижение заказов также заметно в разбивке динамики по дням. Чаще всего со второго квартала 2019 года кол-во заказов стало меньше среднего кол-ва за весь период."
   ]
  },
  {
   "cell_type": "code",
   "execution_count": 17,
   "id": "d2996bb7",
   "metadata": {},
   "outputs": [
    {
     "data": {
      "image/png": "[encoded data removed]",
      "text/plain": [
       "<Figure size 720x360 with 1 Axes>"
      ]
     },
     "metadata": {},
     "output_type": "display_data"
    }
   ],
   "source": [
    "# Столбчатый график с кол-вом покупателей по месяцам\n",
    "group_data = data_orders.groupby('month_year')['customer_id'].nunique().reset_index()\n",
    "group_data.plot('month_year','customer_id', kind='bar', color ='#92c5de') \n",
    "plt.axhline(y=np.nanmean(group_data['customer_id']),color='green', linestyle='--', linewidth=1.5, label='Среднее кол-во покупателей')\n",
    "plt.xlabel('Месяц')\n",
    "plt.ylabel('Количество покупателей')\n",
    "plt.title('Количество покупателей по месяцам')\n",
    "plt.legend()\n",
    "plt.show()"
   ]
  },
  {
   "cell_type": "markdown",
   "id": "49b0d6e6",
   "metadata": {},
   "source": [
    "Количество покупателей повторяет тенденцию показателя количества заказов: с мая 2019 кол-во покупателей уменьшилось и было ниже среднего показателя за весь период."
   ]
  },
  {
   "cell_type": "code",
   "execution_count": 18,
   "id": "dddea978",
   "metadata": {},
   "outputs": [
    {
     "data": {
      "image/png": "[encoded data removed]",
      "text/plain": [
       "<Figure size 720x360 with 1 Axes>"
      ]
     },
     "metadata": {},
     "output_type": "display_data"
    }
   ],
   "source": [
    "# Линейный график с кол-вом покупателей по дням\n",
    "group_data = data_orders.groupby('day')['customer_id'].nunique().reset_index()\n",
    "group_data.plot('day','customer_id', color ='#92c5de') \n",
    "plt.axhline(y=np.nanmean(group_data['customer_id']),color='green', linestyle='--', linewidth=1.5, label='Среднее кол-во покупателей в день')\n",
    "plt.xlabel('День')\n",
    "plt.ylabel('Количество покупателей')\n",
    "plt.title('Количество покупателей по дням')\n",
    "plt.legend()\n",
    "plt.show()"
   ]
  },
  {
   "cell_type": "markdown",
   "id": "c9da0848",
   "metadata": {},
   "source": [
    "Динамика по дням показателя количества покупателей также повторяет снижение активности с мая 2019 г."
   ]
  },
  {
   "cell_type": "code",
   "execution_count": 19,
   "id": "4d95c4a7",
   "metadata": {},
   "outputs": [
    {
     "data": {
      "image/png": "[encoded data removed]",
      "text/plain": [
       "<Figure size 720x360 with 1 Axes>"
      ]
     },
     "metadata": {},
     "output_type": "display_data"
    }
   ],
   "source": [
    "# Столбчатый график с выручкой по месяцам\n",
    "group_data = data_orders.groupby('month_year')['total_revenue'].sum().reset_index()\n",
    "group_data.plot('month_year','total_revenue', kind='bar', color ='#92c5de') \n",
    "plt.axhline(y=np.nanmean(group_data['total_revenue']),color='green', linestyle='--', linewidth=1.5, label='Средняя выручка')\n",
    "plt.xlabel('Месяц')\n",
    "plt.ylabel('Суммарная выручка')\n",
    "plt.title('Выручка по месяцам')\n",
    "plt.legend()\n",
    "plt.show()"
   ]
  },
  {
   "cell_type": "markdown",
   "id": "2a0f9ff5",
   "metadata": {},
   "source": [
    "Анализируя динамику выручки магазина, ежемесячная выручка значительно уменьшается к концу 2019 года. Падение показателя сильнее заметно, чем уменьшение количества заказов и клиентов, что возможно говорит о введении большого кол-ва скидочных программ и акций для восстановления покупательской активности. \n",
    "\n",
    "В октябре 2019 года выручка уменьшилась на 37,6% по сравнению с октябрем 2018. Наибольшая выручка в 2019 году была в апреле."
   ]
  },
  {
   "cell_type": "code",
   "execution_count": 20,
   "id": "7b07df10",
   "metadata": {},
   "outputs": [
    {
     "data": {
      "image/png": "[encoded data removed]",
      "text/plain": [
       "<Figure size 720x360 with 1 Axes>"
      ]
     },
     "metadata": {},
     "output_type": "display_data"
    }
   ],
   "source": [
    "# Cредняя выручка на 1 покупателя по месяцам\n",
    "rev_per_month = data_orders.groupby('month_year')['total_revenue','customer_id'].agg({'total_revenue':'sum',\n",
    "                                                                       'customer_id':'nunique' }).reset_index()\n",
    "rev_per_month['avg_rev_per_customer'] = round(rev_per_month['total_revenue']/rev_per_month['customer_id'])\n",
    "\n",
    "rev_per_month.plot('month_year','avg_rev_per_customer', kind='bar', color ='#92c5de') \n",
    "plt.axhline(y=np.nanmean(rev_per_month['avg_rev_per_customer']),color='green', linestyle='--', linewidth=1.5, label='Средняя выручка на 1 покупателя')\n",
    "plt.xlabel('Месяц')\n",
    "plt.ylabel('Средняя выручка на 1 покупателя')\n",
    "plt.title('Средняя выручка на 1 покупателя по месяцам')\n",
    "plt.legend()\n",
    "plt.show()"
   ]
  },
  {
   "cell_type": "markdown",
   "id": "38701063",
   "metadata": {},
   "source": [
    "Относительный показатель средней выручки на 1 покупателя имеет более сглаженный вид по сравнению с общим значением выручки: также наблюдаются уменьшение денег в обороте, средняя выручка на 1 покупателя в октябре 2019 упала на 38% по сравнению с октябрем 2018.\n",
    "\n",
    "В 2019 году наибольший показатель средней выручки на 1 покупателя пришелся на июнь (когда было меньше всего покупателей)."
   ]
  },
  {
   "cell_type": "code",
   "execution_count": 21,
   "id": "2962c8af",
   "metadata": {},
   "outputs": [
    {
     "data": {
      "image/png": "[encoded data removed]",
      "text/plain": [
       "<Figure size 720x360 with 1 Axes>"
      ]
     },
     "metadata": {},
     "output_type": "display_data"
    }
   ],
   "source": [
    "# Cредний чек заказов\n",
    "check_per_month = data_orders.groupby('month_year')['total_revenue','order_id'].agg({'total_revenue':'sum',\n",
    "                                                                       'order_id':'nunique' }).reset_index()\n",
    "check_per_month['avg_check'] = round(check_per_month['total_revenue']/check_per_month['order_id'])\n",
    "\n",
    "check_per_month.plot('month_year','avg_check', kind='bar', color ='#92c5de') \n",
    "plt.axhline(y=np.nanmean(check_per_month['avg_check']),color='green', linestyle='--', linewidth=1.5, label='Средний размер среднего чека')\n",
    "plt.xlabel('Месяц')\n",
    "plt.ylabel('Средний чек заказов')\n",
    "plt.title('Средний чек заказов по месяцам')\n",
    "plt.legend()\n",
    "plt.show()"
   ]
  },
  {
   "cell_type": "markdown",
   "id": "abc5d76c",
   "metadata": {},
   "source": [
    "Динамика среднего чека также имеет тенденцию к снижению. Наибольший показатель в 2019 году приходит на июнь 2019.\n",
    "\n",
    "В октябре 2019 средний чек уменьшился на 26% по сравнению с октябрем 2018 года."
   ]
  },
  {
   "cell_type": "code",
   "execution_count": 22,
   "id": "5ab2d5de",
   "metadata": {},
   "outputs": [
    {
     "data": {
      "image/png": "[encoded data removed]",
      "text/plain": [
       "<Figure size 720x360 with 1 Axes>"
      ]
     },
     "metadata": {},
     "output_type": "display_data"
    }
   ],
   "source": [
    "# В какой день недели делают больше всего заказов\n",
    "group_data = data_orders.groupby('week_day')['order_id'].nunique().reset_index() # 0 - понедельник, 6 - воскресенье\n",
    "group_data.plot('week_day','order_id', kind='bar', color ='#92c5de') \n",
    "plt.xlabel('Месяц')\n",
    "plt.ylabel('Количество заказов')\n",
    "plt.title('Количество заказов по дням недели')\n",
    "plt.show()"
   ]
  },
  {
   "cell_type": "markdown",
   "id": "cd7d83bd",
   "metadata": {},
   "source": [
    "Больше всего заказов было сделано в начале недели, меньше всего заказов пришлось на субботу. В выходные клиенты больше отдыхают, чем совершают покупки в онлайн магазине товаров для дома."
   ]
  },
  {
   "cell_type": "code",
   "execution_count": 23,
   "id": "a9a61d25",
   "metadata": {},
   "outputs": [
    {
     "data": {
      "text/html": [
       "<div>\n",
       "<style scoped>\n",
       "    .dataframe tbody tr th:only-of-type {\n",
       "        vertical-align: middle;\n",
       "    }\n",
       "\n",
       "    .dataframe tbody tr th {\n",
       "        vertical-align: top;\n",
       "    }\n",
       "\n",
       "    .dataframe thead th {\n",
       "        text-align: right;\n",
       "    }\n",
       "</style>\n",
       "<table border=\"1\" class=\"dataframe\">\n",
       "  <thead>\n",
       "    <tr style=\"text-align: right;\">\n",
       "      <th></th>\n",
       "      <th>кол-во заказов</th>\n",
       "      <th>кол-во клиентов</th>\n",
       "      <th>доля от всех клиентов</th>\n",
       "    </tr>\n",
       "  </thead>\n",
       "  <tbody>\n",
       "    <tr>\n",
       "      <th>0</th>\n",
       "      <td>1</td>\n",
       "      <td>2265</td>\n",
       "      <td>93.52</td>\n",
       "    </tr>\n",
       "    <tr>\n",
       "      <th>1</th>\n",
       "      <td>2</td>\n",
       "      <td>129</td>\n",
       "      <td>5.33</td>\n",
       "    </tr>\n",
       "    <tr>\n",
       "      <th>2</th>\n",
       "      <td>3</td>\n",
       "      <td>20</td>\n",
       "      <td>0.83</td>\n",
       "    </tr>\n",
       "    <tr>\n",
       "      <th>3</th>\n",
       "      <td>4</td>\n",
       "      <td>3</td>\n",
       "      <td>0.12</td>\n",
       "    </tr>\n",
       "    <tr>\n",
       "      <th>4</th>\n",
       "      <td>5</td>\n",
       "      <td>1</td>\n",
       "      <td>0.04</td>\n",
       "    </tr>\n",
       "    <tr>\n",
       "      <th>5</th>\n",
       "      <td>7</td>\n",
       "      <td>1</td>\n",
       "      <td>0.04</td>\n",
       "    </tr>\n",
       "    <tr>\n",
       "      <th>6</th>\n",
       "      <td>17</td>\n",
       "      <td>1</td>\n",
       "      <td>0.04</td>\n",
       "    </tr>\n",
       "    <tr>\n",
       "      <th>7</th>\n",
       "      <td>35</td>\n",
       "      <td>1</td>\n",
       "      <td>0.04</td>\n",
       "    </tr>\n",
       "    <tr>\n",
       "      <th>8</th>\n",
       "      <td>126</td>\n",
       "      <td>1</td>\n",
       "      <td>0.04</td>\n",
       "    </tr>\n",
       "  </tbody>\n",
       "</table>\n",
       "</div>"
      ],
      "text/plain": [
       "   кол-во заказов  кол-во клиентов  доля от всех клиентов\n",
       "0               1             2265                  93.52\n",
       "1               2              129                   5.33\n",
       "2               3               20                   0.83\n",
       "3               4                3                   0.12\n",
       "4               5                1                   0.04\n",
       "5               7                1                   0.04\n",
       "6              17                1                   0.04\n",
       "7              35                1                   0.04\n",
       "8             126                1                   0.04"
      ]
     },
     "execution_count": 23,
     "metadata": {},
     "output_type": "execute_result"
    }
   ],
   "source": [
    "# Посмотрим есть ли у клиентов повторные заказы\n",
    "few_orders = data_orders.groupby('customer_id')['order_id'].nunique().reset_index().sort_values(by='order_id',ascending = False)\n",
    "few_orders = few_orders.groupby('order_id')['customer_id'].nunique().reset_index()\n",
    "few_orders['share'] = round(few_orders['customer_id']/data['customer_id'].nunique()*100,2)\n",
    "few_orders = few_orders.rename(columns ={'order_id':'кол-во заказов',\n",
    "                                        'customer_id':'кол-во клиентов',\n",
    "                                        'share':'доля от всех клиентов'})\n",
    "few_orders"
   ]
  },
  {
   "cell_type": "markdown",
   "id": "b9e2f4fb",
   "metadata": {},
   "source": [
    "Из 2450 покупателей, только 160 совершали повторную покупку (6,5%).\n",
    "\n",
    "93,5 % клиентов совершили за 13 месяцев только 1 покупку.\n",
    "\n",
    "Магазину нужно обратить внимание на удержание и возвращение спящих клиентов."
   ]
  },
  {
   "cell_type": "code",
   "execution_count": 24,
   "id": "74016e9a",
   "metadata": {},
   "outputs": [
    {
     "data": {
      "image/png": "[encoded data removed]",
      "text/plain": [
       "<Figure size 720x360 with 1 Axes>"
      ]
     },
     "metadata": {},
     "output_type": "display_data"
    },
    {
     "name": "stdout",
     "output_type": "stream",
     "text": [
      "          quantity     price\n",
      "quantity  1.000000 -0.065114\n",
      "price    -0.065114  1.000000\n"
     ]
    }
   ],
   "source": [
    "# Точечная диаграмма цена-проданные шт\n",
    "plt.scatter(data['quantity'],data['price'])\n",
    "plt.xlabel('Количество проданных единиц товара')\n",
    "plt.ylabel('Цена товара')\n",
    "plt.title('Распределение цены товара от проданных единиц')\n",
    "plt.show()\n",
    "\n",
    "# Корреляция Пирсона\n",
    "print(data[['quantity','price']].corr())"
   ]
  },
  {
   "cell_type": "markdown",
   "id": "0ce016df",
   "metadata": {},
   "source": [
    "На графике видно, что больше всего продано единиц у недорогостоящих товаров, тем временем у дорогих позиций кол-во проданных единиц меньше 10. Дорогостоющие товары для дома люди скорее всего предпочитают приобретать очно. (Однако статистической зависимости между кол-вом проданных товаров и их ценой не наблюдается).\n",
    "\n",
    "Также возможно стоит обратить внимание на контентную состовляющую оформления карточки товара: обеспечить набором качественных фотографий товара, дополнительным видео материалом, полным описанием и достаточным количеством отзывов, чтобы повысить уверенность покупателя в качестве товара и увеличить продажи дорогих позиций."
   ]
  },
  {
   "cell_type": "code",
   "execution_count": 25,
   "id": "eb1217ae",
   "metadata": {},
   "outputs": [
    {
     "name": "stdout",
     "output_type": "stream",
     "text": [
      "10 самых продаваемых товаров\n"
     ]
    },
    {
     "data": {
      "text/html": [
       "<div>\n",
       "<style scoped>\n",
       "    .dataframe tbody tr th:only-of-type {\n",
       "        vertical-align: middle;\n",
       "    }\n",
       "\n",
       "    .dataframe tbody tr th {\n",
       "        vertical-align: top;\n",
       "    }\n",
       "\n",
       "    .dataframe thead th {\n",
       "        text-align: right;\n",
       "    }\n",
       "</style>\n",
       "<table border=\"1\" class=\"dataframe\">\n",
       "  <thead>\n",
       "    <tr style=\"text-align: right;\">\n",
       "      <th></th>\n",
       "      <th>product</th>\n",
       "      <th>price</th>\n",
       "      <th>quantity</th>\n",
       "    </tr>\n",
       "  </thead>\n",
       "  <tbody>\n",
       "    <tr>\n",
       "      <th>934</th>\n",
       "      <td>Муляж ЯБЛОКО 9 см красное</td>\n",
       "      <td>51.0</td>\n",
       "      <td>470</td>\n",
       "    </tr>\n",
       "    <tr>\n",
       "      <th>217</th>\n",
       "      <td>Вешалки мягкие для деликатных вещей 3 шт шоколад</td>\n",
       "      <td>148.0</td>\n",
       "      <td>334</td>\n",
       "    </tr>\n",
       "    <tr>\n",
       "      <th>1645</th>\n",
       "      <td>Ручка-скоба РС-100 белая *Трибатрон*, 1108035</td>\n",
       "      <td>29.0</td>\n",
       "      <td>200</td>\n",
       "    </tr>\n",
       "    <tr>\n",
       "      <th>748</th>\n",
       "      <td>Крепеж для пружины дверной, 1107055</td>\n",
       "      <td>19.0</td>\n",
       "      <td>150</td>\n",
       "    </tr>\n",
       "    <tr>\n",
       "      <th>1271</th>\n",
       "      <td>Плечики пластмассовые Размер 52 - 54 Тула 1205158</td>\n",
       "      <td>20.0</td>\n",
       "      <td>150</td>\n",
       "    </tr>\n",
       "    <tr>\n",
       "      <th>1366</th>\n",
       "      <td>Пружина дверная 240 мм оцинкованная (Д-19 мм) ...</td>\n",
       "      <td>38.0</td>\n",
       "      <td>150</td>\n",
       "    </tr>\n",
       "    <tr>\n",
       "      <th>935</th>\n",
       "      <td>Муляж ЯБЛОКО 9 см красное</td>\n",
       "      <td>59.0</td>\n",
       "      <td>148</td>\n",
       "    </tr>\n",
       "    <tr>\n",
       "      <th>938</th>\n",
       "      <td>Муляж Яблоко зеленый 9 см полиуретан</td>\n",
       "      <td>59.0</td>\n",
       "      <td>113</td>\n",
       "    </tr>\n",
       "    <tr>\n",
       "      <th>2507</th>\n",
       "      <td>Щетка для мытья посуды КОЛИБРИ М5202 большая</td>\n",
       "      <td>34.0</td>\n",
       "      <td>100</td>\n",
       "    </tr>\n",
       "    <tr>\n",
       "      <th>747</th>\n",
       "      <td>Крепеж для пружины дверной оцинкованный, 1107054</td>\n",
       "      <td>19.0</td>\n",
       "      <td>100</td>\n",
       "    </tr>\n",
       "  </tbody>\n",
       "</table>\n",
       "</div>"
      ],
      "text/plain": [
       "                                                product  price  quantity\n",
       "934                           Муляж ЯБЛОКО 9 см красное   51.0       470\n",
       "217    Вешалки мягкие для деликатных вещей 3 шт шоколад  148.0       334\n",
       "1645      Ручка-скоба РС-100 белая *Трибатрон*, 1108035   29.0       200\n",
       "748                 Крепеж для пружины дверной, 1107055   19.0       150\n",
       "1271  Плечики пластмассовые Размер 52 - 54 Тула 1205158   20.0       150\n",
       "1366  Пружина дверная 240 мм оцинкованная (Д-19 мм) ...   38.0       150\n",
       "935                           Муляж ЯБЛОКО 9 см красное   59.0       148\n",
       "938                Муляж Яблоко зеленый 9 см полиуретан   59.0       113\n",
       "2507       Щетка для мытья посуды КОЛИБРИ М5202 большая   34.0       100\n",
       "747    Крепеж для пружины дверной оцинкованный, 1107054   19.0       100"
      ]
     },
     "metadata": {},
     "output_type": "display_data"
    }
   ],
   "source": [
    "# Самые продаваемые товары\n",
    "top_10_good = data.groupby(['product','price'])['quantity'].sum().reset_index().sort_values(by='quantity', ascending = False).head(10)\n",
    "print('10 самых продаваемых товаров')\n",
    "display(top_10_good)"
   ]
  },
  {
   "cell_type": "code",
   "execution_count": 26,
   "id": "d3d269a3",
   "metadata": {},
   "outputs": [
    {
     "data": {
      "text/html": [
       "<div>\n",
       "<style scoped>\n",
       "    .dataframe tbody tr th:only-of-type {\n",
       "        vertical-align: middle;\n",
       "    }\n",
       "\n",
       "    .dataframe tbody tr th {\n",
       "        vertical-align: top;\n",
       "    }\n",
       "\n",
       "    .dataframe thead th {\n",
       "        text-align: right;\n",
       "    }\n",
       "</style>\n",
       "<table border=\"1\" class=\"dataframe\">\n",
       "  <thead>\n",
       "    <tr style=\"text-align: right;\">\n",
       "      <th></th>\n",
       "      <th>product</th>\n",
       "      <th>price</th>\n",
       "      <th>quantity</th>\n",
       "    </tr>\n",
       "  </thead>\n",
       "  <tbody>\n",
       "    <tr>\n",
       "      <th>0</th>\n",
       "      <td>Tepмокружка AVEX Freeflow 700 мл зеленый AVEX0759</td>\n",
       "      <td>2399.0</td>\n",
       "      <td>1</td>\n",
       "    </tr>\n",
       "    <tr>\n",
       "      <th>1574</th>\n",
       "      <td>Рассада томата (помидор) сорт Золотое руно, ка...</td>\n",
       "      <td>116.0</td>\n",
       "      <td>1</td>\n",
       "    </tr>\n",
       "    <tr>\n",
       "      <th>1573</th>\n",
       "      <td>Рассада томата (помидор) сорт Зефир в шоколаде...</td>\n",
       "      <td>45.0</td>\n",
       "      <td>1</td>\n",
       "    </tr>\n",
       "    <tr>\n",
       "      <th>1565</th>\n",
       "      <td>Рассада томата (помидор) Моравское чудо №54 со...</td>\n",
       "      <td>38.0</td>\n",
       "      <td>1</td>\n",
       "    </tr>\n",
       "    <tr>\n",
       "      <th>1561</th>\n",
       "      <td>Рассада томата (помидор) Баскью Блю №7 сорт де...</td>\n",
       "      <td>38.0</td>\n",
       "      <td>1</td>\n",
       "    </tr>\n",
       "    <tr>\n",
       "      <th>...</th>\n",
       "      <td>...</td>\n",
       "      <td>...</td>\n",
       "      <td>...</td>\n",
       "    </tr>\n",
       "    <tr>\n",
       "      <th>16</th>\n",
       "      <td>Азалия Индика Биколор d-12 см h-20</td>\n",
       "      <td>344.0</td>\n",
       "      <td>1</td>\n",
       "    </tr>\n",
       "    <tr>\n",
       "      <th>594</th>\n",
       "      <td>Коврик для туалета L'CADESI HURREM 50х60 см с ...</td>\n",
       "      <td>389.0</td>\n",
       "      <td>1</td>\n",
       "    </tr>\n",
       "    <tr>\n",
       "      <th>507</th>\n",
       "      <td>Калибрахоа Bloomtastic Blossom розово-сиренева...</td>\n",
       "      <td>90.0</td>\n",
       "      <td>1</td>\n",
       "    </tr>\n",
       "    <tr>\n",
       "      <th>595</th>\n",
       "      <td>Коврик интерьерный 45х75 Вино Comfort Mats, Mo...</td>\n",
       "      <td>974.0</td>\n",
       "      <td>1</td>\n",
       "    </tr>\n",
       "    <tr>\n",
       "      <th>779</th>\n",
       "      <td>Лаванда d-9 см</td>\n",
       "      <td>112.0</td>\n",
       "      <td>1</td>\n",
       "    </tr>\n",
       "  </tbody>\n",
       "</table>\n",
       "<p>1324 rows × 3 columns</p>\n",
       "</div>"
      ],
      "text/plain": [
       "                                                product   price  quantity\n",
       "0     Tepмокружка AVEX Freeflow 700 мл зеленый AVEX0759  2399.0         1\n",
       "1574  Рассада томата (помидор) сорт Золотое руно, ка...   116.0         1\n",
       "1573  Рассада томата (помидор) сорт Зефир в шоколаде...    45.0         1\n",
       "1565  Рассада томата (помидор) Моравское чудо №54 со...    38.0         1\n",
       "1561  Рассада томата (помидор) Баскью Блю №7 сорт де...    38.0         1\n",
       "...                                                 ...     ...       ...\n",
       "16                   Азалия Индика Биколор d-12 см h-20   344.0         1\n",
       "594   Коврик для туалета L'CADESI HURREM 50х60 см с ...   389.0         1\n",
       "507   Калибрахоа Bloomtastic Blossom розово-сиренева...    90.0         1\n",
       "595   Коврик интерьерный 45х75 Вино Comfort Mats, Mo...   974.0         1\n",
       "779                                      Лаванда d-9 см   112.0         1\n",
       "\n",
       "[1324 rows x 3 columns]"
      ]
     },
     "execution_count": 26,
     "metadata": {},
     "output_type": "execute_result"
    }
   ],
   "source": [
    "# Товары с 1 продажей\n",
    "top_soso = data.groupby(['product','price'])['quantity'].sum().reset_index().sort_values(by='quantity', ascending = True)\n",
    "top_soso[top_soso['quantity']==1]"
   ]
  },
  {
   "cell_type": "markdown",
   "id": "b98078a2",
   "metadata": {},
   "source": [
    "Самыми продаваемыми товарами на сайте стали дешевые товары стоимостью до 150 рублей. При этом 1314 товаров было проданы лишь 1 раз."
   ]
  },
  {
   "cell_type": "markdown",
   "id": "de60dfea",
   "metadata": {},
   "source": [
    "Предположим, что падение активности связано с сезонностью, например в декабре спрос на продукцию товаров для дома растет из-за новогодних праздников, в конце зимы и начале весны повышен спрос на растения и рассаду, а также на товары для подготовки к дачному сезону, летом спрос может падать из-за отпускных недель.\n",
    "\n",
    "К сожалению, для подтверждения сезонности нужен второй (а лучше несколько) периодов для сравнения. \n",
    "Сравнив октябрь 2018 и октябрь 2019 все указывает на снижение покупательской активности: \n",
    "* количество покупателей уменьшилось на 2% (на 4 клиента)\n",
    "* количество заказов сократилось на 15 % (на 37 заказа)\n",
    "* выручка сократилась на 37,6% (на 132 тыс. руб.)\n",
    "* средний чек уменьшился на 26% (на 385 руб.)\n",
    "\n",
    "Можно сделать вывод о том, что во всех бизнес показателях магазин «Пока все ещё тут» (оправдывает свое название - шутка для ревьювера) уступает прошлому периоду.\n",
    "\n",
    "Только 6,5% клиентов совершали повторную покупку в течение 13 месяцев, это значит что 93,5% (2290 клиента) сделали только 1 заказ.\n",
    "\n",
    "Самые продаваемые товары стали товары из дешевого сегмента."
   ]
  },
  {
   "cell_type": "markdown",
   "id": "497bb313",
   "metadata": {},
   "source": [
    "### Сегментация покупателей на основе истории их покупок"
   ]
  },
  {
   "cell_type": "markdown",
   "id": "13b2cab7",
   "metadata": {},
   "source": [
    "Определим каждому клиенту категории по ранее подчитанным показателям"
   ]
  },
  {
   "cell_type": "code",
   "execution_count": 27,
   "id": "aa962280",
   "metadata": {},
   "outputs": [
    {
     "data": {
      "text/plain": [
       "type_orders_quantity\n",
       "мало      2265\n",
       "много       28\n",
       "средне     129\n",
       "Name: customer_id, dtype: int64"
      ]
     },
     "execution_count": 27,
     "metadata": {},
     "output_type": "execute_result"
    }
   ],
   "source": [
    "# Разделение на кол-во заказов (1, 2, более 3)\n",
    "data_customers = data_orders.groupby('customer_id')['order_id'].nunique().reset_index().sort_values(by='order_id')\n",
    "data_customers['type_orders_quantity'] = ''\n",
    "\n",
    "#проставим названия группам клиентов в зависимости от кол-ва закозов\n",
    "data_customers.loc[data_customers['order_id']==1,'type_orders_quantity'] = 'мало' \n",
    "data_customers.loc[data_customers['order_id']==2,'type_orders_quantity'] = 'средне'\n",
    "data_customers.loc[data_customers['order_id']>=3,'type_orders_quantity'] = 'много'\n",
    "data_customers.groupby('type_orders_quantity')['customer_id'].nunique()"
   ]
  },
  {
   "cell_type": "markdown",
   "id": "41f7d676",
   "metadata": {},
   "source": [
    "Резделим клиентов на 3 категории по кол-ву созданных заказов: \n",
    "* \"мало\" заказов присвоим за 1 заказ (2290 клиентов, 93,5%)\n",
    "* \"средне\" заказов присвоим за 2 заказа (132 клиентов, 5,5%)\n",
    "* \"много\" заказов присвоим за больше 3х заказов (28 клиентов, 1%)"
   ]
  },
  {
   "cell_type": "code",
   "execution_count": 28,
   "id": "84650684",
   "metadata": {},
   "outputs": [
    {
     "data": {
      "text/plain": [
       "type_avg_check\n",
       "высокий     584\n",
       "низкий      646\n",
       "средний    1192\n",
       "Name: customer_id, dtype: int64"
      ]
     },
     "execution_count": 28,
     "metadata": {},
     "output_type": "execute_result"
    }
   ],
   "source": [
    "#Разделение на средние чеки заказов (низкий, средний, высокий)\n",
    "data_avg_check = data_orders.groupby('customer_id')['total_revenue','order_id'].agg({'total_revenue':'sum',\n",
    "                                                                                     'order_id':'nunique' }).reset_index()\n",
    "data_avg_check['avg_check'] = round(data_avg_check['total_revenue']/data_avg_check['order_id'])\n",
    "data_avg_check['type_avg_check'] = ''\n",
    "\n",
    "# sns.boxplot(data=data_avg_check['avg_check']) #выбор значений\n",
    "# data_avg_check['avg_check'].describe()\n",
    "\n",
    "#проставим названия группам клиентов в зависимости от размера среднего чека\n",
    "data_avg_check.loc[data_avg_check['avg_check']<=300,'type_avg_check'] = 'низкий' \n",
    "data_avg_check.loc[(data_avg_check['avg_check']>300)&(data_avg_check['avg_check']<1500),'type_avg_check'] = 'средний'\n",
    "data_avg_check.loc[data_avg_check['avg_check']>=1500,'type_avg_check'] = 'высокий'\n",
    "data_avg_check.groupby('type_avg_check')['customer_id'].nunique()"
   ]
  },
  {
   "cell_type": "markdown",
   "id": "c2558405",
   "metadata": {},
   "source": [
    "Резделим клиентов на 3 категории по размеру суммы среднего чека: \n",
    "* \"низкий\" средний чек присвоим за чек меньше или равно 300 руб. (656 клиентов, 27%)\n",
    "* \"средний\" средний чек присвоим за чек от 300 до 1500 руб. (1205 клиентов, 49%)\n",
    "* \"высокий\" средний чек присвоим за чек больше 1500 руб. (589 клиентов, 24%)"
   ]
  },
  {
   "cell_type": "code",
   "execution_count": 29,
   "id": "6020f5fe",
   "metadata": {},
   "outputs": [
    {
     "data": {
      "text/plain": [
       "type_sku_avg_quantity\n",
       "мало      1543\n",
       "много      441\n",
       "средне     438\n",
       "Name: customer_id, dtype: int64"
      ]
     },
     "execution_count": 29,
     "metadata": {},
     "output_type": "execute_result"
    }
   ],
   "source": [
    "# Разделение на среднее кол-во товаров в чеке (мало, средний, высокий)\n",
    "data_order_quantity = data_orders.groupby('customer_id')['quantity','order_id'].agg({'quantity':'sum',\n",
    "                                                                                     'order_id':'nunique' }).reset_index()\n",
    "data_order_quantity['avg_quantity'] = round(data_order_quantity['quantity']/data_order_quantity['order_id'])\n",
    "data_order_quantity['type_sku_avg_quantity'] = ''\n",
    "\n",
    "# sns.boxplot(data=data_order_quantity['avg_quantity']) #выбор значений\n",
    "# data_order_quantity['avg_quantity'].describe()\n",
    "\n",
    "#проставим названия группам клиентов в зависимости от среднего кол-ва товаров в заказе\n",
    "data_order_quantity.loc[data_order_quantity['avg_quantity']==1,'type_sku_avg_quantity'] = 'мало' \n",
    "data_order_quantity.loc[(data_order_quantity['avg_quantity']>=2)&(data_order_quantity['avg_quantity']<=4),'type_sku_avg_quantity'] = 'средне'\n",
    "data_order_quantity.loc[data_order_quantity['avg_quantity']>=5,'type_sku_avg_quantity'] = 'много'\n",
    "data_order_quantity.groupby('type_sku_avg_quantity')['customer_id'].nunique()"
   ]
  },
  {
   "cell_type": "markdown",
   "id": "98ee492e",
   "metadata": {},
   "source": [
    "Резделим клиентов на 3 категории по среднему количеству товаров в чеке: \n",
    "* \"мало\" товаров присвоим за 1 товар (1562 клиентов, 64%)\n",
    "* \"средне\" товаров присвоим за 2-4 товара (442 клиентов, 18%)\n",
    "* \"много\" товаров присвоим за больше 5 товаров (446 клиентов, 18%)"
   ]
  },
  {
   "cell_type": "markdown",
   "id": "04633081",
   "metadata": {},
   "source": [
    "На основе описательной статистики мы вручную присвоили сегменты клиентам по трем показателям: количество заказов, средний чек, среднее количество товаров в заказе. В дальнейшем можно корректировать условия попадания в ту или иную группу, а также возможно увеличить с трех сегментов до четырех и тп. \n",
    "\n",
    "На данный момент можно уже работать с отобранными группами, например обратить на клиентов с высоким средним чеком и большим количеством заказов или же наоборот прислать рассылку с промокодом покупателям, которые покупали 1 раз, но много товаров.\n",
    "\n",
    "Для определения точного сегмента проведем кластерный анализ."
   ]
  },
  {
   "cell_type": "markdown",
   "id": "a7dd5591",
   "metadata": {},
   "source": [
    "#### Проведем кластерный анализ методом kmean"
   ]
  },
  {
   "cell_type": "markdown",
   "id": "09da485b",
   "metadata": {},
   "source": [
    "Для формирования кластеров будем использовать количественные колонки и алгоритм k-средних (k-means)"
   ]
  },
  {
   "cell_type": "code",
   "execution_count": 30,
   "id": "9671fcab",
   "metadata": {},
   "outputs": [
    {
     "data": {
      "text/html": [
       "<div>\n",
       "<style scoped>\n",
       "    .dataframe tbody tr th:only-of-type {\n",
       "        vertical-align: middle;\n",
       "    }\n",
       "\n",
       "    .dataframe tbody tr th {\n",
       "        vertical-align: top;\n",
       "    }\n",
       "\n",
       "    .dataframe thead th {\n",
       "        text-align: right;\n",
       "    }\n",
       "</style>\n",
       "<table border=\"1\" class=\"dataframe\">\n",
       "  <thead>\n",
       "    <tr style=\"text-align: right;\">\n",
       "      <th></th>\n",
       "      <th>order_id_x</th>\n",
       "      <th>total_revenue</th>\n",
       "      <th>avg_check</th>\n",
       "      <th>quantity</th>\n",
       "      <th>avg_quantity</th>\n",
       "    </tr>\n",
       "  </thead>\n",
       "  <tbody>\n",
       "    <tr>\n",
       "      <th>0</th>\n",
       "      <td>1</td>\n",
       "      <td>555.0</td>\n",
       "      <td>555.0</td>\n",
       "      <td>4</td>\n",
       "      <td>4.0</td>\n",
       "    </tr>\n",
       "    <tr>\n",
       "      <th>1</th>\n",
       "      <td>1</td>\n",
       "      <td>442.0</td>\n",
       "      <td>442.0</td>\n",
       "      <td>1</td>\n",
       "      <td>1.0</td>\n",
       "    </tr>\n",
       "  </tbody>\n",
       "</table>\n",
       "</div>"
      ],
      "text/plain": [
       "   order_id_x  total_revenue  avg_check  quantity  avg_quantity\n",
       "0           1          555.0      555.0         4           4.0\n",
       "1           1          442.0      442.0         1           1.0"
      ]
     },
     "execution_count": 30,
     "metadata": {},
     "output_type": "execute_result"
    }
   ],
   "source": [
    "# Соединим в 1 датасет предыдущие наши расчеты\n",
    "cluster_gen = data_avg_check.merge(data_order_quantity, how='left', on='customer_id')\n",
    "\n",
    "#оставляем только числовые значения\n",
    "cluster = cluster_gen[['order_id_x', 'total_revenue', 'avg_check','quantity', 'avg_quantity']]\n",
    "cluster.head(2)"
   ]
  },
  {
   "cell_type": "code",
   "execution_count": 31,
   "id": "599eb7a0",
   "metadata": {},
   "outputs": [],
   "source": [
    "dataNorm = preprocessing.MinMaxScaler().fit_transform(cluster.values) #приведем данные к нормальным значениям\n",
    "\n",
    "# Вычисляется евклидово расстояние\n",
    "data_dist = pdist(dataNorm, 'euclidean')\n",
    "\n",
    "data_linkage = linkage(data_dist, method='average')\n",
    "\n",
    "#функция построения дендрограмм\n",
    "def fancy_dendrogram(*args, **kwargs):\n",
    "    max_d = kwargs.pop('max_d', None)\n",
    "    if max_d and 'color_threshold' not in kwargs:\n",
    "        kwargs['color_threshold'] = max_d\n",
    "    annotate_above = kwargs.pop('annotate_above', 0)\n",
    "\n",
    "    ddata = dendrogram(*args, **kwargs)\n",
    "\n",
    "    if not kwargs.get('no_plot', False):\n",
    "        plt.title('Дендрограмма иерархической кластеризации (усеченная)')\n",
    "        plt.xlabel('Кластеры')\n",
    "        plt.ylabel('Растояние')\n",
    "        for i, d, c in zip(ddata['icoord'], ddata['dcoord'], ddata['color_list']):\n",
    "            x = 0.5 * sum(i[1:3])\n",
    "            y = d[1]\n",
    "            if y > annotate_above:\n",
    "                plt.plot(x, y, 'o', c=c)\n",
    "                plt.annotate(\"%.3g\" % y, (x, y), xytext=(0, -5),\n",
    "                             textcoords='offset points',\n",
    "                             va='top', ha='center')\n",
    "        if max_d:\n",
    "            plt.axhline(y=max_d, c='k')\n",
    "    return ddata"
   ]
  },
  {
   "cell_type": "code",
   "execution_count": 32,
   "id": "e2a765cf",
   "metadata": {},
   "outputs": [
    {
     "data": {
      "image/png": "[encoded data removed]",
      "text/plain": [
       "<Figure size 720x360 with 1 Axes>"
      ]
     },
     "metadata": {},
     "output_type": "display_data"
    }
   ],
   "source": [
    "nClust=4 #количество кластеров (Так как у нас есть несколько клиентов с особенным поведением, выберем 4 кластера вместо 3х)\n",
    "\n",
    "#строим дендрограмму \n",
    "fancy_dendrogram(\n",
    "    data_linkage,\n",
    "    truncate_mode='lastp',\n",
    "    p=nClust, \n",
    "    leaf_rotation=90.,\n",
    "    leaf_font_size=12.,\n",
    "    show_contracted=True,\n",
    "    annotate_above=10)\n",
    "plt.show()"
   ]
  },
  {
   "cell_type": "code",
   "execution_count": 33,
   "id": "691e4ee0",
   "metadata": {},
   "outputs": [
    {
     "data": {
      "text/html": [
       "<div>\n",
       "<style scoped>\n",
       "    .dataframe tbody tr th:only-of-type {\n",
       "        vertical-align: middle;\n",
       "    }\n",
       "\n",
       "    .dataframe tbody tr th {\n",
       "        vertical-align: top;\n",
       "    }\n",
       "\n",
       "    .dataframe thead th {\n",
       "        text-align: right;\n",
       "    }\n",
       "</style>\n",
       "<table border=\"1\" class=\"dataframe\">\n",
       "  <thead>\n",
       "    <tr style=\"text-align: right;\">\n",
       "      <th></th>\n",
       "      <th>order_id_x</th>\n",
       "      <th>total_revenue</th>\n",
       "      <th>avg_check</th>\n",
       "      <th>quantity</th>\n",
       "      <th>avg_quantity</th>\n",
       "      <th>cluster</th>\n",
       "    </tr>\n",
       "  </thead>\n",
       "  <tbody>\n",
       "    <tr>\n",
       "      <th>0</th>\n",
       "      <td>1</td>\n",
       "      <td>555.0</td>\n",
       "      <td>555.0</td>\n",
       "      <td>4</td>\n",
       "      <td>4.0</td>\n",
       "      <td>1</td>\n",
       "    </tr>\n",
       "    <tr>\n",
       "      <th>1</th>\n",
       "      <td>1</td>\n",
       "      <td>442.0</td>\n",
       "      <td>442.0</td>\n",
       "      <td>1</td>\n",
       "      <td>1.0</td>\n",
       "      <td>1</td>\n",
       "    </tr>\n",
       "    <tr>\n",
       "      <th>2</th>\n",
       "      <td>1</td>\n",
       "      <td>914.0</td>\n",
       "      <td>914.0</td>\n",
       "      <td>2</td>\n",
       "      <td>2.0</td>\n",
       "      <td>1</td>\n",
       "    </tr>\n",
       "    <tr>\n",
       "      <th>3</th>\n",
       "      <td>1</td>\n",
       "      <td>1649.0</td>\n",
       "      <td>1649.0</td>\n",
       "      <td>1</td>\n",
       "      <td>1.0</td>\n",
       "      <td>1</td>\n",
       "    </tr>\n",
       "    <tr>\n",
       "      <th>4</th>\n",
       "      <td>1</td>\n",
       "      <td>2324.0</td>\n",
       "      <td>2324.0</td>\n",
       "      <td>2</td>\n",
       "      <td>2.0</td>\n",
       "      <td>1</td>\n",
       "    </tr>\n",
       "  </tbody>\n",
       "</table>\n",
       "</div>"
      ],
      "text/plain": [
       "   order_id_x  total_revenue  avg_check  quantity  avg_quantity  cluster\n",
       "0           1          555.0      555.0         4           4.0        1\n",
       "1           1          442.0      442.0         1           1.0        1\n",
       "2           1          914.0      914.0         2           2.0        1\n",
       "3           1         1649.0     1649.0         1           1.0        1\n",
       "4           1         2324.0     2324.0         2           2.0        1"
      ]
     },
     "execution_count": 33,
     "metadata": {},
     "output_type": "execute_result"
    }
   ],
   "source": [
    "# строим кластеризаци методом KMeans\n",
    "km = KMeans(n_clusters=nClust).fit(dataNorm)\n",
    "cluster['cluster']=km.labels_+1\n",
    "cluster.head(5)"
   ]
  },
  {
   "cell_type": "markdown",
   "id": "f9639efe",
   "metadata": {},
   "source": [
    "Изучим показатели по каждому кластеру каждой метрики."
   ]
  },
  {
   "cell_type": "code",
   "execution_count": 34,
   "id": "b72c8e18",
   "metadata": {},
   "outputs": [
    {
     "data": {
      "text/html": [
       "<div>\n",
       "<style scoped>\n",
       "    .dataframe tbody tr th:only-of-type {\n",
       "        vertical-align: middle;\n",
       "    }\n",
       "\n",
       "    .dataframe tbody tr th {\n",
       "        vertical-align: top;\n",
       "    }\n",
       "\n",
       "    .dataframe thead tr th {\n",
       "        text-align: left;\n",
       "    }\n",
       "\n",
       "    .dataframe thead tr:last-of-type th {\n",
       "        text-align: right;\n",
       "    }\n",
       "</style>\n",
       "<table border=\"1\" class=\"dataframe\">\n",
       "  <thead>\n",
       "    <tr>\n",
       "      <th></th>\n",
       "      <th colspan=\"4\" halign=\"left\">кол-во заказов</th>\n",
       "      <th colspan=\"3\" halign=\"left\">средний чек</th>\n",
       "      <th colspan=\"3\" halign=\"left\">среднее кол-во товаров в заказе</th>\n",
       "    </tr>\n",
       "    <tr>\n",
       "      <th></th>\n",
       "      <th>count</th>\n",
       "      <th>min</th>\n",
       "      <th>max</th>\n",
       "      <th>mean</th>\n",
       "      <th>min</th>\n",
       "      <th>max</th>\n",
       "      <th>mean</th>\n",
       "      <th>min</th>\n",
       "      <th>max</th>\n",
       "      <th>mean</th>\n",
       "    </tr>\n",
       "    <tr>\n",
       "      <th>cluster</th>\n",
       "      <th></th>\n",
       "      <th></th>\n",
       "      <th></th>\n",
       "      <th></th>\n",
       "      <th></th>\n",
       "      <th></th>\n",
       "      <th></th>\n",
       "      <th></th>\n",
       "      <th></th>\n",
       "      <th></th>\n",
       "    </tr>\n",
       "  </thead>\n",
       "  <tbody>\n",
       "    <tr>\n",
       "      <th>1</th>\n",
       "      <td>2357</td>\n",
       "      <td>1</td>\n",
       "      <td>17</td>\n",
       "      <td>1.0</td>\n",
       "      <td>14.0</td>\n",
       "      <td>8810.0</td>\n",
       "      <td>1061.0</td>\n",
       "      <td>1.0</td>\n",
       "      <td>34.0</td>\n",
       "      <td>3.0</td>\n",
       "    </tr>\n",
       "    <tr>\n",
       "      <th>2</th>\n",
       "      <td>59</td>\n",
       "      <td>1</td>\n",
       "      <td>7</td>\n",
       "      <td>1.0</td>\n",
       "      <td>540.0</td>\n",
       "      <td>33680.0</td>\n",
       "      <td>6704.0</td>\n",
       "      <td>1.0</td>\n",
       "      <td>170.0</td>\n",
       "      <td>49.0</td>\n",
       "    </tr>\n",
       "    <tr>\n",
       "      <th>3</th>\n",
       "      <td>2</td>\n",
       "      <td>35</td>\n",
       "      <td>126</td>\n",
       "      <td>80.0</td>\n",
       "      <td>1266.0</td>\n",
       "      <td>1637.0</td>\n",
       "      <td>1452.0</td>\n",
       "      <td>3.0</td>\n",
       "      <td>9.0</td>\n",
       "      <td>6.0</td>\n",
       "    </tr>\n",
       "    <tr>\n",
       "      <th>4</th>\n",
       "      <td>4</td>\n",
       "      <td>1</td>\n",
       "      <td>1</td>\n",
       "      <td>1.0</td>\n",
       "      <td>5800.0</td>\n",
       "      <td>49432.0</td>\n",
       "      <td>19770.0</td>\n",
       "      <td>200.0</td>\n",
       "      <td>334.0</td>\n",
       "      <td>284.0</td>\n",
       "    </tr>\n",
       "  </tbody>\n",
       "</table>\n",
       "</div>"
      ],
      "text/plain": [
       "        кол-во заказов                средний чек                    \\\n",
       "                 count min  max  mean         min      max     mean   \n",
       "cluster                                                               \n",
       "1                 2357   1   17   1.0        14.0   8810.0   1061.0   \n",
       "2                   59   1    7   1.0       540.0  33680.0   6704.0   \n",
       "3                    2  35  126  80.0      1266.0   1637.0   1452.0   \n",
       "4                    4   1    1   1.0      5800.0  49432.0  19770.0   \n",
       "\n",
       "        среднее кол-во товаров в заказе                \n",
       "                                    min    max   mean  \n",
       "cluster                                                \n",
       "1                                   1.0   34.0    3.0  \n",
       "2                                   1.0  170.0   49.0  \n",
       "3                                   3.0    9.0    6.0  \n",
       "4                                 200.0  334.0  284.0  "
      ]
     },
     "execution_count": 34,
     "metadata": {},
     "output_type": "execute_result"
    }
   ],
   "source": [
    "cluster_table = cluster.groupby('cluster')[('order_id_x','avg_check','avg_quantity')].agg({'order_id_x':['count','min','max','mean'],\n",
    "                                                                                            'avg_check':['min','max','mean'],\n",
    "                                                                                            'avg_quantity':['min','max','mean']}).round()\n",
    "cluster_table = cluster_table.rename(columns ={'order_id_x':'кол-во заказов',\n",
    "                                                'avg_check':'средний чек',\n",
    "                                                'avg_quantity':'среднее кол-во товаров в заказе'})\n",
    "cluster_table"
   ]
  },
  {
   "cell_type": "markdown",
   "id": "024dc0f0",
   "metadata": {},
   "source": [
    "В результате кластерного анализа у нас получилось 4 кластера. Из минусов: они неравномерные по кол-ву клиентов, из плюсов: в расчетах присутсвует комбинация из всех метрик.\n",
    "\n",
    "1 кластер — уверенный средний чек и много товаров в заказе (4,7%, 117 клиентов):\n",
    "* Кол-во заказов от 1 до 7\n",
    "* Высокий средний чек от 475 руб. до 32718 руб. (в среднем 4140 руб.)\n",
    "* Среднее кол-во товаров в заказе от 1 до 100 (в среднем 33)\n",
    "\n",
    "Клиенты из этого кластера более привлекательны с точки зрения увеличения выручки, возможно их можно взбодрить интерактивной рассылкой или запуском программы лояльности (например с накопительными бонусами)\n",
    "\n",
    "2 кластер — мало заказов, но много товаров (0,3% , 8 клиентов):\n",
    "* Совершили 1 покупку\n",
    "* Высокий средний чек от 3000 руб. до 49432 руб. (в среднем 16586 руб.)\n",
    "* Среднее кол-во товаров в заказе от 101 до 334 (в среднем 212)\n",
    "\n",
    "Поведение этих покупателей похоже на поведение оптовиков. К сожалению, они не вернулись за повторной покупкой, возможно стоит обратить внимание на специальные клиентские карты для юр. лиц, дающие возможность покупать по оптовым ценам.\n",
    "\n",
    "3 кластер — супер лояльные физики или малый бизнес (2 клиента):\n",
    "* Кол-во заказов от 35 до 126\n",
    "* Средний чек от 1266 до 1637 руб. (в среднем 1452 руб.)\n",
    "* Среднее кол-во товаров в заказе от 1 до 23 (в среднем 2)\n",
    "\n",
    "Кластер состоит из двух клиентов, которые чаще всего покупали много товаров. Средний чек у них низковат, в целом можно их добавить к 3 кластеру.\n",
    "\n",
    "4 кластер — средний и самый многочисленный (95% клиентов):\n",
    "* Кол-во заказов от 1 до 17\n",
    "* Низкий средний чек от 14 руб. до 8758 руб. (в среднем 1026 руб.)\n",
    "* Среднее кол-во товаров в заказе от 1 до 23 (в среднем 2)\n",
    "\n",
    "Кластер описывает среднее поведение основной части клиентов. С такими клиентами нужно работать для повышения LTV."
   ]
  },
  {
   "cell_type": "code",
   "execution_count": 35,
   "id": "cbe11232",
   "metadata": {},
   "outputs": [
    {
     "data": {
      "text/html": [
       "<div>\n",
       "<style scoped>\n",
       "    .dataframe tbody tr th:only-of-type {\n",
       "        vertical-align: middle;\n",
       "    }\n",
       "\n",
       "    .dataframe tbody tr th {\n",
       "        vertical-align: top;\n",
       "    }\n",
       "\n",
       "    .dataframe thead th {\n",
       "        text-align: right;\n",
       "    }\n",
       "</style>\n",
       "<table border=\"1\" class=\"dataframe\">\n",
       "  <thead>\n",
       "    <tr style=\"text-align: right;\">\n",
       "      <th></th>\n",
       "      <th>customer_id</th>\n",
       "      <th>orders_quantity</th>\n",
       "      <th>type_orders_quantity</th>\n",
       "      <th>avg_check</th>\n",
       "      <th>type_avg_check</th>\n",
       "      <th>sku_avg_quantity</th>\n",
       "      <th>type_sku_avg_quantity</th>\n",
       "      <th>cluster</th>\n",
       "    </tr>\n",
       "  </thead>\n",
       "  <tbody>\n",
       "    <tr>\n",
       "      <th>0</th>\n",
       "      <td>000d6849-084e-4d9f-ac03-37174eaf60c4</td>\n",
       "      <td>1</td>\n",
       "      <td>мало</td>\n",
       "      <td>555.0</td>\n",
       "      <td>средний</td>\n",
       "      <td>4.0</td>\n",
       "      <td>средне</td>\n",
       "      <td>1</td>\n",
       "    </tr>\n",
       "    <tr>\n",
       "      <th>1</th>\n",
       "      <td>001cee7f-0b29-4716-b202-0042213ab038</td>\n",
       "      <td>1</td>\n",
       "      <td>мало</td>\n",
       "      <td>442.0</td>\n",
       "      <td>средний</td>\n",
       "      <td>1.0</td>\n",
       "      <td>мало</td>\n",
       "      <td>1</td>\n",
       "    </tr>\n",
       "    <tr>\n",
       "      <th>2</th>\n",
       "      <td>00299f34-5385-4d13-9aea-c80b81658e1b</td>\n",
       "      <td>1</td>\n",
       "      <td>мало</td>\n",
       "      <td>914.0</td>\n",
       "      <td>средний</td>\n",
       "      <td>2.0</td>\n",
       "      <td>средне</td>\n",
       "      <td>1</td>\n",
       "    </tr>\n",
       "    <tr>\n",
       "      <th>3</th>\n",
       "      <td>002d4d3a-4a59-406b-86ec-c3314357e498</td>\n",
       "      <td>1</td>\n",
       "      <td>мало</td>\n",
       "      <td>1649.0</td>\n",
       "      <td>высокий</td>\n",
       "      <td>1.0</td>\n",
       "      <td>мало</td>\n",
       "      <td>1</td>\n",
       "    </tr>\n",
       "    <tr>\n",
       "      <th>4</th>\n",
       "      <td>003bbd39-0000-41ff-b7f9-2ddaec152037</td>\n",
       "      <td>1</td>\n",
       "      <td>мало</td>\n",
       "      <td>2324.0</td>\n",
       "      <td>высокий</td>\n",
       "      <td>2.0</td>\n",
       "      <td>средне</td>\n",
       "      <td>1</td>\n",
       "    </tr>\n",
       "  </tbody>\n",
       "</table>\n",
       "</div>"
      ],
      "text/plain": [
       "                            customer_id  orders_quantity type_orders_quantity  \\\n",
       "0  000d6849-084e-4d9f-ac03-37174eaf60c4                1                 мало   \n",
       "1  001cee7f-0b29-4716-b202-0042213ab038                1                 мало   \n",
       "2  00299f34-5385-4d13-9aea-c80b81658e1b                1                 мало   \n",
       "3  002d4d3a-4a59-406b-86ec-c3314357e498                1                 мало   \n",
       "4  003bbd39-0000-41ff-b7f9-2ddaec152037                1                 мало   \n",
       "\n",
       "   avg_check type_avg_check  sku_avg_quantity type_sku_avg_quantity  cluster  \n",
       "0      555.0        средний               4.0                средне        1  \n",
       "1      442.0        средний               1.0                  мало        1  \n",
       "2      914.0        средний               2.0                средне        1  \n",
       "3     1649.0        высокий               1.0                  мало        1  \n",
       "4     2324.0        высокий               2.0                средне        1  "
      ]
     },
     "execution_count": 35,
     "metadata": {},
     "output_type": "execute_result"
    }
   ],
   "source": [
    "# Соберем финальнкую таблицу сегментов клиентов\n",
    "cluster_final = cluster_gen.merge(data_customers, how='left', on='customer_id')\n",
    "cluster_final = cluster_final.merge(cluster, how='left', left_index=True, right_index=True)\n",
    "cluster_final = cluster_final[['customer_id','order_id','type_orders_quantity','avg_check_x','type_avg_check', 'avg_quantity_x','type_sku_avg_quantity','cluster']]\n",
    "cluster_final = cluster_final.rename(columns ={'order_id':'orders_quantity', #кол-во заказов\n",
    "                                               'avg_check_x':'avg_check', #средний_чек\n",
    "                                               'avg_quantity_x':'sku_avg_quantity' #среднее кол-во товаров в заказе\n",
    "                                              })\n",
    "                                                #type_orders_quantity #Параметр: кол-во заказов\n",
    "                                                #type_avg_check #Параметр: размер среднего чека\n",
    "                                                #type_sku_avg_quantity #Параметр: кол-во товаров в заказе\n",
    "cluster_final.head(5)"
   ]
  },
  {
   "cell_type": "markdown",
   "id": "8bc72add",
   "metadata": {},
   "source": [
    "В итоге у нас есть более ручной, настраваемый и комбинированный вариант сегментации, состоящий из трех показателей, который можно самостоятельно составлять по запросу коллег и вторая кластерная сегментация, которая полноценна выделила 4 группы клиентов со схожими покупательскими патернами. \n",
    "\n",
    "На основе проставленных категорий можно выбрать комбинации и составить сегмент:\n",
    "например люди с высоким средним чеком и с большим числом заказов — состоятельный сегмент которому интересны качественные дорогостоющие товары, или покупатель с 1 крупным заказом — теплый клиент, нужно ему прислать пуш на повторную покупку. \n",
    "\n",
    "Проверим статистически несколько сегментов."
   ]
  },
  {
   "cell_type": "markdown",
   "id": "617004f9",
   "metadata": {},
   "source": [
    "### Проверка статистических гипотез"
   ]
  },
  {
   "cell_type": "markdown",
   "id": "38c6217a",
   "metadata": {},
   "source": [
    "Проверим, действительно ли в выбранных группах и кластерах есть различия, будет ли отличие между несколькими выбранными группами статистически достоверным (гипотеза о равенстве средний двух генеральных совокупностей).\n",
    "\n",
    "Для проверки выборок будем использовать t-test (в параметре equal_var укажим False, так как у нас разные размеры сравниваемых выборок)"
   ]
  },
  {
   "cell_type": "code",
   "execution_count": 36,
   "id": "e0b2c680",
   "metadata": {
    "scrolled": true
   },
   "outputs": [
    {
     "name": "stdout",
     "output_type": "stream",
     "text": [
      "type_orders_quantity orders_quantity мало\n"
     ]
    },
    {
     "data": {
      "image/png": "[encoded data removed]",
      "text/plain": [
       "<Figure size 720x360 with 1 Axes>"
      ]
     },
     "metadata": {},
     "output_type": "display_data"
    },
    {
     "name": "stdout",
     "output_type": "stream",
     "text": [
      "type_orders_quantity orders_quantity много\n"
     ]
    },
    {
     "data": {
      "image/png": "[encoded data removed]",
      "text/plain": [
       "<Figure size 720x360 with 1 Axes>"
      ]
     },
     "metadata": {},
     "output_type": "display_data"
    },
    {
     "name": "stdout",
     "output_type": "stream",
     "text": [
      "type_orders_quantity orders_quantity средне\n"
     ]
    },
    {
     "data": {
      "image/png": "[encoded data removed]",
      "text/plain": [
       "<Figure size 720x360 with 1 Axes>"
      ]
     },
     "metadata": {},
     "output_type": "display_data"
    },
    {
     "name": "stdout",
     "output_type": "stream",
     "text": [
      "type_orders_quantity avg_check мало\n"
     ]
    },
    {
     "data": {
      "image/png": "[encoded data removed]",
      "text/plain": [
       "<Figure size 720x360 with 1 Axes>"
      ]
     },
     "metadata": {},
     "output_type": "display_data"
    },
    {
     "name": "stdout",
     "output_type": "stream",
     "text": [
      "type_orders_quantity avg_check много\n"
     ]
    },
    {
     "data": {
      "image/png": "[encoded data removed]",
      "text/plain": [
       "<Figure size 720x360 with 1 Axes>"
      ]
     },
     "metadata": {},
     "output_type": "display_data"
    },
    {
     "name": "stdout",
     "output_type": "stream",
     "text": [
      "type_orders_quantity avg_check средне\n"
     ]
    },
    {
     "data": {
      "image/png": "[encoded data removed]",
      "text/plain": [
       "<Figure size 720x360 with 1 Axes>"
      ]
     },
     "metadata": {},
     "output_type": "display_data"
    },
    {
     "name": "stdout",
     "output_type": "stream",
     "text": [
      "type_orders_quantity sku_avg_quantity мало\n"
     ]
    },
    {
     "data": {
      "image/png": "[encoded data removed]",
      "text/plain": [
       "<Figure size 720x360 with 1 Axes>"
      ]
     },
     "metadata": {},
     "output_type": "display_data"
    },
    {
     "name": "stdout",
     "output_type": "stream",
     "text": [
      "type_orders_quantity sku_avg_quantity много\n"
     ]
    },
    {
     "data": {
      "image/png": "[encoded data removed]",
      "text/plain": [
       "<Figure size 720x360 with 1 Axes>"
      ]
     },
     "metadata": {},
     "output_type": "display_data"
    },
    {
     "name": "stdout",
     "output_type": "stream",
     "text": [
      "type_orders_quantity sku_avg_quantity средне\n"
     ]
    },
    {
     "data": {
      "image/png": "[encoded data removed]",
      "text/plain": [
       "<Figure size 720x360 with 1 Axes>"
      ]
     },
     "metadata": {},
     "output_type": "display_data"
    },
    {
     "name": "stdout",
     "output_type": "stream",
     "text": [
      "type_avg_check orders_quantity средний\n"
     ]
    },
    {
     "data": {
      "image/png": "[encoded data removed]",
      "text/plain": [
       "<Figure size 720x360 with 1 Axes>"
      ]
     },
     "metadata": {},
     "output_type": "display_data"
    },
    {
     "name": "stdout",
     "output_type": "stream",
     "text": [
      "type_avg_check orders_quantity высокий\n"
     ]
    },
    {
     "data": {
      "image/png": "[encoded data removed]",
      "text/plain": [
       "<Figure size 720x360 with 1 Axes>"
      ]
     },
     "metadata": {},
     "output_type": "display_data"
    },
    {
     "name": "stdout",
     "output_type": "stream",
     "text": [
      "type_avg_check orders_quantity низкий\n"
     ]
    },
    {
     "data": {
      "image/png": "[encoded data removed]",
      "text/plain": [
       "<Figure size 720x360 with 1 Axes>"
      ]
     },
     "metadata": {},
     "output_type": "display_data"
    },
    {
     "name": "stdout",
     "output_type": "stream",
     "text": [
      "type_avg_check avg_check средний\n"
     ]
    },
    {
     "data": {
      "image/png": "[encoded data removed]",
      "text/plain": [
       "<Figure size 720x360 with 1 Axes>"
      ]
     },
     "metadata": {},
     "output_type": "display_data"
    },
    {
     "name": "stdout",
     "output_type": "stream",
     "text": [
      "type_avg_check avg_check высокий\n"
     ]
    },
    {
     "data": {
      "image/png": "[encoded data removed]",
      "text/plain": [
       "<Figure size 720x360 with 1 Axes>"
      ]
     },
     "metadata": {},
     "output_type": "display_data"
    },
    {
     "name": "stdout",
     "output_type": "stream",
     "text": [
      "type_avg_check avg_check низкий\n"
     ]
    },
    {
     "data": {
      "image/png": "[encoded data removed]",
      "text/plain": [
       "<Figure size 720x360 with 1 Axes>"
      ]
     },
     "metadata": {},
     "output_type": "display_data"
    },
    {
     "name": "stdout",
     "output_type": "stream",
     "text": [
      "type_avg_check sku_avg_quantity средний\n"
     ]
    },
    {
     "data": {
      "image/png": "[encoded data removed]",
      "text/plain": [
       "<Figure size 720x360 with 1 Axes>"
      ]
     },
     "metadata": {},
     "output_type": "display_data"
    },
    {
     "name": "stdout",
     "output_type": "stream",
     "text": [
      "type_avg_check sku_avg_quantity высокий\n"
     ]
    },
    {
     "data": {
      "image/png": "[encoded data removed]",
      "text/plain": [
       "<Figure size 720x360 with 1 Axes>"
      ]
     },
     "metadata": {},
     "output_type": "display_data"
    },
    {
     "name": "stdout",
     "output_type": "stream",
     "text": [
      "type_avg_check sku_avg_quantity низкий\n"
     ]
    },
    {
     "data": {
      "image/png": "[encoded data removed]",
      "text/plain": [
       "<Figure size 720x360 with 1 Axes>"
      ]
     },
     "metadata": {},
     "output_type": "display_data"
    },
    {
     "name": "stdout",
     "output_type": "stream",
     "text": [
      "type_sku_avg_quantity orders_quantity средне\n"
     ]
    },
    {
     "data": {
      "image/png": "[encoded data removed]",
      "text/plain": [
       "<Figure size 720x360 with 1 Axes>"
      ]
     },
     "metadata": {},
     "output_type": "display_data"
    },
    {
     "name": "stdout",
     "output_type": "stream",
     "text": [
      "type_sku_avg_quantity orders_quantity мало\n"
     ]
    },
    {
     "data": {
      "image/png": "[encoded data removed]",
      "text/plain": [
       "<Figure size 720x360 with 1 Axes>"
      ]
     },
     "metadata": {},
     "output_type": "display_data"
    },
    {
     "name": "stdout",
     "output_type": "stream",
     "text": [
      "type_sku_avg_quantity orders_quantity много\n"
     ]
    },
    {
     "data": {
      "image/png": "[encoded data removed]",
      "text/plain": [
       "<Figure size 720x360 with 1 Axes>"
      ]
     },
     "metadata": {},
     "output_type": "display_data"
    },
    {
     "name": "stdout",
     "output_type": "stream",
     "text": [
      "type_sku_avg_quantity avg_check средне\n"
     ]
    },
    {
     "data": {
      "image/png": "[encoded data removed]",
      "text/plain": [
       "<Figure size 720x360 with 1 Axes>"
      ]
     },
     "metadata": {},
     "output_type": "display_data"
    },
    {
     "name": "stdout",
     "output_type": "stream",
     "text": [
      "type_sku_avg_quantity avg_check мало\n"
     ]
    },
    {
     "data": {
      "image/png": "[encoded data removed]",
      "text/plain": [
       "<Figure size 720x360 with 1 Axes>"
      ]
     },
     "metadata": {},
     "output_type": "display_data"
    },
    {
     "name": "stdout",
     "output_type": "stream",
     "text": [
      "type_sku_avg_quantity avg_check много\n"
     ]
    },
    {
     "data": {
      "image/png": "[encoded data removed]",
      "text/plain": [
       "<Figure size 720x360 with 1 Axes>"
      ]
     },
     "metadata": {},
     "output_type": "display_data"
    },
    {
     "name": "stdout",
     "output_type": "stream",
     "text": [
      "type_sku_avg_quantity sku_avg_quantity средне\n"
     ]
    },
    {
     "data": {
      "image/png": "[encoded data removed]",
      "text/plain": [
       "<Figure size 720x360 with 1 Axes>"
      ]
     },
     "metadata": {},
     "output_type": "display_data"
    },
    {
     "name": "stdout",
     "output_type": "stream",
     "text": [
      "type_sku_avg_quantity sku_avg_quantity мало\n"
     ]
    },
    {
     "data": {
      "image/png": "[encoded data removed]",
      "text/plain": [
       "<Figure size 720x360 with 1 Axes>"
      ]
     },
     "metadata": {},
     "output_type": "display_data"
    },
    {
     "name": "stdout",
     "output_type": "stream",
     "text": [
      "type_sku_avg_quantity sku_avg_quantity много\n"
     ]
    },
    {
     "data": {
      "image/png": "[encoded data removed]",
      "text/plain": [
       "<Figure size 720x360 with 1 Axes>"
      ]
     },
     "metadata": {},
     "output_type": "display_data"
    },
    {
     "name": "stdout",
     "output_type": "stream",
     "text": [
      "cluster orders_quantity 1\n"
     ]
    },
    {
     "data": {
      "image/png": "[encoded data removed]",
      "text/plain": [
       "<Figure size 720x360 with 1 Axes>"
      ]
     },
     "metadata": {},
     "output_type": "display_data"
    },
    {
     "name": "stdout",
     "output_type": "stream",
     "text": [
      "cluster orders_quantity 2\n"
     ]
    },
    {
     "data": {
      "image/png": "[encoded data removed]",
      "text/plain": [
       "<Figure size 720x360 with 1 Axes>"
      ]
     },
     "metadata": {},
     "output_type": "display_data"
    },
    {
     "name": "stdout",
     "output_type": "stream",
     "text": [
      "cluster orders_quantity 4\n"
     ]
    },
    {
     "data": {
      "image/png": "[encoded data removed]",
      "text/plain": [
       "<Figure size 720x360 with 1 Axes>"
      ]
     },
     "metadata": {},
     "output_type": "display_data"
    },
    {
     "name": "stdout",
     "output_type": "stream",
     "text": [
      "cluster orders_quantity 3\n"
     ]
    },
    {
     "data": {
      "image/png": "[encoded data removed]",
      "text/plain": [
       "<Figure size 720x360 with 1 Axes>"
      ]
     },
     "metadata": {},
     "output_type": "display_data"
    },
    {
     "name": "stdout",
     "output_type": "stream",
     "text": [
      "cluster avg_check 1\n"
     ]
    },
    {
     "data": {
      "image/png": "[encoded data removed]",
      "text/plain": [
       "<Figure size 720x360 with 1 Axes>"
      ]
     },
     "metadata": {},
     "output_type": "display_data"
    },
    {
     "name": "stdout",
     "output_type": "stream",
     "text": [
      "cluster avg_check 2\n"
     ]
    },
    {
     "data": {
      "image/png": "[encoded data removed]",
      "text/plain": [
       "<Figure size 720x360 with 1 Axes>"
      ]
     },
     "metadata": {},
     "output_type": "display_data"
    },
    {
     "name": "stdout",
     "output_type": "stream",
     "text": [
      "cluster avg_check 4\n"
     ]
    },
    {
     "data": {
      "image/png": "[encoded data removed]",
      "text/plain": [
       "<Figure size 720x360 with 1 Axes>"
      ]
     },
     "metadata": {},
     "output_type": "display_data"
    },
    {
     "name": "stdout",
     "output_type": "stream",
     "text": [
      "cluster avg_check 3\n"
     ]
    },
    {
     "data": {
      "image/png": "[encoded data removed]",
      "text/plain": [
       "<Figure size 720x360 with 1 Axes>"
      ]
     },
     "metadata": {},
     "output_type": "display_data"
    },
    {
     "name": "stdout",
     "output_type": "stream",
     "text": [
      "cluster sku_avg_quantity 1\n"
     ]
    },
    {
     "data": {
      "image/png": "[encoded data removed]",
      "text/plain": [
       "<Figure size 720x360 with 1 Axes>"
      ]
     },
     "metadata": {},
     "output_type": "display_data"
    },
    {
     "name": "stdout",
     "output_type": "stream",
     "text": [
      "cluster sku_avg_quantity 2\n"
     ]
    },
    {
     "data": {
      "image/png": "[encoded data removed]",
      "text/plain": [
       "<Figure size 720x360 with 1 Axes>"
      ]
     },
     "metadata": {},
     "output_type": "display_data"
    },
    {
     "name": "stdout",
     "output_type": "stream",
     "text": [
      "cluster sku_avg_quantity 4\n"
     ]
    },
    {
     "data": {
      "image/png": "[encoded data removed]",
      "text/plain": [
       "<Figure size 720x360 with 1 Axes>"
      ]
     },
     "metadata": {},
     "output_type": "display_data"
    },
    {
     "name": "stdout",
     "output_type": "stream",
     "text": [
      "cluster sku_avg_quantity 3\n"
     ]
    },
    {
     "data": {
      "image/png": "[encoded data removed]",
      "text/plain": [
       "<Figure size 720x360 with 1 Axes>"
      ]
     },
     "metadata": {},
     "output_type": "display_data"
    }
   ],
   "source": [
    "# #проверим данные на нормальность, чтобы в дальнейшем использовать t_test\n",
    "\n",
    "type_group = ['type_orders_quantity','type_avg_check','type_sku_avg_quantity', 'cluster']\n",
    "parametrs = ['orders_quantity','avg_check','sku_avg_quantity']\n",
    "\n",
    "for group in type_group: \n",
    "    for parametr in parametrs:\n",
    "        variants = cluster_final[group].unique()\n",
    "        for variant in variants: \n",
    "            cluster_final[cluster_final[group]== variant][parametr].hist()\n",
    "            print(group, parametr, variant)\n",
    "            plt.show()\n",
    "# данные распределены нормально"
   ]
  },
  {
   "cell_type": "code",
   "execution_count": 37,
   "id": "aa19b866",
   "metadata": {},
   "outputs": [],
   "source": [
    "# Напишем функцию проверки двух выборок t-тестом\n",
    "def t_test(data, segment, type_1, type_2, parametr):\n",
    "    from scipy import stats as st\n",
    "    import numpy as np\n",
    "\n",
    "    sample_1 = list(data[data[segment]==type_1][parametr])\n",
    "    sample_2 = list(data[data[segment]==type_2][parametr])\n",
    "\n",
    "    alpha = .05 # критический уровень статистической значимости (если p-value окажется меньше него - отвергнем гипотезу)\n",
    "\n",
    "    results = st.ttest_ind(sample_1, sample_2, equal_var = False)\n",
    "\n",
    "    print('p-значение:', results.pvalue)\n",
    "    print(f'Проверка равенства значений {parametr} в {segment} между типами {type_1} и {type_2}:')\n",
    "    \n",
    "    if results.pvalue < alpha:\n",
    "        print(f\"Отвергаем нулевую гипотезу, значения {parametr} между типами различаются\")\n",
    "    else:\n",
    "        print(\"Не получилось отвергнуть нулевую гипотезу\") "
   ]
  },
  {
   "cell_type": "code",
   "execution_count": 38,
   "id": "be57bcc7",
   "metadata": {},
   "outputs": [
    {
     "name": "stdout",
     "output_type": "stream",
     "text": [
      "Гипотеза Ho: Количество заказов в группах с высоким средним чеком и средним не отличаются\n",
      "p-значение: 0.4382929283744148\n",
      "Проверка равенства значений orders_quantity в type_avg_check между типами высокий и средний:\n",
      "Не получилось отвергнуть нулевую гипотезу\n",
      "\n",
      "Гипотеза Ho: Количество заказов в группах с низким средним чеком и средним не отличаются\n",
      "p-значение: 0.24827427365642177\n",
      "Проверка равенства значений orders_quantity в type_avg_check между типами средний и низкий:\n",
      "Не получилось отвергнуть нулевую гипотезу\n",
      "\n",
      "Гипотеза Ho: Количество заказов в группах с высоким средним чеком и низким не отличаются\n",
      "p-значение: 0.6286109079630808\n",
      "Проверка равенства значений orders_quantity в type_avg_check между типами высокий и низкий:\n",
      "Не получилось отвергнуть нулевую гипотезу\n",
      "\n"
     ]
    }
   ],
   "source": [
    "# Количество заказов в группах, разделенных по размеру среднего чека\n",
    "print('Гипотеза Ho: Количество заказов в группах с высоким средним чеком и средним не отличаются')\n",
    "t_test(cluster_final, 'type_avg_check', 'высокий', 'средний', 'orders_quantity')\n",
    "print('')\n",
    "\n",
    "print('Гипотеза Ho: Количество заказов в группах с низким средним чеком и средним не отличаются')\n",
    "t_test(cluster_final, 'type_avg_check', 'средний', 'низкий', 'orders_quantity')\n",
    "print('')\n",
    "\n",
    "print('Гипотеза Ho: Количество заказов в группах с высоким средним чеком и низким не отличаются')\n",
    "t_test(cluster_final, 'type_avg_check', 'высокий', 'низкий', 'orders_quantity')\n",
    "print('')"
   ]
  },
  {
   "cell_type": "markdown",
   "id": "a54efe6f",
   "metadata": {},
   "source": [
    "Группы клиентов, разбитые по размеру среднего чека, статистически не отличаются по количеству заказов."
   ]
  },
  {
   "cell_type": "code",
   "execution_count": 39,
   "id": "c6ed57f6",
   "metadata": {},
   "outputs": [
    {
     "name": "stdout",
     "output_type": "stream",
     "text": [
      "Гипотеза Ho: Количество товаров в заказе в группах с высоким средним чеком и средним не отличаются\n",
      "p-значение: 2.2724676045591392e-08\n",
      "Проверка равенства значений sku_avg_quantity в type_avg_check между типами высокий и средний:\n",
      "Отвергаем нулевую гипотезу, значения sku_avg_quantity между типами различаются\n",
      "\n",
      "Гипотеза Ho: Количество товаров в заказе в группах с низким средним чеком и средним не отличаются\n",
      "p-значение: 5.749387319679197e-20\n",
      "Проверка равенства значений sku_avg_quantity в type_avg_check между типами средний и низкий:\n",
      "Отвергаем нулевую гипотезу, значения sku_avg_quantity между типами различаются\n",
      "\n",
      "Гипотеза Ho: Количество товаров в заказе в группах с высоким средним чеком и низким не отличаются\n",
      "p-значение: 1.1686394138616804e-11\n",
      "Проверка равенства значений sku_avg_quantity в type_avg_check между типами высокий и низкий:\n",
      "Отвергаем нулевую гипотезу, значения sku_avg_quantity между типами различаются\n",
      "\n"
     ]
    }
   ],
   "source": [
    "# Количество товаров в заказе в группах, разделенных по размеру среднего чека\n",
    "print('Гипотеза Ho: Количество товаров в заказе в группах с высоким средним чеком и средним не отличаются')\n",
    "t_test(cluster_final, 'type_avg_check', 'высокий', 'средний', 'sku_avg_quantity')\n",
    "print('')\n",
    "\n",
    "print('Гипотеза Ho: Количество товаров в заказе в группах с низким средним чеком и средним не отличаются')\n",
    "t_test(cluster_final, 'type_avg_check', 'средний', 'низкий', 'sku_avg_quantity')\n",
    "print('')\n",
    "\n",
    "print('Гипотеза Ho: Количество товаров в заказе в группах с высоким средним чеком и низким не отличаются')\n",
    "t_test(cluster_final, 'type_avg_check', 'высокий', 'низкий', 'sku_avg_quantity')\n",
    "print('')"
   ]
  },
  {
   "cell_type": "markdown",
   "id": "2cbefea5",
   "metadata": {},
   "source": [
    "Группы клиентов, разбитые по размеру среднего чека, имеют разное количество товаров в заказе."
   ]
  },
  {
   "cell_type": "code",
   "execution_count": 40,
   "id": "8a2cf4c4",
   "metadata": {},
   "outputs": [
    {
     "name": "stdout",
     "output_type": "stream",
     "text": [
      "Гипотеза Ho: Кол-во товаров в заказе в группах с много и средне заказов не отличаются\n",
      "p-значение: 0.18094229756107463\n",
      "Проверка равенства значений sku_avg_quantity в type_orders_quantity между типами много и средне:\n",
      "Не получилось отвергнуть нулевую гипотезу\n",
      "\n",
      "Гипотеза Ho: Кол-во товаров в заказе в группах много и мало заказов не отличаются\n",
      "p-значение: 0.4266989541679037\n",
      "Проверка равенства значений sku_avg_quantity в type_orders_quantity между типами много и мало:\n",
      "Не получилось отвергнуть нулевую гипотезу\n",
      "\n",
      "Гипотеза Ho: Кол-во товаров в заказе в группах с средне и мало заказов не отличаются\n",
      "p-значение: 0.29826308706039406\n",
      "Проверка равенства значений sku_avg_quantity в type_orders_quantity между типами средне и мало:\n",
      "Не получилось отвергнуть нулевую гипотезу\n",
      "\n"
     ]
    }
   ],
   "source": [
    "# Количество товаров в заказе в группе, разделенных по количеству заказов\n",
    "print('Гипотеза Ho: Кол-во товаров в заказе в группах с много и средне заказов не отличаются')\n",
    "t_test(cluster_final, 'type_orders_quantity', 'много', 'средне', 'sku_avg_quantity')\n",
    "print('')\n",
    "\n",
    "print('Гипотеза Ho: Кол-во товаров в заказе в группах много и мало заказов не отличаются')\n",
    "t_test(cluster_final, 'type_orders_quantity', 'много', 'мало', 'sku_avg_quantity')\n",
    "print('')\n",
    "\n",
    "print('Гипотеза Ho: Кол-во товаров в заказе в группах с средне и мало заказов не отличаются')\n",
    "t_test(cluster_final, 'type_orders_quantity', 'средне', 'мало', 'sku_avg_quantity')\n",
    "print('')"
   ]
  },
  {
   "cell_type": "markdown",
   "id": "e7ea24ab",
   "metadata": {},
   "source": [
    "Группы клиентов, разбитые по количеству заказов, статистически не отличаются по количеству товаров в заказе."
   ]
  },
  {
   "cell_type": "code",
   "execution_count": 41,
   "id": "1bc70c1d",
   "metadata": {
    "scrolled": true
   },
   "outputs": [
    {
     "name": "stdout",
     "output_type": "stream",
     "text": [
      "Средний чек\n",
      "################################################################################\n",
      "Гипотеза Ho: Средние чеки в группах 1 и 2 не отличаются\n",
      "p-значение: 2.810529099481594e-07\n",
      "Проверка равенства значений avg_check в cluster между типами 1 и 2:\n",
      "Отвергаем нулевую гипотезу, значения avg_check между типами различаются\n",
      "\n",
      "Гипотеза Ho: Средние чеки в группах 1 и 3 не отличаются\n",
      "p-значение: 0.27711994570327037\n",
      "Проверка равенства значений avg_check в cluster между типами 1 и 3:\n",
      "Не получилось отвергнуть нулевую гипотезу\n",
      "\n",
      "Гипотеза Ho: Средние чеки в группах 1 и 4 не отличаются\n",
      "p-значение: 0.16063444503507787\n",
      "Проверка равенства значений avg_check в cluster между типами 1 и 4:\n",
      "Не получилось отвергнуть нулевую гипотезу\n",
      "\n",
      "Гипотеза Ho: Средние чеки в группах 2 и 3 не отличаются\n",
      "p-значение: 1.8106262032513288e-06\n",
      "Проверка равенства значений avg_check в cluster между типами 2 и 3:\n",
      "Отвергаем нулевую гипотезу, значения avg_check между типами различаются\n",
      "\n",
      "Гипотеза Ho: Средние чеки в группах 2 и 4 не отличаются\n",
      "p-значение: 0.2861675119479743\n",
      "Проверка равенства значений avg_check в cluster между типами 2 и 4:\n",
      "Не получилось отвергнуть нулевую гипотезу\n",
      "\n",
      "Гипотеза Ho: Средние чеки в группах 3 и 4 не отличаются\n",
      "p-значение: 0.16694549305128384\n",
      "Проверка равенства значений avg_check в cluster между типами 3 и 4:\n",
      "Не получилось отвергнуть нулевую гипотезу\n",
      "################################################################################\n",
      "\n",
      "Количество заказов\n",
      "################################################################################\n",
      "Гипотеза Ho: Количество заказов в группах 1 и 2 не отличаются\n",
      "p-значение: 0.073620149137814\n",
      "Проверка равенства значений orders_quantity в cluster между типами 1 и 2:\n",
      "Не получилось отвергнуть нулевую гипотезу\n",
      "\n",
      "Гипотеза Ho: Количество заказов в группах 1 и 3 не отличаются\n",
      "p-значение: 0.33120086206401933\n",
      "Проверка равенства значений orders_quantity в cluster между типами 1 и 3:\n",
      "Не получилось отвергнуть нулевую гипотезу\n",
      "\n",
      "Гипотеза Ho: Количество заказов в группах 1 и 4 не отличаются\n",
      "p-значение: 1.4210427735634963e-17\n",
      "Проверка равенства значений orders_quantity в cluster между типами 1 и 4:\n",
      "Отвергаем нулевую гипотезу, значения orders_quantity между типами различаются\n",
      "\n",
      "Гипотеза Ho: Количество заказов в группах 2 и 3 не отличаются\n",
      "p-значение: 0.33204284241710946\n",
      "Проверка равенства значений orders_quantity в cluster между типами 2 и 3:\n",
      "Не получилось отвергнуть нулевую гипотезу\n",
      "\n",
      "Гипотеза Ho: Количество заказов в группах 2 и 4 не отличаются\n",
      "p-значение: 0.0189392719557782\n",
      "Проверка равенства значений orders_quantity в cluster между типами 2 и 4:\n",
      "Отвергаем нулевую гипотезу, значения orders_quantity между типами различаются\n",
      "\n",
      "Гипотеза Ho: Количество заказов в группах 3 и 4 не отличаются\n",
      "p-значение: 0.33092970319974463\n",
      "Проверка равенства значений orders_quantity в cluster между типами 3 и 4:\n",
      "Не получилось отвергнуть нулевую гипотезу\n",
      "################################################################################\n",
      "\n",
      "Количество товаров в заказе\n",
      "################################################################################\n",
      "Гипотеза Ho: Количество товаров в заказе в группах 1 и 2 не отличаются\n",
      "p-значение: 2.839093376798174e-14\n",
      "Проверка равенства значений sku_avg_quantity в cluster между типами 1 и 2:\n",
      "Отвергаем нулевую гипотезу, значения sku_avg_quantity между типами различаются\n",
      "\n",
      "Гипотеза Ho: Количество товаров в заказев группах 1 и 3 не отличаются\n",
      "p-значение: 0.5004326381631565\n",
      "Проверка равенства значений sku_avg_quantity в cluster между типами 1 и 3:\n",
      "Не получилось отвергнуть нулевую гипотезу\n",
      "\n",
      "Гипотеза Ho: Количество товаров в заказе в группах 1 и 4 не отличаются\n",
      "p-значение: 0.0023378500752421197\n",
      "Проверка равенства значений sku_avg_quantity в cluster между типами 1 и 4:\n",
      "Отвергаем нулевую гипотезу, значения sku_avg_quantity между типами различаются\n",
      "\n",
      "Гипотеза Ho: Количество товаров в заказе в группах 2 и 3 не отличаются\n",
      "p-значение: 1.2671438329855439e-05\n",
      "Проверка равенства значений sku_avg_quantity в cluster между типами 2 и 3:\n",
      "Отвергаем нулевую гипотезу, значения sku_avg_quantity между типами различаются\n",
      "\n",
      "Гипотеза Ho: Количество товаров в заказе в группах 2 и 4 не отличаются\n",
      "p-значение: 0.0034016165077087597\n",
      "Проверка равенства значений sku_avg_quantity в cluster между типами 2 и 4:\n",
      "Отвергаем нулевую гипотезу, значения sku_avg_quantity между типами различаются\n",
      "\n",
      "Гипотеза Ho: Количество товаров в заказе в группах 3 и 4 не отличаются\n",
      "p-значение: 0.0022463096285211584\n",
      "Проверка равенства значений sku_avg_quantity в cluster между типами 3 и 4:\n",
      "Отвергаем нулевую гипотезу, значения sku_avg_quantity между типами различаются\n"
     ]
    }
   ],
   "source": [
    "### Различия кластеров \n",
    "# Средний чек\n",
    "print('Средний чек')\n",
    "print('#'*80)\n",
    "print('Гипотеза Ho: Средние чеки в группах 1 и 2 не отличаются')\n",
    "t_test(cluster_final, 'cluster', 1, 2, 'avg_check')\n",
    "print('')\n",
    "\n",
    "print('Гипотеза Ho: Средние чеки в группах 1 и 3 не отличаются')\n",
    "t_test(cluster_final, 'cluster', 1, 3, 'avg_check')\n",
    "print('')\n",
    "\n",
    "print('Гипотеза Ho: Средние чеки в группах 1 и 4 не отличаются')\n",
    "t_test(cluster_final, 'cluster', 1, 4, 'avg_check')\n",
    "print('')\n",
    "\n",
    "print('Гипотеза Ho: Средние чеки в группах 2 и 3 не отличаются')\n",
    "t_test(cluster_final, 'cluster', 2, 3, 'avg_check')\n",
    "print('')\n",
    "\n",
    "print('Гипотеза Ho: Средние чеки в группах 2 и 4 не отличаются')\n",
    "t_test(cluster_final, 'cluster', 2, 4, 'avg_check')\n",
    "print('')\n",
    "\n",
    "print('Гипотеза Ho: Средние чеки в группах 3 и 4 не отличаются')\n",
    "t_test(cluster_final, 'cluster', 3, 4, 'avg_check')\n",
    "print('#'*80)\n",
    "print('')\n",
    "\n",
    "# Количество заказов\n",
    "print('Количество заказов')\n",
    "print('#'*80)\n",
    "print('Гипотеза Ho: Количество заказов в группах 1 и 2 не отличаются')\n",
    "t_test(cluster_final, 'cluster', 1, 2, 'orders_quantity')\n",
    "print('')\n",
    "\n",
    "print('Гипотеза Ho: Количество заказов в группах 1 и 3 не отличаются')\n",
    "t_test(cluster_final, 'cluster', 1, 3, 'orders_quantity')\n",
    "print('')\n",
    "\n",
    "print('Гипотеза Ho: Количество заказов в группах 1 и 4 не отличаются')\n",
    "t_test(cluster_final, 'cluster', 1, 4, 'orders_quantity')\n",
    "print('')\n",
    "\n",
    "print('Гипотеза Ho: Количество заказов в группах 2 и 3 не отличаются')\n",
    "t_test(cluster_final, 'cluster', 2, 3, 'orders_quantity')\n",
    "print('')\n",
    "\n",
    "print('Гипотеза Ho: Количество заказов в группах 2 и 4 не отличаются')\n",
    "t_test(cluster_final, 'cluster', 2, 4, 'orders_quantity')\n",
    "print('')\n",
    "\n",
    "print('Гипотеза Ho: Количество заказов в группах 3 и 4 не отличаются')\n",
    "t_test(cluster_final, 'cluster', 3, 4, 'orders_quantity')\n",
    "print('#'*80)\n",
    "print('')\n",
    "\n",
    "# Количество товаров в заказе\n",
    "print('Количество товаров в заказе')\n",
    "print('#'*80)\n",
    "print('Гипотеза Ho: Количество товаров в заказе в группах 1 и 2 не отличаются')\n",
    "t_test(cluster_final, 'cluster', 1, 2, 'sku_avg_quantity')\n",
    "print('')\n",
    "\n",
    "print('Гипотеза Ho: Количество товаров в заказев группах 1 и 3 не отличаются')\n",
    "t_test(cluster_final, 'cluster', 1, 3, 'sku_avg_quantity')\n",
    "print('')\n",
    "\n",
    "print('Гипотеза Ho: Количество товаров в заказе в группах 1 и 4 не отличаются')\n",
    "t_test(cluster_final, 'cluster', 1, 4, 'sku_avg_quantity')\n",
    "print('')\n",
    "\n",
    "print('Гипотеза Ho: Количество товаров в заказе в группах 2 и 3 не отличаются')\n",
    "t_test(cluster_final, 'cluster', 2, 3, 'sku_avg_quantity')\n",
    "print('')\n",
    "\n",
    "print('Гипотеза Ho: Количество товаров в заказе в группах 2 и 4 не отличаются')\n",
    "t_test(cluster_final, 'cluster', 2, 4, 'sku_avg_quantity')\n",
    "print('')\n",
    "\n",
    "print('Гипотеза Ho: Количество товаров в заказе в группах 3 и 4 не отличаются')\n",
    "t_test(cluster_final, 'cluster', 3, 4, 'sku_avg_quantity')"
   ]
  },
  {
   "cell_type": "markdown",
   "id": "8b92126f",
   "metadata": {},
   "source": [
    "Проверив попарно различия 4х кластеров по ключевым показателям, практически все нулевые гипотезы были отклонены, что подтверждает различия между группами. Кластеры построены на комбинации 3-х показателей и поэтому некоторые кластеры могут совпадать по определенным показателям. Также в 2 и 3 кластерах очень маленький размер выборки. Так например, не было статистически обнаружно различий в показателе среднего чека между 1-2 кластерами и 3-4 кластерами. Количество заказов в нашей выборке очень схоже, поэтому 4 из 6 гипотез по этому показателю также не были статистически отвергнуты (1-3, 1-4, 2-3, 3-4). В показателе количество товаров в заказе не получилось отвергнуть нулевую гипотезу в кластерах 3-4."
   ]
  },
  {
   "cell_type": "markdown",
   "id": "4a393f13",
   "metadata": {},
   "source": [
    "* Проверив статистические гипотезы, мы можем сказать что в выделенных кластерах есть различия в большинстве показателях, а также подтвердилось различие у групп клиентов, разбитых по размеру среднего чека по показателю кол-ва товаров в заказе.\n",
    "* Однако есть и группы со схожими параметрами, например группы клиентов, разбитые по размеру среднего чека, статистически не отличаются по количеству заказов. Это стоит учитывать при выборе маркетинговых активностей и возможно где-то использовать оба сегмента в одной рекламной кампании."
   ]
  },
  {
   "cell_type": "markdown",
   "id": "c76b835e",
   "metadata": {},
   "source": [
    "### Выводы и рекомендации"
   ]
  },
  {
   "cell_type": "markdown",
   "id": "792bf1cc",
   "metadata": {},
   "source": [
    "* При первичном анализе транзакций были убраны транзакциии в рамках 1 заказа, оставив последнюю по дате запись\n",
    "* Сгруппировали транзакции по заказам в ключевой для дальнейшего анализа датасет data_orders\n",
    "* Убрали тестовый заказ 71743, который случайно попал в датасет\n",
    "* Данные включили в себя 2783 заказа и 2450 покупателей с 1 октября 2018 по 31 октября 2019\n",
    "* Самыми продаваемыми товарами на сайте стали дешевые товары стоимостью до 150 рублей. При этом 1314 товаров было проданы лишь 1 раз\n",
    "\n",
    "В ходе анализа динамики ключевых показателей было выявлен спад основных метрик магазина с мая 2019 года, а именно:\n",
    "* Выручка уменьшилась на 37,6%\n",
    "* Средняя выручка на 1 покупателя упала на 38%\n",
    "* Средний чек уменьшился на 26% \n",
    "* Количество покупателей уменьшилось на 2%, при этом только 6,5% всех покупателей совершали повторную покупку\n",
    "* Количество заказов сократилось на 15%\n",
    "\n",
    "Можно сделать вывод о том, что во всех бизнес показателях интернет-магазин товаров для дома и быт «Пока все ещё тут» уступает прошлому периоду.\n",
    "\n",
    "**Сегментация:**\n",
    "\n",
    "Мы разделили клиентов на 9 групп по трём показателям:\n",
    "* Количество заказов (мало, много, средне)\n",
    "* Размер среднего чека (низкий, средний, высокий)\n",
    "* Среднее количество товаров в чеке (мало, много, средне)\n",
    "\n",
    "Комбинируя эти группы между собой, можно подобрать клиентов, подходящих для разных маркетинговых форматов. Например, к лояльным клиентам могут относится клиенты с высоким средним чеком и \"много\" количеством заказов. Спящие, но платежеспособные клиенты — клиенты с \"мало\" заказов и средний + высокий средний чек. И тд\n",
    "\n",
    "Также на основе комбинации этих трех показателей было рассчитано 4 кластера (разные по размеру):\n",
    "* 1 кластер — уверенный средний чек и много товаров в заказе (4,7% клиентов). Клиенты из этого кластера более привлекательны с точки зрения увеличения выручки, возможно их можно взбодрить интерактивной рассылкой или запуском программы лояльности (например с накопительными бонусами)\n",
    "* 2 кластер — мало заказов, но много товаров (8 клиентов). Поведение этих покупателей похоже на поведение оптовиков. К сожалению, они не вернулись за повторной покупкой, возможно стоит обратить внимание на специальные клиентские карты для юр. лиц, дающие возможность покупать по оптовым ценам.\n",
    "* 3 кластер — супер лояльные физики или малый бизнес (2 клиента). Эти клиенты чаще всего покупали много товаров, но средний чек у них низковат.\n",
    "* 4 кластер — средний и самый многочисленный (95% клиентов). Кластер описывает среднее поведение основной части клиентов. С такими клиентами нужно работать для повышения LTV.\n",
    "\n",
    "Выбор комбинации групп или конкретного кластера будет зависеть уже от дальнеший целей и действий отдела маркетинга и стратегий.\n",
    "\n",
    "**Рекомендации:**\n",
    "* Магазину нужно обратить внимание на удержание и возвращение спящих клиентов\n",
    "* Рассмотреть варианты бонусной программы лояльности для привлечения на совершение повторных покупок\n",
    "* Предоставить промокод (фиксированная сумма от минимального заказа) на повторную покупку\n",
    "* Стоит обратить внимание на контентную состовляющую оформления карточки товара для улучшения восприятия товаров онлайн: обеспечить набором качественных фотографий товара, дополнительным видео материалом, полным описанием и достаточным количеством отзывов, чтобы повысить уверенность покупателя в качестве товара и увеличить продажи дорогих позиций.\n",
    "* Также чтобы увеличить продажи дорогостоящих товаров можно подключить услуги дробления платежа (например сплит на Яндекс Маркете)\n",
    "* Продумать маркетинговые активности персонально под сегмент и общую стратегию (цель на удержание и возрождение старых или на привлечение новых клиентов)\n",
    "* Проанализировать наличие сезонности при добавлении в данные большего повторного периода \n",
    "* Изучить конкурентов, возможно в мае 2019 появились новые игроки\n",
    "* Проверить техническую составляющую сайта, возможно были изменения и сервис стал менее удобным\n",
    "* Подумать над улучшением клиентского сервиса для увеличения повторных покупок\n",
    "\n",
    "В целом при выборе правильной стратегии и успешных маркетинговых активностей у интернет-магазина товаров для дома и быт «Пока все ещё тут» есть потенциал для возвращения показателей до уровня конца 2018 года."
   ]
  },
  {
   "cell_type": "code",
   "execution_count": 42,
   "id": "21f764f8",
   "metadata": {},
   "outputs": [],
   "source": [
    "#сохранение списка клиентов со всеми параметрами\n",
    "#cluster_final.to_excel('Разделение клиентов на группы.xlsx')\n",
    "\n",
    "#сохранение списка клиентов определенного сегмента или кластера\n",
    "client_segment = cluster_final[cluster_final['type_avg_check']=='высокий']['customer_id'].reset_index()\n",
    "#client_segment.to_excel('Клиенты сегмент высокий средний чек.xlsx')\n",
    "\n",
    "#сохранение списка клиентов комбинированных сегментов\n",
    "client_segment_combine = cluster_final[(cluster_final['type_avg_check']=='высокий')&(cluster_final['type_orders_quantity']=='много')]['customer_id'].reset_index()\n",
    "#client_segment_combine.to_excel('Клиенты высокий средний чек и много заказов.xlsx')"
   ]
  },
  {
   "cell_type": "markdown",
   "id": "60ea4955",
   "metadata": {},
   "source": [
    "Дашборд https://public.tableau.com/app/profile/evgeniya1681/viz/_Finalproject/Dashboard?publish=yes\n",
    "\n",
    "Презентация: https://disk.yandex.ru/i/I5mYTVS5xkQTDA"
   ]
  }
 ],
 "metadata": {
  "ExecuteTimeLog": [
   {
    "duration": 1983,
    "start_time": "2023-04-03T11:45:05.489Z"
   },
   {
    "duration": 120,
    "start_time": "2023-04-03T11:45:07.474Z"
   },
   {
    "duration": 62,
    "start_time": "2023-04-03T11:45:07.596Z"
   },
   {
    "duration": 260,
    "start_time": "2023-04-03T11:45:07.660Z"
   },
   {
    "duration": 19,
    "start_time": "2023-04-03T11:45:07.922Z"
   },
   {
    "duration": 7,
    "start_time": "2023-04-03T11:45:07.951Z"
   },
   {
    "duration": 70,
    "start_time": "2023-04-03T11:45:07.960Z"
   },
   {
    "duration": 128,
    "start_time": "2023-04-03T11:45:08.031Z"
   },
   {
    "duration": 108,
    "start_time": "2023-04-03T11:45:08.160Z"
   },
   {
    "duration": 11,
    "start_time": "2023-04-03T11:45:08.271Z"
   },
   {
    "duration": 12,
    "start_time": "2023-04-03T11:45:08.283Z"
   },
   {
    "duration": 7,
    "start_time": "2023-04-03T11:45:08.297Z"
   },
   {
    "duration": 13,
    "start_time": "2023-04-03T11:45:08.306Z"
   },
   {
    "duration": 387,
    "start_time": "2023-04-03T11:45:08.320Z"
   },
   {
    "duration": 605,
    "start_time": "2023-04-03T11:45:08.709Z"
   },
   {
    "duration": 339,
    "start_time": "2023-04-03T11:45:09.316Z"
   },
   {
    "duration": 607,
    "start_time": "2023-04-03T11:45:09.656Z"
   },
   {
    "duration": 323,
    "start_time": "2023-04-03T11:45:10.265Z"
   },
   {
    "duration": 388,
    "start_time": "2023-04-03T11:45:10.589Z"
   },
   {
    "duration": 394,
    "start_time": "2023-04-03T11:45:10.978Z"
   },
   {
    "duration": 167,
    "start_time": "2023-04-03T11:45:11.373Z"
   },
   {
    "duration": 20,
    "start_time": "2023-04-03T11:45:11.546Z"
   },
   {
    "duration": 195,
    "start_time": "2023-04-03T11:45:11.568Z"
   },
   {
    "duration": 15,
    "start_time": "2023-04-03T11:45:11.764Z"
   },
   {
    "duration": 16,
    "start_time": "2023-04-03T11:45:11.780Z"
   },
   {
    "duration": 13,
    "start_time": "2023-04-03T11:45:11.798Z"
   },
   {
    "duration": 25,
    "start_time": "2023-04-03T11:45:11.840Z"
   },
   {
    "duration": 16,
    "start_time": "2023-04-03T11:45:11.868Z"
   },
   {
    "duration": 15,
    "start_time": "2023-04-03T11:45:11.885Z"
   },
   {
    "duration": 164,
    "start_time": "2023-04-03T11:45:11.902Z"
   },
   {
    "duration": 6832,
    "start_time": "2023-04-03T11:45:12.067Z"
   },
   {
    "duration": 445,
    "start_time": "2023-04-03T11:45:18.900Z"
   },
   {
    "duration": 50,
    "start_time": "2023-04-03T11:45:19.347Z"
   },
   {
    "duration": 20,
    "start_time": "2023-04-03T11:45:19.399Z"
   },
   {
    "duration": 573636,
    "start_time": "2023-04-03T11:45:19.421Z"
   },
   {
    "duration": 6,
    "start_time": "2023-04-03T11:54:53.058Z"
   },
   {
    "duration": 1107,
    "start_time": "2023-04-03T11:54:53.066Z"
   },
   {
    "duration": 36,
    "start_time": "2023-04-03T11:54:54.175Z"
   },
   {
    "duration": 865,
    "start_time": "2023-04-03T11:54:54.213Z"
   },
   {
    "duration": 654,
    "start_time": "2023-04-03T11:54:55.080Z"
   },
   {
    "duration": 927,
    "start_time": "2023-04-03T11:54:55.736Z"
   },
   {
    "duration": 45,
    "start_time": "2023-04-03T14:55:43.723Z"
   },
   {
    "duration": 2043,
    "start_time": "2023-04-03T14:55:51.822Z"
   },
   {
    "duration": 102,
    "start_time": "2023-04-03T14:55:53.867Z"
   },
   {
    "duration": 49,
    "start_time": "2023-04-03T14:55:53.971Z"
   },
   {
    "duration": 243,
    "start_time": "2023-04-03T14:55:54.021Z"
   },
   {
    "duration": 9,
    "start_time": "2023-04-03T14:55:54.266Z"
   },
   {
    "duration": 16,
    "start_time": "2023-04-03T14:55:54.277Z"
   },
   {
    "duration": 73,
    "start_time": "2023-04-03T14:55:54.295Z"
   },
   {
    "duration": 127,
    "start_time": "2023-04-03T14:55:54.370Z"
   },
   {
    "duration": 110,
    "start_time": "2023-04-03T14:55:54.499Z"
   },
   {
    "duration": 14,
    "start_time": "2023-04-03T14:55:54.611Z"
   },
   {
    "duration": 7,
    "start_time": "2023-04-03T14:55:54.627Z"
   },
   {
    "duration": 12,
    "start_time": "2023-04-03T14:55:54.635Z"
   },
   {
    "duration": 34,
    "start_time": "2023-04-03T14:55:54.649Z"
   },
   {
    "duration": 395,
    "start_time": "2023-04-03T14:55:54.690Z"
   },
   {
    "duration": 677,
    "start_time": "2023-04-03T14:55:55.089Z"
   },
   {
    "duration": 359,
    "start_time": "2023-04-03T14:55:55.768Z"
   },
   {
    "duration": 607,
    "start_time": "2023-04-03T14:55:56.129Z"
   },
   {
    "duration": 391,
    "start_time": "2023-04-03T14:55:56.739Z"
   },
   {
    "duration": 398,
    "start_time": "2023-04-03T14:55:57.131Z"
   },
   {
    "duration": 451,
    "start_time": "2023-04-03T14:55:57.531Z"
   },
   {
    "duration": 173,
    "start_time": "2023-04-03T14:55:57.984Z"
   },
   {
    "duration": 18,
    "start_time": "2023-04-03T14:55:58.159Z"
   },
   {
    "duration": 233,
    "start_time": "2023-04-03T14:55:58.178Z"
   },
   {
    "duration": 27,
    "start_time": "2023-04-03T14:55:58.413Z"
   },
   {
    "duration": 18,
    "start_time": "2023-04-03T14:55:58.442Z"
   },
   {
    "duration": 39,
    "start_time": "2023-04-03T14:55:58.461Z"
   },
   {
    "duration": 17,
    "start_time": "2023-04-03T14:55:58.502Z"
   },
   {
    "duration": 22,
    "start_time": "2023-04-03T14:55:58.520Z"
   },
   {
    "duration": 52,
    "start_time": "2023-04-03T14:55:58.545Z"
   },
   {
    "duration": 246,
    "start_time": "2023-04-03T14:55:58.602Z"
   },
   {
    "duration": 7729,
    "start_time": "2023-04-03T14:55:58.851Z"
   },
   {
    "duration": 603,
    "start_time": "2023-04-03T14:56:06.588Z"
   },
   {
    "duration": 123,
    "start_time": "2023-04-03T14:56:07.193Z"
   },
   {
    "duration": 24,
    "start_time": "2023-04-03T14:56:07.318Z"
   },
   {
    "duration": 12,
    "start_time": "2023-04-03T15:09:39.972Z"
   },
   {
    "duration": 93,
    "start_time": "2023-04-03T20:10:38.303Z"
   },
   {
    "duration": 1762,
    "start_time": "2023-04-03T20:12:07.608Z"
   },
   {
    "duration": 133,
    "start_time": "2023-04-03T20:12:09.372Z"
   },
   {
    "duration": 52,
    "start_time": "2023-04-03T20:12:12.506Z"
   },
   {
    "duration": 270,
    "start_time": "2023-04-03T20:12:14.356Z"
   },
   {
    "duration": 11,
    "start_time": "2023-04-03T20:12:16.411Z"
   },
   {
    "duration": 137,
    "start_time": "2023-04-03T20:13:03.478Z"
   },
   {
    "duration": 8,
    "start_time": "2023-04-03T20:13:08.833Z"
   },
   {
    "duration": 7,
    "start_time": "2023-04-03T20:13:15.466Z"
   },
   {
    "duration": 8,
    "start_time": "2023-04-03T20:13:29.406Z"
   },
   {
    "duration": 15,
    "start_time": "2023-04-03T20:13:54.036Z"
   },
   {
    "duration": 10,
    "start_time": "2023-04-03T20:14:51.459Z"
   },
   {
    "duration": 19,
    "start_time": "2023-04-03T20:14:55.196Z"
   },
   {
    "duration": 12,
    "start_time": "2023-04-03T20:14:56.702Z"
   },
   {
    "duration": 25,
    "start_time": "2023-04-03T20:15:18.174Z"
   },
   {
    "duration": 11,
    "start_time": "2023-04-03T20:16:01.978Z"
   },
   {
    "duration": 15,
    "start_time": "2023-04-03T20:16:10.076Z"
   },
   {
    "duration": 21,
    "start_time": "2023-04-03T20:16:27.903Z"
   },
   {
    "duration": 15,
    "start_time": "2023-04-03T20:19:37.517Z"
   },
   {
    "duration": 9,
    "start_time": "2023-04-03T20:26:45.093Z"
   },
   {
    "duration": 16,
    "start_time": "2023-04-03T20:26:47.366Z"
   },
   {
    "duration": 5,
    "start_time": "2023-04-03T20:27:39.508Z"
   },
   {
    "duration": 70,
    "start_time": "2023-04-03T20:27:40.281Z"
   },
   {
    "duration": 60,
    "start_time": "2023-04-03T20:27:41.171Z"
   },
   {
    "duration": 199,
    "start_time": "2023-04-03T20:27:41.761Z"
   },
   {
    "duration": 16,
    "start_time": "2023-04-03T20:27:47.894Z"
   },
   {
    "duration": 22,
    "start_time": "2023-04-03T20:27:51.704Z"
   },
   {
    "duration": 11,
    "start_time": "2023-04-03T20:28:13.516Z"
   },
   {
    "duration": 61,
    "start_time": "2023-04-03T20:28:22.744Z"
   },
   {
    "duration": 47,
    "start_time": "2023-04-03T20:28:23.314Z"
   },
   {
    "duration": 281,
    "start_time": "2023-04-03T20:28:24.170Z"
   },
   {
    "duration": 11,
    "start_time": "2023-04-03T20:28:40.521Z"
   },
   {
    "duration": 90,
    "start_time": "2023-04-03T20:29:09.232Z"
   },
   {
    "duration": 19,
    "start_time": "2023-04-03T20:29:12.776Z"
   },
   {
    "duration": 24,
    "start_time": "2023-04-03T20:29:52.513Z"
   },
   {
    "duration": 10,
    "start_time": "2023-04-03T20:32:08.203Z"
   },
   {
    "duration": 74,
    "start_time": "2023-04-03T20:32:12.973Z"
   },
   {
    "duration": 64,
    "start_time": "2023-04-03T20:32:13.794Z"
   },
   {
    "duration": 218,
    "start_time": "2023-04-03T20:32:14.313Z"
   },
   {
    "duration": 14,
    "start_time": "2023-04-03T20:32:15.922Z"
   },
   {
    "duration": 9,
    "start_time": "2023-04-03T20:32:19.217Z"
   },
   {
    "duration": 78,
    "start_time": "2023-04-03T20:33:12.962Z"
   },
   {
    "duration": 142,
    "start_time": "2023-04-03T20:33:13.484Z"
   },
   {
    "duration": 210,
    "start_time": "2023-04-03T20:33:13.752Z"
   },
   {
    "duration": 12,
    "start_time": "2023-04-03T20:33:15.139Z"
   },
   {
    "duration": 20,
    "start_time": "2023-04-03T20:33:16.469Z"
   },
   {
    "duration": 15,
    "start_time": "2023-04-03T20:33:22.034Z"
   },
   {
    "duration": 5,
    "start_time": "2023-04-03T20:33:28.228Z"
   },
   {
    "duration": 55,
    "start_time": "2023-04-03T20:33:28.508Z"
   },
   {
    "duration": 80,
    "start_time": "2023-04-03T20:33:28.809Z"
   },
   {
    "duration": 221,
    "start_time": "2023-04-03T20:33:28.992Z"
   },
   {
    "duration": 28,
    "start_time": "2023-04-03T20:33:29.765Z"
   },
   {
    "duration": 11,
    "start_time": "2023-04-03T20:33:30.623Z"
   },
   {
    "duration": 4,
    "start_time": "2023-04-03T20:33:34.677Z"
   },
   {
    "duration": 78,
    "start_time": "2023-04-03T20:33:35.061Z"
   },
   {
    "duration": 147,
    "start_time": "2023-04-03T20:33:55.453Z"
   },
   {
    "duration": 148,
    "start_time": "2023-04-03T20:33:57.736Z"
   },
   {
    "duration": 16,
    "start_time": "2023-04-03T20:34:01.390Z"
   },
   {
    "duration": 11,
    "start_time": "2023-04-03T20:34:01.925Z"
   },
   {
    "duration": 11,
    "start_time": "2023-04-03T20:34:03.808Z"
   },
   {
    "duration": 14,
    "start_time": "2023-04-03T20:34:08.010Z"
   },
   {
    "duration": 480,
    "start_time": "2023-04-03T20:34:09.167Z"
   },
   {
    "duration": 707,
    "start_time": "2023-04-03T20:34:14.758Z"
   },
   {
    "duration": 341,
    "start_time": "2023-04-03T20:34:16.897Z"
   },
   {
    "duration": 731,
    "start_time": "2023-04-03T20:34:18.434Z"
   },
   {
    "duration": 333,
    "start_time": "2023-04-03T20:34:20.001Z"
   },
   {
    "duration": 408,
    "start_time": "2023-04-03T20:34:20.939Z"
   },
   {
    "duration": 386,
    "start_time": "2023-04-03T20:34:21.665Z"
   },
   {
    "duration": 214,
    "start_time": "2023-04-03T20:34:22.054Z"
   },
   {
    "duration": 31,
    "start_time": "2023-04-03T20:34:22.465Z"
   },
   {
    "duration": 232,
    "start_time": "2023-04-03T20:34:22.908Z"
   },
   {
    "duration": 18,
    "start_time": "2023-04-03T20:34:23.367Z"
   },
   {
    "duration": 18,
    "start_time": "2023-04-03T20:34:23.596Z"
   },
   {
    "duration": 22,
    "start_time": "2023-04-03T20:34:30.374Z"
   },
   {
    "duration": 40,
    "start_time": "2023-04-03T20:34:31.171Z"
   },
   {
    "duration": 31,
    "start_time": "2023-04-03T20:34:31.928Z"
   },
   {
    "duration": 21,
    "start_time": "2023-04-03T20:34:33.024Z"
   },
   {
    "duration": 210,
    "start_time": "2023-04-03T20:34:33.889Z"
   },
   {
    "duration": 8923,
    "start_time": "2023-04-03T20:34:49.303Z"
   },
   {
    "duration": 566,
    "start_time": "2023-04-03T20:34:58.229Z"
   },
   {
    "duration": 180,
    "start_time": "2023-04-03T20:34:58.799Z"
   },
   {
    "duration": 32,
    "start_time": "2023-04-03T20:34:59.013Z"
   },
   {
    "duration": 146,
    "start_time": "2023-04-03T20:36:48.088Z"
   },
   {
    "duration": 12,
    "start_time": "2023-04-03T20:50:21.822Z"
   },
   {
    "duration": 14,
    "start_time": "2023-04-03T20:54:29.962Z"
   },
   {
    "duration": 6,
    "start_time": "2023-04-03T20:54:31.722Z"
   },
   {
    "duration": 17,
    "start_time": "2023-04-03T20:58:40.121Z"
   },
   {
    "duration": 6,
    "start_time": "2023-04-03T20:58:59.562Z"
   },
   {
    "duration": 7037,
    "start_time": "2023-04-03T20:59:53.268Z"
   },
   {
    "duration": 7241,
    "start_time": "2023-04-03T21:00:51.461Z"
   },
   {
    "duration": 4,
    "start_time": "2023-04-03T21:07:10.739Z"
   },
   {
    "duration": 15,
    "start_time": "2023-04-03T21:07:41.729Z"
   },
   {
    "duration": 17,
    "start_time": "2023-04-03T21:08:04.789Z"
   },
   {
    "duration": 17,
    "start_time": "2023-04-03T21:10:57.389Z"
   },
   {
    "duration": 123,
    "start_time": "2023-04-03T21:11:36.608Z"
   },
   {
    "duration": 16,
    "start_time": "2023-04-03T21:14:10.165Z"
   },
   {
    "duration": 22,
    "start_time": "2023-04-03T21:14:20.461Z"
   },
   {
    "duration": 1908,
    "start_time": "2023-04-04T00:46:04.692Z"
   },
   {
    "duration": 329,
    "start_time": "2023-04-04T00:46:06.602Z"
   },
   {
    "duration": 52,
    "start_time": "2023-04-04T00:46:06.933Z"
   },
   {
    "duration": 267,
    "start_time": "2023-04-04T00:46:06.987Z"
   },
   {
    "duration": 12,
    "start_time": "2023-04-04T00:46:07.256Z"
   },
   {
    "duration": 21,
    "start_time": "2023-04-04T00:46:07.270Z"
   },
   {
    "duration": 1669,
    "start_time": "2023-04-04T00:46:26.456Z"
   },
   {
    "duration": 66,
    "start_time": "2023-04-04T00:46:28.127Z"
   },
   {
    "duration": 52,
    "start_time": "2023-04-04T00:46:28.194Z"
   },
   {
    "duration": 281,
    "start_time": "2023-04-04T00:46:28.248Z"
   },
   {
    "duration": 13,
    "start_time": "2023-04-04T00:46:28.530Z"
   },
   {
    "duration": 9,
    "start_time": "2023-04-04T00:46:28.545Z"
   },
   {
    "duration": 4,
    "start_time": "2023-04-04T00:46:28.556Z"
   },
   {
    "duration": 95,
    "start_time": "2023-04-04T00:46:28.562Z"
   },
   {
    "duration": 145,
    "start_time": "2023-04-04T00:46:28.659Z"
   },
   {
    "duration": 121,
    "start_time": "2023-04-04T00:46:28.807Z"
   },
   {
    "duration": 12,
    "start_time": "2023-04-04T00:46:28.930Z"
   },
   {
    "duration": 12,
    "start_time": "2023-04-04T00:46:28.944Z"
   },
   {
    "duration": 13,
    "start_time": "2023-04-04T00:46:28.957Z"
   },
   {
    "duration": 14,
    "start_time": "2023-04-04T00:46:28.988Z"
   },
   {
    "duration": 354,
    "start_time": "2023-04-04T00:46:29.003Z"
   },
   {
    "duration": 684,
    "start_time": "2023-04-04T00:46:29.359Z"
   },
   {
    "duration": 390,
    "start_time": "2023-04-04T00:46:30.044Z"
   },
   {
    "duration": 719,
    "start_time": "2023-04-04T00:46:30.436Z"
   },
   {
    "duration": 415,
    "start_time": "2023-04-04T00:46:31.157Z"
   },
   {
    "duration": 399,
    "start_time": "2023-04-04T00:46:31.574Z"
   },
   {
    "duration": 487,
    "start_time": "2023-04-04T00:46:31.975Z"
   },
   {
    "duration": 192,
    "start_time": "2023-04-04T00:46:32.463Z"
   },
   {
    "duration": 19,
    "start_time": "2023-04-04T00:46:32.657Z"
   },
   {
    "duration": 232,
    "start_time": "2023-04-04T00:46:32.678Z"
   },
   {
    "duration": 17,
    "start_time": "2023-04-04T00:46:32.912Z"
   },
   {
    "duration": 19,
    "start_time": "2023-04-04T00:46:32.930Z"
   },
   {
    "duration": 40,
    "start_time": "2023-04-04T00:46:32.951Z"
   },
   {
    "duration": 19,
    "start_time": "2023-04-04T00:46:32.994Z"
   },
   {
    "duration": 20,
    "start_time": "2023-04-04T00:46:33.015Z"
   },
   {
    "duration": 15,
    "start_time": "2023-04-04T00:46:33.037Z"
   },
   {
    "duration": 234,
    "start_time": "2023-04-04T00:46:33.054Z"
   },
   {
    "duration": 8451,
    "start_time": "2023-04-04T00:46:33.290Z"
   },
   {
    "duration": 645,
    "start_time": "2023-04-04T00:46:41.743Z"
   },
   {
    "duration": 33,
    "start_time": "2023-04-04T00:46:42.390Z"
   },
   {
    "duration": 22,
    "start_time": "2023-04-04T00:46:42.424Z"
   },
   {
    "duration": 7264,
    "start_time": "2023-04-04T00:46:42.448Z"
   },
   {
    "duration": 5,
    "start_time": "2023-04-04T00:46:49.715Z"
   },
   {
    "duration": 21,
    "start_time": "2023-04-04T00:46:49.722Z"
   },
   {
    "duration": 18,
    "start_time": "2023-04-04T00:46:49.745Z"
   },
   {
    "duration": 15,
    "start_time": "2023-04-04T00:46:49.788Z"
   },
   {
    "duration": 98,
    "start_time": "2023-04-04T00:46:49.805Z"
   },
   {
    "duration": 8,
    "start_time": "2023-04-04T00:46:49.905Z"
   },
   {
    "duration": 29,
    "start_time": "2023-04-04T00:55:24.792Z"
   },
   {
    "duration": 11,
    "start_time": "2023-04-04T00:55:46.983Z"
   },
   {
    "duration": 49,
    "start_time": "2023-04-04T11:17:06.851Z"
   },
   {
    "duration": 1712,
    "start_time": "2023-04-04T11:17:11.206Z"
   },
   {
    "duration": 127,
    "start_time": "2023-04-04T11:17:12.921Z"
   },
   {
    "duration": 75,
    "start_time": "2023-04-04T11:17:13.050Z"
   },
   {
    "duration": 337,
    "start_time": "2023-04-04T11:17:13.127Z"
   },
   {
    "duration": 12,
    "start_time": "2023-04-04T11:17:13.466Z"
   },
   {
    "duration": 10,
    "start_time": "2023-04-04T11:17:44.621Z"
   },
   {
    "duration": 9,
    "start_time": "2023-04-04T11:17:53.574Z"
   },
   {
    "duration": 8,
    "start_time": "2023-04-04T11:17:55.195Z"
   },
   {
    "duration": 12,
    "start_time": "2023-04-04T11:18:14.733Z"
   },
   {
    "duration": 5,
    "start_time": "2023-04-04T11:18:29.194Z"
   },
   {
    "duration": 56,
    "start_time": "2023-04-04T11:18:30.101Z"
   },
   {
    "duration": 51,
    "start_time": "2023-04-04T11:18:31.052Z"
   },
   {
    "duration": 182,
    "start_time": "2023-04-04T11:18:31.530Z"
   },
   {
    "duration": 15,
    "start_time": "2023-04-04T11:18:34.563Z"
   },
   {
    "duration": 10,
    "start_time": "2023-04-04T11:18:45.099Z"
   },
   {
    "duration": 16,
    "start_time": "2023-04-04T11:18:45.923Z"
   },
   {
    "duration": 14,
    "start_time": "2023-04-04T11:19:12.730Z"
   },
   {
    "duration": 10,
    "start_time": "2023-04-04T11:19:32.908Z"
   },
   {
    "duration": 12,
    "start_time": "2023-04-04T11:19:33.274Z"
   },
   {
    "duration": 20,
    "start_time": "2023-04-04T11:19:34.698Z"
   },
   {
    "duration": 19,
    "start_time": "2023-04-04T11:20:04.819Z"
   },
   {
    "duration": 11,
    "start_time": "2023-04-04T11:20:13.795Z"
   },
   {
    "duration": 64,
    "start_time": "2023-04-04T11:20:24.325Z"
   },
   {
    "duration": 48,
    "start_time": "2023-04-04T11:20:25.079Z"
   },
   {
    "duration": 208,
    "start_time": "2023-04-04T11:20:25.489Z"
   },
   {
    "duration": 19,
    "start_time": "2023-04-04T11:20:26.450Z"
   },
   {
    "duration": 14,
    "start_time": "2023-04-04T11:20:31.256Z"
   },
   {
    "duration": 11,
    "start_time": "2023-04-04T11:20:40.622Z"
   },
   {
    "duration": 13,
    "start_time": "2023-04-04T11:20:44.724Z"
   },
   {
    "duration": 16,
    "start_time": "2023-04-04T11:20:52.182Z"
   },
   {
    "duration": 5,
    "start_time": "2023-04-04T11:23:16.493Z"
   },
   {
    "duration": 82,
    "start_time": "2023-04-04T11:23:17.052Z"
   },
   {
    "duration": 92,
    "start_time": "2023-04-04T11:23:17.958Z"
   },
   {
    "duration": 254,
    "start_time": "2023-04-04T11:23:18.405Z"
   },
   {
    "duration": 14,
    "start_time": "2023-04-04T11:23:19.593Z"
   },
   {
    "duration": 13,
    "start_time": "2023-04-04T11:23:23.030Z"
   },
   {
    "duration": 68,
    "start_time": "2023-04-04T11:23:39.724Z"
   },
   {
    "duration": 136,
    "start_time": "2023-04-04T11:23:40.291Z"
   },
   {
    "duration": 223,
    "start_time": "2023-04-04T11:23:40.591Z"
   },
   {
    "duration": 13,
    "start_time": "2023-04-04T11:23:41.291Z"
   },
   {
    "duration": 24,
    "start_time": "2023-04-04T11:23:43.091Z"
   },
   {
    "duration": 12,
    "start_time": "2023-04-04T11:23:46.898Z"
   }
  ],
  "kernelspec": {
   "display_name": "Python 3 (ipykernel)",
   "language": "python",
   "name": "python3"
  },
  "language_info": {
   "codemirror_mode": {
    "name": "ipython",
    "version": 3
   },
   "file_extension": ".py",
   "mimetype": "text/x-python",
   "name": "python",
   "nbconvert_exporter": "python",
   "pygments_lexer": "ipython3",
   "version": "3.9.0"
  },
  "toc": {
   "base_numbering": 1,
   "nav_menu": {},
   "number_sections": true,
   "sideBar": true,
   "skip_h1_title": true,
   "title_cell": "План работы",
   "title_sidebar": "Contents",
   "toc_cell": false,
   "toc_position": {},
   "toc_section_display": true,
   "toc_window_display": false
  }
 },
 "nbformat": 4,
 "nbformat_minor": 5
}
